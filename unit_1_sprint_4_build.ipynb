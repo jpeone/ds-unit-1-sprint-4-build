{
  "nbformat": 4,
  "nbformat_minor": 0,
  "metadata": {
    "colab": {
      "name": "unit-1-sprint-4-build",
      "provenance": [],
      "collapsed_sections": [],
      "include_colab_link": true
    },
    "kernelspec": {
      "name": "python3",
      "display_name": "Python 3"
    }
  },
  "cells": [
    {
      "cell_type": "markdown",
      "metadata": {
        "id": "view-in-github",
        "colab_type": "text"
      },
      "source": [
        "<a href=\"https://colab.research.google.com/github/jpeone/ds-unit-1-sprint-4-build/blob/master/unit_1_sprint_4_build.ipynb\" target=\"_parent\"><img src=\"https://colab.research.google.com/assets/colab-badge.svg\" alt=\"Open In Colab\"/></a>"
      ]
    },
    {
      "cell_type": "markdown",
      "metadata": {
        "id": "Wo5koAx2NGsg",
        "colab_type": "text"
      },
      "source": [
        "\n",
        "#Seattle Fire Department 911 calls.<br>\n",
        "####Objective\n",
        "\n",
        "\n",
        "####Sources\n",
        "[911 Calls](https://data.seattle.gov/Public-Safety/Seattle-Real-Time-Fire-911-Calls/kzjm-xkqj), [Code Types](https://data.seattle.gov/Public-Safety/SFD-Type-Codes-Standard-Response/mati-fqsc), \n",
        "[Zip Codes](http://data-seattlecitygis.opendata.arcgis.com/datasets/83fc2e72903343aabff6de8cb445b81c_2), [Sparked Interest](https://www.capitolhillseattle.com/2019/12/police-seek-help-investigating-overnight-arson-string-after-broadway-trash-fire-arrest/),\n",
        "[more code type details](https://www.broadcastify.com/listen/feed/20365)\n"
      ]
    },
    {
      "cell_type": "markdown",
      "metadata": {
        "id": "KQVGsyt2fHXo",
        "colab_type": "text"
      },
      "source": [
        "\n",
        "Analyze dumpster fires from this year lol.<br>\n",
        "Is 2019 an anomoly for dumpster fires? (ttest)\n",
        "Is there a trend in what month they happen?\n",
        "Is there a trend in what zipcode/neighborhood?\n",
        "Look for any dumpster fire \"sprees\" Maybe by clustering? Maybe by some other\n",
        "Rubric?"
      ]
    },
    {
      "cell_type": "code",
      "metadata": {
        "id": "OLYgHmREoNEx",
        "colab_type": "code",
        "colab": {}
      },
      "source": [
        "#old habits die hard, here is an import block\n",
        "import pandas as pd\n",
        "import requests\n",
        "import datetime\n",
        "import plotly.express as px"
      ],
      "execution_count": 0,
      "outputs": []
    },
    {
      "cell_type": "markdown",
      "metadata": {
        "id": "NmkARC8gpf0x",
        "colab_type": "text"
      },
      "source": [
        "###Exploration"
      ]
    },
    {
      "cell_type": "code",
      "metadata": {
        "id": "XJt-LRs8rMY1",
        "colab_type": "code",
        "outputId": "042a2580-4885-4bf4-d808-8b568e5a53cd",
        "colab": {
          "base_uri": "https://localhost:8080/",
          "height": 34
        }
      },
      "source": [
        "#Uses socrata api, ref paging instructions here: \n",
        "#https://dev.socrata.com/docs/paging.html\n",
        "#it appears from the documentation that there no is size or rate limit to using \n",
        "#socrata api.\n",
        "#Lets get gutsy and just do it in one call lol\n",
        "\n",
        "params = {'$limit': 5000000, '$offset': 0}\n",
        "url = 'https://data.seattle.gov/resource/fire-911.json'\n",
        "response = requests.get(url, params = params)\n",
        "response"
      ],
      "execution_count": 84,
      "outputs": [
        {
          "output_type": "execute_result",
          "data": {
            "text/plain": [
              "<Response [200]>"
            ]
          },
          "metadata": {
            "tags": []
          },
          "execution_count": 84
        }
      ]
    },
    {
      "cell_type": "code",
      "metadata": {
        "id": "GEhTD6Lj5i7E",
        "colab_type": "code",
        "outputId": "c7b1ad8c-72e5-431c-a7ad-ec8e7cdc3277",
        "colab": {
          "base_uri": "https://localhost:8080/",
          "height": 34
        }
      },
      "source": [
        "#got a 200 code, so things are looking good. Lets check that object length\n",
        "len(response.json())"
      ],
      "execution_count": 85,
      "outputs": [
        {
          "output_type": "execute_result",
          "data": {
            "text/plain": [
              "1434290"
            ]
          },
          "metadata": {
            "tags": []
          },
          "execution_count": 85
        }
      ]
    },
    {
      "cell_type": "code",
      "metadata": {
        "id": "aGe0dSZH6D0N",
        "colab_type": "code",
        "outputId": "8fc154f6-4437-43a6-ba75-aa6082a5a5b0",
        "colab": {
          "base_uri": "https://localhost:8080/",
          "height": 411
        }
      },
      "source": [
        "#okay, thats the 1.43 million as per the website. lets slap it in a dataframe\n",
        "df = pd.DataFrame(response.json())\n",
        "print(df.shape)\n",
        "df.head()"
      ],
      "execution_count": 86,
      "outputs": [
        {
          "output_type": "stream",
          "text": [
            "(1434290, 12)\n"
          ],
          "name": "stdout"
        },
        {
          "output_type": "execute_result",
          "data": {
            "text/html": [
              "<div>\n",
              "<style scoped>\n",
              "    .dataframe tbody tr th:only-of-type {\n",
              "        vertical-align: middle;\n",
              "    }\n",
              "\n",
              "    .dataframe tbody tr th {\n",
              "        vertical-align: top;\n",
              "    }\n",
              "\n",
              "    .dataframe thead th {\n",
              "        text-align: right;\n",
              "    }\n",
              "</style>\n",
              "<table border=\"1\" class=\"dataframe\">\n",
              "  <thead>\n",
              "    <tr style=\"text-align: right;\">\n",
              "      <th></th>\n",
              "      <th>address</th>\n",
              "      <th>type</th>\n",
              "      <th>datetime</th>\n",
              "      <th>latitude</th>\n",
              "      <th>longitude</th>\n",
              "      <th>report_location</th>\n",
              "      <th>incident_number</th>\n",
              "      <th>:@computed_region_ru88_fbhk</th>\n",
              "      <th>:@computed_region_kuhn_3gp2</th>\n",
              "      <th>:@computed_region_q256_3sug</th>\n",
              "      <th>:@computed_region_2day_rhn5</th>\n",
              "      <th>:@computed_region_cyqu_gs94</th>\n",
              "    </tr>\n",
              "  </thead>\n",
              "  <tbody>\n",
              "    <tr>\n",
              "      <th>0</th>\n",
              "      <td>15TH AV E / E REPUBLICAN ST</td>\n",
              "      <td>Aid Response</td>\n",
              "      <td>2019-11-23T15:41:00.000</td>\n",
              "      <td>47.623102</td>\n",
              "      <td>-122.312631</td>\n",
              "      <td>{'type': 'Point', 'coordinates': [-122.312631,...</td>\n",
              "      <td>F190124488</td>\n",
              "      <td>8</td>\n",
              "      <td>4</td>\n",
              "      <td>18789</td>\n",
              "      <td>NaN</td>\n",
              "      <td>NaN</td>\n",
              "    </tr>\n",
              "    <tr>\n",
              "      <th>1</th>\n",
              "      <td>4700 Sw Admiral Way</td>\n",
              "      <td>Aid Response</td>\n",
              "      <td>2019-06-06T04:45:00.000</td>\n",
              "      <td>47.581214</td>\n",
              "      <td>-122.391903</td>\n",
              "      <td>{'type': 'Point', 'coordinates': [-122.391903,...</td>\n",
              "      <td>F190058688</td>\n",
              "      <td>41</td>\n",
              "      <td>49</td>\n",
              "      <td>18795</td>\n",
              "      <td>NaN</td>\n",
              "      <td>NaN</td>\n",
              "    </tr>\n",
              "    <tr>\n",
              "      <th>2</th>\n",
              "      <td>1044 Ne 117th St</td>\n",
              "      <td>Trans to AMR</td>\n",
              "      <td>2019-11-23T15:42:00.000</td>\n",
              "      <td>47.714008</td>\n",
              "      <td>-122.317357</td>\n",
              "      <td>{'type': 'Point', 'coordinates': [-122.317357,...</td>\n",
              "      <td>F190124491</td>\n",
              "      <td>46</td>\n",
              "      <td>26</td>\n",
              "      <td>19579</td>\n",
              "      <td>122</td>\n",
              "      <td>1</td>\n",
              "    </tr>\n",
              "    <tr>\n",
              "      <th>3</th>\n",
              "      <td>1711 E Olive Way</td>\n",
              "      <td>Automatic Fire Alarm False</td>\n",
              "      <td>2019-11-23T15:43:00.000</td>\n",
              "      <td>47.619869</td>\n",
              "      <td>-122.323072</td>\n",
              "      <td>{'type': 'Point', 'coordinates': [-122.323072,...</td>\n",
              "      <td>F190124489</td>\n",
              "      <td>8</td>\n",
              "      <td>5</td>\n",
              "      <td>18376</td>\n",
              "      <td>NaN</td>\n",
              "      <td>NaN</td>\n",
              "    </tr>\n",
              "    <tr>\n",
              "      <th>4</th>\n",
              "      <td>407 Cedar St</td>\n",
              "      <td>Aid Response</td>\n",
              "      <td>2019-11-23T15:44:00.000</td>\n",
              "      <td>47.61802</td>\n",
              "      <td>-122.347749</td>\n",
              "      <td>{'type': 'Point', 'coordinates': [-122.347749,...</td>\n",
              "      <td>F190124490</td>\n",
              "      <td>56</td>\n",
              "      <td>7</td>\n",
              "      <td>19576</td>\n",
              "      <td>NaN</td>\n",
              "      <td>NaN</td>\n",
              "    </tr>\n",
              "  </tbody>\n",
              "</table>\n",
              "</div>"
            ],
            "text/plain": [
              "                       address  ... :@computed_region_cyqu_gs94\n",
              "0  15TH AV E / E REPUBLICAN ST  ...                         NaN\n",
              "1          4700 Sw Admiral Way  ...                         NaN\n",
              "2             1044 Ne 117th St  ...                           1\n",
              "3             1711 E Olive Way  ...                         NaN\n",
              "4                 407 Cedar St  ...                         NaN\n",
              "\n",
              "[5 rows x 12 columns]"
            ]
          },
          "metadata": {
            "tags": []
          },
          "execution_count": 86
        }
      ]
    },
    {
      "cell_type": "code",
      "metadata": {
        "id": "OSwKmcG58GkZ",
        "colab_type": "code",
        "outputId": "8058c2fc-5703-4bd6-cb8e-65eb612da3a5",
        "colab": {
          "base_uri": "https://localhost:8080/",
          "height": 34
        }
      },
      "source": [
        "#didn't expect all the computed region columns. I'll go ahead and drop those\n",
        "#shape is 12 wide, I'm keeping 7 columns.\n",
        "dropped = df.columns[7:]\n",
        "df.drop(dropped, axis = 1, inplace = True)\n",
        "df.shape"
      ],
      "execution_count": 87,
      "outputs": [
        {
          "output_type": "execute_result",
          "data": {
            "text/plain": [
              "(1434290, 7)"
            ]
          },
          "metadata": {
            "tags": []
          },
          "execution_count": 87
        }
      ]
    },
    {
      "cell_type": "code",
      "metadata": {
        "id": "idVBIsmc0XE3",
        "colab_type": "code",
        "outputId": "390009f4-3605-44f6-ba3f-44492fba75b5",
        "colab": {
          "base_uri": "https://localhost:8080/",
          "height": 153
        }
      },
      "source": [
        "#okay good to know, I'm keeping df as close to original as possible. I'll have\n",
        "#to adjust for nulls in my working datasets.\n",
        "df.isnull().sum()"
      ],
      "execution_count": 88,
      "outputs": [
        {
          "output_type": "execute_result",
          "data": {
            "text/plain": [
              "address             10\n",
              "type                 0\n",
              "datetime             0\n",
              "latitude           239\n",
              "longitude          239\n",
              "report_location    229\n",
              "incident_number      0\n",
              "dtype: int64"
            ]
          },
          "metadata": {
            "tags": []
          },
          "execution_count": 88
        }
      ]
    },
    {
      "cell_type": "code",
      "metadata": {
        "id": "7lHof7E69HfH",
        "colab_type": "code",
        "outputId": "1e285149-bd8c-4467-da4b-6d58a7f48828",
        "colab": {
          "base_uri": "https://localhost:8080/",
          "height": 221
        }
      },
      "source": [
        "df['type'].value_counts()"
      ],
      "execution_count": 89,
      "outputs": [
        {
          "output_type": "execute_result",
          "data": {
            "text/plain": [
              "Aid Response                   703813\n",
              "Medic Response                 274917\n",
              "Auto Fire Alarm                 82651\n",
              "Trans to AMR                    63810\n",
              "Aid Response Yellow             31210\n",
              "                                ...  \n",
              "Mutual Aid, Aircraft                1\n",
              "Explosion Unk Situation             1\n",
              "Tunnel Car Fire                     1\n",
              "Weapons of Mass Destruction         1\n",
              "Fire In Single Family Res           1\n",
              "Name: type, Length: 222, dtype: int64"
            ]
          },
          "metadata": {
            "tags": []
          },
          "execution_count": 89
        }
      ]
    },
    {
      "cell_type": "code",
      "metadata": {
        "id": "CnOHsRp3OUph",
        "colab_type": "code",
        "colab": {
          "base_uri": "https://localhost:8080/",
          "height": 34
        },
        "outputId": "0d4d9c6f-1ea2-4749-ffa5-d6c0125aae53"
      },
      "source": [
        "#how common are these?\n",
        "df[df['type'] == 'Dumpster Fire'].shape[0]/df.shape[0] * 100"
      ],
      "execution_count": 90,
      "outputs": [
        {
          "output_type": "execute_result",
          "data": {
            "text/plain": [
              "0.11720084501739536"
            ]
          },
          "metadata": {
            "tags": []
          },
          "execution_count": 90
        }
      ]
    },
    {
      "cell_type": "code",
      "metadata": {
        "id": "ywBAfxKcC8CK",
        "colab_type": "code",
        "colab": {}
      },
      "source": [
        "#looks like dumpster fires are pretty rare\n",
        "dumpster = df[df['type'] == 'Dumpster Fire'].copy()"
      ],
      "execution_count": 0,
      "outputs": []
    },
    {
      "cell_type": "code",
      "metadata": {
        "id": "L5e0yIbHEajT",
        "colab_type": "code",
        "outputId": "ae0edd2a-80c6-452d-b285-a5ab5f56d440",
        "colab": {
          "base_uri": "https://localhost:8080/",
          "height": 442
        }
      },
      "source": [
        "print(dumpster.shape)\n",
        "dumpster.head()"
      ],
      "execution_count": 92,
      "outputs": [
        {
          "output_type": "stream",
          "text": [
            "(1681, 7)\n"
          ],
          "name": "stdout"
        },
        {
          "output_type": "execute_result",
          "data": {
            "text/html": [
              "<div>\n",
              "<style scoped>\n",
              "    .dataframe tbody tr th:only-of-type {\n",
              "        vertical-align: middle;\n",
              "    }\n",
              "\n",
              "    .dataframe tbody tr th {\n",
              "        vertical-align: top;\n",
              "    }\n",
              "\n",
              "    .dataframe thead th {\n",
              "        text-align: right;\n",
              "    }\n",
              "</style>\n",
              "<table border=\"1\" class=\"dataframe\">\n",
              "  <thead>\n",
              "    <tr style=\"text-align: right;\">\n",
              "      <th></th>\n",
              "      <th>address</th>\n",
              "      <th>type</th>\n",
              "      <th>datetime</th>\n",
              "      <th>latitude</th>\n",
              "      <th>longitude</th>\n",
              "      <th>report_location</th>\n",
              "      <th>incident_number</th>\n",
              "    </tr>\n",
              "  </thead>\n",
              "  <tbody>\n",
              "    <tr>\n",
              "      <th>669</th>\n",
              "      <td>S Michigan St / Corson Av S</td>\n",
              "      <td>Dumpster Fire</td>\n",
              "      <td>2019-11-02T02:31:00.000</td>\n",
              "      <td>47.547503</td>\n",
              "      <td>-122.321439</td>\n",
              "      <td>{'type': 'Point', 'coordinates': [-122.321439,...</td>\n",
              "      <td>F190116740</td>\n",
              "    </tr>\n",
              "    <tr>\n",
              "      <th>1251</th>\n",
              "      <td>7400 3rd Av S</td>\n",
              "      <td>Dumpster Fire</td>\n",
              "      <td>2019-10-22T14:15:00.000</td>\n",
              "      <td>47.536724</td>\n",
              "      <td>-122.330122</td>\n",
              "      <td>{'type': 'Point', 'coordinates': [-122.330122,...</td>\n",
              "      <td>F190112832</td>\n",
              "    </tr>\n",
              "    <tr>\n",
              "      <th>3587</th>\n",
              "      <td>1723 Summit Av</td>\n",
              "      <td>Dumpster Fire</td>\n",
              "      <td>2019-08-10T03:08:00.000</td>\n",
              "      <td>47.616656</td>\n",
              "      <td>-122.325547</td>\n",
              "      <td>{'type': 'Point', 'coordinates': [-122.325547,...</td>\n",
              "      <td>F190084947</td>\n",
              "    </tr>\n",
              "    <tr>\n",
              "      <th>3913</th>\n",
              "      <td>7050 Lincoln Park Way Sw</td>\n",
              "      <td>Dumpster Fire</td>\n",
              "      <td>2019-07-01T18:03:00.000</td>\n",
              "      <td>47.539916</td>\n",
              "      <td>-122.395379</td>\n",
              "      <td>{'type': 'Point', 'coordinates': [-122.395379,...</td>\n",
              "      <td>F190069082</td>\n",
              "    </tr>\n",
              "    <tr>\n",
              "      <th>4142</th>\n",
              "      <td>Eastlake Av E / E Hamlin St</td>\n",
              "      <td>Dumpster Fire</td>\n",
              "      <td>2019-05-24T05:01:00.000</td>\n",
              "      <td>47.645624</td>\n",
              "      <td>-122.325879</td>\n",
              "      <td>{'type': 'Point', 'coordinates': [-122.325879,...</td>\n",
              "      <td>F190052611</td>\n",
              "    </tr>\n",
              "  </tbody>\n",
              "</table>\n",
              "</div>"
            ],
            "text/plain": [
              "                          address  ... incident_number\n",
              "669   S Michigan St / Corson Av S  ...      F190116740\n",
              "1251                7400 3rd Av S  ...      F190112832\n",
              "3587               1723 Summit Av  ...      F190084947\n",
              "3913     7050 Lincoln Park Way Sw  ...      F190069082\n",
              "4142  Eastlake Av E / E Hamlin St  ...      F190052611\n",
              "\n",
              "[5 rows x 7 columns]"
            ]
          },
          "metadata": {
            "tags": []
          },
          "execution_count": 92
        }
      ]
    },
    {
      "cell_type": "code",
      "metadata": {
        "id": "HyKWiiN9up3R",
        "colab_type": "code",
        "colab": {}
      },
      "source": [
        "#okay lets pull out the month and year to do some analysis\n",
        "dumpster['year'] = pd.DatetimeIndex(dumpster['datetime']).year\n",
        "dumpster['month'] = pd.DatetimeIndex(dumpster['datetime']).month"
      ],
      "execution_count": 0,
      "outputs": []
    },
    {
      "cell_type": "code",
      "metadata": {
        "id": "oyqZ2abz7NyP",
        "colab_type": "code",
        "colab": {}
      },
      "source": [
        "#okay this is a live data set, and rather than get the paging exactly right,\n",
        "#I'll just drop any calls from 2020 and beyond.\n",
        "dumpster = dumpster[dumpster['year'] < 2020]"
      ],
      "execution_count": 0,
      "outputs": []
    },
    {
      "cell_type": "code",
      "metadata": {
        "id": "Av8Pyv9rGe2k",
        "colab_type": "code",
        "outputId": "10be16a5-a582-44e9-955b-c013e3a1167c",
        "colab": {
          "base_uri": "https://localhost:8080/",
          "height": 479
        }
      },
      "source": [
        "print(dumpster.shape)\n",
        "dumpster.head()"
      ],
      "execution_count": 95,
      "outputs": [
        {
          "output_type": "stream",
          "text": [
            "(1678, 9)\n"
          ],
          "name": "stdout"
        },
        {
          "output_type": "execute_result",
          "data": {
            "text/html": [
              "<div>\n",
              "<style scoped>\n",
              "    .dataframe tbody tr th:only-of-type {\n",
              "        vertical-align: middle;\n",
              "    }\n",
              "\n",
              "    .dataframe tbody tr th {\n",
              "        vertical-align: top;\n",
              "    }\n",
              "\n",
              "    .dataframe thead th {\n",
              "        text-align: right;\n",
              "    }\n",
              "</style>\n",
              "<table border=\"1\" class=\"dataframe\">\n",
              "  <thead>\n",
              "    <tr style=\"text-align: right;\">\n",
              "      <th></th>\n",
              "      <th>address</th>\n",
              "      <th>type</th>\n",
              "      <th>datetime</th>\n",
              "      <th>latitude</th>\n",
              "      <th>longitude</th>\n",
              "      <th>report_location</th>\n",
              "      <th>incident_number</th>\n",
              "      <th>year</th>\n",
              "      <th>month</th>\n",
              "    </tr>\n",
              "  </thead>\n",
              "  <tbody>\n",
              "    <tr>\n",
              "      <th>669</th>\n",
              "      <td>S Michigan St / Corson Av S</td>\n",
              "      <td>Dumpster Fire</td>\n",
              "      <td>2019-11-02T02:31:00.000</td>\n",
              "      <td>47.547503</td>\n",
              "      <td>-122.321439</td>\n",
              "      <td>{'type': 'Point', 'coordinates': [-122.321439,...</td>\n",
              "      <td>F190116740</td>\n",
              "      <td>2019</td>\n",
              "      <td>11</td>\n",
              "    </tr>\n",
              "    <tr>\n",
              "      <th>1251</th>\n",
              "      <td>7400 3rd Av S</td>\n",
              "      <td>Dumpster Fire</td>\n",
              "      <td>2019-10-22T14:15:00.000</td>\n",
              "      <td>47.536724</td>\n",
              "      <td>-122.330122</td>\n",
              "      <td>{'type': 'Point', 'coordinates': [-122.330122,...</td>\n",
              "      <td>F190112832</td>\n",
              "      <td>2019</td>\n",
              "      <td>10</td>\n",
              "    </tr>\n",
              "    <tr>\n",
              "      <th>3587</th>\n",
              "      <td>1723 Summit Av</td>\n",
              "      <td>Dumpster Fire</td>\n",
              "      <td>2019-08-10T03:08:00.000</td>\n",
              "      <td>47.616656</td>\n",
              "      <td>-122.325547</td>\n",
              "      <td>{'type': 'Point', 'coordinates': [-122.325547,...</td>\n",
              "      <td>F190084947</td>\n",
              "      <td>2019</td>\n",
              "      <td>8</td>\n",
              "    </tr>\n",
              "    <tr>\n",
              "      <th>3913</th>\n",
              "      <td>7050 Lincoln Park Way Sw</td>\n",
              "      <td>Dumpster Fire</td>\n",
              "      <td>2019-07-01T18:03:00.000</td>\n",
              "      <td>47.539916</td>\n",
              "      <td>-122.395379</td>\n",
              "      <td>{'type': 'Point', 'coordinates': [-122.395379,...</td>\n",
              "      <td>F190069082</td>\n",
              "      <td>2019</td>\n",
              "      <td>7</td>\n",
              "    </tr>\n",
              "    <tr>\n",
              "      <th>4142</th>\n",
              "      <td>Eastlake Av E / E Hamlin St</td>\n",
              "      <td>Dumpster Fire</td>\n",
              "      <td>2019-05-24T05:01:00.000</td>\n",
              "      <td>47.645624</td>\n",
              "      <td>-122.325879</td>\n",
              "      <td>{'type': 'Point', 'coordinates': [-122.325879,...</td>\n",
              "      <td>F190052611</td>\n",
              "      <td>2019</td>\n",
              "      <td>5</td>\n",
              "    </tr>\n",
              "  </tbody>\n",
              "</table>\n",
              "</div>"
            ],
            "text/plain": [
              "                          address           type  ...  year month\n",
              "669   S Michigan St / Corson Av S  Dumpster Fire  ...  2019    11\n",
              "1251                7400 3rd Av S  Dumpster Fire  ...  2019    10\n",
              "3587               1723 Summit Av  Dumpster Fire  ...  2019     8\n",
              "3913     7050 Lincoln Park Way Sw  Dumpster Fire  ...  2019     7\n",
              "4142  Eastlake Av E / E Hamlin St  Dumpster Fire  ...  2019     5\n",
              "\n",
              "[5 rows x 9 columns]"
            ]
          },
          "metadata": {
            "tags": []
          },
          "execution_count": 95
        }
      ]
    },
    {
      "cell_type": "code",
      "metadata": {
        "id": "GwaY9NnJ0fN6",
        "colab_type": "code",
        "outputId": "cd49c676-9c0a-43c7-8bce-2ff3f9bded59",
        "colab": {
          "base_uri": "https://localhost:8080/",
          "height": 187
        }
      },
      "source": [
        "#well we lucked out anyways, no nans pulled\n",
        "dumpster.isnull().sum()"
      ],
      "execution_count": 96,
      "outputs": [
        {
          "output_type": "execute_result",
          "data": {
            "text/plain": [
              "address            0\n",
              "type               0\n",
              "datetime           0\n",
              "latitude           0\n",
              "longitude          0\n",
              "report_location    0\n",
              "incident_number    0\n",
              "year               0\n",
              "month              0\n",
              "dtype: int64"
            ]
          },
          "metadata": {
            "tags": []
          },
          "execution_count": 96
        }
      ]
    },
    {
      "cell_type": "code",
      "metadata": {
        "id": "rAIvQgyQzl6G",
        "colab_type": "code",
        "outputId": "2d88e6d2-2c7f-4af6-f1c6-7edbb99dfb1f",
        "colab": {
          "base_uri": "https://localhost:8080/",
          "height": 111
        }
      },
      "source": [
        "#okay lets make a crosstab.\n",
        "tot_fire_p_month = pd.crosstab(dumpster['type'], dumpster['month'])\n",
        "tot_fire_p_month"
      ],
      "execution_count": 97,
      "outputs": [
        {
          "output_type": "execute_result",
          "data": {
            "text/html": [
              "<div>\n",
              "<style scoped>\n",
              "    .dataframe tbody tr th:only-of-type {\n",
              "        vertical-align: middle;\n",
              "    }\n",
              "\n",
              "    .dataframe tbody tr th {\n",
              "        vertical-align: top;\n",
              "    }\n",
              "\n",
              "    .dataframe thead th {\n",
              "        text-align: right;\n",
              "    }\n",
              "</style>\n",
              "<table border=\"1\" class=\"dataframe\">\n",
              "  <thead>\n",
              "    <tr style=\"text-align: right;\">\n",
              "      <th>month</th>\n",
              "      <th>1</th>\n",
              "      <th>2</th>\n",
              "      <th>3</th>\n",
              "      <th>4</th>\n",
              "      <th>5</th>\n",
              "      <th>6</th>\n",
              "      <th>7</th>\n",
              "      <th>8</th>\n",
              "      <th>9</th>\n",
              "      <th>10</th>\n",
              "      <th>11</th>\n",
              "      <th>12</th>\n",
              "    </tr>\n",
              "    <tr>\n",
              "      <th>type</th>\n",
              "      <th></th>\n",
              "      <th></th>\n",
              "      <th></th>\n",
              "      <th></th>\n",
              "      <th></th>\n",
              "      <th></th>\n",
              "      <th></th>\n",
              "      <th></th>\n",
              "      <th></th>\n",
              "      <th></th>\n",
              "      <th></th>\n",
              "      <th></th>\n",
              "    </tr>\n",
              "  </thead>\n",
              "  <tbody>\n",
              "    <tr>\n",
              "      <th>Dumpster Fire</th>\n",
              "      <td>96</td>\n",
              "      <td>99</td>\n",
              "      <td>141</td>\n",
              "      <td>125</td>\n",
              "      <td>159</td>\n",
              "      <td>184</td>\n",
              "      <td>218</td>\n",
              "      <td>163</td>\n",
              "      <td>149</td>\n",
              "      <td>122</td>\n",
              "      <td>91</td>\n",
              "      <td>131</td>\n",
              "    </tr>\n",
              "  </tbody>\n",
              "</table>\n",
              "</div>"
            ],
            "text/plain": [
              "month          1   2    3    4    5    6    7    8    9    10  11   12\n",
              "type                                                                  \n",
              "Dumpster Fire  96  99  141  125  159  184  218  163  149  122  91  131"
            ]
          },
          "metadata": {
            "tags": []
          },
          "execution_count": 97
        }
      ]
    },
    {
      "cell_type": "code",
      "metadata": {
        "id": "CGe8YlefPsBF",
        "colab_type": "code",
        "outputId": "b3c18d0e-2c80-457f-a952-837b5bb99c13",
        "colab": {
          "base_uri": "https://localhost:8080/",
          "height": 421
        }
      },
      "source": [
        "#boom, lets make that digestible for plotly\n",
        "#I'm transposing, putting the month into a column (instead of as an index), and renaming the columns for better display.\n",
        "tot_fire_p_month = tot_fire_p_month.T.reset_index().rename(columns = {'month' : 'Month', 'Dumpster Fire': 'Total Dumpster Fires'})\n",
        "tot_fire_p_month"
      ],
      "execution_count": 98,
      "outputs": [
        {
          "output_type": "execute_result",
          "data": {
            "text/html": [
              "<div>\n",
              "<style scoped>\n",
              "    .dataframe tbody tr th:only-of-type {\n",
              "        vertical-align: middle;\n",
              "    }\n",
              "\n",
              "    .dataframe tbody tr th {\n",
              "        vertical-align: top;\n",
              "    }\n",
              "\n",
              "    .dataframe thead th {\n",
              "        text-align: right;\n",
              "    }\n",
              "</style>\n",
              "<table border=\"1\" class=\"dataframe\">\n",
              "  <thead>\n",
              "    <tr style=\"text-align: right;\">\n",
              "      <th>type</th>\n",
              "      <th>Month</th>\n",
              "      <th>Total Dumpster Fires</th>\n",
              "    </tr>\n",
              "  </thead>\n",
              "  <tbody>\n",
              "    <tr>\n",
              "      <th>0</th>\n",
              "      <td>1</td>\n",
              "      <td>96</td>\n",
              "    </tr>\n",
              "    <tr>\n",
              "      <th>1</th>\n",
              "      <td>2</td>\n",
              "      <td>99</td>\n",
              "    </tr>\n",
              "    <tr>\n",
              "      <th>2</th>\n",
              "      <td>3</td>\n",
              "      <td>141</td>\n",
              "    </tr>\n",
              "    <tr>\n",
              "      <th>3</th>\n",
              "      <td>4</td>\n",
              "      <td>125</td>\n",
              "    </tr>\n",
              "    <tr>\n",
              "      <th>4</th>\n",
              "      <td>5</td>\n",
              "      <td>159</td>\n",
              "    </tr>\n",
              "    <tr>\n",
              "      <th>5</th>\n",
              "      <td>6</td>\n",
              "      <td>184</td>\n",
              "    </tr>\n",
              "    <tr>\n",
              "      <th>6</th>\n",
              "      <td>7</td>\n",
              "      <td>218</td>\n",
              "    </tr>\n",
              "    <tr>\n",
              "      <th>7</th>\n",
              "      <td>8</td>\n",
              "      <td>163</td>\n",
              "    </tr>\n",
              "    <tr>\n",
              "      <th>8</th>\n",
              "      <td>9</td>\n",
              "      <td>149</td>\n",
              "    </tr>\n",
              "    <tr>\n",
              "      <th>9</th>\n",
              "      <td>10</td>\n",
              "      <td>122</td>\n",
              "    </tr>\n",
              "    <tr>\n",
              "      <th>10</th>\n",
              "      <td>11</td>\n",
              "      <td>91</td>\n",
              "    </tr>\n",
              "    <tr>\n",
              "      <th>11</th>\n",
              "      <td>12</td>\n",
              "      <td>131</td>\n",
              "    </tr>\n",
              "  </tbody>\n",
              "</table>\n",
              "</div>"
            ],
            "text/plain": [
              "type  Month  Total Dumpster Fires\n",
              "0         1                    96\n",
              "1         2                    99\n",
              "2         3                   141\n",
              "3         4                   125\n",
              "4         5                   159\n",
              "5         6                   184\n",
              "6         7                   218\n",
              "7         8                   163\n",
              "8         9                   149\n",
              "9        10                   122\n",
              "10       11                    91\n",
              "11       12                   131"
            ]
          },
          "metadata": {
            "tags": []
          },
          "execution_count": 98
        }
      ]
    },
    {
      "cell_type": "code",
      "metadata": {
        "id": "OIU7-V1m37th",
        "colab_type": "code",
        "outputId": "059b630d-177b-4a59-8ffd-5bce429aa37f",
        "colab": {
          "base_uri": "https://localhost:8080/",
          "height": 542
        }
      },
      "source": [
        "#okay so this is the total number of dumpster fires reported over the years of\n",
        "#2003-2019.  Kind cool to look at, but normalized might be better for \n",
        "#understanding how much of an anomoly, if it was an anomoly.\n",
        "\n",
        "fig = px.bar(tot_fire_p_month, x = 'Month', y = 'Total Dumpster Fires')\n",
        "fig.show()"
      ],
      "execution_count": 99,
      "outputs": [
        {
          "output_type": "display_data",
          "data": {
            "text/html": [
              "<html>\n",
              "<head><meta charset=\"utf-8\" /></head>\n",
              "<body>\n",
              "    <div>\n",
              "            <script src=\"https://cdnjs.cloudflare.com/ajax/libs/mathjax/2.7.5/MathJax.js?config=TeX-AMS-MML_SVG\"></script><script type=\"text/javascript\">if (window.MathJax) {MathJax.Hub.Config({SVG: {font: \"STIX-Web\"}});}</script>\n",
              "                <script type=\"text/javascript\">window.PlotlyConfig = {MathJaxConfig: 'local'};</script>\n",
              "        <script src=\"https://cdn.plot.ly/plotly-latest.min.js\"></script>    \n",
              "            <div id=\"9f9eb86e-f9f4-4515-a1d1-6d6ccadd7b76\" class=\"plotly-graph-div\" style=\"height:525px; width:100%;\"></div>\n",
              "            <script type=\"text/javascript\">\n",
              "                \n",
              "                    window.PLOTLYENV=window.PLOTLYENV || {};\n",
              "                    \n",
              "                if (document.getElementById(\"9f9eb86e-f9f4-4515-a1d1-6d6ccadd7b76\")) {\n",
              "                    Plotly.newPlot(\n",
              "                        '9f9eb86e-f9f4-4515-a1d1-6d6ccadd7b76',\n",
              "                        [{\"alignmentgroup\": \"True\", \"hoverlabel\": {\"namelength\": 0}, \"hovertemplate\": \"Month=%{x}<br>Total Dumpster Fires=%{y}\", \"legendgroup\": \"\", \"marker\": {\"color\": \"#636efa\"}, \"name\": \"\", \"offsetgroup\": \"\", \"orientation\": \"v\", \"showlegend\": false, \"textposition\": \"auto\", \"type\": \"bar\", \"x\": [1, 2, 3, 4, 5, 6, 7, 8, 9, 10, 11, 12], \"xaxis\": \"x\", \"y\": [96, 99, 141, 125, 159, 184, 218, 163, 149, 122, 91, 131], \"yaxis\": \"y\"}],\n",
              "                        {\"barmode\": \"relative\", \"legend\": {\"tracegroupgap\": 0}, \"margin\": {\"t\": 60}, \"template\": {\"data\": {\"bar\": [{\"error_x\": {\"color\": \"#2a3f5f\"}, \"error_y\": {\"color\": \"#2a3f5f\"}, \"marker\": {\"line\": {\"color\": \"#E5ECF6\", \"width\": 0.5}}, \"type\": \"bar\"}], \"barpolar\": [{\"marker\": {\"line\": {\"color\": \"#E5ECF6\", \"width\": 0.5}}, \"type\": \"barpolar\"}], \"carpet\": [{\"aaxis\": {\"endlinecolor\": \"#2a3f5f\", \"gridcolor\": \"white\", \"linecolor\": \"white\", \"minorgridcolor\": \"white\", \"startlinecolor\": \"#2a3f5f\"}, \"baxis\": {\"endlinecolor\": \"#2a3f5f\", \"gridcolor\": \"white\", \"linecolor\": \"white\", \"minorgridcolor\": \"white\", \"startlinecolor\": \"#2a3f5f\"}, \"type\": \"carpet\"}], \"choropleth\": [{\"colorbar\": {\"outlinewidth\": 0, \"ticks\": \"\"}, \"type\": \"choropleth\"}], \"contour\": [{\"colorbar\": {\"outlinewidth\": 0, \"ticks\": \"\"}, \"colorscale\": [[0.0, \"#0d0887\"], [0.1111111111111111, \"#46039f\"], [0.2222222222222222, \"#7201a8\"], [0.3333333333333333, \"#9c179e\"], [0.4444444444444444, \"#bd3786\"], [0.5555555555555556, \"#d8576b\"], [0.6666666666666666, \"#ed7953\"], [0.7777777777777778, \"#fb9f3a\"], [0.8888888888888888, \"#fdca26\"], [1.0, \"#f0f921\"]], \"type\": \"contour\"}], \"contourcarpet\": [{\"colorbar\": {\"outlinewidth\": 0, \"ticks\": \"\"}, \"type\": \"contourcarpet\"}], \"heatmap\": [{\"colorbar\": {\"outlinewidth\": 0, \"ticks\": \"\"}, \"colorscale\": [[0.0, \"#0d0887\"], [0.1111111111111111, \"#46039f\"], [0.2222222222222222, \"#7201a8\"], [0.3333333333333333, \"#9c179e\"], [0.4444444444444444, \"#bd3786\"], [0.5555555555555556, \"#d8576b\"], [0.6666666666666666, \"#ed7953\"], [0.7777777777777778, \"#fb9f3a\"], [0.8888888888888888, \"#fdca26\"], [1.0, \"#f0f921\"]], \"type\": \"heatmap\"}], \"heatmapgl\": [{\"colorbar\": {\"outlinewidth\": 0, \"ticks\": \"\"}, \"colorscale\": [[0.0, \"#0d0887\"], [0.1111111111111111, \"#46039f\"], [0.2222222222222222, \"#7201a8\"], [0.3333333333333333, \"#9c179e\"], [0.4444444444444444, \"#bd3786\"], [0.5555555555555556, \"#d8576b\"], [0.6666666666666666, \"#ed7953\"], [0.7777777777777778, \"#fb9f3a\"], [0.8888888888888888, \"#fdca26\"], [1.0, \"#f0f921\"]], \"type\": \"heatmapgl\"}], \"histogram\": [{\"marker\": {\"colorbar\": {\"outlinewidth\": 0, \"ticks\": \"\"}}, \"type\": \"histogram\"}], \"histogram2d\": [{\"colorbar\": {\"outlinewidth\": 0, \"ticks\": \"\"}, \"colorscale\": [[0.0, \"#0d0887\"], [0.1111111111111111, \"#46039f\"], [0.2222222222222222, \"#7201a8\"], [0.3333333333333333, \"#9c179e\"], [0.4444444444444444, \"#bd3786\"], [0.5555555555555556, \"#d8576b\"], [0.6666666666666666, \"#ed7953\"], [0.7777777777777778, \"#fb9f3a\"], [0.8888888888888888, \"#fdca26\"], [1.0, \"#f0f921\"]], \"type\": \"histogram2d\"}], \"histogram2dcontour\": [{\"colorbar\": {\"outlinewidth\": 0, \"ticks\": \"\"}, \"colorscale\": [[0.0, \"#0d0887\"], [0.1111111111111111, \"#46039f\"], [0.2222222222222222, \"#7201a8\"], [0.3333333333333333, \"#9c179e\"], [0.4444444444444444, \"#bd3786\"], [0.5555555555555556, \"#d8576b\"], [0.6666666666666666, \"#ed7953\"], [0.7777777777777778, \"#fb9f3a\"], [0.8888888888888888, \"#fdca26\"], [1.0, \"#f0f921\"]], \"type\": \"histogram2dcontour\"}], \"mesh3d\": [{\"colorbar\": {\"outlinewidth\": 0, \"ticks\": \"\"}, \"type\": \"mesh3d\"}], \"parcoords\": [{\"line\": {\"colorbar\": {\"outlinewidth\": 0, \"ticks\": \"\"}}, \"type\": \"parcoords\"}], \"pie\": [{\"automargin\": true, \"type\": \"pie\"}], \"scatter\": [{\"marker\": {\"colorbar\": {\"outlinewidth\": 0, \"ticks\": \"\"}}, \"type\": \"scatter\"}], \"scatter3d\": [{\"line\": {\"colorbar\": {\"outlinewidth\": 0, \"ticks\": \"\"}}, \"marker\": {\"colorbar\": {\"outlinewidth\": 0, \"ticks\": \"\"}}, \"type\": \"scatter3d\"}], \"scattercarpet\": [{\"marker\": {\"colorbar\": {\"outlinewidth\": 0, \"ticks\": \"\"}}, \"type\": \"scattercarpet\"}], \"scattergeo\": [{\"marker\": {\"colorbar\": {\"outlinewidth\": 0, \"ticks\": \"\"}}, \"type\": \"scattergeo\"}], \"scattergl\": [{\"marker\": {\"colorbar\": {\"outlinewidth\": 0, \"ticks\": \"\"}}, \"type\": \"scattergl\"}], \"scattermapbox\": [{\"marker\": {\"colorbar\": {\"outlinewidth\": 0, \"ticks\": \"\"}}, \"type\": \"scattermapbox\"}], \"scatterpolar\": [{\"marker\": {\"colorbar\": {\"outlinewidth\": 0, \"ticks\": \"\"}}, \"type\": \"scatterpolar\"}], \"scatterpolargl\": [{\"marker\": {\"colorbar\": {\"outlinewidth\": 0, \"ticks\": \"\"}}, \"type\": \"scatterpolargl\"}], \"scatterternary\": [{\"marker\": {\"colorbar\": {\"outlinewidth\": 0, \"ticks\": \"\"}}, \"type\": \"scatterternary\"}], \"surface\": [{\"colorbar\": {\"outlinewidth\": 0, \"ticks\": \"\"}, \"colorscale\": [[0.0, \"#0d0887\"], [0.1111111111111111, \"#46039f\"], [0.2222222222222222, \"#7201a8\"], [0.3333333333333333, \"#9c179e\"], [0.4444444444444444, \"#bd3786\"], [0.5555555555555556, \"#d8576b\"], [0.6666666666666666, \"#ed7953\"], [0.7777777777777778, \"#fb9f3a\"], [0.8888888888888888, \"#fdca26\"], [1.0, \"#f0f921\"]], \"type\": \"surface\"}], \"table\": [{\"cells\": {\"fill\": {\"color\": \"#EBF0F8\"}, \"line\": {\"color\": \"white\"}}, \"header\": {\"fill\": {\"color\": \"#C8D4E3\"}, \"line\": {\"color\": \"white\"}}, \"type\": \"table\"}]}, \"layout\": {\"annotationdefaults\": {\"arrowcolor\": \"#2a3f5f\", \"arrowhead\": 0, \"arrowwidth\": 1}, \"coloraxis\": {\"colorbar\": {\"outlinewidth\": 0, \"ticks\": \"\"}}, \"colorscale\": {\"diverging\": [[0, \"#8e0152\"], [0.1, \"#c51b7d\"], [0.2, \"#de77ae\"], [0.3, \"#f1b6da\"], [0.4, \"#fde0ef\"], [0.5, \"#f7f7f7\"], [0.6, \"#e6f5d0\"], [0.7, \"#b8e186\"], [0.8, \"#7fbc41\"], [0.9, \"#4d9221\"], [1, \"#276419\"]], \"sequential\": [[0.0, \"#0d0887\"], [0.1111111111111111, \"#46039f\"], [0.2222222222222222, \"#7201a8\"], [0.3333333333333333, \"#9c179e\"], [0.4444444444444444, \"#bd3786\"], [0.5555555555555556, \"#d8576b\"], [0.6666666666666666, \"#ed7953\"], [0.7777777777777778, \"#fb9f3a\"], [0.8888888888888888, \"#fdca26\"], [1.0, \"#f0f921\"]], \"sequentialminus\": [[0.0, \"#0d0887\"], [0.1111111111111111, \"#46039f\"], [0.2222222222222222, \"#7201a8\"], [0.3333333333333333, \"#9c179e\"], [0.4444444444444444, \"#bd3786\"], [0.5555555555555556, \"#d8576b\"], [0.6666666666666666, \"#ed7953\"], [0.7777777777777778, \"#fb9f3a\"], [0.8888888888888888, \"#fdca26\"], [1.0, \"#f0f921\"]]}, \"colorway\": [\"#636efa\", \"#EF553B\", \"#00cc96\", \"#ab63fa\", \"#FFA15A\", \"#19d3f3\", \"#FF6692\", \"#B6E880\", \"#FF97FF\", \"#FECB52\"], \"font\": {\"color\": \"#2a3f5f\"}, \"geo\": {\"bgcolor\": \"white\", \"lakecolor\": \"white\", \"landcolor\": \"#E5ECF6\", \"showlakes\": true, \"showland\": true, \"subunitcolor\": \"white\"}, \"hoverlabel\": {\"align\": \"left\"}, \"hovermode\": \"closest\", \"mapbox\": {\"style\": \"light\"}, \"paper_bgcolor\": \"white\", \"plot_bgcolor\": \"#E5ECF6\", \"polar\": {\"angularaxis\": {\"gridcolor\": \"white\", \"linecolor\": \"white\", \"ticks\": \"\"}, \"bgcolor\": \"#E5ECF6\", \"radialaxis\": {\"gridcolor\": \"white\", \"linecolor\": \"white\", \"ticks\": \"\"}}, \"scene\": {\"xaxis\": {\"backgroundcolor\": \"#E5ECF6\", \"gridcolor\": \"white\", \"gridwidth\": 2, \"linecolor\": \"white\", \"showbackground\": true, \"ticks\": \"\", \"zerolinecolor\": \"white\"}, \"yaxis\": {\"backgroundcolor\": \"#E5ECF6\", \"gridcolor\": \"white\", \"gridwidth\": 2, \"linecolor\": \"white\", \"showbackground\": true, \"ticks\": \"\", \"zerolinecolor\": \"white\"}, \"zaxis\": {\"backgroundcolor\": \"#E5ECF6\", \"gridcolor\": \"white\", \"gridwidth\": 2, \"linecolor\": \"white\", \"showbackground\": true, \"ticks\": \"\", \"zerolinecolor\": \"white\"}}, \"shapedefaults\": {\"line\": {\"color\": \"#2a3f5f\"}}, \"ternary\": {\"aaxis\": {\"gridcolor\": \"white\", \"linecolor\": \"white\", \"ticks\": \"\"}, \"baxis\": {\"gridcolor\": \"white\", \"linecolor\": \"white\", \"ticks\": \"\"}, \"bgcolor\": \"#E5ECF6\", \"caxis\": {\"gridcolor\": \"white\", \"linecolor\": \"white\", \"ticks\": \"\"}}, \"title\": {\"x\": 0.05}, \"xaxis\": {\"automargin\": true, \"gridcolor\": \"white\", \"linecolor\": \"white\", \"ticks\": \"\", \"title\": {\"standoff\": 15}, \"zerolinecolor\": \"white\", \"zerolinewidth\": 2}, \"yaxis\": {\"automargin\": true, \"gridcolor\": \"white\", \"linecolor\": \"white\", \"ticks\": \"\", \"title\": {\"standoff\": 15}, \"zerolinecolor\": \"white\", \"zerolinewidth\": 2}}}, \"xaxis\": {\"anchor\": \"y\", \"domain\": [0.0, 1.0], \"title\": {\"text\": \"Month\"}}, \"yaxis\": {\"anchor\": \"x\", \"domain\": [0.0, 1.0], \"title\": {\"text\": \"Total Dumpster Fires\"}}},\n",
              "                        {\"responsive\": true}\n",
              "                    ).then(function(){\n",
              "                            \n",
              "var gd = document.getElementById('9f9eb86e-f9f4-4515-a1d1-6d6ccadd7b76');\n",
              "var x = new MutationObserver(function (mutations, observer) {{\n",
              "        var display = window.getComputedStyle(gd).display;\n",
              "        if (!display || display === 'none') {{\n",
              "            console.log([gd, 'removed!']);\n",
              "            Plotly.purge(gd);\n",
              "            observer.disconnect();\n",
              "        }}\n",
              "}});\n",
              "\n",
              "// Listen for the removal of the full notebook cells\n",
              "var notebookContainer = gd.closest('#notebook-container');\n",
              "if (notebookContainer) {{\n",
              "    x.observe(notebookContainer, {childList: true});\n",
              "}}\n",
              "\n",
              "// Listen for the clearing of the current output cell\n",
              "var outputEl = gd.closest('.output');\n",
              "if (outputEl) {{\n",
              "    x.observe(outputEl, {childList: true});\n",
              "}}\n",
              "\n",
              "                        })\n",
              "                };\n",
              "                \n",
              "            </script>\n",
              "        </div>\n",
              "</body>\n",
              "</html>"
            ]
          },
          "metadata": {
            "tags": []
          }
        }
      ]
    },
    {
      "cell_type": "code",
      "metadata": {
        "id": "OcDKl3pX427-",
        "colab_type": "code",
        "outputId": "623da426-9476-4b5c-878b-6e4bc1cb5e99",
        "colab": {
          "base_uri": "https://localhost:8080/",
          "height": 148
        }
      },
      "source": [
        "#Making a normalized crosstab\n",
        "avg_fire_p_month = pd.crosstab(dumpster['type'], dumpster['month'], \n",
        "                               normalize = True)\n",
        "avg_fire_p_month"
      ],
      "execution_count": 100,
      "outputs": [
        {
          "output_type": "execute_result",
          "data": {
            "text/html": [
              "<div>\n",
              "<style scoped>\n",
              "    .dataframe tbody tr th:only-of-type {\n",
              "        vertical-align: middle;\n",
              "    }\n",
              "\n",
              "    .dataframe tbody tr th {\n",
              "        vertical-align: top;\n",
              "    }\n",
              "\n",
              "    .dataframe thead th {\n",
              "        text-align: right;\n",
              "    }\n",
              "</style>\n",
              "<table border=\"1\" class=\"dataframe\">\n",
              "  <thead>\n",
              "    <tr style=\"text-align: right;\">\n",
              "      <th>month</th>\n",
              "      <th>1</th>\n",
              "      <th>2</th>\n",
              "      <th>3</th>\n",
              "      <th>4</th>\n",
              "      <th>5</th>\n",
              "      <th>6</th>\n",
              "      <th>7</th>\n",
              "      <th>8</th>\n",
              "      <th>9</th>\n",
              "      <th>10</th>\n",
              "      <th>11</th>\n",
              "      <th>12</th>\n",
              "    </tr>\n",
              "    <tr>\n",
              "      <th>type</th>\n",
              "      <th></th>\n",
              "      <th></th>\n",
              "      <th></th>\n",
              "      <th></th>\n",
              "      <th></th>\n",
              "      <th></th>\n",
              "      <th></th>\n",
              "      <th></th>\n",
              "      <th></th>\n",
              "      <th></th>\n",
              "      <th></th>\n",
              "      <th></th>\n",
              "    </tr>\n",
              "  </thead>\n",
              "  <tbody>\n",
              "    <tr>\n",
              "      <th>Dumpster Fire</th>\n",
              "      <td>0.057211</td>\n",
              "      <td>0.058999</td>\n",
              "      <td>0.084029</td>\n",
              "      <td>0.074493</td>\n",
              "      <td>0.094756</td>\n",
              "      <td>0.109654</td>\n",
              "      <td>0.129917</td>\n",
              "      <td>0.097139</td>\n",
              "      <td>0.088796</td>\n",
              "      <td>0.072706</td>\n",
              "      <td>0.054231</td>\n",
              "      <td>0.078069</td>\n",
              "    </tr>\n",
              "  </tbody>\n",
              "</table>\n",
              "</div>"
            ],
            "text/plain": [
              "month                1         2         3   ...        10        11        12\n",
              "type                                         ...                              \n",
              "Dumpster Fire  0.057211  0.058999  0.084029  ...  0.072706  0.054231  0.078069\n",
              "\n",
              "[1 rows x 12 columns]"
            ]
          },
          "metadata": {
            "tags": []
          },
          "execution_count": 100
        }
      ]
    },
    {
      "cell_type": "code",
      "metadata": {
        "id": "ZX4BzAtjSAiz",
        "colab_type": "code",
        "outputId": "90853390-ef6b-4e2b-fa11-8b9692946d4b",
        "colab": {
          "base_uri": "https://localhost:8080/",
          "height": 421
        }
      },
      "source": [
        "#for mah boy plotly\n",
        "avg_fire_p_month = avg_fire_p_month.T.reset_index().rename(columns = {'month' : 'Month', 'Dumpster Fire': 'Average Dumpster Fires'})\n",
        "avg_fire_p_month"
      ],
      "execution_count": 101,
      "outputs": [
        {
          "output_type": "execute_result",
          "data": {
            "text/html": [
              "<div>\n",
              "<style scoped>\n",
              "    .dataframe tbody tr th:only-of-type {\n",
              "        vertical-align: middle;\n",
              "    }\n",
              "\n",
              "    .dataframe tbody tr th {\n",
              "        vertical-align: top;\n",
              "    }\n",
              "\n",
              "    .dataframe thead th {\n",
              "        text-align: right;\n",
              "    }\n",
              "</style>\n",
              "<table border=\"1\" class=\"dataframe\">\n",
              "  <thead>\n",
              "    <tr style=\"text-align: right;\">\n",
              "      <th>type</th>\n",
              "      <th>Month</th>\n",
              "      <th>Average Dumpster Fires</th>\n",
              "    </tr>\n",
              "  </thead>\n",
              "  <tbody>\n",
              "    <tr>\n",
              "      <th>0</th>\n",
              "      <td>1</td>\n",
              "      <td>0.057211</td>\n",
              "    </tr>\n",
              "    <tr>\n",
              "      <th>1</th>\n",
              "      <td>2</td>\n",
              "      <td>0.058999</td>\n",
              "    </tr>\n",
              "    <tr>\n",
              "      <th>2</th>\n",
              "      <td>3</td>\n",
              "      <td>0.084029</td>\n",
              "    </tr>\n",
              "    <tr>\n",
              "      <th>3</th>\n",
              "      <td>4</td>\n",
              "      <td>0.074493</td>\n",
              "    </tr>\n",
              "    <tr>\n",
              "      <th>4</th>\n",
              "      <td>5</td>\n",
              "      <td>0.094756</td>\n",
              "    </tr>\n",
              "    <tr>\n",
              "      <th>5</th>\n",
              "      <td>6</td>\n",
              "      <td>0.109654</td>\n",
              "    </tr>\n",
              "    <tr>\n",
              "      <th>6</th>\n",
              "      <td>7</td>\n",
              "      <td>0.129917</td>\n",
              "    </tr>\n",
              "    <tr>\n",
              "      <th>7</th>\n",
              "      <td>8</td>\n",
              "      <td>0.097139</td>\n",
              "    </tr>\n",
              "    <tr>\n",
              "      <th>8</th>\n",
              "      <td>9</td>\n",
              "      <td>0.088796</td>\n",
              "    </tr>\n",
              "    <tr>\n",
              "      <th>9</th>\n",
              "      <td>10</td>\n",
              "      <td>0.072706</td>\n",
              "    </tr>\n",
              "    <tr>\n",
              "      <th>10</th>\n",
              "      <td>11</td>\n",
              "      <td>0.054231</td>\n",
              "    </tr>\n",
              "    <tr>\n",
              "      <th>11</th>\n",
              "      <td>12</td>\n",
              "      <td>0.078069</td>\n",
              "    </tr>\n",
              "  </tbody>\n",
              "</table>\n",
              "</div>"
            ],
            "text/plain": [
              "type  Month  Average Dumpster Fires\n",
              "0         1                0.057211\n",
              "1         2                0.058999\n",
              "2         3                0.084029\n",
              "3         4                0.074493\n",
              "4         5                0.094756\n",
              "5         6                0.109654\n",
              "6         7                0.129917\n",
              "7         8                0.097139\n",
              "8         9                0.088796\n",
              "9        10                0.072706\n",
              "10       11                0.054231\n",
              "11       12                0.078069"
            ]
          },
          "metadata": {
            "tags": []
          },
          "execution_count": 101
        }
      ]
    },
    {
      "cell_type": "code",
      "metadata": {
        "id": "KCbdprwrSSj_",
        "colab_type": "code",
        "outputId": "57e2ac18-1233-4b07-fa8b-b077960cd16e",
        "colab": {
          "base_uri": "https://localhost:8080/",
          "height": 542
        }
      },
      "source": [
        "fig = px.bar(avg_fire_p_month, x = 'Month', y = 'Average Dumpster Fires')\n",
        "fig.show()"
      ],
      "execution_count": 102,
      "outputs": [
        {
          "output_type": "display_data",
          "data": {
            "text/html": [
              "<html>\n",
              "<head><meta charset=\"utf-8\" /></head>\n",
              "<body>\n",
              "    <div>\n",
              "            <script src=\"https://cdnjs.cloudflare.com/ajax/libs/mathjax/2.7.5/MathJax.js?config=TeX-AMS-MML_SVG\"></script><script type=\"text/javascript\">if (window.MathJax) {MathJax.Hub.Config({SVG: {font: \"STIX-Web\"}});}</script>\n",
              "                <script type=\"text/javascript\">window.PlotlyConfig = {MathJaxConfig: 'local'};</script>\n",
              "        <script src=\"https://cdn.plot.ly/plotly-latest.min.js\"></script>    \n",
              "            <div id=\"2b122571-f98c-4ebc-956e-f045658c203a\" class=\"plotly-graph-div\" style=\"height:525px; width:100%;\"></div>\n",
              "            <script type=\"text/javascript\">\n",
              "                \n",
              "                    window.PLOTLYENV=window.PLOTLYENV || {};\n",
              "                    \n",
              "                if (document.getElementById(\"2b122571-f98c-4ebc-956e-f045658c203a\")) {\n",
              "                    Plotly.newPlot(\n",
              "                        '2b122571-f98c-4ebc-956e-f045658c203a',\n",
              "                        [{\"alignmentgroup\": \"True\", \"hoverlabel\": {\"namelength\": 0}, \"hovertemplate\": \"Month=%{x}<br>Average Dumpster Fires=%{y}\", \"legendgroup\": \"\", \"marker\": {\"color\": \"#636efa\"}, \"name\": \"\", \"offsetgroup\": \"\", \"orientation\": \"v\", \"showlegend\": false, \"textposition\": \"auto\", \"type\": \"bar\", \"x\": [1, 2, 3, 4, 5, 6, 7, 8, 9, 10, 11, 12], \"xaxis\": \"x\", \"y\": [0.057210965435041714, 0.05899880810488677, 0.08402860548271752, 0.07449344457687723, 0.09475566150178784, 0.10965435041716329, 0.1299165673420739, 0.09713945172824791, 0.08879618593563766, 0.07270560190703218, 0.054231227651966626, 0.07806912991656734], \"yaxis\": \"y\"}],\n",
              "                        {\"barmode\": \"relative\", \"legend\": {\"tracegroupgap\": 0}, \"margin\": {\"t\": 60}, \"template\": {\"data\": {\"bar\": [{\"error_x\": {\"color\": \"#2a3f5f\"}, \"error_y\": {\"color\": \"#2a3f5f\"}, \"marker\": {\"line\": {\"color\": \"#E5ECF6\", \"width\": 0.5}}, \"type\": \"bar\"}], \"barpolar\": [{\"marker\": {\"line\": {\"color\": \"#E5ECF6\", \"width\": 0.5}}, \"type\": \"barpolar\"}], \"carpet\": [{\"aaxis\": {\"endlinecolor\": \"#2a3f5f\", \"gridcolor\": \"white\", \"linecolor\": \"white\", \"minorgridcolor\": \"white\", \"startlinecolor\": \"#2a3f5f\"}, \"baxis\": {\"endlinecolor\": \"#2a3f5f\", \"gridcolor\": \"white\", \"linecolor\": \"white\", \"minorgridcolor\": \"white\", \"startlinecolor\": \"#2a3f5f\"}, \"type\": \"carpet\"}], \"choropleth\": [{\"colorbar\": {\"outlinewidth\": 0, \"ticks\": \"\"}, \"type\": \"choropleth\"}], \"contour\": [{\"colorbar\": {\"outlinewidth\": 0, \"ticks\": \"\"}, \"colorscale\": [[0.0, \"#0d0887\"], [0.1111111111111111, \"#46039f\"], [0.2222222222222222, \"#7201a8\"], [0.3333333333333333, \"#9c179e\"], [0.4444444444444444, \"#bd3786\"], [0.5555555555555556, \"#d8576b\"], [0.6666666666666666, \"#ed7953\"], [0.7777777777777778, \"#fb9f3a\"], [0.8888888888888888, \"#fdca26\"], [1.0, \"#f0f921\"]], \"type\": \"contour\"}], \"contourcarpet\": [{\"colorbar\": {\"outlinewidth\": 0, \"ticks\": \"\"}, \"type\": \"contourcarpet\"}], \"heatmap\": [{\"colorbar\": {\"outlinewidth\": 0, \"ticks\": \"\"}, \"colorscale\": [[0.0, \"#0d0887\"], [0.1111111111111111, \"#46039f\"], [0.2222222222222222, \"#7201a8\"], [0.3333333333333333, \"#9c179e\"], [0.4444444444444444, \"#bd3786\"], [0.5555555555555556, \"#d8576b\"], [0.6666666666666666, \"#ed7953\"], [0.7777777777777778, \"#fb9f3a\"], [0.8888888888888888, \"#fdca26\"], [1.0, \"#f0f921\"]], \"type\": \"heatmap\"}], \"heatmapgl\": [{\"colorbar\": {\"outlinewidth\": 0, \"ticks\": \"\"}, \"colorscale\": [[0.0, \"#0d0887\"], [0.1111111111111111, \"#46039f\"], [0.2222222222222222, \"#7201a8\"], [0.3333333333333333, \"#9c179e\"], [0.4444444444444444, \"#bd3786\"], [0.5555555555555556, \"#d8576b\"], [0.6666666666666666, \"#ed7953\"], [0.7777777777777778, \"#fb9f3a\"], [0.8888888888888888, \"#fdca26\"], [1.0, \"#f0f921\"]], \"type\": \"heatmapgl\"}], \"histogram\": [{\"marker\": {\"colorbar\": {\"outlinewidth\": 0, \"ticks\": \"\"}}, \"type\": \"histogram\"}], \"histogram2d\": [{\"colorbar\": {\"outlinewidth\": 0, \"ticks\": \"\"}, \"colorscale\": [[0.0, \"#0d0887\"], [0.1111111111111111, \"#46039f\"], [0.2222222222222222, \"#7201a8\"], [0.3333333333333333, \"#9c179e\"], [0.4444444444444444, \"#bd3786\"], [0.5555555555555556, \"#d8576b\"], [0.6666666666666666, \"#ed7953\"], [0.7777777777777778, \"#fb9f3a\"], [0.8888888888888888, \"#fdca26\"], [1.0, \"#f0f921\"]], \"type\": \"histogram2d\"}], \"histogram2dcontour\": [{\"colorbar\": {\"outlinewidth\": 0, \"ticks\": \"\"}, \"colorscale\": [[0.0, \"#0d0887\"], [0.1111111111111111, \"#46039f\"], [0.2222222222222222, \"#7201a8\"], [0.3333333333333333, \"#9c179e\"], [0.4444444444444444, \"#bd3786\"], [0.5555555555555556, \"#d8576b\"], [0.6666666666666666, \"#ed7953\"], [0.7777777777777778, \"#fb9f3a\"], [0.8888888888888888, \"#fdca26\"], [1.0, \"#f0f921\"]], \"type\": \"histogram2dcontour\"}], \"mesh3d\": [{\"colorbar\": {\"outlinewidth\": 0, \"ticks\": \"\"}, \"type\": \"mesh3d\"}], \"parcoords\": [{\"line\": {\"colorbar\": {\"outlinewidth\": 0, \"ticks\": \"\"}}, \"type\": \"parcoords\"}], \"pie\": [{\"automargin\": true, \"type\": \"pie\"}], \"scatter\": [{\"marker\": {\"colorbar\": {\"outlinewidth\": 0, \"ticks\": \"\"}}, \"type\": \"scatter\"}], \"scatter3d\": [{\"line\": {\"colorbar\": {\"outlinewidth\": 0, \"ticks\": \"\"}}, \"marker\": {\"colorbar\": {\"outlinewidth\": 0, \"ticks\": \"\"}}, \"type\": \"scatter3d\"}], \"scattercarpet\": [{\"marker\": {\"colorbar\": {\"outlinewidth\": 0, \"ticks\": \"\"}}, \"type\": \"scattercarpet\"}], \"scattergeo\": [{\"marker\": {\"colorbar\": {\"outlinewidth\": 0, \"ticks\": \"\"}}, \"type\": \"scattergeo\"}], \"scattergl\": [{\"marker\": {\"colorbar\": {\"outlinewidth\": 0, \"ticks\": \"\"}}, \"type\": \"scattergl\"}], \"scattermapbox\": [{\"marker\": {\"colorbar\": {\"outlinewidth\": 0, \"ticks\": \"\"}}, \"type\": \"scattermapbox\"}], \"scatterpolar\": [{\"marker\": {\"colorbar\": {\"outlinewidth\": 0, \"ticks\": \"\"}}, \"type\": \"scatterpolar\"}], \"scatterpolargl\": [{\"marker\": {\"colorbar\": {\"outlinewidth\": 0, \"ticks\": \"\"}}, \"type\": \"scatterpolargl\"}], \"scatterternary\": [{\"marker\": {\"colorbar\": {\"outlinewidth\": 0, \"ticks\": \"\"}}, \"type\": \"scatterternary\"}], \"surface\": [{\"colorbar\": {\"outlinewidth\": 0, \"ticks\": \"\"}, \"colorscale\": [[0.0, \"#0d0887\"], [0.1111111111111111, \"#46039f\"], [0.2222222222222222, \"#7201a8\"], [0.3333333333333333, \"#9c179e\"], [0.4444444444444444, \"#bd3786\"], [0.5555555555555556, \"#d8576b\"], [0.6666666666666666, \"#ed7953\"], [0.7777777777777778, \"#fb9f3a\"], [0.8888888888888888, \"#fdca26\"], [1.0, \"#f0f921\"]], \"type\": \"surface\"}], \"table\": [{\"cells\": {\"fill\": {\"color\": \"#EBF0F8\"}, \"line\": {\"color\": \"white\"}}, \"header\": {\"fill\": {\"color\": \"#C8D4E3\"}, \"line\": {\"color\": \"white\"}}, \"type\": \"table\"}]}, \"layout\": {\"annotationdefaults\": {\"arrowcolor\": \"#2a3f5f\", \"arrowhead\": 0, \"arrowwidth\": 1}, \"coloraxis\": {\"colorbar\": {\"outlinewidth\": 0, \"ticks\": \"\"}}, \"colorscale\": {\"diverging\": [[0, \"#8e0152\"], [0.1, \"#c51b7d\"], [0.2, \"#de77ae\"], [0.3, \"#f1b6da\"], [0.4, \"#fde0ef\"], [0.5, \"#f7f7f7\"], [0.6, \"#e6f5d0\"], [0.7, \"#b8e186\"], [0.8, \"#7fbc41\"], [0.9, \"#4d9221\"], [1, \"#276419\"]], \"sequential\": [[0.0, \"#0d0887\"], [0.1111111111111111, \"#46039f\"], [0.2222222222222222, \"#7201a8\"], [0.3333333333333333, \"#9c179e\"], [0.4444444444444444, \"#bd3786\"], [0.5555555555555556, \"#d8576b\"], [0.6666666666666666, \"#ed7953\"], [0.7777777777777778, \"#fb9f3a\"], [0.8888888888888888, \"#fdca26\"], [1.0, \"#f0f921\"]], \"sequentialminus\": [[0.0, \"#0d0887\"], [0.1111111111111111, \"#46039f\"], [0.2222222222222222, \"#7201a8\"], [0.3333333333333333, \"#9c179e\"], [0.4444444444444444, \"#bd3786\"], [0.5555555555555556, \"#d8576b\"], [0.6666666666666666, \"#ed7953\"], [0.7777777777777778, \"#fb9f3a\"], [0.8888888888888888, \"#fdca26\"], [1.0, \"#f0f921\"]]}, \"colorway\": [\"#636efa\", \"#EF553B\", \"#00cc96\", \"#ab63fa\", \"#FFA15A\", \"#19d3f3\", \"#FF6692\", \"#B6E880\", \"#FF97FF\", \"#FECB52\"], \"font\": {\"color\": \"#2a3f5f\"}, \"geo\": {\"bgcolor\": \"white\", \"lakecolor\": \"white\", \"landcolor\": \"#E5ECF6\", \"showlakes\": true, \"showland\": true, \"subunitcolor\": \"white\"}, \"hoverlabel\": {\"align\": \"left\"}, \"hovermode\": \"closest\", \"mapbox\": {\"style\": \"light\"}, \"paper_bgcolor\": \"white\", \"plot_bgcolor\": \"#E5ECF6\", \"polar\": {\"angularaxis\": {\"gridcolor\": \"white\", \"linecolor\": \"white\", \"ticks\": \"\"}, \"bgcolor\": \"#E5ECF6\", \"radialaxis\": {\"gridcolor\": \"white\", \"linecolor\": \"white\", \"ticks\": \"\"}}, \"scene\": {\"xaxis\": {\"backgroundcolor\": \"#E5ECF6\", \"gridcolor\": \"white\", \"gridwidth\": 2, \"linecolor\": \"white\", \"showbackground\": true, \"ticks\": \"\", \"zerolinecolor\": \"white\"}, \"yaxis\": {\"backgroundcolor\": \"#E5ECF6\", \"gridcolor\": \"white\", \"gridwidth\": 2, \"linecolor\": \"white\", \"showbackground\": true, \"ticks\": \"\", \"zerolinecolor\": \"white\"}, \"zaxis\": {\"backgroundcolor\": \"#E5ECF6\", \"gridcolor\": \"white\", \"gridwidth\": 2, \"linecolor\": \"white\", \"showbackground\": true, \"ticks\": \"\", \"zerolinecolor\": \"white\"}}, \"shapedefaults\": {\"line\": {\"color\": \"#2a3f5f\"}}, \"ternary\": {\"aaxis\": {\"gridcolor\": \"white\", \"linecolor\": \"white\", \"ticks\": \"\"}, \"baxis\": {\"gridcolor\": \"white\", \"linecolor\": \"white\", \"ticks\": \"\"}, \"bgcolor\": \"#E5ECF6\", \"caxis\": {\"gridcolor\": \"white\", \"linecolor\": \"white\", \"ticks\": \"\"}}, \"title\": {\"x\": 0.05}, \"xaxis\": {\"automargin\": true, \"gridcolor\": \"white\", \"linecolor\": \"white\", \"ticks\": \"\", \"title\": {\"standoff\": 15}, \"zerolinecolor\": \"white\", \"zerolinewidth\": 2}, \"yaxis\": {\"automargin\": true, \"gridcolor\": \"white\", \"linecolor\": \"white\", \"ticks\": \"\", \"title\": {\"standoff\": 15}, \"zerolinecolor\": \"white\", \"zerolinewidth\": 2}}}, \"xaxis\": {\"anchor\": \"y\", \"domain\": [0.0, 1.0], \"title\": {\"text\": \"Month\"}}, \"yaxis\": {\"anchor\": \"x\", \"domain\": [0.0, 1.0], \"title\": {\"text\": \"Average Dumpster Fires\"}}},\n",
              "                        {\"responsive\": true}\n",
              "                    ).then(function(){\n",
              "                            \n",
              "var gd = document.getElementById('2b122571-f98c-4ebc-956e-f045658c203a');\n",
              "var x = new MutationObserver(function (mutations, observer) {{\n",
              "        var display = window.getComputedStyle(gd).display;\n",
              "        if (!display || display === 'none') {{\n",
              "            console.log([gd, 'removed!']);\n",
              "            Plotly.purge(gd);\n",
              "            observer.disconnect();\n",
              "        }}\n",
              "}});\n",
              "\n",
              "// Listen for the removal of the full notebook cells\n",
              "var notebookContainer = gd.closest('#notebook-container');\n",
              "if (notebookContainer) {{\n",
              "    x.observe(notebookContainer, {childList: true});\n",
              "}}\n",
              "\n",
              "// Listen for the clearing of the current output cell\n",
              "var outputEl = gd.closest('.output');\n",
              "if (outputEl) {{\n",
              "    x.observe(outputEl, {childList: true});\n",
              "}}\n",
              "\n",
              "                        })\n",
              "                };\n",
              "                \n",
              "            </script>\n",
              "        </div>\n",
              "</body>\n",
              "</html>"
            ]
          },
          "metadata": {
            "tags": []
          }
        }
      ]
    },
    {
      "cell_type": "code",
      "metadata": {
        "id": "svJSnXwnSeXx",
        "colab_type": "code",
        "colab": {}
      },
      "source": [
        "#damn so if i you look at the month of december, and the average is WAY low.\n",
        "#so our arson was over 10x the average for the month of december in one night.\n",
        "\n",
        "#but is this really a fair comparison?  Maybe we should be looking at fire \n",
        "#sprees. so I should consider fires that are within a certain timeframe. Lets \n",
        "#say 24 hours (like our example fire)\n",
        "\n",
        "#Two approaches:\n",
        "#First scree plot to figure out a useful number of clusters for date times on\n",
        "#a line plot.  But will that give me a cluster for a specific time frame? \n",
        "#probs not. But it might be a fun analysis all the same, and maybe those\n",
        "#clusters can show how weird this is.\n",
        "\n",
        "\n",
        "#Second, and easiest I think, would be just plough through these, sorted by\n",
        "#datetime and give a simple boolean value for if each call was within 24 hours.\n",
        "#Then just group each set, and count how many calls in a row.\n",
        "\n",
        "#check if two dates are within 24 hours\n",
        "def within_24(earlier, later):\n",
        "  return (later - earlier) <= datetime.timedelta(hours = 24)"
      ],
      "execution_count": 0,
      "outputs": []
    },
    {
      "cell_type": "code",
      "metadata": {
        "id": "hNV28MWxaZvF",
        "colab_type": "code",
        "outputId": "663fa3ae-0867-4883-f3b9-71e795b6a5d3",
        "colab": {
          "base_uri": "https://localhost:8080/",
          "height": 411
        }
      },
      "source": [
        "#indexes are still showing from the origina data set, just going to reset these\n",
        "#for ease of processing and using iloc.\n",
        "dumpster.sort_values('datetime', inplace = True)\n",
        "dumpster.reset_index(drop = True, inplace = True)\n",
        "dumpster.head()"
      ],
      "execution_count": 104,
      "outputs": [
        {
          "output_type": "execute_result",
          "data": {
            "text/html": [
              "<div>\n",
              "<style scoped>\n",
              "    .dataframe tbody tr th:only-of-type {\n",
              "        vertical-align: middle;\n",
              "    }\n",
              "\n",
              "    .dataframe tbody tr th {\n",
              "        vertical-align: top;\n",
              "    }\n",
              "\n",
              "    .dataframe thead th {\n",
              "        text-align: right;\n",
              "    }\n",
              "</style>\n",
              "<table border=\"1\" class=\"dataframe\">\n",
              "  <thead>\n",
              "    <tr style=\"text-align: right;\">\n",
              "      <th></th>\n",
              "      <th>address</th>\n",
              "      <th>type</th>\n",
              "      <th>datetime</th>\n",
              "      <th>latitude</th>\n",
              "      <th>longitude</th>\n",
              "      <th>report_location</th>\n",
              "      <th>incident_number</th>\n",
              "      <th>year</th>\n",
              "      <th>month</th>\n",
              "    </tr>\n",
              "  </thead>\n",
              "  <tbody>\n",
              "    <tr>\n",
              "      <th>0</th>\n",
              "      <td>747 Broadway</td>\n",
              "      <td>Dumpster Fire</td>\n",
              "      <td>2003-11-10T15:43:04.000</td>\n",
              "      <td>47.608621</td>\n",
              "      <td>-122.320756</td>\n",
              "      <td>{'type': 'Point', 'coordinates': [-122.320756,...</td>\n",
              "      <td>F030082401</td>\n",
              "      <td>2003</td>\n",
              "      <td>11</td>\n",
              "    </tr>\n",
              "    <tr>\n",
              "      <th>1</th>\n",
              "      <td>32nd Av E / E Madison St</td>\n",
              "      <td>Dumpster Fire</td>\n",
              "      <td>2003-11-14T23:45:39.000</td>\n",
              "      <td>47.627040</td>\n",
              "      <td>-122.290929</td>\n",
              "      <td>{'type': 'Point', 'coordinates': [-122.290929,...</td>\n",
              "      <td>F030083954</td>\n",
              "      <td>2003</td>\n",
              "      <td>11</td>\n",
              "    </tr>\n",
              "    <tr>\n",
              "      <th>2</th>\n",
              "      <td>6TH AV / PIKE ST</td>\n",
              "      <td>Dumpster Fire</td>\n",
              "      <td>2003-11-18T09:10:42.000</td>\n",
              "      <td>47.611142</td>\n",
              "      <td>-122.334464</td>\n",
              "      <td>{'type': 'Point', 'coordinates': [-122.334464,...</td>\n",
              "      <td>F030085104</td>\n",
              "      <td>2003</td>\n",
              "      <td>11</td>\n",
              "    </tr>\n",
              "    <tr>\n",
              "      <th>3</th>\n",
              "      <td>6th Av / Pike St</td>\n",
              "      <td>Dumpster Fire</td>\n",
              "      <td>2003-11-18T09:10:57.000</td>\n",
              "      <td>47.611142</td>\n",
              "      <td>-122.334464</td>\n",
              "      <td>{'type': 'Point', 'coordinates': [-122.334464,...</td>\n",
              "      <td>F030085103</td>\n",
              "      <td>2003</td>\n",
              "      <td>11</td>\n",
              "    </tr>\n",
              "    <tr>\n",
              "      <th>4</th>\n",
              "      <td>Stone Way N / N 45th St</td>\n",
              "      <td>Dumpster Fire</td>\n",
              "      <td>2003-11-18T15:38:25.000</td>\n",
              "      <td>47.661385</td>\n",
              "      <td>-122.342145</td>\n",
              "      <td>{'type': 'Point', 'coordinates': [-122.342145,...</td>\n",
              "      <td>F030085264</td>\n",
              "      <td>2003</td>\n",
              "      <td>11</td>\n",
              "    </tr>\n",
              "  </tbody>\n",
              "</table>\n",
              "</div>"
            ],
            "text/plain": [
              "                    address           type  ...  year month\n",
              "0              747 Broadway  Dumpster Fire  ...  2003    11\n",
              "1  32nd Av E / E Madison St  Dumpster Fire  ...  2003    11\n",
              "2          6TH AV / PIKE ST  Dumpster Fire  ...  2003    11\n",
              "3          6th Av / Pike St  Dumpster Fire  ...  2003    11\n",
              "4   Stone Way N / N 45th St  Dumpster Fire  ...  2003    11\n",
              "\n",
              "[5 rows x 9 columns]"
            ]
          },
          "metadata": {
            "tags": []
          },
          "execution_count": 104
        }
      ]
    },
    {
      "cell_type": "code",
      "metadata": {
        "id": "648WeNYTdzTc",
        "colab_type": "code",
        "colab": {}
      },
      "source": [
        "#need some actual datetime objects to do this so lets just convert that date\n",
        "#time column in to datetime objects.\n",
        "dumpster['date_obj'] = pd.DatetimeIndex(dumpster['datetime'])"
      ],
      "execution_count": 0,
      "outputs": []
    },
    {
      "cell_type": "code",
      "metadata": {
        "id": "Uci2YpsPfk9J",
        "colab_type": "code",
        "outputId": "c91dfb31-1147-4fd2-8984-2911e986a7da",
        "colab": {
          "base_uri": "https://localhost:8080/",
          "height": 1000
        }
      },
      "source": [
        "dumpster.head(20)"
      ],
      "execution_count": 106,
      "outputs": [
        {
          "output_type": "execute_result",
          "data": {
            "text/html": [
              "<div>\n",
              "<style scoped>\n",
              "    .dataframe tbody tr th:only-of-type {\n",
              "        vertical-align: middle;\n",
              "    }\n",
              "\n",
              "    .dataframe tbody tr th {\n",
              "        vertical-align: top;\n",
              "    }\n",
              "\n",
              "    .dataframe thead th {\n",
              "        text-align: right;\n",
              "    }\n",
              "</style>\n",
              "<table border=\"1\" class=\"dataframe\">\n",
              "  <thead>\n",
              "    <tr style=\"text-align: right;\">\n",
              "      <th></th>\n",
              "      <th>address</th>\n",
              "      <th>type</th>\n",
              "      <th>datetime</th>\n",
              "      <th>latitude</th>\n",
              "      <th>longitude</th>\n",
              "      <th>report_location</th>\n",
              "      <th>incident_number</th>\n",
              "      <th>year</th>\n",
              "      <th>month</th>\n",
              "      <th>date_obj</th>\n",
              "    </tr>\n",
              "  </thead>\n",
              "  <tbody>\n",
              "    <tr>\n",
              "      <th>0</th>\n",
              "      <td>747 Broadway</td>\n",
              "      <td>Dumpster Fire</td>\n",
              "      <td>2003-11-10T15:43:04.000</td>\n",
              "      <td>47.608621</td>\n",
              "      <td>-122.320756</td>\n",
              "      <td>{'type': 'Point', 'coordinates': [-122.320756,...</td>\n",
              "      <td>F030082401</td>\n",
              "      <td>2003</td>\n",
              "      <td>11</td>\n",
              "      <td>2003-11-10 15:43:04</td>\n",
              "    </tr>\n",
              "    <tr>\n",
              "      <th>1</th>\n",
              "      <td>32nd Av E / E Madison St</td>\n",
              "      <td>Dumpster Fire</td>\n",
              "      <td>2003-11-14T23:45:39.000</td>\n",
              "      <td>47.627040</td>\n",
              "      <td>-122.290929</td>\n",
              "      <td>{'type': 'Point', 'coordinates': [-122.290929,...</td>\n",
              "      <td>F030083954</td>\n",
              "      <td>2003</td>\n",
              "      <td>11</td>\n",
              "      <td>2003-11-14 23:45:39</td>\n",
              "    </tr>\n",
              "    <tr>\n",
              "      <th>2</th>\n",
              "      <td>6TH AV / PIKE ST</td>\n",
              "      <td>Dumpster Fire</td>\n",
              "      <td>2003-11-18T09:10:42.000</td>\n",
              "      <td>47.611142</td>\n",
              "      <td>-122.334464</td>\n",
              "      <td>{'type': 'Point', 'coordinates': [-122.334464,...</td>\n",
              "      <td>F030085104</td>\n",
              "      <td>2003</td>\n",
              "      <td>11</td>\n",
              "      <td>2003-11-18 09:10:42</td>\n",
              "    </tr>\n",
              "    <tr>\n",
              "      <th>3</th>\n",
              "      <td>6th Av / Pike St</td>\n",
              "      <td>Dumpster Fire</td>\n",
              "      <td>2003-11-18T09:10:57.000</td>\n",
              "      <td>47.611142</td>\n",
              "      <td>-122.334464</td>\n",
              "      <td>{'type': 'Point', 'coordinates': [-122.334464,...</td>\n",
              "      <td>F030085103</td>\n",
              "      <td>2003</td>\n",
              "      <td>11</td>\n",
              "      <td>2003-11-18 09:10:57</td>\n",
              "    </tr>\n",
              "    <tr>\n",
              "      <th>4</th>\n",
              "      <td>Stone Way N / N 45th St</td>\n",
              "      <td>Dumpster Fire</td>\n",
              "      <td>2003-11-18T15:38:25.000</td>\n",
              "      <td>47.661385</td>\n",
              "      <td>-122.342145</td>\n",
              "      <td>{'type': 'Point', 'coordinates': [-122.342145,...</td>\n",
              "      <td>F030085264</td>\n",
              "      <td>2003</td>\n",
              "      <td>11</td>\n",
              "      <td>2003-11-18 15:38:25</td>\n",
              "    </tr>\n",
              "    <tr>\n",
              "      <th>5</th>\n",
              "      <td>4th Av S / S Lander St</td>\n",
              "      <td>Dumpster Fire</td>\n",
              "      <td>2003-11-24T17:04:21.000</td>\n",
              "      <td>47.579809</td>\n",
              "      <td>-122.329057</td>\n",
              "      <td>{'type': 'Point', 'coordinates': [-122.329057,...</td>\n",
              "      <td>F030087469</td>\n",
              "      <td>2003</td>\n",
              "      <td>11</td>\n",
              "      <td>2003-11-24 17:04:21</td>\n",
              "    </tr>\n",
              "    <tr>\n",
              "      <th>6</th>\n",
              "      <td>3824 S Myrtle St</td>\n",
              "      <td>Dumpster Fire</td>\n",
              "      <td>2003-12-01T16:06:15.000</td>\n",
              "      <td>47.538881</td>\n",
              "      <td>-122.284465</td>\n",
              "      <td>{'type': 'Point', 'coordinates': [-122.284465,...</td>\n",
              "      <td>F030089751</td>\n",
              "      <td>2003</td>\n",
              "      <td>12</td>\n",
              "      <td>2003-12-01 16:06:15</td>\n",
              "    </tr>\n",
              "    <tr>\n",
              "      <th>7</th>\n",
              "      <td>401 2nd Av S</td>\n",
              "      <td>Dumpster Fire</td>\n",
              "      <td>2003-12-02T22:09:02.000</td>\n",
              "      <td>47.599192</td>\n",
              "      <td>-122.331578</td>\n",
              "      <td>{'type': 'Point', 'coordinates': [-122.331578,...</td>\n",
              "      <td>F030090264</td>\n",
              "      <td>2003</td>\n",
              "      <td>12</td>\n",
              "      <td>2003-12-02 22:09:02</td>\n",
              "    </tr>\n",
              "    <tr>\n",
              "      <th>8</th>\n",
              "      <td>133 Pontius Av N</td>\n",
              "      <td>Dumpster Fire</td>\n",
              "      <td>2003-12-03T00:31:27.000</td>\n",
              "      <td>47.618887</td>\n",
              "      <td>-122.332245</td>\n",
              "      <td>{'type': 'Point', 'coordinates': [-122.332245,...</td>\n",
              "      <td>F030090301</td>\n",
              "      <td>2003</td>\n",
              "      <td>12</td>\n",
              "      <td>2003-12-03 00:31:27</td>\n",
              "    </tr>\n",
              "    <tr>\n",
              "      <th>9</th>\n",
              "      <td>2315 Western Av</td>\n",
              "      <td>Dumpster Fire</td>\n",
              "      <td>2003-12-07T19:23:43.000</td>\n",
              "      <td>47.612733</td>\n",
              "      <td>-122.347417</td>\n",
              "      <td>{'type': 'Point', 'coordinates': [-122.347417,...</td>\n",
              "      <td>F030092205</td>\n",
              "      <td>2003</td>\n",
              "      <td>12</td>\n",
              "      <td>2003-12-07 19:23:43</td>\n",
              "    </tr>\n",
              "    <tr>\n",
              "      <th>10</th>\n",
              "      <td>23rd Av / E Cherry St</td>\n",
              "      <td>Dumpster Fire</td>\n",
              "      <td>2003-12-08T20:41:15.000</td>\n",
              "      <td>47.608009</td>\n",
              "      <td>-122.302770</td>\n",
              "      <td>{'type': 'Point', 'coordinates': [-122.30277, ...</td>\n",
              "      <td>F030092604</td>\n",
              "      <td>2003</td>\n",
              "      <td>12</td>\n",
              "      <td>2003-12-08 20:41:15</td>\n",
              "    </tr>\n",
              "    <tr>\n",
              "      <th>11</th>\n",
              "      <td>1000 Ne 50th St</td>\n",
              "      <td>Dumpster Fire</td>\n",
              "      <td>2003-12-09T01:43:29.000</td>\n",
              "      <td>47.664937</td>\n",
              "      <td>-122.317404</td>\n",
              "      <td>{'type': 'Point', 'coordinates': [-122.317404,...</td>\n",
              "      <td>F030092654</td>\n",
              "      <td>2003</td>\n",
              "      <td>12</td>\n",
              "      <td>2003-12-09 01:43:29</td>\n",
              "    </tr>\n",
              "    <tr>\n",
              "      <th>12</th>\n",
              "      <td>15TH AV NE / NE 47TH ST</td>\n",
              "      <td>Dumpster Fire</td>\n",
              "      <td>2003-12-09T06:38:36.000</td>\n",
              "      <td>47.663084</td>\n",
              "      <td>-122.311966</td>\n",
              "      <td>{'type': 'Point', 'coordinates': [-122.311966,...</td>\n",
              "      <td>F030092690</td>\n",
              "      <td>2003</td>\n",
              "      <td>12</td>\n",
              "      <td>2003-12-09 06:38:36</td>\n",
              "    </tr>\n",
              "    <tr>\n",
              "      <th>13</th>\n",
              "      <td>20th Av Nw / Nw 65th St</td>\n",
              "      <td>Dumpster Fire</td>\n",
              "      <td>2003-12-09T23:11:28.000</td>\n",
              "      <td>47.675985</td>\n",
              "      <td>-122.382128</td>\n",
              "      <td>{'type': 'Point', 'coordinates': [-122.382128,...</td>\n",
              "      <td>F030092968</td>\n",
              "      <td>2003</td>\n",
              "      <td>12</td>\n",
              "      <td>2003-12-09 23:11:28</td>\n",
              "    </tr>\n",
              "    <tr>\n",
              "      <th>14</th>\n",
              "      <td>1918 Nw 65th St</td>\n",
              "      <td>Dumpster Fire</td>\n",
              "      <td>2003-12-09T23:28:01.000</td>\n",
              "      <td>47.675989</td>\n",
              "      <td>-122.381044</td>\n",
              "      <td>{'type': 'Point', 'coordinates': [-122.381044,...</td>\n",
              "      <td>F030092976</td>\n",
              "      <td>2003</td>\n",
              "      <td>12</td>\n",
              "      <td>2003-12-09 23:28:01</td>\n",
              "    </tr>\n",
              "    <tr>\n",
              "      <th>15</th>\n",
              "      <td>510 Lakeside Av S</td>\n",
              "      <td>Dumpster Fire</td>\n",
              "      <td>2003-12-12T13:25:57.000</td>\n",
              "      <td>47.597848</td>\n",
              "      <td>-122.286930</td>\n",
              "      <td>{'type': 'Point', 'coordinates': [-122.28693, ...</td>\n",
              "      <td>F030093811</td>\n",
              "      <td>2003</td>\n",
              "      <td>12</td>\n",
              "      <td>2003-12-12 13:25:57</td>\n",
              "    </tr>\n",
              "    <tr>\n",
              "      <th>16</th>\n",
              "      <td>Harvard Av / E Pine St</td>\n",
              "      <td>Dumpster Fire</td>\n",
              "      <td>2003-12-13T00:49:47.000</td>\n",
              "      <td>47.615226</td>\n",
              "      <td>-122.322130</td>\n",
              "      <td>{'type': 'Point', 'coordinates': [-122.32213, ...</td>\n",
              "      <td>F030093997</td>\n",
              "      <td>2003</td>\n",
              "      <td>12</td>\n",
              "      <td>2003-12-13 00:49:47</td>\n",
              "    </tr>\n",
              "    <tr>\n",
              "      <th>17</th>\n",
              "      <td>2200 California Av Sw</td>\n",
              "      <td>Dumpster Fire</td>\n",
              "      <td>2003-12-14T03:48:08.000</td>\n",
              "      <td>47.584001</td>\n",
              "      <td>-122.386423</td>\n",
              "      <td>{'type': 'Point', 'coordinates': [-122.386423,...</td>\n",
              "      <td>F030094385</td>\n",
              "      <td>2003</td>\n",
              "      <td>12</td>\n",
              "      <td>2003-12-14 03:48:08</td>\n",
              "    </tr>\n",
              "    <tr>\n",
              "      <th>18</th>\n",
              "      <td>19th Av / E Madison St</td>\n",
              "      <td>Dumpster Fire</td>\n",
              "      <td>2003-12-14T18:37:41.000</td>\n",
              "      <td>47.616733</td>\n",
              "      <td>-122.307409</td>\n",
              "      <td>{'type': 'Point', 'coordinates': [-122.307409,...</td>\n",
              "      <td>F030094568</td>\n",
              "      <td>2003</td>\n",
              "      <td>12</td>\n",
              "      <td>2003-12-14 18:37:41</td>\n",
              "    </tr>\n",
              "    <tr>\n",
              "      <th>19</th>\n",
              "      <td>PIER 91 ACCESS RD</td>\n",
              "      <td>Dumpster Fire</td>\n",
              "      <td>2003-12-15T01:15:11.000</td>\n",
              "      <td>47.632222</td>\n",
              "      <td>-122.377595</td>\n",
              "      <td>{'type': 'Point', 'coordinates': [-122.377595,...</td>\n",
              "      <td>F030094663</td>\n",
              "      <td>2003</td>\n",
              "      <td>12</td>\n",
              "      <td>2003-12-15 01:15:11</td>\n",
              "    </tr>\n",
              "  </tbody>\n",
              "</table>\n",
              "</div>"
            ],
            "text/plain": [
              "                     address           type  ... month            date_obj\n",
              "0               747 Broadway  Dumpster Fire  ...    11 2003-11-10 15:43:04\n",
              "1   32nd Av E / E Madison St  Dumpster Fire  ...    11 2003-11-14 23:45:39\n",
              "2           6TH AV / PIKE ST  Dumpster Fire  ...    11 2003-11-18 09:10:42\n",
              "3           6th Av / Pike St  Dumpster Fire  ...    11 2003-11-18 09:10:57\n",
              "4    Stone Way N / N 45th St  Dumpster Fire  ...    11 2003-11-18 15:38:25\n",
              "5     4th Av S / S Lander St  Dumpster Fire  ...    11 2003-11-24 17:04:21\n",
              "6           3824 S Myrtle St  Dumpster Fire  ...    12 2003-12-01 16:06:15\n",
              "7               401 2nd Av S  Dumpster Fire  ...    12 2003-12-02 22:09:02\n",
              "8           133 Pontius Av N  Dumpster Fire  ...    12 2003-12-03 00:31:27\n",
              "9            2315 Western Av  Dumpster Fire  ...    12 2003-12-07 19:23:43\n",
              "10     23rd Av / E Cherry St  Dumpster Fire  ...    12 2003-12-08 20:41:15\n",
              "11           1000 Ne 50th St  Dumpster Fire  ...    12 2003-12-09 01:43:29\n",
              "12   15TH AV NE / NE 47TH ST  Dumpster Fire  ...    12 2003-12-09 06:38:36\n",
              "13   20th Av Nw / Nw 65th St  Dumpster Fire  ...    12 2003-12-09 23:11:28\n",
              "14           1918 Nw 65th St  Dumpster Fire  ...    12 2003-12-09 23:28:01\n",
              "15         510 Lakeside Av S  Dumpster Fire  ...    12 2003-12-12 13:25:57\n",
              "16    Harvard Av / E Pine St  Dumpster Fire  ...    12 2003-12-13 00:49:47\n",
              "17     2200 California Av Sw  Dumpster Fire  ...    12 2003-12-14 03:48:08\n",
              "18    19th Av / E Madison St  Dumpster Fire  ...    12 2003-12-14 18:37:41\n",
              "19         PIER 91 ACCESS RD  Dumpster Fire  ...    12 2003-12-15 01:15:11\n",
              "\n",
              "[20 rows x 10 columns]"
            ]
          },
          "metadata": {
            "tags": []
          },
          "execution_count": 106
        }
      ]
    },
    {
      "cell_type": "code",
      "metadata": {
        "id": "FbEfg030ZdDb",
        "colab_type": "code",
        "outputId": "e6bbc6c2-db72-43d7-89e6-1d3513302400",
        "colab": {
          "base_uri": "https://localhost:8080/",
          "height": 51
        }
      },
      "source": [
        "#can't really think of how to do this without good old fashioned indexing\n",
        "#so I'm going to do that for now.  Would love to find a better way to do this\n",
        "#the - 1 in the range is to compensate for looking one index ahead\n",
        "#I'm comparing the index, to the index+1, and seeing if they are within 24\n",
        "#hours, then storing that truth value in a list to be added to our dataframe\n",
        "\n",
        "#we are assuming all calls are greater than 24 hours apart, and only changing\n",
        "#when they aren't\n",
        "booleans = [False] * dumpster.shape[0]\n",
        "\n",
        "for i in range(dumpster.shape[0] - 1):\n",
        "  if within_24(dumpster['date_obj'].iloc[i], dumpster['date_obj'].iloc[i + 1]):\n",
        "    booleans[i] = True\n",
        "    booleans[i+1] = True\n",
        "  else:\n",
        "    continue\n",
        "\n",
        "print(len(booleans))\n",
        "print(dumpster.shape[0])"
      ],
      "execution_count": 107,
      "outputs": [
        {
          "output_type": "stream",
          "text": [
            "1678\n",
            "1678\n"
          ],
          "name": "stdout"
        }
      ]
    },
    {
      "cell_type": "code",
      "metadata": {
        "id": "sLGrej_3datg",
        "colab_type": "code",
        "outputId": "c179aab5-2db4-4df1-f0d1-79b55814e37c",
        "colab": {
          "base_uri": "https://localhost:8080/",
          "height": 54
        }
      },
      "source": [
        "print(booleans)"
      ],
      "execution_count": 108,
      "outputs": [
        {
          "output_type": "stream",
          "text": [
            "[False, False, True, True, True, False, False, True, True, False, True, True, True, True, True, True, True, True, True, True, False, False, False, False, False, False, True, True, False, False, False, False, False, True, True, False, False, False, False, False, False, True, True, True, True, True, True, False, True, True, False, True, True, False, False, True, True, False, False, False, False, False, False, False, False, False, False, True, True, True, True, True, True, False, True, True, True, True, False, True, True, True, True, True, True, True, True, True, True, True, True, False, False, True, True, False, False, False, False, False, False, False, True, True, False, True, True, True, False, True, True, True, True, False, False, False, False, False, False, False, True, True, False, False, False, False, False, False, False, False, False, False, False, False, False, False, True, True, True, False, False, True, True, False, False, False, False, False, False, False, True, True, False, False, False, False, False, False, False, False, True, True, False, False, False, False, False, False, False, False, True, True, False, False, False, False, True, True, True, False, False, True, True, True, True, True, True, True, True, True, True, True, True, True, True, True, True, True, True, True, False, True, True, False, True, True, True, False, True, True, False, False, False, False, True, True, False, False, True, True, True, True, False, False, False, False, False, True, True, True, False, True, True, True, True, True, True, False, False, False, True, True, True, True, True, True, True, False, False, False, False, True, True, False, False, False, False, False, False, False, False, True, True, False, False, False, False, True, True, True, True, True, True, False, False, True, True, False, False, True, True, True, True, False, False, False, False, True, True, True, True, True, False, False, False, True, True, True, True, False, True, True, True, True, True, True, True, True, True, True, True, True, False, True, True, True, False, False, False, False, False, False, False, True, True, True, True, False, False, False, True, True, True, True, True, True, True, True, True, False, False, True, True, True, True, False, False, False, False, False, True, True, True, False, False, False, False, False, False, True, True, False, False, False, False, False, False, False, False, True, True, False, False, False, False, False, True, True, False, True, True, False, True, True, True, False, False, False, False, False, False, False, False, False, False, False, False, True, True, False, False, True, True, False, False, False, False, True, True, True, True, True, True, False, False, False, False, True, True, False, False, False, False, False, False, True, True, True, True, True, True, True, True, False, True, True, True, True, False, True, True, True, False, False, False, False, True, True, False, True, True, True, True, True, True, True, True, True, True, True, True, True, True, True, False, False, True, True, False, True, True, False, True, True, False, True, True, False, False, False, False, False, False, True, True, True, True, True, True, False, True, True, True, False, False, False, False, True, True, False, True, True, False, False, True, True, True, False, False, False, False, False, True, True, False, False, False, False, False, False, False, False, False, False, True, True, True, True, True, True, True, False, False, False, False, True, True, False, False, False, False, True, True, False, True, True, True, True, False, True, True, False, False, True, True, True, True, True, True, True, True, True, False, False, False, False, False, False, False, False, False, True, True, False, True, True, True, False, False, True, True, True, True, True, True, True, True, True, True, True, True, False, True, True, True, True, True, False, True, True, False, True, True, True, True, True, True, True, True, True, True, False, False, True, True, True, False, False, True, True, False, False, False, True, True, False, False, False, False, True, True, False, False, True, True, False, False, False, False, False, False, False, False, False, False, True, True, False, False, True, True, False, True, True, False, False, False, False, True, True, False, False, False, False, False, True, True, False, False, False, False, False, False, False, False, False, False, False, False, False, False, False, False, True, True, True, True, True, True, False, False, False, True, True, False, False, False, False, False, True, True, False, False, False, True, True, True, True, True, True, False, False, False, True, True, True, True, True, True, True, True, True, False, False, True, True, True, True, False, False, True, True, True, True, True, True, False, False, False, True, True, True, True, True, True, False, True, True, True, True, True, False, True, True, False, False, False, False, True, True, False, False, False, False, False, False, False, True, True, False, False, False, False, False, False, False, False, False, True, True, True, False, False, True, True, True, True, False, False, False, False, False, False, False, True, True, False, True, True, False, True, True, True, True, False, False, True, True, True, True, False, False, True, True, False, False, True, True, False, True, True, False, False, False, False, False, True, True, False, False, False, False, False, False, False, False, False, False, False, False, False, False, False, False, True, True, True, False, False, False, False, False, True, True, False, False, False, False, False, False, True, True, False, False, True, True, True, False, True, True, False, False, True, True, True, True, True, True, True, True, True, True, True, True, True, True, True, True, False, True, True, False, False, False, False, True, True, False, False, False, False, False, False, False, True, True, False, False, True, True, True, True, True, False, True, True, False, True, True, False, False, False, False, False, False, False, True, True, False, False, False, False, False, True, True, True, True, True, False, False, True, True, False, True, True, True, True, False, False, True, True, True, True, False, False, True, True, True, True, True, True, True, True, True, False, True, True, False, True, True, False, False, False, False, False, True, True, False, False, False, False, True, True, True, False, False, True, True, False, False, False, True, True, False, False, False, False, True, True, False, False, True, True, False, False, False, True, True, True, True, False, False, False, False, False, False, False, False, True, True, False, True, True, False, False, False, False, False, False, False, False, False, False, False, False, False, True, True, True, True, False, False, False, False, False, False, False, False, True, True, True, True, False, False, False, True, True, False, False, False, False, False, True, True, False, True, True, True, True, False, True, True, False, False, False, True, True, False, False, False, False, False, False, True, True, False, False, True, True, True, False, False, False, False, False, False, False, False, False, True, True, False, False, True, True, True, False, True, True, True, True, True, True, True, True, True, False, False, False, False, False, False, False, True, True, True, True, True, True, True, True, False, False, False, False, False, True, True, False, False, False, True, True, False, False, True, True, False, False, False, True, True, True, True, False, False, False, False, True, True, False, False, False, True, True, False, False, False, True, True, True, True, True, True, True, True, True, True, True, False, False, False, False, False, False, False, True, True, False, True, True, False, False, False, True, True, True, True, True, True, False, True, True, False, True, True, True, False, False, False, True, True, False, False, False, False, False, False, False, False, False, True, True, False, False, False, False, False, True, True, False, True, True, False, False, True, True, False, True, True, False, False, False, True, True, False, False, True, True, True, True, True, True, True, True, True, False, False, False, False, False, False, False, False, False, False, False, False, False, True, True, True, True, True, True, True, True, True, False, False, False, True, True, False, False, True, True, False, False, False, True, True, True, True, True, True, True, True, True, True, False, False, False, False, False, False, False, False, True, True, True, False, False, False, False, False, False, True, True, False, False, False, False, False, False, False, True, True, False, False, False, False, False, False, True, True, False, False, False, False, False, False, False, True, True, True, False, False, True, True, False, False, False, False, False, False, False, True, True, True, False, False, False, False, False, False, True, True, True, True, True, True, True, True, True, True, False, False, False, True, True, True, False, True, True, True, True, True, True, True, True, True, True, True, True, False, False, True, True, False, True, True, False, False, False, False, False, False, False, False, False, True, True, True, True, False, False, False, True, True, False, True, True, False, False, True, True, True, True, True, True, True, True, True, False, False, True, True, True, True, True, True, False, True, True, False, False, True, True, True, True, False, True, True, True, True, True, False, True, True, True, False, False, True, True, False, False, False, True, True, True, True, True, True, False, True, True, True, True, False, False, False, True, True, True, True, False, True, True, True, True, True, True, False, False, False, True, True, False, True, True, False, True, True, True, True, True, False, True, True, True, True, False, False, False, False, True, True, True, False, False, False, False, False, False, True, True, False, False, False, False, True, True, True, True, True, True, False, True, True, False, True, True, True, True, False, False, False, True, True, True, True, True, True, False, True, True, False, False, False, True, True, False, False, False, False, False, True, True, False, True, True, False, True, True, False, False, True, True, True, True, False, False, True, True, False, False, True, True, True, False, False, True, True, False, False, True, True, False, False, True, True, False, False, False, True, True, True, True, True, False, True, True, True, True, False, False, True, True, True, False, True, True, True, True, True, True, False, False, False, False, False, True, True, True, True, True, True, False, False, False, False, True, True, False, False, False, False, False, False, False, False, False, False, True, True, True, False, False, False, True, True, True, True, True, False, True, True, True, True, True, True, True, True, True, False, False, False]\n"
          ],
          "name": "stdout"
        }
      ]
    },
    {
      "cell_type": "code",
      "metadata": {
        "id": "HNV2zrEKmGvr",
        "colab_type": "code",
        "outputId": "c10c4008-7dc2-40ef-e6e7-1870c80aa7fb",
        "colab": {
          "base_uri": "https://localhost:8080/",
          "height": 51
        }
      },
      "source": [
        "#okay I'm pretty sure I didn't make a mistake, but more that I didn't make a \n",
        "#meaningful choice when I selected a boolean.  Lets try this again, and I will\n",
        "#simply choose to group them by the initial index value. This is getting very\n",
        "#c-like, and not very pythonic\n",
        "groups = [0] * dumpster.shape[0]\n",
        "\n",
        "#I need to dynamically change i, so it will be a while loop\n",
        "i = 0\n",
        "while i < dumpster.shape[0]:\n",
        "  #i + 1 because we can't be comparing the same index\n",
        "  for j in range(i + 1, dumpster.shape[0]):\n",
        "    if within_24(dumpster['date_obj'].iloc[i], dumpster['date_obj'].iloc[j]):\n",
        "      groups[i] = i\n",
        "      groups[j] = i\n",
        "    else:\n",
        "      #ugh god this is so jank. -1 to account for the manually incrementing\n",
        "      i = j - 1\n",
        "      break\n",
        "  i += 1\n",
        "\n",
        "#I think thise might be what we are looking for\n",
        "print(len(groups))\n",
        "print(dumpster.shape[0])\n"
      ],
      "execution_count": 109,
      "outputs": [
        {
          "output_type": "stream",
          "text": [
            "1678\n",
            "1678\n"
          ],
          "name": "stdout"
        }
      ]
    },
    {
      "cell_type": "code",
      "metadata": {
        "id": "4N3ldWINpHXo",
        "colab_type": "code",
        "outputId": "893d6393-7d66-410d-f9a2-632c0e8c8bc1",
        "colab": {
          "base_uri": "https://localhost:8080/",
          "height": 54
        }
      },
      "source": [
        "print(groups)"
      ],
      "execution_count": 110,
      "outputs": [
        {
          "output_type": "stream",
          "text": [
            "[0, 0, 2, 2, 2, 0, 0, 7, 7, 0, 10, 10, 10, 13, 13, 15, 15, 17, 17, 17, 0, 0, 0, 0, 0, 0, 26, 26, 0, 0, 0, 0, 0, 33, 33, 0, 0, 0, 0, 0, 0, 41, 41, 43, 43, 43, 0, 0, 48, 48, 0, 51, 51, 0, 0, 55, 55, 0, 0, 0, 0, 0, 0, 0, 0, 0, 0, 67, 67, 69, 69, 71, 71, 0, 74, 74, 74, 0, 0, 79, 79, 81, 81, 81, 84, 84, 86, 86, 86, 89, 89, 0, 0, 93, 93, 0, 0, 0, 0, 0, 0, 0, 102, 102, 0, 105, 105, 105, 0, 109, 109, 111, 111, 0, 0, 0, 0, 0, 0, 0, 120, 120, 0, 0, 0, 0, 0, 0, 0, 0, 0, 0, 0, 0, 0, 0, 136, 136, 0, 0, 0, 141, 141, 0, 0, 0, 0, 0, 0, 0, 150, 150, 0, 0, 0, 0, 0, 0, 0, 0, 160, 160, 0, 0, 0, 0, 0, 0, 0, 0, 170, 170, 0, 0, 0, 0, 176, 176, 176, 0, 0, 181, 181, 181, 181, 185, 185, 185, 188, 188, 188, 188, 188, 188, 188, 0, 196, 196, 196, 196, 0, 201, 201, 0, 204, 204, 204, 0, 208, 208, 0, 0, 0, 0, 214, 214, 0, 0, 218, 218, 220, 220, 0, 0, 0, 0, 0, 227, 227, 227, 0, 231, 231, 231, 231, 235, 235, 0, 0, 0, 240, 240, 240, 240, 244, 244, 244, 0, 0, 0, 0, 251, 251, 0, 0, 0, 0, 0, 0, 0, 0, 261, 261, 0, 0, 0, 0, 267, 267, 267, 267, 271, 271, 0, 0, 275, 275, 0, 0, 279, 279, 281, 281, 0, 0, 0, 0, 287, 287, 289, 289, 289, 0, 0, 0, 295, 295, 297, 297, 0, 300, 300, 302, 302, 304, 304, 306, 306, 308, 308, 308, 308, 0, 313, 313, 0, 0, 0, 0, 0, 0, 0, 0, 323, 323, 323, 0, 0, 0, 0, 330, 330, 332, 332, 334, 334, 334, 334, 0, 0, 0, 341, 341, 343, 343, 0, 0, 0, 0, 0, 350, 350, 350, 0, 0, 0, 0, 0, 0, 359, 359, 0, 0, 0, 0, 0, 0, 0, 0, 369, 369, 0, 0, 0, 0, 0, 376, 376, 0, 379, 379, 0, 382, 382, 0, 0, 0, 0, 0, 0, 0, 0, 0, 0, 0, 0, 0, 397, 397, 0, 0, 401, 401, 0, 0, 0, 0, 407, 407, 409, 409, 409, 0, 0, 0, 0, 0, 417, 417, 0, 0, 0, 0, 0, 0, 425, 425, 0, 428, 428, 430, 430, 430, 0, 434, 434, 436, 436, 0, 439, 439, 0, 0, 0, 0, 0, 446, 446, 0, 449, 449, 449, 452, 452, 452, 452, 456, 456, 456, 456, 460, 460, 462, 462, 0, 0, 466, 466, 0, 469, 469, 0, 472, 472, 0, 475, 475, 0, 0, 0, 0, 0, 0, 483, 483, 483, 486, 486, 486, 0, 490, 490, 490, 0, 0, 0, 0, 497, 497, 0, 500, 500, 0, 0, 504, 504, 0, 0, 0, 0, 0, 0, 512, 512, 0, 0, 0, 0, 0, 0, 0, 0, 0, 0, 524, 524, 526, 526, 526, 529, 529, 0, 0, 0, 0, 535, 535, 0, 0, 0, 0, 541, 541, 0, 544, 544, 546, 546, 0, 549, 549, 0, 0, 553, 553, 0, 556, 556, 558, 558, 560, 560, 0, 0, 0, 0, 0, 0, 0, 0, 0, 571, 571, 0, 574, 574, 0, 0, 0, 579, 579, 579, 579, 579, 579, 579, 579, 587, 587, 589, 589, 0, 592, 592, 592, 595, 595, 0, 598, 598, 0, 601, 601, 603, 603, 605, 605, 605, 608, 608, 608, 0, 0, 613, 613, 0, 0, 0, 618, 618, 0, 0, 0, 623, 623, 0, 0, 0, 0, 629, 629, 0, 0, 633, 633, 0, 0, 0, 0, 0, 0, 0, 0, 0, 0, 645, 645, 0, 0, 649, 649, 0, 652, 652, 0, 0, 0, 0, 658, 658, 0, 0, 0, 0, 0, 665, 665, 0, 0, 0, 0, 0, 0, 0, 0, 0, 0, 0, 0, 0, 0, 0, 0, 683, 683, 685, 685, 685, 685, 0, 0, 0, 692, 692, 0, 0, 0, 0, 0, 699, 699, 0, 0, 0, 704, 704, 706, 706, 706, 0, 0, 0, 0, 713, 713, 713, 716, 716, 716, 0, 720, 720, 0, 0, 724, 724, 724, 0, 0, 0, 730, 730, 732, 732, 734, 734, 0, 0, 0, 739, 739, 739, 739, 739, 0, 0, 746, 746, 746, 746, 0, 0, 752, 752, 0, 0, 0, 0, 758, 758, 0, 0, 0, 0, 0, 0, 0, 767, 767, 0, 0, 0, 0, 0, 0, 0, 0, 0, 778, 778, 778, 0, 0, 783, 783, 785, 785, 0, 0, 0, 0, 0, 0, 0, 794, 794, 0, 797, 797, 0, 800, 800, 802, 802, 0, 0, 806, 806, 808, 808, 0, 0, 812, 812, 0, 0, 816, 816, 0, 819, 819, 0, 0, 0, 0, 0, 826, 826, 0, 0, 0, 0, 0, 0, 0, 0, 0, 0, 0, 0, 0, 0, 0, 0, 844, 844, 844, 0, 0, 0, 0, 0, 852, 852, 0, 0, 0, 0, 0, 0, 860, 860, 0, 0, 864, 864, 864, 0, 868, 868, 0, 0, 872, 872, 874, 874, 874, 874, 878, 878, 880, 880, 880, 883, 883, 883, 886, 886, 0, 889, 889, 0, 0, 0, 0, 895, 895, 0, 0, 0, 0, 0, 0, 0, 904, 904, 0, 0, 908, 908, 910, 910, 0, 0, 914, 914, 0, 917, 917, 0, 0, 0, 0, 0, 0, 0, 926, 926, 0, 0, 0, 0, 0, 933, 933, 935, 935, 935, 0, 0, 940, 940, 0, 943, 943, 945, 945, 0, 0, 949, 949, 951, 951, 0, 0, 955, 955, 957, 957, 0, 960, 960, 962, 962, 0, 965, 965, 0, 968, 968, 0, 0, 0, 0, 0, 975, 975, 0, 0, 0, 0, 981, 981, 981, 0, 0, 986, 986, 0, 0, 0, 991, 991, 0, 0, 0, 0, 997, 997, 0, 0, 1001, 1001, 0, 0, 0, 1006, 1006, 1008, 1008, 0, 0, 0, 0, 0, 0, 0, 0, 1018, 1018, 0, 1021, 1021, 0, 0, 0, 0, 0, 0, 0, 0, 0, 0, 0, 0, 0, 1036, 1036, 1038, 1038, 0, 0, 0, 0, 0, 0, 0, 0, 1048, 1048, 1050, 1050, 0, 0, 0, 1055, 1055, 0, 0, 0, 0, 0, 1062, 1062, 0, 1065, 1065, 1067, 1067, 0, 1070, 1070, 0, 0, 0, 1075, 1075, 0, 0, 0, 0, 0, 0, 1083, 1083, 0, 0, 1087, 1087, 1087, 0, 0, 0, 0, 0, 0, 0, 0, 0, 1099, 1099, 0, 0, 1103, 1103, 1103, 0, 1107, 1107, 1109, 1109, 1111, 1111, 1111, 1114, 1114, 0, 0, 0, 0, 0, 0, 0, 1123, 1123, 1125, 1125, 1125, 1125, 1129, 1129, 0, 0, 0, 0, 0, 1136, 1136, 0, 0, 0, 1141, 1141, 0, 0, 1145, 1145, 0, 0, 0, 1150, 1150, 1152, 1152, 0, 0, 0, 0, 1158, 1158, 0, 0, 0, 1163, 1163, 0, 0, 0, 1168, 1168, 0, 1171, 1171, 0, 1174, 1174, 1176, 1176, 0, 0, 0, 0, 0, 0, 0, 0, 1186, 1186, 0, 1189, 1189, 0, 0, 0, 1194, 1194, 1196, 1196, 1198, 1198, 0, 1201, 1201, 0, 1204, 1204, 1204, 0, 0, 0, 1210, 1210, 0, 0, 0, 0, 0, 0, 0, 0, 0, 1221, 1221, 0, 0, 0, 0, 0, 1228, 1228, 0, 1231, 1231, 0, 0, 1235, 1235, 0, 1238, 1238, 0, 0, 0, 1243, 1243, 0, 0, 1247, 1247, 1249, 1249, 1251, 1251, 0, 1254, 1254, 0, 0, 0, 0, 0, 0, 0, 0, 0, 0, 0, 0, 0, 1269, 1269, 1269, 1272, 1272, 1274, 1274, 1276, 1276, 0, 0, 0, 1281, 1281, 0, 0, 1285, 1285, 0, 0, 0, 1290, 1290, 1290, 1293, 1293, 1295, 1295, 1297, 1297, 1297, 0, 0, 0, 0, 0, 0, 0, 0, 1308, 1308, 1308, 0, 0, 0, 0, 0, 0, 1317, 1317, 0, 0, 0, 0, 0, 0, 0, 1326, 1326, 0, 0, 0, 0, 0, 0, 1334, 1334, 0, 0, 0, 0, 0, 0, 0, 1343, 1343, 0, 0, 0, 1348, 1348, 0, 0, 0, 0, 0, 0, 0, 1357, 1357, 0, 0, 0, 0, 0, 0, 0, 1366, 1366, 1368, 1368, 1370, 1370, 1372, 1372, 1372, 1372, 0, 0, 0, 1379, 1379, 0, 0, 1383, 1383, 1383, 1386, 1386, 0, 1389, 1389, 1389, 1392, 1392, 1392, 0, 0, 1397, 1397, 0, 1400, 1400, 0, 0, 0, 0, 0, 0, 0, 0, 0, 1411, 1411, 1413, 1413, 0, 0, 0, 1418, 1418, 0, 1421, 1421, 0, 0, 1425, 1425, 1427, 1427, 1429, 1429, 1429, 1432, 1432, 0, 0, 1436, 1436, 1438, 1438, 1438, 0, 0, 1443, 1443, 0, 0, 1447, 1447, 1449, 1449, 0, 1452, 1452, 1452, 1455, 1455, 0, 1458, 1458, 0, 0, 0, 1463, 1463, 0, 0, 0, 1468, 1468, 1468, 1468, 1472, 1472, 0, 1475, 1475, 1477, 1477, 0, 0, 0, 1482, 1482, 1484, 1484, 0, 1487, 1487, 1489, 1489, 1489, 1489, 0, 0, 0, 1496, 1496, 0, 1499, 1499, 0, 1502, 1502, 1502, 1502, 1502, 0, 1508, 1508, 1510, 1510, 0, 0, 0, 0, 1516, 1516, 1516, 0, 0, 0, 0, 0, 0, 1525, 1525, 0, 0, 0, 0, 1531, 1531, 1533, 1533, 1535, 1535, 0, 1538, 1538, 0, 1541, 1541, 1543, 1543, 0, 0, 0, 1548, 1548, 1548, 1548, 1552, 1552, 0, 1555, 1555, 0, 0, 0, 1560, 1560, 0, 0, 0, 0, 0, 1567, 1567, 0, 1570, 1570, 0, 1573, 1573, 0, 0, 1577, 1577, 1577, 1577, 0, 0, 1583, 1583, 0, 0, 1587, 1587, 1587, 0, 0, 1592, 1592, 0, 0, 1596, 1596, 0, 0, 1600, 1600, 0, 0, 0, 1605, 1605, 1607, 1607, 1607, 0, 1611, 1611, 1611, 0, 0, 0, 1617, 1617, 0, 0, 1621, 1621, 1621, 1621, 1621, 1621, 0, 0, 0, 0, 0, 1632, 1632, 1632, 0, 1636, 1636, 0, 0, 0, 0, 1642, 1642, 0, 0, 0, 0, 0, 0, 0, 0, 0, 0, 1654, 1654, 0, 0, 0, 0, 1660, 1660, 1662, 1662, 1662, 0, 1666, 1666, 1666, 1666, 1666, 1666, 1666, 1666, 1666, 0, 0, 0]\n"
          ],
          "name": "stdout"
        }
      ]
    },
    {
      "cell_type": "code",
      "metadata": {
        "id": "srUMMuL-rckS",
        "colab_type": "code",
        "outputId": "6b084763-8fd2-4e10-8ffd-30542501dc6b",
        "colab": {
          "base_uri": "https://localhost:8080/",
          "height": 1000
        }
      },
      "source": [
        "#for manual eyeball comparison, looks like I'm getting the groupings I expect.\n",
        "#especially group 1666, that is our serial dumpster arson.\n",
        "dumpster.tail(15)"
      ],
      "execution_count": 111,
      "outputs": [
        {
          "output_type": "execute_result",
          "data": {
            "text/html": [
              "<div>\n",
              "<style scoped>\n",
              "    .dataframe tbody tr th:only-of-type {\n",
              "        vertical-align: middle;\n",
              "    }\n",
              "\n",
              "    .dataframe tbody tr th {\n",
              "        vertical-align: top;\n",
              "    }\n",
              "\n",
              "    .dataframe thead th {\n",
              "        text-align: right;\n",
              "    }\n",
              "</style>\n",
              "<table border=\"1\" class=\"dataframe\">\n",
              "  <thead>\n",
              "    <tr style=\"text-align: right;\">\n",
              "      <th></th>\n",
              "      <th>address</th>\n",
              "      <th>type</th>\n",
              "      <th>datetime</th>\n",
              "      <th>latitude</th>\n",
              "      <th>longitude</th>\n",
              "      <th>report_location</th>\n",
              "      <th>incident_number</th>\n",
              "      <th>year</th>\n",
              "      <th>month</th>\n",
              "      <th>date_obj</th>\n",
              "    </tr>\n",
              "  </thead>\n",
              "  <tbody>\n",
              "    <tr>\n",
              "      <th>1663</th>\n",
              "      <td>520 2nd Av W</td>\n",
              "      <td>Dumpster Fire</td>\n",
              "      <td>2019-11-28T07:19:00.000</td>\n",
              "      <td>47.623539</td>\n",
              "      <td>-122.35933</td>\n",
              "      <td>{'type': 'Point', 'coordinates': [-122.35933, ...</td>\n",
              "      <td>F190126059</td>\n",
              "      <td>2019</td>\n",
              "      <td>11</td>\n",
              "      <td>2019-11-28 07:19:00</td>\n",
              "    </tr>\n",
              "    <tr>\n",
              "      <th>1664</th>\n",
              "      <td>515 1st Av W</td>\n",
              "      <td>Dumpster Fire</td>\n",
              "      <td>2019-11-28T07:24:00.000</td>\n",
              "      <td>47.623458</td>\n",
              "      <td>-122.358023</td>\n",
              "      <td>{'type': 'Point', 'coordinates': [-122.358023,...</td>\n",
              "      <td>F190126061</td>\n",
              "      <td>2019</td>\n",
              "      <td>11</td>\n",
              "      <td>2019-11-28 07:24:00</td>\n",
              "    </tr>\n",
              "    <tr>\n",
              "      <th>1665</th>\n",
              "      <td>504 E Denny Way</td>\n",
              "      <td>Dumpster Fire</td>\n",
              "      <td>2019-12-03T12:26:00.000</td>\n",
              "      <td>47.618488</td>\n",
              "      <td>-122.325234</td>\n",
              "      <td>{'type': 'Point', 'coordinates': [-122.325234,...</td>\n",
              "      <td>F190127833</td>\n",
              "      <td>2019</td>\n",
              "      <td>12</td>\n",
              "      <td>2019-12-03 12:26:00</td>\n",
              "    </tr>\n",
              "    <tr>\n",
              "      <th>1666</th>\n",
              "      <td>1214 Boylston Av</td>\n",
              "      <td>Dumpster Fire</td>\n",
              "      <td>2019-12-17T21:17:00.000</td>\n",
              "      <td>47.612253</td>\n",
              "      <td>-122.323199</td>\n",
              "      <td>{'type': 'Point', 'coordinates': [-122.323199,...</td>\n",
              "      <td>F190132873</td>\n",
              "      <td>2019</td>\n",
              "      <td>12</td>\n",
              "      <td>2019-12-17 21:17:00</td>\n",
              "    </tr>\n",
              "    <tr>\n",
              "      <th>1667</th>\n",
              "      <td>1308 SENECA ST</td>\n",
              "      <td>Dumpster Fire</td>\n",
              "      <td>2019-12-17T21:24:00.000</td>\n",
              "      <td>47.611732</td>\n",
              "      <td>-122.324132</td>\n",
              "      <td>{'type': 'Point', 'coordinates': [-122.324132,...</td>\n",
              "      <td>F190132878</td>\n",
              "      <td>2019</td>\n",
              "      <td>12</td>\n",
              "      <td>2019-12-17 21:24:00</td>\n",
              "    </tr>\n",
              "    <tr>\n",
              "      <th>1668</th>\n",
              "      <td>801 Spring St</td>\n",
              "      <td>Dumpster Fire</td>\n",
              "      <td>2019-12-17T21:36:00.000</td>\n",
              "      <td>47.608663</td>\n",
              "      <td>-122.329113</td>\n",
              "      <td>{'type': 'Point', 'coordinates': [-122.329113,...</td>\n",
              "      <td>F190132883</td>\n",
              "      <td>2019</td>\n",
              "      <td>12</td>\n",
              "      <td>2019-12-17 21:36:00</td>\n",
              "    </tr>\n",
              "    <tr>\n",
              "      <th>1669</th>\n",
              "      <td>1000 8th Av</td>\n",
              "      <td>Dumpster Fire</td>\n",
              "      <td>2019-12-17T21:39:00.000</td>\n",
              "      <td>47.607945</td>\n",
              "      <td>-122.328471</td>\n",
              "      <td>{'type': 'Point', 'coordinates': [-122.328471,...</td>\n",
              "      <td>F190132885</td>\n",
              "      <td>2019</td>\n",
              "      <td>12</td>\n",
              "      <td>2019-12-17 21:39:00</td>\n",
              "    </tr>\n",
              "    <tr>\n",
              "      <th>1670</th>\n",
              "      <td>1000 8th Av</td>\n",
              "      <td>Dumpster Fire</td>\n",
              "      <td>2019-12-17T21:41:00.000</td>\n",
              "      <td>47.607945</td>\n",
              "      <td>-122.328471</td>\n",
              "      <td>{'type': 'Point', 'coordinates': [-122.328471,...</td>\n",
              "      <td>F190132888</td>\n",
              "      <td>2019</td>\n",
              "      <td>12</td>\n",
              "      <td>2019-12-17 21:41:00</td>\n",
              "    </tr>\n",
              "    <tr>\n",
              "      <th>1671</th>\n",
              "      <td>211 1st Av S</td>\n",
              "      <td>Dumpster Fire</td>\n",
              "      <td>2019-12-17T22:28:00.000</td>\n",
              "      <td>47.600788</td>\n",
              "      <td>-122.334182</td>\n",
              "      <td>{'type': 'Point', 'coordinates': [-122.334182,...</td>\n",
              "      <td>F190132896</td>\n",
              "      <td>2019</td>\n",
              "      <td>12</td>\n",
              "      <td>2019-12-17 22:28:00</td>\n",
              "    </tr>\n",
              "    <tr>\n",
              "      <th>1672</th>\n",
              "      <td>2nd Av S / S Jackson St</td>\n",
              "      <td>Dumpster Fire</td>\n",
              "      <td>2019-12-17T22:37:00.000</td>\n",
              "      <td>47.599201</td>\n",
              "      <td>-122.331578</td>\n",
              "      <td>{'type': 'Point', 'coordinates': [-122.331578,...</td>\n",
              "      <td>F190132898</td>\n",
              "      <td>2019</td>\n",
              "      <td>12</td>\n",
              "      <td>2019-12-17 22:37:00</td>\n",
              "    </tr>\n",
              "    <tr>\n",
              "      <th>1673</th>\n",
              "      <td>85 S Main St</td>\n",
              "      <td>Dumpster Fire</td>\n",
              "      <td>2019-12-17T22:38:00.000</td>\n",
              "      <td>47.600045</td>\n",
              "      <td>-122.334623</td>\n",
              "      <td>{'type': 'Point', 'coordinates': [-122.334623,...</td>\n",
              "      <td>F190132899</td>\n",
              "      <td>2019</td>\n",
              "      <td>12</td>\n",
              "      <td>2019-12-17 22:38:00</td>\n",
              "    </tr>\n",
              "    <tr>\n",
              "      <th>1674</th>\n",
              "      <td>170 11th Av</td>\n",
              "      <td>Dumpster Fire</td>\n",
              "      <td>2019-12-18T00:38:00.000</td>\n",
              "      <td>47.603272</td>\n",
              "      <td>-122.318102</td>\n",
              "      <td>{'type': 'Point', 'coordinates': [-122.318102,...</td>\n",
              "      <td>F190132925</td>\n",
              "      <td>2019</td>\n",
              "      <td>12</td>\n",
              "      <td>2019-12-18 00:38:00</td>\n",
              "    </tr>\n",
              "    <tr>\n",
              "      <th>1675</th>\n",
              "      <td>17TH AV NE / NE 123RD ST</td>\n",
              "      <td>Dumpster Fire</td>\n",
              "      <td>2019-12-19T11:37:00.000</td>\n",
              "      <td>47.717577</td>\n",
              "      <td>-122.309921</td>\n",
              "      <td>{'type': 'Point', 'coordinates': [-122.309921,...</td>\n",
              "      <td>F190133440</td>\n",
              "      <td>2019</td>\n",
              "      <td>12</td>\n",
              "      <td>2019-12-19 11:37:00</td>\n",
              "    </tr>\n",
              "    <tr>\n",
              "      <th>1676</th>\n",
              "      <td>50th Av S / S Thistle St</td>\n",
              "      <td>Dumpster Fire</td>\n",
              "      <td>2019-12-23T17:29:00.000</td>\n",
              "      <td>47.52791</td>\n",
              "      <td>-122.2714</td>\n",
              "      <td>{'type': 'Point', 'coordinates': [-122.2714, 4...</td>\n",
              "      <td>F190135209</td>\n",
              "      <td>2019</td>\n",
              "      <td>12</td>\n",
              "      <td>2019-12-23 17:29:00</td>\n",
              "    </tr>\n",
              "    <tr>\n",
              "      <th>1677</th>\n",
              "      <td>Minor Av / Madison St</td>\n",
              "      <td>Dumpster Fire</td>\n",
              "      <td>2019-12-30T21:00:00.000</td>\n",
              "      <td>47.609802</td>\n",
              "      <td>-122.324029</td>\n",
              "      <td>{'type': 'Point', 'coordinates': [-122.324029,...</td>\n",
              "      <td>F190137639</td>\n",
              "      <td>2019</td>\n",
              "      <td>12</td>\n",
              "      <td>2019-12-30 21:00:00</td>\n",
              "    </tr>\n",
              "  </tbody>\n",
              "</table>\n",
              "</div>"
            ],
            "text/plain": [
              "                       address           type  ... month            date_obj\n",
              "1663              520 2nd Av W  Dumpster Fire  ...    11 2019-11-28 07:19:00\n",
              "1664              515 1st Av W  Dumpster Fire  ...    11 2019-11-28 07:24:00\n",
              "1665           504 E Denny Way  Dumpster Fire  ...    12 2019-12-03 12:26:00\n",
              "1666          1214 Boylston Av  Dumpster Fire  ...    12 2019-12-17 21:17:00\n",
              "1667            1308 SENECA ST  Dumpster Fire  ...    12 2019-12-17 21:24:00\n",
              "1668             801 Spring St  Dumpster Fire  ...    12 2019-12-17 21:36:00\n",
              "1669               1000 8th Av  Dumpster Fire  ...    12 2019-12-17 21:39:00\n",
              "1670               1000 8th Av  Dumpster Fire  ...    12 2019-12-17 21:41:00\n",
              "1671              211 1st Av S  Dumpster Fire  ...    12 2019-12-17 22:28:00\n",
              "1672   2nd Av S / S Jackson St  Dumpster Fire  ...    12 2019-12-17 22:37:00\n",
              "1673              85 S Main St  Dumpster Fire  ...    12 2019-12-17 22:38:00\n",
              "1674               170 11th Av  Dumpster Fire  ...    12 2019-12-18 00:38:00\n",
              "1675  17TH AV NE / NE 123RD ST  Dumpster Fire  ...    12 2019-12-19 11:37:00\n",
              "1676  50th Av S / S Thistle St  Dumpster Fire  ...    12 2019-12-23 17:29:00\n",
              "1677     Minor Av / Madison St  Dumpster Fire  ...    12 2019-12-30 21:00:00\n",
              "\n",
              "[15 rows x 10 columns]"
            ]
          },
          "metadata": {
            "tags": []
          },
          "execution_count": 111
        }
      ]
    },
    {
      "cell_type": "code",
      "metadata": {
        "id": "TA6NJrRjvtPk",
        "colab_type": "code",
        "outputId": "78acddd3-223e-44ec-cd68-8ed1838b3c36",
        "colab": {
          "base_uri": "https://localhost:8080/",
          "height": 411
        }
      },
      "source": [
        "#So I think the next step would be to throw these in a column, and then do a\n",
        "#groupby/ value_count on that column to see if there are any groups that\n",
        "#even come closer to 1666\n",
        "\n",
        "dumpster['calls_within_24h'] = groups\n",
        "dumpster.head()"
      ],
      "execution_count": 112,
      "outputs": [
        {
          "output_type": "execute_result",
          "data": {
            "text/html": [
              "<div>\n",
              "<style scoped>\n",
              "    .dataframe tbody tr th:only-of-type {\n",
              "        vertical-align: middle;\n",
              "    }\n",
              "\n",
              "    .dataframe tbody tr th {\n",
              "        vertical-align: top;\n",
              "    }\n",
              "\n",
              "    .dataframe thead th {\n",
              "        text-align: right;\n",
              "    }\n",
              "</style>\n",
              "<table border=\"1\" class=\"dataframe\">\n",
              "  <thead>\n",
              "    <tr style=\"text-align: right;\">\n",
              "      <th></th>\n",
              "      <th>address</th>\n",
              "      <th>type</th>\n",
              "      <th>datetime</th>\n",
              "      <th>latitude</th>\n",
              "      <th>longitude</th>\n",
              "      <th>report_location</th>\n",
              "      <th>incident_number</th>\n",
              "      <th>year</th>\n",
              "      <th>month</th>\n",
              "      <th>date_obj</th>\n",
              "      <th>calls_within_24h</th>\n",
              "    </tr>\n",
              "  </thead>\n",
              "  <tbody>\n",
              "    <tr>\n",
              "      <th>0</th>\n",
              "      <td>747 Broadway</td>\n",
              "      <td>Dumpster Fire</td>\n",
              "      <td>2003-11-10T15:43:04.000</td>\n",
              "      <td>47.608621</td>\n",
              "      <td>-122.320756</td>\n",
              "      <td>{'type': 'Point', 'coordinates': [-122.320756,...</td>\n",
              "      <td>F030082401</td>\n",
              "      <td>2003</td>\n",
              "      <td>11</td>\n",
              "      <td>2003-11-10 15:43:04</td>\n",
              "      <td>0</td>\n",
              "    </tr>\n",
              "    <tr>\n",
              "      <th>1</th>\n",
              "      <td>32nd Av E / E Madison St</td>\n",
              "      <td>Dumpster Fire</td>\n",
              "      <td>2003-11-14T23:45:39.000</td>\n",
              "      <td>47.627040</td>\n",
              "      <td>-122.290929</td>\n",
              "      <td>{'type': 'Point', 'coordinates': [-122.290929,...</td>\n",
              "      <td>F030083954</td>\n",
              "      <td>2003</td>\n",
              "      <td>11</td>\n",
              "      <td>2003-11-14 23:45:39</td>\n",
              "      <td>0</td>\n",
              "    </tr>\n",
              "    <tr>\n",
              "      <th>2</th>\n",
              "      <td>6TH AV / PIKE ST</td>\n",
              "      <td>Dumpster Fire</td>\n",
              "      <td>2003-11-18T09:10:42.000</td>\n",
              "      <td>47.611142</td>\n",
              "      <td>-122.334464</td>\n",
              "      <td>{'type': 'Point', 'coordinates': [-122.334464,...</td>\n",
              "      <td>F030085104</td>\n",
              "      <td>2003</td>\n",
              "      <td>11</td>\n",
              "      <td>2003-11-18 09:10:42</td>\n",
              "      <td>2</td>\n",
              "    </tr>\n",
              "    <tr>\n",
              "      <th>3</th>\n",
              "      <td>6th Av / Pike St</td>\n",
              "      <td>Dumpster Fire</td>\n",
              "      <td>2003-11-18T09:10:57.000</td>\n",
              "      <td>47.611142</td>\n",
              "      <td>-122.334464</td>\n",
              "      <td>{'type': 'Point', 'coordinates': [-122.334464,...</td>\n",
              "      <td>F030085103</td>\n",
              "      <td>2003</td>\n",
              "      <td>11</td>\n",
              "      <td>2003-11-18 09:10:57</td>\n",
              "      <td>2</td>\n",
              "    </tr>\n",
              "    <tr>\n",
              "      <th>4</th>\n",
              "      <td>Stone Way N / N 45th St</td>\n",
              "      <td>Dumpster Fire</td>\n",
              "      <td>2003-11-18T15:38:25.000</td>\n",
              "      <td>47.661385</td>\n",
              "      <td>-122.342145</td>\n",
              "      <td>{'type': 'Point', 'coordinates': [-122.342145,...</td>\n",
              "      <td>F030085264</td>\n",
              "      <td>2003</td>\n",
              "      <td>11</td>\n",
              "      <td>2003-11-18 15:38:25</td>\n",
              "      <td>2</td>\n",
              "    </tr>\n",
              "  </tbody>\n",
              "</table>\n",
              "</div>"
            ],
            "text/plain": [
              "                    address  ... calls_within_24h\n",
              "0              747 Broadway  ...                0\n",
              "1  32nd Av E / E Madison St  ...                0\n",
              "2          6TH AV / PIKE ST  ...                2\n",
              "3          6th Av / Pike St  ...                2\n",
              "4   Stone Way N / N 45th St  ...                2\n",
              "\n",
              "[5 rows x 11 columns]"
            ]
          },
          "metadata": {
            "tags": []
          },
          "execution_count": 112
        }
      ]
    },
    {
      "cell_type": "code",
      "metadata": {
        "id": "tWfS5z84ThIC",
        "colab_type": "code",
        "outputId": "b28d1dc6-6b3b-4708-9f56-ea773af96c56",
        "colab": {
          "base_uri": "https://localhost:8080/",
          "height": 221
        }
      },
      "source": [
        "dumpster['calls_within_24h'].value_counts()"
      ],
      "execution_count": 113,
      "outputs": [
        {
          "output_type": "execute_result",
          "data": {
            "text/plain": [
              "0       849\n",
              "1666      9\n",
              "579       8\n",
              "188       7\n",
              "1621      6\n",
              "       ... \n",
              "1065      2\n",
              "1067      2\n",
              "1070      2\n",
              "1075      2\n",
              "872       2\n",
              "Name: calls_within_24h, Length: 355, dtype: int64"
            ]
          },
          "metadata": {
            "tags": []
          },
          "execution_count": 113
        }
      ]
    },
    {
      "cell_type": "code",
      "metadata": {
        "id": "Fa117vfK1gN7",
        "colab_type": "code",
        "outputId": "e3c8b450-11e1-4def-8d40-19aa2a9dc69a",
        "colab": {
          "base_uri": "https://localhost:8080/",
          "height": 187
        }
      },
      "source": [
        "dumpster['calls_within_24h'].value_counts().value_counts()"
      ],
      "execution_count": 114,
      "outputs": [
        {
          "output_type": "execute_result",
          "data": {
            "text/plain": [
              "2      273\n",
              "3       57\n",
              "4       18\n",
              "5        2\n",
              "849      1\n",
              "9        1\n",
              "8        1\n",
              "7        1\n",
              "6        1\n",
              "Name: calls_within_24h, dtype: int64"
            ]
          },
          "metadata": {
            "tags": []
          },
          "execution_count": 114
        }
      ]
    },
    {
      "cell_type": "code",
      "metadata": {
        "id": "N1ja1mxw1mFk",
        "colab_type": "code",
        "outputId": "773a1030-d7cf-491a-b6c8-94458f83c319",
        "colab": {
          "base_uri": "https://localhost:8080/",
          "height": 328
        }
      },
      "source": [
        "#this might make an interesting graph. \n",
        "call_groups = pd.DataFrame(dumpster['calls_within_24h'].value_counts().value_counts())\n",
        "\n",
        "call_groups"
      ],
      "execution_count": 115,
      "outputs": [
        {
          "output_type": "execute_result",
          "data": {
            "text/html": [
              "<div>\n",
              "<style scoped>\n",
              "    .dataframe tbody tr th:only-of-type {\n",
              "        vertical-align: middle;\n",
              "    }\n",
              "\n",
              "    .dataframe tbody tr th {\n",
              "        vertical-align: top;\n",
              "    }\n",
              "\n",
              "    .dataframe thead th {\n",
              "        text-align: right;\n",
              "    }\n",
              "</style>\n",
              "<table border=\"1\" class=\"dataframe\">\n",
              "  <thead>\n",
              "    <tr style=\"text-align: right;\">\n",
              "      <th></th>\n",
              "      <th>calls_within_24h</th>\n",
              "    </tr>\n",
              "  </thead>\n",
              "  <tbody>\n",
              "    <tr>\n",
              "      <th>2</th>\n",
              "      <td>273</td>\n",
              "    </tr>\n",
              "    <tr>\n",
              "      <th>3</th>\n",
              "      <td>57</td>\n",
              "    </tr>\n",
              "    <tr>\n",
              "      <th>4</th>\n",
              "      <td>18</td>\n",
              "    </tr>\n",
              "    <tr>\n",
              "      <th>5</th>\n",
              "      <td>2</td>\n",
              "    </tr>\n",
              "    <tr>\n",
              "      <th>849</th>\n",
              "      <td>1</td>\n",
              "    </tr>\n",
              "    <tr>\n",
              "      <th>9</th>\n",
              "      <td>1</td>\n",
              "    </tr>\n",
              "    <tr>\n",
              "      <th>8</th>\n",
              "      <td>1</td>\n",
              "    </tr>\n",
              "    <tr>\n",
              "      <th>7</th>\n",
              "      <td>1</td>\n",
              "    </tr>\n",
              "    <tr>\n",
              "      <th>6</th>\n",
              "      <td>1</td>\n",
              "    </tr>\n",
              "  </tbody>\n",
              "</table>\n",
              "</div>"
            ],
            "text/plain": [
              "     calls_within_24h\n",
              "2                 273\n",
              "3                  57\n",
              "4                  18\n",
              "5                   2\n",
              "849                 1\n",
              "9                   1\n",
              "8                   1\n",
              "7                   1\n",
              "6                   1"
            ]
          },
          "metadata": {
            "tags": []
          },
          "execution_count": 115
        }
      ]
    },
    {
      "cell_type": "code",
      "metadata": {
        "id": "BYi1EKdwOkbY",
        "colab_type": "code",
        "colab": {}
      },
      "source": [
        "call_groups.reset_index(inplace = True)"
      ],
      "execution_count": 0,
      "outputs": []
    },
    {
      "cell_type": "code",
      "metadata": {
        "id": "ciygckbiPqH5",
        "colab_type": "code",
        "colab": {}
      },
      "source": [
        "call_groups.columns = ['Number of calls within 24 hours', 'Occurences']"
      ],
      "execution_count": 0,
      "outputs": []
    },
    {
      "cell_type": "code",
      "metadata": {
        "id": "sqd8INGZQhiO",
        "colab_type": "code",
        "outputId": "5b357e05-14b1-431f-ae8c-28e4fb44bd40",
        "colab": {
          "base_uri": "https://localhost:8080/",
          "height": 328
        }
      },
      "source": [
        "#for sake of time I'm working with this, rather than modifying my original\n",
        "#grouping code.\n",
        "#okay index 4 is a little wonky, because of the way I named them. I'll explain\n",
        "#whats going on as a justification for this manual edit.  Since I only labeled\n",
        "#calls that were within 24 hours of each other, it calls with greater than 24hs\n",
        "#as labeled 0, then when we counted it counted one group of 849 calls.  Instead\n",
        "#of removing or not counting them.  So then when I did the second value count\n",
        "# (to find how many occurences of each call group) it counted it as one group\n",
        "#instead of as individual occurences.  So what this should be is the number\n",
        "#of calls within a 24 hour period, and we should have the most occurences for\n",
        "#single calls within 24 hours.  For now I'll say that is justification enough\n",
        "#to modify this line directly\n",
        "\n",
        "num = call_groups['Number of calls within 24 hours'].iloc[4]\n",
        "call_groups['Number of calls within 24 hours'].iloc[4] = 1\n",
        "\n",
        "call_groups['Occurences'].iloc[4] = num\n",
        "call_groups"
      ],
      "execution_count": 118,
      "outputs": [
        {
          "output_type": "execute_result",
          "data": {
            "text/html": [
              "<div>\n",
              "<style scoped>\n",
              "    .dataframe tbody tr th:only-of-type {\n",
              "        vertical-align: middle;\n",
              "    }\n",
              "\n",
              "    .dataframe tbody tr th {\n",
              "        vertical-align: top;\n",
              "    }\n",
              "\n",
              "    .dataframe thead th {\n",
              "        text-align: right;\n",
              "    }\n",
              "</style>\n",
              "<table border=\"1\" class=\"dataframe\">\n",
              "  <thead>\n",
              "    <tr style=\"text-align: right;\">\n",
              "      <th></th>\n",
              "      <th>Number of calls within 24 hours</th>\n",
              "      <th>Occurences</th>\n",
              "    </tr>\n",
              "  </thead>\n",
              "  <tbody>\n",
              "    <tr>\n",
              "      <th>0</th>\n",
              "      <td>2</td>\n",
              "      <td>273</td>\n",
              "    </tr>\n",
              "    <tr>\n",
              "      <th>1</th>\n",
              "      <td>3</td>\n",
              "      <td>57</td>\n",
              "    </tr>\n",
              "    <tr>\n",
              "      <th>2</th>\n",
              "      <td>4</td>\n",
              "      <td>18</td>\n",
              "    </tr>\n",
              "    <tr>\n",
              "      <th>3</th>\n",
              "      <td>5</td>\n",
              "      <td>2</td>\n",
              "    </tr>\n",
              "    <tr>\n",
              "      <th>4</th>\n",
              "      <td>1</td>\n",
              "      <td>849</td>\n",
              "    </tr>\n",
              "    <tr>\n",
              "      <th>5</th>\n",
              "      <td>9</td>\n",
              "      <td>1</td>\n",
              "    </tr>\n",
              "    <tr>\n",
              "      <th>6</th>\n",
              "      <td>8</td>\n",
              "      <td>1</td>\n",
              "    </tr>\n",
              "    <tr>\n",
              "      <th>7</th>\n",
              "      <td>7</td>\n",
              "      <td>1</td>\n",
              "    </tr>\n",
              "    <tr>\n",
              "      <th>8</th>\n",
              "      <td>6</td>\n",
              "      <td>1</td>\n",
              "    </tr>\n",
              "  </tbody>\n",
              "</table>\n",
              "</div>"
            ],
            "text/plain": [
              "   Number of calls within 24 hours  Occurences\n",
              "0                                2         273\n",
              "1                                3          57\n",
              "2                                4          18\n",
              "3                                5           2\n",
              "4                                1         849\n",
              "5                                9           1\n",
              "6                                8           1\n",
              "7                                7           1\n",
              "8                                6           1"
            ]
          },
          "metadata": {
            "tags": []
          },
          "execution_count": 118
        }
      ]
    },
    {
      "cell_type": "code",
      "metadata": {
        "id": "WJJ804u6an3F",
        "colab_type": "code",
        "outputId": "633b9aec-c334-4447-9d14-363a3f0e37b7",
        "colab": {
          "base_uri": "https://localhost:8080/",
          "height": 542
        }
      },
      "source": [
        "fig = px.bar(call_groups, x = 'Number of calls within 24 hours', y = 'Occurences')\n",
        "fig.update_xaxes(tickmode = 'linear')\n",
        "fig.show()"
      ],
      "execution_count": 119,
      "outputs": [
        {
          "output_type": "display_data",
          "data": {
            "text/html": [
              "<html>\n",
              "<head><meta charset=\"utf-8\" /></head>\n",
              "<body>\n",
              "    <div>\n",
              "            <script src=\"https://cdnjs.cloudflare.com/ajax/libs/mathjax/2.7.5/MathJax.js?config=TeX-AMS-MML_SVG\"></script><script type=\"text/javascript\">if (window.MathJax) {MathJax.Hub.Config({SVG: {font: \"STIX-Web\"}});}</script>\n",
              "                <script type=\"text/javascript\">window.PlotlyConfig = {MathJaxConfig: 'local'};</script>\n",
              "        <script src=\"https://cdn.plot.ly/plotly-latest.min.js\"></script>    \n",
              "            <div id=\"ddce57e2-5abc-4179-a195-f1e9f295fd35\" class=\"plotly-graph-div\" style=\"height:525px; width:100%;\"></div>\n",
              "            <script type=\"text/javascript\">\n",
              "                \n",
              "                    window.PLOTLYENV=window.PLOTLYENV || {};\n",
              "                    \n",
              "                if (document.getElementById(\"ddce57e2-5abc-4179-a195-f1e9f295fd35\")) {\n",
              "                    Plotly.newPlot(\n",
              "                        'ddce57e2-5abc-4179-a195-f1e9f295fd35',\n",
              "                        [{\"alignmentgroup\": \"True\", \"hoverlabel\": {\"namelength\": 0}, \"hovertemplate\": \"Number of calls within 24 hours=%{x}<br>Occurences=%{y}\", \"legendgroup\": \"\", \"marker\": {\"color\": \"#636efa\"}, \"name\": \"\", \"offsetgroup\": \"\", \"orientation\": \"v\", \"showlegend\": false, \"textposition\": \"auto\", \"type\": \"bar\", \"x\": [2, 3, 4, 5, 1, 9, 8, 7, 6], \"xaxis\": \"x\", \"y\": [273, 57, 18, 2, 849, 1, 1, 1, 1], \"yaxis\": \"y\"}],\n",
              "                        {\"barmode\": \"relative\", \"legend\": {\"tracegroupgap\": 0}, \"margin\": {\"t\": 60}, \"template\": {\"data\": {\"bar\": [{\"error_x\": {\"color\": \"#2a3f5f\"}, \"error_y\": {\"color\": \"#2a3f5f\"}, \"marker\": {\"line\": {\"color\": \"#E5ECF6\", \"width\": 0.5}}, \"type\": \"bar\"}], \"barpolar\": [{\"marker\": {\"line\": {\"color\": \"#E5ECF6\", \"width\": 0.5}}, \"type\": \"barpolar\"}], \"carpet\": [{\"aaxis\": {\"endlinecolor\": \"#2a3f5f\", \"gridcolor\": \"white\", \"linecolor\": \"white\", \"minorgridcolor\": \"white\", \"startlinecolor\": \"#2a3f5f\"}, \"baxis\": {\"endlinecolor\": \"#2a3f5f\", \"gridcolor\": \"white\", \"linecolor\": \"white\", \"minorgridcolor\": \"white\", \"startlinecolor\": \"#2a3f5f\"}, \"type\": \"carpet\"}], \"choropleth\": [{\"colorbar\": {\"outlinewidth\": 0, \"ticks\": \"\"}, \"type\": \"choropleth\"}], \"contour\": [{\"colorbar\": {\"outlinewidth\": 0, \"ticks\": \"\"}, \"colorscale\": [[0.0, \"#0d0887\"], [0.1111111111111111, \"#46039f\"], [0.2222222222222222, \"#7201a8\"], [0.3333333333333333, \"#9c179e\"], [0.4444444444444444, \"#bd3786\"], [0.5555555555555556, \"#d8576b\"], [0.6666666666666666, \"#ed7953\"], [0.7777777777777778, \"#fb9f3a\"], [0.8888888888888888, \"#fdca26\"], [1.0, \"#f0f921\"]], \"type\": \"contour\"}], \"contourcarpet\": [{\"colorbar\": {\"outlinewidth\": 0, \"ticks\": \"\"}, \"type\": \"contourcarpet\"}], \"heatmap\": [{\"colorbar\": {\"outlinewidth\": 0, \"ticks\": \"\"}, \"colorscale\": [[0.0, \"#0d0887\"], [0.1111111111111111, \"#46039f\"], [0.2222222222222222, \"#7201a8\"], [0.3333333333333333, \"#9c179e\"], [0.4444444444444444, \"#bd3786\"], [0.5555555555555556, \"#d8576b\"], [0.6666666666666666, \"#ed7953\"], [0.7777777777777778, \"#fb9f3a\"], [0.8888888888888888, \"#fdca26\"], [1.0, \"#f0f921\"]], \"type\": \"heatmap\"}], \"heatmapgl\": [{\"colorbar\": {\"outlinewidth\": 0, \"ticks\": \"\"}, \"colorscale\": [[0.0, \"#0d0887\"], [0.1111111111111111, \"#46039f\"], [0.2222222222222222, \"#7201a8\"], [0.3333333333333333, \"#9c179e\"], [0.4444444444444444, \"#bd3786\"], [0.5555555555555556, \"#d8576b\"], [0.6666666666666666, \"#ed7953\"], [0.7777777777777778, \"#fb9f3a\"], [0.8888888888888888, \"#fdca26\"], [1.0, \"#f0f921\"]], \"type\": \"heatmapgl\"}], \"histogram\": [{\"marker\": {\"colorbar\": {\"outlinewidth\": 0, \"ticks\": \"\"}}, \"type\": \"histogram\"}], \"histogram2d\": [{\"colorbar\": {\"outlinewidth\": 0, \"ticks\": \"\"}, \"colorscale\": [[0.0, \"#0d0887\"], [0.1111111111111111, \"#46039f\"], [0.2222222222222222, \"#7201a8\"], [0.3333333333333333, \"#9c179e\"], [0.4444444444444444, \"#bd3786\"], [0.5555555555555556, \"#d8576b\"], [0.6666666666666666, \"#ed7953\"], [0.7777777777777778, \"#fb9f3a\"], [0.8888888888888888, \"#fdca26\"], [1.0, \"#f0f921\"]], \"type\": \"histogram2d\"}], \"histogram2dcontour\": [{\"colorbar\": {\"outlinewidth\": 0, \"ticks\": \"\"}, \"colorscale\": [[0.0, \"#0d0887\"], [0.1111111111111111, \"#46039f\"], [0.2222222222222222, \"#7201a8\"], [0.3333333333333333, \"#9c179e\"], [0.4444444444444444, \"#bd3786\"], [0.5555555555555556, \"#d8576b\"], [0.6666666666666666, \"#ed7953\"], [0.7777777777777778, \"#fb9f3a\"], [0.8888888888888888, \"#fdca26\"], [1.0, \"#f0f921\"]], \"type\": \"histogram2dcontour\"}], \"mesh3d\": [{\"colorbar\": {\"outlinewidth\": 0, \"ticks\": \"\"}, \"type\": \"mesh3d\"}], \"parcoords\": [{\"line\": {\"colorbar\": {\"outlinewidth\": 0, \"ticks\": \"\"}}, \"type\": \"parcoords\"}], \"pie\": [{\"automargin\": true, \"type\": \"pie\"}], \"scatter\": [{\"marker\": {\"colorbar\": {\"outlinewidth\": 0, \"ticks\": \"\"}}, \"type\": \"scatter\"}], \"scatter3d\": [{\"line\": {\"colorbar\": {\"outlinewidth\": 0, \"ticks\": \"\"}}, \"marker\": {\"colorbar\": {\"outlinewidth\": 0, \"ticks\": \"\"}}, \"type\": \"scatter3d\"}], \"scattercarpet\": [{\"marker\": {\"colorbar\": {\"outlinewidth\": 0, \"ticks\": \"\"}}, \"type\": \"scattercarpet\"}], \"scattergeo\": [{\"marker\": {\"colorbar\": {\"outlinewidth\": 0, \"ticks\": \"\"}}, \"type\": \"scattergeo\"}], \"scattergl\": [{\"marker\": {\"colorbar\": {\"outlinewidth\": 0, \"ticks\": \"\"}}, \"type\": \"scattergl\"}], \"scattermapbox\": [{\"marker\": {\"colorbar\": {\"outlinewidth\": 0, \"ticks\": \"\"}}, \"type\": \"scattermapbox\"}], \"scatterpolar\": [{\"marker\": {\"colorbar\": {\"outlinewidth\": 0, \"ticks\": \"\"}}, \"type\": \"scatterpolar\"}], \"scatterpolargl\": [{\"marker\": {\"colorbar\": {\"outlinewidth\": 0, \"ticks\": \"\"}}, \"type\": \"scatterpolargl\"}], \"scatterternary\": [{\"marker\": {\"colorbar\": {\"outlinewidth\": 0, \"ticks\": \"\"}}, \"type\": \"scatterternary\"}], \"surface\": [{\"colorbar\": {\"outlinewidth\": 0, \"ticks\": \"\"}, \"colorscale\": [[0.0, \"#0d0887\"], [0.1111111111111111, \"#46039f\"], [0.2222222222222222, \"#7201a8\"], [0.3333333333333333, \"#9c179e\"], [0.4444444444444444, \"#bd3786\"], [0.5555555555555556, \"#d8576b\"], [0.6666666666666666, \"#ed7953\"], [0.7777777777777778, \"#fb9f3a\"], [0.8888888888888888, \"#fdca26\"], [1.0, \"#f0f921\"]], \"type\": \"surface\"}], \"table\": [{\"cells\": {\"fill\": {\"color\": \"#EBF0F8\"}, \"line\": {\"color\": \"white\"}}, \"header\": {\"fill\": {\"color\": \"#C8D4E3\"}, \"line\": {\"color\": \"white\"}}, \"type\": \"table\"}]}, \"layout\": {\"annotationdefaults\": {\"arrowcolor\": \"#2a3f5f\", \"arrowhead\": 0, \"arrowwidth\": 1}, \"coloraxis\": {\"colorbar\": {\"outlinewidth\": 0, \"ticks\": \"\"}}, \"colorscale\": {\"diverging\": [[0, \"#8e0152\"], [0.1, \"#c51b7d\"], [0.2, \"#de77ae\"], [0.3, \"#f1b6da\"], [0.4, \"#fde0ef\"], [0.5, \"#f7f7f7\"], [0.6, \"#e6f5d0\"], [0.7, \"#b8e186\"], [0.8, \"#7fbc41\"], [0.9, \"#4d9221\"], [1, \"#276419\"]], \"sequential\": [[0.0, \"#0d0887\"], [0.1111111111111111, \"#46039f\"], [0.2222222222222222, \"#7201a8\"], [0.3333333333333333, \"#9c179e\"], [0.4444444444444444, \"#bd3786\"], [0.5555555555555556, \"#d8576b\"], [0.6666666666666666, \"#ed7953\"], [0.7777777777777778, \"#fb9f3a\"], [0.8888888888888888, \"#fdca26\"], [1.0, \"#f0f921\"]], \"sequentialminus\": [[0.0, \"#0d0887\"], [0.1111111111111111, \"#46039f\"], [0.2222222222222222, \"#7201a8\"], [0.3333333333333333, \"#9c179e\"], [0.4444444444444444, \"#bd3786\"], [0.5555555555555556, \"#d8576b\"], [0.6666666666666666, \"#ed7953\"], [0.7777777777777778, \"#fb9f3a\"], [0.8888888888888888, \"#fdca26\"], [1.0, \"#f0f921\"]]}, \"colorway\": [\"#636efa\", \"#EF553B\", \"#00cc96\", \"#ab63fa\", \"#FFA15A\", \"#19d3f3\", \"#FF6692\", \"#B6E880\", \"#FF97FF\", \"#FECB52\"], \"font\": {\"color\": \"#2a3f5f\"}, \"geo\": {\"bgcolor\": \"white\", \"lakecolor\": \"white\", \"landcolor\": \"#E5ECF6\", \"showlakes\": true, \"showland\": true, \"subunitcolor\": \"white\"}, \"hoverlabel\": {\"align\": \"left\"}, \"hovermode\": \"closest\", \"mapbox\": {\"style\": \"light\"}, \"paper_bgcolor\": \"white\", \"plot_bgcolor\": \"#E5ECF6\", \"polar\": {\"angularaxis\": {\"gridcolor\": \"white\", \"linecolor\": \"white\", \"ticks\": \"\"}, \"bgcolor\": \"#E5ECF6\", \"radialaxis\": {\"gridcolor\": \"white\", \"linecolor\": \"white\", \"ticks\": \"\"}}, \"scene\": {\"xaxis\": {\"backgroundcolor\": \"#E5ECF6\", \"gridcolor\": \"white\", \"gridwidth\": 2, \"linecolor\": \"white\", \"showbackground\": true, \"ticks\": \"\", \"zerolinecolor\": \"white\"}, \"yaxis\": {\"backgroundcolor\": \"#E5ECF6\", \"gridcolor\": \"white\", \"gridwidth\": 2, \"linecolor\": \"white\", \"showbackground\": true, \"ticks\": \"\", \"zerolinecolor\": \"white\"}, \"zaxis\": {\"backgroundcolor\": \"#E5ECF6\", \"gridcolor\": \"white\", \"gridwidth\": 2, \"linecolor\": \"white\", \"showbackground\": true, \"ticks\": \"\", \"zerolinecolor\": \"white\"}}, \"shapedefaults\": {\"line\": {\"color\": \"#2a3f5f\"}}, \"ternary\": {\"aaxis\": {\"gridcolor\": \"white\", \"linecolor\": \"white\", \"ticks\": \"\"}, \"baxis\": {\"gridcolor\": \"white\", \"linecolor\": \"white\", \"ticks\": \"\"}, \"bgcolor\": \"#E5ECF6\", \"caxis\": {\"gridcolor\": \"white\", \"linecolor\": \"white\", \"ticks\": \"\"}}, \"title\": {\"x\": 0.05}, \"xaxis\": {\"automargin\": true, \"gridcolor\": \"white\", \"linecolor\": \"white\", \"ticks\": \"\", \"title\": {\"standoff\": 15}, \"zerolinecolor\": \"white\", \"zerolinewidth\": 2}, \"yaxis\": {\"automargin\": true, \"gridcolor\": \"white\", \"linecolor\": \"white\", \"ticks\": \"\", \"title\": {\"standoff\": 15}, \"zerolinecolor\": \"white\", \"zerolinewidth\": 2}}}, \"xaxis\": {\"anchor\": \"y\", \"domain\": [0.0, 1.0], \"tickmode\": \"linear\", \"title\": {\"text\": \"Number of calls within 24 hours\"}}, \"yaxis\": {\"anchor\": \"x\", \"domain\": [0.0, 1.0], \"title\": {\"text\": \"Occurences\"}}},\n",
              "                        {\"responsive\": true}\n",
              "                    ).then(function(){\n",
              "                            \n",
              "var gd = document.getElementById('ddce57e2-5abc-4179-a195-f1e9f295fd35');\n",
              "var x = new MutationObserver(function (mutations, observer) {{\n",
              "        var display = window.getComputedStyle(gd).display;\n",
              "        if (!display || display === 'none') {{\n",
              "            console.log([gd, 'removed!']);\n",
              "            Plotly.purge(gd);\n",
              "            observer.disconnect();\n",
              "        }}\n",
              "}});\n",
              "\n",
              "// Listen for the removal of the full notebook cells\n",
              "var notebookContainer = gd.closest('#notebook-container');\n",
              "if (notebookContainer) {{\n",
              "    x.observe(notebookContainer, {childList: true});\n",
              "}}\n",
              "\n",
              "// Listen for the clearing of the current output cell\n",
              "var outputEl = gd.closest('.output');\n",
              "if (outputEl) {{\n",
              "    x.observe(outputEl, {childList: true});\n",
              "}}\n",
              "\n",
              "                        })\n",
              "                };\n",
              "                \n",
              "            </script>\n",
              "        </div>\n",
              "</body>\n",
              "</html>"
            ]
          },
          "metadata": {
            "tags": []
          }
        }
      ]
    },
    {
      "cell_type": "code",
      "metadata": {
        "id": "hOGF2BtEcMjv",
        "colab_type": "code",
        "outputId": "10fbfca3-22e7-456b-ac3e-f7d916b8b2fc",
        "colab": {
          "base_uri": "https://localhost:8080/",
          "height": 542
        }
      },
      "source": [
        "fig = px.bar(call_groups.drop(4, axis = 0), x = 'Number of calls within 24 hours', y = 'Occurences')\n",
        "fig.update_xaxes(tickmode = 'linear')\n",
        "fig.show()"
      ],
      "execution_count": 120,
      "outputs": [
        {
          "output_type": "display_data",
          "data": {
            "text/html": [
              "<html>\n",
              "<head><meta charset=\"utf-8\" /></head>\n",
              "<body>\n",
              "    <div>\n",
              "            <script src=\"https://cdnjs.cloudflare.com/ajax/libs/mathjax/2.7.5/MathJax.js?config=TeX-AMS-MML_SVG\"></script><script type=\"text/javascript\">if (window.MathJax) {MathJax.Hub.Config({SVG: {font: \"STIX-Web\"}});}</script>\n",
              "                <script type=\"text/javascript\">window.PlotlyConfig = {MathJaxConfig: 'local'};</script>\n",
              "        <script src=\"https://cdn.plot.ly/plotly-latest.min.js\"></script>    \n",
              "            <div id=\"73c69991-b5a2-4611-be39-f84122b3ae8f\" class=\"plotly-graph-div\" style=\"height:525px; width:100%;\"></div>\n",
              "            <script type=\"text/javascript\">\n",
              "                \n",
              "                    window.PLOTLYENV=window.PLOTLYENV || {};\n",
              "                    \n",
              "                if (document.getElementById(\"73c69991-b5a2-4611-be39-f84122b3ae8f\")) {\n",
              "                    Plotly.newPlot(\n",
              "                        '73c69991-b5a2-4611-be39-f84122b3ae8f',\n",
              "                        [{\"alignmentgroup\": \"True\", \"hoverlabel\": {\"namelength\": 0}, \"hovertemplate\": \"Number of calls within 24 hours=%{x}<br>Occurences=%{y}\", \"legendgroup\": \"\", \"marker\": {\"color\": \"#636efa\"}, \"name\": \"\", \"offsetgroup\": \"\", \"orientation\": \"v\", \"showlegend\": false, \"textposition\": \"auto\", \"type\": \"bar\", \"x\": [2, 3, 4, 5, 9, 8, 7, 6], \"xaxis\": \"x\", \"y\": [273, 57, 18, 2, 1, 1, 1, 1], \"yaxis\": \"y\"}],\n",
              "                        {\"barmode\": \"relative\", \"legend\": {\"tracegroupgap\": 0}, \"margin\": {\"t\": 60}, \"template\": {\"data\": {\"bar\": [{\"error_x\": {\"color\": \"#2a3f5f\"}, \"error_y\": {\"color\": \"#2a3f5f\"}, \"marker\": {\"line\": {\"color\": \"#E5ECF6\", \"width\": 0.5}}, \"type\": \"bar\"}], \"barpolar\": [{\"marker\": {\"line\": {\"color\": \"#E5ECF6\", \"width\": 0.5}}, \"type\": \"barpolar\"}], \"carpet\": [{\"aaxis\": {\"endlinecolor\": \"#2a3f5f\", \"gridcolor\": \"white\", \"linecolor\": \"white\", \"minorgridcolor\": \"white\", \"startlinecolor\": \"#2a3f5f\"}, \"baxis\": {\"endlinecolor\": \"#2a3f5f\", \"gridcolor\": \"white\", \"linecolor\": \"white\", \"minorgridcolor\": \"white\", \"startlinecolor\": \"#2a3f5f\"}, \"type\": \"carpet\"}], \"choropleth\": [{\"colorbar\": {\"outlinewidth\": 0, \"ticks\": \"\"}, \"type\": \"choropleth\"}], \"contour\": [{\"colorbar\": {\"outlinewidth\": 0, \"ticks\": \"\"}, \"colorscale\": [[0.0, \"#0d0887\"], [0.1111111111111111, \"#46039f\"], [0.2222222222222222, \"#7201a8\"], [0.3333333333333333, \"#9c179e\"], [0.4444444444444444, \"#bd3786\"], [0.5555555555555556, \"#d8576b\"], [0.6666666666666666, \"#ed7953\"], [0.7777777777777778, \"#fb9f3a\"], [0.8888888888888888, \"#fdca26\"], [1.0, \"#f0f921\"]], \"type\": \"contour\"}], \"contourcarpet\": [{\"colorbar\": {\"outlinewidth\": 0, \"ticks\": \"\"}, \"type\": \"contourcarpet\"}], \"heatmap\": [{\"colorbar\": {\"outlinewidth\": 0, \"ticks\": \"\"}, \"colorscale\": [[0.0, \"#0d0887\"], [0.1111111111111111, \"#46039f\"], [0.2222222222222222, \"#7201a8\"], [0.3333333333333333, \"#9c179e\"], [0.4444444444444444, \"#bd3786\"], [0.5555555555555556, \"#d8576b\"], [0.6666666666666666, \"#ed7953\"], [0.7777777777777778, \"#fb9f3a\"], [0.8888888888888888, \"#fdca26\"], [1.0, \"#f0f921\"]], \"type\": \"heatmap\"}], \"heatmapgl\": [{\"colorbar\": {\"outlinewidth\": 0, \"ticks\": \"\"}, \"colorscale\": [[0.0, \"#0d0887\"], [0.1111111111111111, \"#46039f\"], [0.2222222222222222, \"#7201a8\"], [0.3333333333333333, \"#9c179e\"], [0.4444444444444444, \"#bd3786\"], [0.5555555555555556, \"#d8576b\"], [0.6666666666666666, \"#ed7953\"], [0.7777777777777778, \"#fb9f3a\"], [0.8888888888888888, \"#fdca26\"], [1.0, \"#f0f921\"]], \"type\": \"heatmapgl\"}], \"histogram\": [{\"marker\": {\"colorbar\": {\"outlinewidth\": 0, \"ticks\": \"\"}}, \"type\": \"histogram\"}], \"histogram2d\": [{\"colorbar\": {\"outlinewidth\": 0, \"ticks\": \"\"}, \"colorscale\": [[0.0, \"#0d0887\"], [0.1111111111111111, \"#46039f\"], [0.2222222222222222, \"#7201a8\"], [0.3333333333333333, \"#9c179e\"], [0.4444444444444444, \"#bd3786\"], [0.5555555555555556, \"#d8576b\"], [0.6666666666666666, \"#ed7953\"], [0.7777777777777778, \"#fb9f3a\"], [0.8888888888888888, \"#fdca26\"], [1.0, \"#f0f921\"]], \"type\": \"histogram2d\"}], \"histogram2dcontour\": [{\"colorbar\": {\"outlinewidth\": 0, \"ticks\": \"\"}, \"colorscale\": [[0.0, \"#0d0887\"], [0.1111111111111111, \"#46039f\"], [0.2222222222222222, \"#7201a8\"], [0.3333333333333333, \"#9c179e\"], [0.4444444444444444, \"#bd3786\"], [0.5555555555555556, \"#d8576b\"], [0.6666666666666666, \"#ed7953\"], [0.7777777777777778, \"#fb9f3a\"], [0.8888888888888888, \"#fdca26\"], [1.0, \"#f0f921\"]], \"type\": \"histogram2dcontour\"}], \"mesh3d\": [{\"colorbar\": {\"outlinewidth\": 0, \"ticks\": \"\"}, \"type\": \"mesh3d\"}], \"parcoords\": [{\"line\": {\"colorbar\": {\"outlinewidth\": 0, \"ticks\": \"\"}}, \"type\": \"parcoords\"}], \"pie\": [{\"automargin\": true, \"type\": \"pie\"}], \"scatter\": [{\"marker\": {\"colorbar\": {\"outlinewidth\": 0, \"ticks\": \"\"}}, \"type\": \"scatter\"}], \"scatter3d\": [{\"line\": {\"colorbar\": {\"outlinewidth\": 0, \"ticks\": \"\"}}, \"marker\": {\"colorbar\": {\"outlinewidth\": 0, \"ticks\": \"\"}}, \"type\": \"scatter3d\"}], \"scattercarpet\": [{\"marker\": {\"colorbar\": {\"outlinewidth\": 0, \"ticks\": \"\"}}, \"type\": \"scattercarpet\"}], \"scattergeo\": [{\"marker\": {\"colorbar\": {\"outlinewidth\": 0, \"ticks\": \"\"}}, \"type\": \"scattergeo\"}], \"scattergl\": [{\"marker\": {\"colorbar\": {\"outlinewidth\": 0, \"ticks\": \"\"}}, \"type\": \"scattergl\"}], \"scattermapbox\": [{\"marker\": {\"colorbar\": {\"outlinewidth\": 0, \"ticks\": \"\"}}, \"type\": \"scattermapbox\"}], \"scatterpolar\": [{\"marker\": {\"colorbar\": {\"outlinewidth\": 0, \"ticks\": \"\"}}, \"type\": \"scatterpolar\"}], \"scatterpolargl\": [{\"marker\": {\"colorbar\": {\"outlinewidth\": 0, \"ticks\": \"\"}}, \"type\": \"scatterpolargl\"}], \"scatterternary\": [{\"marker\": {\"colorbar\": {\"outlinewidth\": 0, \"ticks\": \"\"}}, \"type\": \"scatterternary\"}], \"surface\": [{\"colorbar\": {\"outlinewidth\": 0, \"ticks\": \"\"}, \"colorscale\": [[0.0, \"#0d0887\"], [0.1111111111111111, \"#46039f\"], [0.2222222222222222, \"#7201a8\"], [0.3333333333333333, \"#9c179e\"], [0.4444444444444444, \"#bd3786\"], [0.5555555555555556, \"#d8576b\"], [0.6666666666666666, \"#ed7953\"], [0.7777777777777778, \"#fb9f3a\"], [0.8888888888888888, \"#fdca26\"], [1.0, \"#f0f921\"]], \"type\": \"surface\"}], \"table\": [{\"cells\": {\"fill\": {\"color\": \"#EBF0F8\"}, \"line\": {\"color\": \"white\"}}, \"header\": {\"fill\": {\"color\": \"#C8D4E3\"}, \"line\": {\"color\": \"white\"}}, \"type\": \"table\"}]}, \"layout\": {\"annotationdefaults\": {\"arrowcolor\": \"#2a3f5f\", \"arrowhead\": 0, \"arrowwidth\": 1}, \"coloraxis\": {\"colorbar\": {\"outlinewidth\": 0, \"ticks\": \"\"}}, \"colorscale\": {\"diverging\": [[0, \"#8e0152\"], [0.1, \"#c51b7d\"], [0.2, \"#de77ae\"], [0.3, \"#f1b6da\"], [0.4, \"#fde0ef\"], [0.5, \"#f7f7f7\"], [0.6, \"#e6f5d0\"], [0.7, \"#b8e186\"], [0.8, \"#7fbc41\"], [0.9, \"#4d9221\"], [1, \"#276419\"]], \"sequential\": [[0.0, \"#0d0887\"], [0.1111111111111111, \"#46039f\"], [0.2222222222222222, \"#7201a8\"], [0.3333333333333333, \"#9c179e\"], [0.4444444444444444, \"#bd3786\"], [0.5555555555555556, \"#d8576b\"], [0.6666666666666666, \"#ed7953\"], [0.7777777777777778, \"#fb9f3a\"], [0.8888888888888888, \"#fdca26\"], [1.0, \"#f0f921\"]], \"sequentialminus\": [[0.0, \"#0d0887\"], [0.1111111111111111, \"#46039f\"], [0.2222222222222222, \"#7201a8\"], [0.3333333333333333, \"#9c179e\"], [0.4444444444444444, \"#bd3786\"], [0.5555555555555556, \"#d8576b\"], [0.6666666666666666, \"#ed7953\"], [0.7777777777777778, \"#fb9f3a\"], [0.8888888888888888, \"#fdca26\"], [1.0, \"#f0f921\"]]}, \"colorway\": [\"#636efa\", \"#EF553B\", \"#00cc96\", \"#ab63fa\", \"#FFA15A\", \"#19d3f3\", \"#FF6692\", \"#B6E880\", \"#FF97FF\", \"#FECB52\"], \"font\": {\"color\": \"#2a3f5f\"}, \"geo\": {\"bgcolor\": \"white\", \"lakecolor\": \"white\", \"landcolor\": \"#E5ECF6\", \"showlakes\": true, \"showland\": true, \"subunitcolor\": \"white\"}, \"hoverlabel\": {\"align\": \"left\"}, \"hovermode\": \"closest\", \"mapbox\": {\"style\": \"light\"}, \"paper_bgcolor\": \"white\", \"plot_bgcolor\": \"#E5ECF6\", \"polar\": {\"angularaxis\": {\"gridcolor\": \"white\", \"linecolor\": \"white\", \"ticks\": \"\"}, \"bgcolor\": \"#E5ECF6\", \"radialaxis\": {\"gridcolor\": \"white\", \"linecolor\": \"white\", \"ticks\": \"\"}}, \"scene\": {\"xaxis\": {\"backgroundcolor\": \"#E5ECF6\", \"gridcolor\": \"white\", \"gridwidth\": 2, \"linecolor\": \"white\", \"showbackground\": true, \"ticks\": \"\", \"zerolinecolor\": \"white\"}, \"yaxis\": {\"backgroundcolor\": \"#E5ECF6\", \"gridcolor\": \"white\", \"gridwidth\": 2, \"linecolor\": \"white\", \"showbackground\": true, \"ticks\": \"\", \"zerolinecolor\": \"white\"}, \"zaxis\": {\"backgroundcolor\": \"#E5ECF6\", \"gridcolor\": \"white\", \"gridwidth\": 2, \"linecolor\": \"white\", \"showbackground\": true, \"ticks\": \"\", \"zerolinecolor\": \"white\"}}, \"shapedefaults\": {\"line\": {\"color\": \"#2a3f5f\"}}, \"ternary\": {\"aaxis\": {\"gridcolor\": \"white\", \"linecolor\": \"white\", \"ticks\": \"\"}, \"baxis\": {\"gridcolor\": \"white\", \"linecolor\": \"white\", \"ticks\": \"\"}, \"bgcolor\": \"#E5ECF6\", \"caxis\": {\"gridcolor\": \"white\", \"linecolor\": \"white\", \"ticks\": \"\"}}, \"title\": {\"x\": 0.05}, \"xaxis\": {\"automargin\": true, \"gridcolor\": \"white\", \"linecolor\": \"white\", \"ticks\": \"\", \"title\": {\"standoff\": 15}, \"zerolinecolor\": \"white\", \"zerolinewidth\": 2}, \"yaxis\": {\"automargin\": true, \"gridcolor\": \"white\", \"linecolor\": \"white\", \"ticks\": \"\", \"title\": {\"standoff\": 15}, \"zerolinecolor\": \"white\", \"zerolinewidth\": 2}}}, \"xaxis\": {\"anchor\": \"y\", \"domain\": [0.0, 1.0], \"tickmode\": \"linear\", \"title\": {\"text\": \"Number of calls within 24 hours\"}}, \"yaxis\": {\"anchor\": \"x\", \"domain\": [0.0, 1.0], \"title\": {\"text\": \"Occurences\"}}},\n",
              "                        {\"responsive\": true}\n",
              "                    ).then(function(){\n",
              "                            \n",
              "var gd = document.getElementById('73c69991-b5a2-4611-be39-f84122b3ae8f');\n",
              "var x = new MutationObserver(function (mutations, observer) {{\n",
              "        var display = window.getComputedStyle(gd).display;\n",
              "        if (!display || display === 'none') {{\n",
              "            console.log([gd, 'removed!']);\n",
              "            Plotly.purge(gd);\n",
              "            observer.disconnect();\n",
              "        }}\n",
              "}});\n",
              "\n",
              "// Listen for the removal of the full notebook cells\n",
              "var notebookContainer = gd.closest('#notebook-container');\n",
              "if (notebookContainer) {{\n",
              "    x.observe(notebookContainer, {childList: true});\n",
              "}}\n",
              "\n",
              "// Listen for the clearing of the current output cell\n",
              "var outputEl = gd.closest('.output');\n",
              "if (outputEl) {{\n",
              "    x.observe(outputEl, {childList: true});\n",
              "}}\n",
              "\n",
              "                        })\n",
              "                };\n",
              "                \n",
              "            </script>\n",
              "        </div>\n",
              "</body>\n",
              "</html>"
            ]
          },
          "metadata": {
            "tags": []
          }
        }
      ]
    },
    {
      "cell_type": "code",
      "metadata": {
        "id": "puwSbBSpoB3M",
        "colab_type": "code",
        "colab": {}
      },
      "source": [
        "#okay so maybe this would be even easier for your average person to understand\n",
        "#if I presented the above as an average, instead of as just numbers.\n",
        "#so first multiple the occurences by the number of calls (since I count a pair of\n",
        "#calls within 24 hours as a single occurence, etc)\n",
        "call_groups['raw_percentage'] = call_groups['Occurences'] * call_groups['Number of calls within 24 hours']"
      ],
      "execution_count": 0,
      "outputs": []
    },
    {
      "cell_type": "code",
      "metadata": {
        "id": "ZWJdgodSq4x_",
        "colab_type": "code",
        "outputId": "7d3ea85d-affe-4439-f91a-9f8558cef80a",
        "colab": {
          "base_uri": "https://localhost:8080/",
          "height": 34
        }
      },
      "source": [
        "#double checking to make sure I understand what I'm doing. And looks like I do\n",
        "call_groups['raw_percentage'].sum() == dumpster.shape[0]"
      ],
      "execution_count": 122,
      "outputs": [
        {
          "output_type": "execute_result",
          "data": {
            "text/plain": [
              "True"
            ]
          },
          "metadata": {
            "tags": []
          },
          "execution_count": 122
        }
      ]
    },
    {
      "cell_type": "code",
      "metadata": {
        "id": "X60kE-BG2G49",
        "colab_type": "code",
        "colab": {}
      },
      "source": [
        "#next figure out the of each by dividing the original dataframe length.\n",
        "call_groups['raw_percentage'] = call_groups['raw_percentage'].apply(lambda x: ((x * 100)/ dumpster.shape[0]))"
      ],
      "execution_count": 0,
      "outputs": []
    },
    {
      "cell_type": "code",
      "metadata": {
        "id": "NsfJGj3suZl6",
        "colab_type": "code",
        "colab": {}
      },
      "source": [
        "call_groups['raw_percentage'] = call_groups['raw_percentage'].apply(lambda x: round(x, 2))"
      ],
      "execution_count": 0,
      "outputs": []
    },
    {
      "cell_type": "code",
      "metadata": {
        "id": "pqY1N_GlvcQ2",
        "colab_type": "code",
        "outputId": "88c097a9-5486-4705-d1c2-1d56a842e134",
        "colab": {
          "base_uri": "https://localhost:8080/",
          "height": 34
        }
      },
      "source": [
        "#Okay rounding errors, I should have expected that.  There is definitely a super\n",
        "#computer sciency way to deal with this. But I'm going with the classic\n",
        "#pull .02 randomly from the values.\n",
        "call_groups['raw_percentage'].sum()"
      ],
      "execution_count": 125,
      "outputs": [
        {
          "output_type": "execute_result",
          "data": {
            "text/plain": [
              "100.02"
            ]
          },
          "metadata": {
            "tags": []
          },
          "execution_count": 125
        }
      ]
    },
    {
      "cell_type": "code",
      "metadata": {
        "id": "3yK_PvHJzGh9",
        "colab_type": "code",
        "outputId": "e49c809e-2e90-4106-fb30-d8db72535880",
        "colab": {
          "base_uri": "https://localhost:8080/",
          "height": 156
        }
      },
      "source": [
        "#To keep my notebook factoring consistently, I'm pulling from rows 1 and 3\n",
        "\n",
        "call_groups['raw_percentage'].iloc[1] = call_groups['raw_percentage'].iloc[1] - .01\n",
        "call_groups['raw_percentage'].iloc[3] = call_groups['raw_percentage'].iloc[3] - .01"
      ],
      "execution_count": 126,
      "outputs": [
        {
          "output_type": "stream",
          "text": [
            "/usr/local/lib/python3.6/dist-packages/pandas/core/indexing.py:205: SettingWithCopyWarning:\n",
            "\n",
            "\n",
            "A value is trying to be set on a copy of a slice from a DataFrame\n",
            "\n",
            "See the caveats in the documentation: http://pandas.pydata.org/pandas-docs/stable/user_guide/indexing.html#returning-a-view-versus-a-copy\n",
            "\n"
          ],
          "name": "stderr"
        }
      ]
    },
    {
      "cell_type": "code",
      "metadata": {
        "id": "teH6VL170Ss-",
        "colab_type": "code",
        "outputId": "693830cc-a736-4969-dafd-57f9ac3c4ba7",
        "colab": {
          "base_uri": "https://localhost:8080/",
          "height": 34
        }
      },
      "source": [
        "call_groups['raw_percentage'].sum()"
      ],
      "execution_count": 127,
      "outputs": [
        {
          "output_type": "execute_result",
          "data": {
            "text/plain": [
              "100.0"
            ]
          },
          "metadata": {
            "tags": []
          },
          "execution_count": 127
        }
      ]
    },
    {
      "cell_type": "code",
      "metadata": {
        "id": "le0IRrw6Zh4S",
        "colab_type": "code",
        "colab": {}
      },
      "source": [
        "#will make for a better overlay in plotly express.\n",
        "call_groups['Percentage'] = call_groups['raw_percentage'].apply(lambda x: str(x) + '%')"
      ],
      "execution_count": 0,
      "outputs": []
    },
    {
      "cell_type": "code",
      "metadata": {
        "id": "4m4z4-0xnc5Y",
        "colab_type": "code",
        "colab": {}
      },
      "source": [
        "#the color setting on plotly express takes a list of strings for color\n",
        "colors = ['#7a0000'] "
      ],
      "execution_count": 0,
      "outputs": []
    },
    {
      "cell_type": "code",
      "metadata": {
        "id": "2-oscjKYJ_72",
        "colab_type": "code",
        "outputId": "ca703f97-61dd-43bc-ec54-b1639e75edc8",
        "colab": {
          "base_uri": "https://localhost:8080/",
          "height": 542
        }
      },
      "source": [
        "#I think this is one that will really demonstrate how much of an outlier 9\n",
        "#calls in a day really is.\n",
        "\n",
        "fig = px.bar(call_groups, x = 'Number of calls within 24 hours', \n",
        "             y = 'Occurences', text = 'Percentage', \n",
        "             title = 'Dumpster Fires Reported to 911',\n",
        "             color_discrete_sequence = colors)\n",
        "fig.update_xaxes(tickmode = 'linear')\n",
        "fig.show()"
      ],
      "execution_count": 130,
      "outputs": [
        {
          "output_type": "display_data",
          "data": {
            "text/html": [
              "<html>\n",
              "<head><meta charset=\"utf-8\" /></head>\n",
              "<body>\n",
              "    <div>\n",
              "            <script src=\"https://cdnjs.cloudflare.com/ajax/libs/mathjax/2.7.5/MathJax.js?config=TeX-AMS-MML_SVG\"></script><script type=\"text/javascript\">if (window.MathJax) {MathJax.Hub.Config({SVG: {font: \"STIX-Web\"}});}</script>\n",
              "                <script type=\"text/javascript\">window.PlotlyConfig = {MathJaxConfig: 'local'};</script>\n",
              "        <script src=\"https://cdn.plot.ly/plotly-latest.min.js\"></script>    \n",
              "            <div id=\"73416ec0-b16e-445c-b2b5-aec2b7641614\" class=\"plotly-graph-div\" style=\"height:525px; width:100%;\"></div>\n",
              "            <script type=\"text/javascript\">\n",
              "                \n",
              "                    window.PLOTLYENV=window.PLOTLYENV || {};\n",
              "                    \n",
              "                if (document.getElementById(\"73416ec0-b16e-445c-b2b5-aec2b7641614\")) {\n",
              "                    Plotly.newPlot(\n",
              "                        '73416ec0-b16e-445c-b2b5-aec2b7641614',\n",
              "                        [{\"alignmentgroup\": \"True\", \"hoverlabel\": {\"namelength\": 0}, \"hovertemplate\": \"Number of calls within 24 hours=%{x}<br>Occurences=%{y}<br>Percentage=%{text}\", \"legendgroup\": \"\", \"marker\": {\"color\": \"#7a0000\"}, \"name\": \"\", \"offsetgroup\": \"\", \"orientation\": \"v\", \"showlegend\": false, \"text\": [\"32.54%\", \"10.18%\", \"4.29%\", \"0.59%\", \"50.6%\", \"0.54%\", \"0.48%\", \"0.42%\", \"0.36%\"], \"textposition\": \"auto\", \"type\": \"bar\", \"x\": [2, 3, 4, 5, 1, 9, 8, 7, 6], \"xaxis\": \"x\", \"y\": [273, 57, 18, 2, 849, 1, 1, 1, 1], \"yaxis\": \"y\"}],\n",
              "                        {\"barmode\": \"relative\", \"legend\": {\"tracegroupgap\": 0}, \"template\": {\"data\": {\"bar\": [{\"error_x\": {\"color\": \"#2a3f5f\"}, \"error_y\": {\"color\": \"#2a3f5f\"}, \"marker\": {\"line\": {\"color\": \"#E5ECF6\", \"width\": 0.5}}, \"type\": \"bar\"}], \"barpolar\": [{\"marker\": {\"line\": {\"color\": \"#E5ECF6\", \"width\": 0.5}}, \"type\": \"barpolar\"}], \"carpet\": [{\"aaxis\": {\"endlinecolor\": \"#2a3f5f\", \"gridcolor\": \"white\", \"linecolor\": \"white\", \"minorgridcolor\": \"white\", \"startlinecolor\": \"#2a3f5f\"}, \"baxis\": {\"endlinecolor\": \"#2a3f5f\", \"gridcolor\": \"white\", \"linecolor\": \"white\", \"minorgridcolor\": \"white\", \"startlinecolor\": \"#2a3f5f\"}, \"type\": \"carpet\"}], \"choropleth\": [{\"colorbar\": {\"outlinewidth\": 0, \"ticks\": \"\"}, \"type\": \"choropleth\"}], \"contour\": [{\"colorbar\": {\"outlinewidth\": 0, \"ticks\": \"\"}, \"colorscale\": [[0.0, \"#0d0887\"], [0.1111111111111111, \"#46039f\"], [0.2222222222222222, \"#7201a8\"], [0.3333333333333333, \"#9c179e\"], [0.4444444444444444, \"#bd3786\"], [0.5555555555555556, \"#d8576b\"], [0.6666666666666666, \"#ed7953\"], [0.7777777777777778, \"#fb9f3a\"], [0.8888888888888888, \"#fdca26\"], [1.0, \"#f0f921\"]], \"type\": \"contour\"}], \"contourcarpet\": [{\"colorbar\": {\"outlinewidth\": 0, \"ticks\": \"\"}, \"type\": \"contourcarpet\"}], \"heatmap\": [{\"colorbar\": {\"outlinewidth\": 0, \"ticks\": \"\"}, \"colorscale\": [[0.0, \"#0d0887\"], [0.1111111111111111, \"#46039f\"], [0.2222222222222222, \"#7201a8\"], [0.3333333333333333, \"#9c179e\"], [0.4444444444444444, \"#bd3786\"], [0.5555555555555556, \"#d8576b\"], [0.6666666666666666, \"#ed7953\"], [0.7777777777777778, \"#fb9f3a\"], [0.8888888888888888, \"#fdca26\"], [1.0, \"#f0f921\"]], \"type\": \"heatmap\"}], \"heatmapgl\": [{\"colorbar\": {\"outlinewidth\": 0, \"ticks\": \"\"}, \"colorscale\": [[0.0, \"#0d0887\"], [0.1111111111111111, \"#46039f\"], [0.2222222222222222, \"#7201a8\"], [0.3333333333333333, \"#9c179e\"], [0.4444444444444444, \"#bd3786\"], [0.5555555555555556, \"#d8576b\"], [0.6666666666666666, \"#ed7953\"], [0.7777777777777778, \"#fb9f3a\"], [0.8888888888888888, \"#fdca26\"], [1.0, \"#f0f921\"]], \"type\": \"heatmapgl\"}], \"histogram\": [{\"marker\": {\"colorbar\": {\"outlinewidth\": 0, \"ticks\": \"\"}}, \"type\": \"histogram\"}], \"histogram2d\": [{\"colorbar\": {\"outlinewidth\": 0, \"ticks\": \"\"}, \"colorscale\": [[0.0, \"#0d0887\"], [0.1111111111111111, \"#46039f\"], [0.2222222222222222, \"#7201a8\"], [0.3333333333333333, \"#9c179e\"], [0.4444444444444444, \"#bd3786\"], [0.5555555555555556, \"#d8576b\"], [0.6666666666666666, \"#ed7953\"], [0.7777777777777778, \"#fb9f3a\"], [0.8888888888888888, \"#fdca26\"], [1.0, \"#f0f921\"]], \"type\": \"histogram2d\"}], \"histogram2dcontour\": [{\"colorbar\": {\"outlinewidth\": 0, \"ticks\": \"\"}, \"colorscale\": [[0.0, \"#0d0887\"], [0.1111111111111111, \"#46039f\"], [0.2222222222222222, \"#7201a8\"], [0.3333333333333333, \"#9c179e\"], [0.4444444444444444, \"#bd3786\"], [0.5555555555555556, \"#d8576b\"], [0.6666666666666666, \"#ed7953\"], [0.7777777777777778, \"#fb9f3a\"], [0.8888888888888888, \"#fdca26\"], [1.0, \"#f0f921\"]], \"type\": \"histogram2dcontour\"}], \"mesh3d\": [{\"colorbar\": {\"outlinewidth\": 0, \"ticks\": \"\"}, \"type\": \"mesh3d\"}], \"parcoords\": [{\"line\": {\"colorbar\": {\"outlinewidth\": 0, \"ticks\": \"\"}}, \"type\": \"parcoords\"}], \"pie\": [{\"automargin\": true, \"type\": \"pie\"}], \"scatter\": [{\"marker\": {\"colorbar\": {\"outlinewidth\": 0, \"ticks\": \"\"}}, \"type\": \"scatter\"}], \"scatter3d\": [{\"line\": {\"colorbar\": {\"outlinewidth\": 0, \"ticks\": \"\"}}, \"marker\": {\"colorbar\": {\"outlinewidth\": 0, \"ticks\": \"\"}}, \"type\": \"scatter3d\"}], \"scattercarpet\": [{\"marker\": {\"colorbar\": {\"outlinewidth\": 0, \"ticks\": \"\"}}, \"type\": \"scattercarpet\"}], \"scattergeo\": [{\"marker\": {\"colorbar\": {\"outlinewidth\": 0, \"ticks\": \"\"}}, \"type\": \"scattergeo\"}], \"scattergl\": [{\"marker\": {\"colorbar\": {\"outlinewidth\": 0, \"ticks\": \"\"}}, \"type\": \"scattergl\"}], \"scattermapbox\": [{\"marker\": {\"colorbar\": {\"outlinewidth\": 0, \"ticks\": \"\"}}, \"type\": \"scattermapbox\"}], \"scatterpolar\": [{\"marker\": {\"colorbar\": {\"outlinewidth\": 0, \"ticks\": \"\"}}, \"type\": \"scatterpolar\"}], \"scatterpolargl\": [{\"marker\": {\"colorbar\": {\"outlinewidth\": 0, \"ticks\": \"\"}}, \"type\": \"scatterpolargl\"}], \"scatterternary\": [{\"marker\": {\"colorbar\": {\"outlinewidth\": 0, \"ticks\": \"\"}}, \"type\": \"scatterternary\"}], \"surface\": [{\"colorbar\": {\"outlinewidth\": 0, \"ticks\": \"\"}, \"colorscale\": [[0.0, \"#0d0887\"], [0.1111111111111111, \"#46039f\"], [0.2222222222222222, \"#7201a8\"], [0.3333333333333333, \"#9c179e\"], [0.4444444444444444, \"#bd3786\"], [0.5555555555555556, \"#d8576b\"], [0.6666666666666666, \"#ed7953\"], [0.7777777777777778, \"#fb9f3a\"], [0.8888888888888888, \"#fdca26\"], [1.0, \"#f0f921\"]], \"type\": \"surface\"}], \"table\": [{\"cells\": {\"fill\": {\"color\": \"#EBF0F8\"}, \"line\": {\"color\": \"white\"}}, \"header\": {\"fill\": {\"color\": \"#C8D4E3\"}, \"line\": {\"color\": \"white\"}}, \"type\": \"table\"}]}, \"layout\": {\"annotationdefaults\": {\"arrowcolor\": \"#2a3f5f\", \"arrowhead\": 0, \"arrowwidth\": 1}, \"coloraxis\": {\"colorbar\": {\"outlinewidth\": 0, \"ticks\": \"\"}}, \"colorscale\": {\"diverging\": [[0, \"#8e0152\"], [0.1, \"#c51b7d\"], [0.2, \"#de77ae\"], [0.3, \"#f1b6da\"], [0.4, \"#fde0ef\"], [0.5, \"#f7f7f7\"], [0.6, \"#e6f5d0\"], [0.7, \"#b8e186\"], [0.8, \"#7fbc41\"], [0.9, \"#4d9221\"], [1, \"#276419\"]], \"sequential\": [[0.0, \"#0d0887\"], [0.1111111111111111, \"#46039f\"], [0.2222222222222222, \"#7201a8\"], [0.3333333333333333, \"#9c179e\"], [0.4444444444444444, \"#bd3786\"], [0.5555555555555556, \"#d8576b\"], [0.6666666666666666, \"#ed7953\"], [0.7777777777777778, \"#fb9f3a\"], [0.8888888888888888, \"#fdca26\"], [1.0, \"#f0f921\"]], \"sequentialminus\": [[0.0, \"#0d0887\"], [0.1111111111111111, \"#46039f\"], [0.2222222222222222, \"#7201a8\"], [0.3333333333333333, \"#9c179e\"], [0.4444444444444444, \"#bd3786\"], [0.5555555555555556, \"#d8576b\"], [0.6666666666666666, \"#ed7953\"], [0.7777777777777778, \"#fb9f3a\"], [0.8888888888888888, \"#fdca26\"], [1.0, \"#f0f921\"]]}, \"colorway\": [\"#636efa\", \"#EF553B\", \"#00cc96\", \"#ab63fa\", \"#FFA15A\", \"#19d3f3\", \"#FF6692\", \"#B6E880\", \"#FF97FF\", \"#FECB52\"], \"font\": {\"color\": \"#2a3f5f\"}, \"geo\": {\"bgcolor\": \"white\", \"lakecolor\": \"white\", \"landcolor\": \"#E5ECF6\", \"showlakes\": true, \"showland\": true, \"subunitcolor\": \"white\"}, \"hoverlabel\": {\"align\": \"left\"}, \"hovermode\": \"closest\", \"mapbox\": {\"style\": \"light\"}, \"paper_bgcolor\": \"white\", \"plot_bgcolor\": \"#E5ECF6\", \"polar\": {\"angularaxis\": {\"gridcolor\": \"white\", \"linecolor\": \"white\", \"ticks\": \"\"}, \"bgcolor\": \"#E5ECF6\", \"radialaxis\": {\"gridcolor\": \"white\", \"linecolor\": \"white\", \"ticks\": \"\"}}, \"scene\": {\"xaxis\": {\"backgroundcolor\": \"#E5ECF6\", \"gridcolor\": \"white\", \"gridwidth\": 2, \"linecolor\": \"white\", \"showbackground\": true, \"ticks\": \"\", \"zerolinecolor\": \"white\"}, \"yaxis\": {\"backgroundcolor\": \"#E5ECF6\", \"gridcolor\": \"white\", \"gridwidth\": 2, \"linecolor\": \"white\", \"showbackground\": true, \"ticks\": \"\", \"zerolinecolor\": \"white\"}, \"zaxis\": {\"backgroundcolor\": \"#E5ECF6\", \"gridcolor\": \"white\", \"gridwidth\": 2, \"linecolor\": \"white\", \"showbackground\": true, \"ticks\": \"\", \"zerolinecolor\": \"white\"}}, \"shapedefaults\": {\"line\": {\"color\": \"#2a3f5f\"}}, \"ternary\": {\"aaxis\": {\"gridcolor\": \"white\", \"linecolor\": \"white\", \"ticks\": \"\"}, \"baxis\": {\"gridcolor\": \"white\", \"linecolor\": \"white\", \"ticks\": \"\"}, \"bgcolor\": \"#E5ECF6\", \"caxis\": {\"gridcolor\": \"white\", \"linecolor\": \"white\", \"ticks\": \"\"}}, \"title\": {\"x\": 0.05}, \"xaxis\": {\"automargin\": true, \"gridcolor\": \"white\", \"linecolor\": \"white\", \"ticks\": \"\", \"title\": {\"standoff\": 15}, \"zerolinecolor\": \"white\", \"zerolinewidth\": 2}, \"yaxis\": {\"automargin\": true, \"gridcolor\": \"white\", \"linecolor\": \"white\", \"ticks\": \"\", \"title\": {\"standoff\": 15}, \"zerolinecolor\": \"white\", \"zerolinewidth\": 2}}}, \"title\": {\"text\": \"Dumpster Fires Reported to 911\"}, \"xaxis\": {\"anchor\": \"y\", \"domain\": [0.0, 1.0], \"tickmode\": \"linear\", \"title\": {\"text\": \"Number of calls within 24 hours\"}}, \"yaxis\": {\"anchor\": \"x\", \"domain\": [0.0, 1.0], \"title\": {\"text\": \"Occurences\"}}},\n",
              "                        {\"responsive\": true}\n",
              "                    ).then(function(){\n",
              "                            \n",
              "var gd = document.getElementById('73416ec0-b16e-445c-b2b5-aec2b7641614');\n",
              "var x = new MutationObserver(function (mutations, observer) {{\n",
              "        var display = window.getComputedStyle(gd).display;\n",
              "        if (!display || display === 'none') {{\n",
              "            console.log([gd, 'removed!']);\n",
              "            Plotly.purge(gd);\n",
              "            observer.disconnect();\n",
              "        }}\n",
              "}});\n",
              "\n",
              "// Listen for the removal of the full notebook cells\n",
              "var notebookContainer = gd.closest('#notebook-container');\n",
              "if (notebookContainer) {{\n",
              "    x.observe(notebookContainer, {childList: true});\n",
              "}}\n",
              "\n",
              "// Listen for the clearing of the current output cell\n",
              "var outputEl = gd.closest('.output');\n",
              "if (outputEl) {{\n",
              "    x.observe(outputEl, {childList: true});\n",
              "}}\n",
              "\n",
              "                        })\n",
              "                };\n",
              "                \n",
              "            </script>\n",
              "        </div>\n",
              "</body>\n",
              "</html>"
            ]
          },
          "metadata": {
            "tags": []
          }
        }
      ]
    },
    {
      "cell_type": "code",
      "metadata": {
        "id": "rgztkOQHM8qP",
        "colab_type": "code",
        "outputId": "23f88003-7d9c-4a33-cdcf-dcdc3eecfe57",
        "colab": {
          "base_uri": "https://localhost:8080/",
          "height": 411
        }
      },
      "source": [
        "#so lets look at figuring out our distances of each group.\n",
        "dumpster.head()"
      ],
      "execution_count": 131,
      "outputs": [
        {
          "output_type": "execute_result",
          "data": {
            "text/html": [
              "<div>\n",
              "<style scoped>\n",
              "    .dataframe tbody tr th:only-of-type {\n",
              "        vertical-align: middle;\n",
              "    }\n",
              "\n",
              "    .dataframe tbody tr th {\n",
              "        vertical-align: top;\n",
              "    }\n",
              "\n",
              "    .dataframe thead th {\n",
              "        text-align: right;\n",
              "    }\n",
              "</style>\n",
              "<table border=\"1\" class=\"dataframe\">\n",
              "  <thead>\n",
              "    <tr style=\"text-align: right;\">\n",
              "      <th></th>\n",
              "      <th>address</th>\n",
              "      <th>type</th>\n",
              "      <th>datetime</th>\n",
              "      <th>latitude</th>\n",
              "      <th>longitude</th>\n",
              "      <th>report_location</th>\n",
              "      <th>incident_number</th>\n",
              "      <th>year</th>\n",
              "      <th>month</th>\n",
              "      <th>date_obj</th>\n",
              "      <th>calls_within_24h</th>\n",
              "    </tr>\n",
              "  </thead>\n",
              "  <tbody>\n",
              "    <tr>\n",
              "      <th>0</th>\n",
              "      <td>747 Broadway</td>\n",
              "      <td>Dumpster Fire</td>\n",
              "      <td>2003-11-10T15:43:04.000</td>\n",
              "      <td>47.608621</td>\n",
              "      <td>-122.320756</td>\n",
              "      <td>{'type': 'Point', 'coordinates': [-122.320756,...</td>\n",
              "      <td>F030082401</td>\n",
              "      <td>2003</td>\n",
              "      <td>11</td>\n",
              "      <td>2003-11-10 15:43:04</td>\n",
              "      <td>0</td>\n",
              "    </tr>\n",
              "    <tr>\n",
              "      <th>1</th>\n",
              "      <td>32nd Av E / E Madison St</td>\n",
              "      <td>Dumpster Fire</td>\n",
              "      <td>2003-11-14T23:45:39.000</td>\n",
              "      <td>47.627040</td>\n",
              "      <td>-122.290929</td>\n",
              "      <td>{'type': 'Point', 'coordinates': [-122.290929,...</td>\n",
              "      <td>F030083954</td>\n",
              "      <td>2003</td>\n",
              "      <td>11</td>\n",
              "      <td>2003-11-14 23:45:39</td>\n",
              "      <td>0</td>\n",
              "    </tr>\n",
              "    <tr>\n",
              "      <th>2</th>\n",
              "      <td>6TH AV / PIKE ST</td>\n",
              "      <td>Dumpster Fire</td>\n",
              "      <td>2003-11-18T09:10:42.000</td>\n",
              "      <td>47.611142</td>\n",
              "      <td>-122.334464</td>\n",
              "      <td>{'type': 'Point', 'coordinates': [-122.334464,...</td>\n",
              "      <td>F030085104</td>\n",
              "      <td>2003</td>\n",
              "      <td>11</td>\n",
              "      <td>2003-11-18 09:10:42</td>\n",
              "      <td>2</td>\n",
              "    </tr>\n",
              "    <tr>\n",
              "      <th>3</th>\n",
              "      <td>6th Av / Pike St</td>\n",
              "      <td>Dumpster Fire</td>\n",
              "      <td>2003-11-18T09:10:57.000</td>\n",
              "      <td>47.611142</td>\n",
              "      <td>-122.334464</td>\n",
              "      <td>{'type': 'Point', 'coordinates': [-122.334464,...</td>\n",
              "      <td>F030085103</td>\n",
              "      <td>2003</td>\n",
              "      <td>11</td>\n",
              "      <td>2003-11-18 09:10:57</td>\n",
              "      <td>2</td>\n",
              "    </tr>\n",
              "    <tr>\n",
              "      <th>4</th>\n",
              "      <td>Stone Way N / N 45th St</td>\n",
              "      <td>Dumpster Fire</td>\n",
              "      <td>2003-11-18T15:38:25.000</td>\n",
              "      <td>47.661385</td>\n",
              "      <td>-122.342145</td>\n",
              "      <td>{'type': 'Point', 'coordinates': [-122.342145,...</td>\n",
              "      <td>F030085264</td>\n",
              "      <td>2003</td>\n",
              "      <td>11</td>\n",
              "      <td>2003-11-18 15:38:25</td>\n",
              "      <td>2</td>\n",
              "    </tr>\n",
              "  </tbody>\n",
              "</table>\n",
              "</div>"
            ],
            "text/plain": [
              "                    address  ... calls_within_24h\n",
              "0              747 Broadway  ...                0\n",
              "1  32nd Av E / E Madison St  ...                0\n",
              "2          6TH AV / PIKE ST  ...                2\n",
              "3          6th Av / Pike St  ...                2\n",
              "4   Stone Way N / N 45th St  ...                2\n",
              "\n",
              "[5 rows x 11 columns]"
            ]
          },
          "metadata": {
            "tags": []
          },
          "execution_count": 131
        }
      ]
    },
    {
      "cell_type": "code",
      "metadata": {
        "id": "e7i8TgE-qFes",
        "colab_type": "code",
        "colab": {}
      },
      "source": [
        "#okay this is the furthest distance between fires on the 1666 fire spree.\n",
        "#so for my analysis I will next take all the calls that are within a \n",
        "from geopy.distance import distance\n",
        "\n",
        "#remember geopy does lat first, long second\n",
        "p1 = (dumpster['latitude'].iloc[1666], dumpster['longitude'].iloc[1666])\n",
        "p2 = (dumpster['latitude'].iloc[1671], dumpster['longitude'].iloc[1671])"
      ],
      "execution_count": 0,
      "outputs": []
    },
    {
      "cell_type": "code",
      "metadata": {
        "id": "g3a1px5etkhv",
        "colab_type": "code",
        "colab": {}
      },
      "source": [
        "d = distance(p1, p2)"
      ],
      "execution_count": 0,
      "outputs": []
    },
    {
      "cell_type": "code",
      "metadata": {
        "id": "msd43lbAtqGJ",
        "colab_type": "code",
        "outputId": "86676e6f-6bc2-409c-ca4e-726747413523",
        "colab": {
          "base_uri": "https://localhost:8080/",
          "height": 34
        }
      },
      "source": [
        "d.miles"
      ],
      "execution_count": 134,
      "outputs": [
        {
          "output_type": "execute_result",
          "data": {
            "text/plain": [
              "0.9437619193725458"
            ]
          },
          "metadata": {
            "tags": []
          },
          "execution_count": 134
        }
      ]
    },
    {
      "cell_type": "code",
      "metadata": {
        "id": "hQdDHgYCt3BB",
        "colab_type": "code",
        "colab": {}
      },
      "source": [
        "#okay lets clean that point column up.\n",
        "def coords(row):\n",
        "  return(row['latitude'], row['longitude'])"
      ],
      "execution_count": 0,
      "outputs": []
    },
    {
      "cell_type": "code",
      "metadata": {
        "id": "GBmYnr2H050U",
        "colab_type": "code",
        "colab": {}
      },
      "source": [
        "dumpster['report_location'] = dumpster.apply(coords, axis = 1)"
      ],
      "execution_count": 0,
      "outputs": []
    },
    {
      "cell_type": "code",
      "metadata": {
        "id": "yfxf6ZLi1Db6",
        "colab_type": "code",
        "outputId": "1ffbd56d-6876-4b41-9d51-c98f99e713db",
        "colab": {
          "base_uri": "https://localhost:8080/",
          "height": 411
        }
      },
      "source": [
        "dumpster.head()"
      ],
      "execution_count": 137,
      "outputs": [
        {
          "output_type": "execute_result",
          "data": {
            "text/html": [
              "<div>\n",
              "<style scoped>\n",
              "    .dataframe tbody tr th:only-of-type {\n",
              "        vertical-align: middle;\n",
              "    }\n",
              "\n",
              "    .dataframe tbody tr th {\n",
              "        vertical-align: top;\n",
              "    }\n",
              "\n",
              "    .dataframe thead th {\n",
              "        text-align: right;\n",
              "    }\n",
              "</style>\n",
              "<table border=\"1\" class=\"dataframe\">\n",
              "  <thead>\n",
              "    <tr style=\"text-align: right;\">\n",
              "      <th></th>\n",
              "      <th>address</th>\n",
              "      <th>type</th>\n",
              "      <th>datetime</th>\n",
              "      <th>latitude</th>\n",
              "      <th>longitude</th>\n",
              "      <th>report_location</th>\n",
              "      <th>incident_number</th>\n",
              "      <th>year</th>\n",
              "      <th>month</th>\n",
              "      <th>date_obj</th>\n",
              "      <th>calls_within_24h</th>\n",
              "    </tr>\n",
              "  </thead>\n",
              "  <tbody>\n",
              "    <tr>\n",
              "      <th>0</th>\n",
              "      <td>747 Broadway</td>\n",
              "      <td>Dumpster Fire</td>\n",
              "      <td>2003-11-10T15:43:04.000</td>\n",
              "      <td>47.608621</td>\n",
              "      <td>-122.320756</td>\n",
              "      <td>(47.608621, -122.320756)</td>\n",
              "      <td>F030082401</td>\n",
              "      <td>2003</td>\n",
              "      <td>11</td>\n",
              "      <td>2003-11-10 15:43:04</td>\n",
              "      <td>0</td>\n",
              "    </tr>\n",
              "    <tr>\n",
              "      <th>1</th>\n",
              "      <td>32nd Av E / E Madison St</td>\n",
              "      <td>Dumpster Fire</td>\n",
              "      <td>2003-11-14T23:45:39.000</td>\n",
              "      <td>47.627040</td>\n",
              "      <td>-122.290929</td>\n",
              "      <td>(47.627040, -122.290929)</td>\n",
              "      <td>F030083954</td>\n",
              "      <td>2003</td>\n",
              "      <td>11</td>\n",
              "      <td>2003-11-14 23:45:39</td>\n",
              "      <td>0</td>\n",
              "    </tr>\n",
              "    <tr>\n",
              "      <th>2</th>\n",
              "      <td>6TH AV / PIKE ST</td>\n",
              "      <td>Dumpster Fire</td>\n",
              "      <td>2003-11-18T09:10:42.000</td>\n",
              "      <td>47.611142</td>\n",
              "      <td>-122.334464</td>\n",
              "      <td>(47.611142, -122.334464)</td>\n",
              "      <td>F030085104</td>\n",
              "      <td>2003</td>\n",
              "      <td>11</td>\n",
              "      <td>2003-11-18 09:10:42</td>\n",
              "      <td>2</td>\n",
              "    </tr>\n",
              "    <tr>\n",
              "      <th>3</th>\n",
              "      <td>6th Av / Pike St</td>\n",
              "      <td>Dumpster Fire</td>\n",
              "      <td>2003-11-18T09:10:57.000</td>\n",
              "      <td>47.611142</td>\n",
              "      <td>-122.334464</td>\n",
              "      <td>(47.611142, -122.334464)</td>\n",
              "      <td>F030085103</td>\n",
              "      <td>2003</td>\n",
              "      <td>11</td>\n",
              "      <td>2003-11-18 09:10:57</td>\n",
              "      <td>2</td>\n",
              "    </tr>\n",
              "    <tr>\n",
              "      <th>4</th>\n",
              "      <td>Stone Way N / N 45th St</td>\n",
              "      <td>Dumpster Fire</td>\n",
              "      <td>2003-11-18T15:38:25.000</td>\n",
              "      <td>47.661385</td>\n",
              "      <td>-122.342145</td>\n",
              "      <td>(47.661385, -122.342145)</td>\n",
              "      <td>F030085264</td>\n",
              "      <td>2003</td>\n",
              "      <td>11</td>\n",
              "      <td>2003-11-18 15:38:25</td>\n",
              "      <td>2</td>\n",
              "    </tr>\n",
              "  </tbody>\n",
              "</table>\n",
              "</div>"
            ],
            "text/plain": [
              "                    address  ... calls_within_24h\n",
              "0              747 Broadway  ...                0\n",
              "1  32nd Av E / E Madison St  ...                0\n",
              "2          6TH AV / PIKE ST  ...                2\n",
              "3          6th Av / Pike St  ...                2\n",
              "4   Stone Way N / N 45th St  ...                2\n",
              "\n",
              "[5 rows x 11 columns]"
            ]
          },
          "metadata": {
            "tags": []
          },
          "execution_count": 137
        }
      ]
    },
    {
      "cell_type": "code",
      "metadata": {
        "id": "GXD8vJbv1Epv",
        "colab_type": "code",
        "outputId": "b72242e3-ae5b-4abd-bd0b-8cde7f422876",
        "colab": {
          "base_uri": "https://localhost:8080/",
          "height": 411
        }
      },
      "source": [
        "#okay this is maybe a weird move, but I think I want to know of all the \"spree\"\n",
        "#calls, what their distance from the original call was.  So I'm going to filter\n",
        "#out to only spree calls, and then just iterate and compare.\n",
        "\n",
        "sprees = dumpster[dumpster['calls_within_24h'] != 0].copy()\n",
        "print(sprees.shape)\n",
        "sprees.head()"
      ],
      "execution_count": 138,
      "outputs": [
        {
          "output_type": "stream",
          "text": [
            "(829, 11)\n"
          ],
          "name": "stdout"
        },
        {
          "output_type": "execute_result",
          "data": {
            "text/html": [
              "<div>\n",
              "<style scoped>\n",
              "    .dataframe tbody tr th:only-of-type {\n",
              "        vertical-align: middle;\n",
              "    }\n",
              "\n",
              "    .dataframe tbody tr th {\n",
              "        vertical-align: top;\n",
              "    }\n",
              "\n",
              "    .dataframe thead th {\n",
              "        text-align: right;\n",
              "    }\n",
              "</style>\n",
              "<table border=\"1\" class=\"dataframe\">\n",
              "  <thead>\n",
              "    <tr style=\"text-align: right;\">\n",
              "      <th></th>\n",
              "      <th>address</th>\n",
              "      <th>type</th>\n",
              "      <th>datetime</th>\n",
              "      <th>latitude</th>\n",
              "      <th>longitude</th>\n",
              "      <th>report_location</th>\n",
              "      <th>incident_number</th>\n",
              "      <th>year</th>\n",
              "      <th>month</th>\n",
              "      <th>date_obj</th>\n",
              "      <th>calls_within_24h</th>\n",
              "    </tr>\n",
              "  </thead>\n",
              "  <tbody>\n",
              "    <tr>\n",
              "      <th>2</th>\n",
              "      <td>6TH AV / PIKE ST</td>\n",
              "      <td>Dumpster Fire</td>\n",
              "      <td>2003-11-18T09:10:42.000</td>\n",
              "      <td>47.611142</td>\n",
              "      <td>-122.334464</td>\n",
              "      <td>(47.611142, -122.334464)</td>\n",
              "      <td>F030085104</td>\n",
              "      <td>2003</td>\n",
              "      <td>11</td>\n",
              "      <td>2003-11-18 09:10:42</td>\n",
              "      <td>2</td>\n",
              "    </tr>\n",
              "    <tr>\n",
              "      <th>3</th>\n",
              "      <td>6th Av / Pike St</td>\n",
              "      <td>Dumpster Fire</td>\n",
              "      <td>2003-11-18T09:10:57.000</td>\n",
              "      <td>47.611142</td>\n",
              "      <td>-122.334464</td>\n",
              "      <td>(47.611142, -122.334464)</td>\n",
              "      <td>F030085103</td>\n",
              "      <td>2003</td>\n",
              "      <td>11</td>\n",
              "      <td>2003-11-18 09:10:57</td>\n",
              "      <td>2</td>\n",
              "    </tr>\n",
              "    <tr>\n",
              "      <th>4</th>\n",
              "      <td>Stone Way N / N 45th St</td>\n",
              "      <td>Dumpster Fire</td>\n",
              "      <td>2003-11-18T15:38:25.000</td>\n",
              "      <td>47.661385</td>\n",
              "      <td>-122.342145</td>\n",
              "      <td>(47.661385, -122.342145)</td>\n",
              "      <td>F030085264</td>\n",
              "      <td>2003</td>\n",
              "      <td>11</td>\n",
              "      <td>2003-11-18 15:38:25</td>\n",
              "      <td>2</td>\n",
              "    </tr>\n",
              "    <tr>\n",
              "      <th>7</th>\n",
              "      <td>401 2nd Av S</td>\n",
              "      <td>Dumpster Fire</td>\n",
              "      <td>2003-12-02T22:09:02.000</td>\n",
              "      <td>47.599192</td>\n",
              "      <td>-122.331578</td>\n",
              "      <td>(47.599192, -122.331578)</td>\n",
              "      <td>F030090264</td>\n",
              "      <td>2003</td>\n",
              "      <td>12</td>\n",
              "      <td>2003-12-02 22:09:02</td>\n",
              "      <td>7</td>\n",
              "    </tr>\n",
              "    <tr>\n",
              "      <th>8</th>\n",
              "      <td>133 Pontius Av N</td>\n",
              "      <td>Dumpster Fire</td>\n",
              "      <td>2003-12-03T00:31:27.000</td>\n",
              "      <td>47.618887</td>\n",
              "      <td>-122.332245</td>\n",
              "      <td>(47.618887, -122.332245)</td>\n",
              "      <td>F030090301</td>\n",
              "      <td>2003</td>\n",
              "      <td>12</td>\n",
              "      <td>2003-12-03 00:31:27</td>\n",
              "      <td>7</td>\n",
              "    </tr>\n",
              "  </tbody>\n",
              "</table>\n",
              "</div>"
            ],
            "text/plain": [
              "                   address           type  ...            date_obj calls_within_24h\n",
              "2         6TH AV / PIKE ST  Dumpster Fire  ... 2003-11-18 09:10:42                2\n",
              "3         6th Av / Pike St  Dumpster Fire  ... 2003-11-18 09:10:57                2\n",
              "4  Stone Way N / N 45th St  Dumpster Fire  ... 2003-11-18 15:38:25                2\n",
              "7             401 2nd Av S  Dumpster Fire  ... 2003-12-02 22:09:02                7\n",
              "8         133 Pontius Av N  Dumpster Fire  ... 2003-12-03 00:31:27                7\n",
              "\n",
              "[5 rows x 11 columns]"
            ]
          },
          "metadata": {
            "tags": []
          },
          "execution_count": 138
        }
      ]
    },
    {
      "cell_type": "code",
      "metadata": {
        "id": "niZUycaD31Yy",
        "colab_type": "code",
        "outputId": "44b91424-1d2a-4a6b-8789-8652c71b4c21",
        "colab": {
          "base_uri": "https://localhost:8080/",
          "height": 71
        }
      },
      "source": [
        "first_location = []\n",
        "for i in sprees.index:\n",
        "  point_index = sprees['calls_within_24h'].loc[i]\n",
        "  first_location.append(sprees['report_location'].loc[point_index])\n",
        "print(len(first_location))\n",
        "print(first_location)"
      ],
      "execution_count": 139,
      "outputs": [
        {
          "output_type": "stream",
          "text": [
            "829\n",
            "[('47.611142', '-122.334464'), ('47.611142', '-122.334464'), ('47.611142', '-122.334464'), ('47.599192', '-122.331578'), ('47.599192', '-122.331578'), ('47.608009', '-122.302770'), ('47.608009', '-122.302770'), ('47.608009', '-122.302770'), ('47.675985', '-122.382128'), ('47.675985', '-122.382128'), ('47.597848', '-122.286930'), ('47.597848', '-122.286930'), ('47.584001', '-122.386423'), ('47.584001', '-122.386423'), ('47.584001', '-122.386423'), ('47.616761', '-122.314266'), ('47.616761', '-122.314266'), ('47.603512', '-122.315329'), ('47.603512', '-122.315329'), ('47.624593', '-122.359508'), ('47.624593', '-122.359508'), ('47.599192', '-122.325980'), ('47.599192', '-122.325980'), ('47.599192', '-122.325980'), ('47.661269', '-122.313130'), ('47.661269', '-122.313130'), ('47.574384', '-122.329059'), ('47.574384', '-122.329059'), ('47.539220', '-122.376575'), ('47.539220', '-122.376575'), ('47.612937', '-122.300058'), ('47.612937', '-122.300058'), ('47.671645', '-122.387587'), ('47.671645', '-122.387587'), ('47.611629', '-122.339592'), ('47.611629', '-122.339592'), ('47.541205', '-122.360955'), ('47.541205', '-122.360955'), ('47.541205', '-122.360955'), ('47.658465', '-122.314359'), ('47.658465', '-122.314359'), ('47.602985', '-122.328535'), ('47.602985', '-122.328535'), ('47.602985', '-122.328535'), ('47.579509', '-122.409331'), ('47.579509', '-122.409331'), ('47.624358', '-122.313610'), ('47.624358', '-122.313610'), ('47.624358', '-122.313610'), ('47.610678', '-122.335574'), ('47.610678', '-122.335574'), ('47.608292', '-122.337995'), ('47.608292', '-122.337995'), ('47.608756', '-122.336885'), ('47.608756', '-122.336885'), ('47.619171', '-122.302547'), ('47.619171', '-122.302547'), ('47.619171', '-122.302547'), ('47.624737', '-122.347570'), ('47.624737', '-122.347570'), ('47.583629', '-122.325974'), ('47.583629', '-122.325974'), ('47.615234', '-122.327691'), ('47.615234', '-122.327691'), ('47.521595', '-122.264225'), ('47.521595', '-122.264225'), ('47.658301', '-122.312071'), ('47.658301', '-122.312071'), ('47.656434', '-122.391087'), ('47.656434', '-122.391087'), ('47.533694', '-122.361351'), ('47.533694', '-122.361351'), ('47.632331', '-122.311924'), ('47.632331', '-122.311924'), ('47.524317', '-122.359126'), ('47.524317', '-122.359126'), ('47.524317', '-122.359126'), ('47.612865', '-122.345651'), ('47.612865', '-122.345651'), ('47.612865', '-122.345651'), ('47.612865', '-122.345651'), ('47.627188', '-122.355382'), ('47.627188', '-122.355382'), ('47.627188', '-122.355382'), ('47.732881', '-122.296531'), ('47.732881', '-122.296531'), ('47.732881', '-122.296531'), ('47.732881', '-122.296531'), ('47.732881', '-122.296531'), ('47.732881', '-122.296531'), ('47.732881', '-122.296531'), ('47.554125', '-122.299237'), ('47.554125', '-122.299237'), ('47.554125', '-122.299237'), ('47.554125', '-122.299237'), ('47.609704', '-122.334621'), ('47.609704', '-122.334621'), ('47.613652', '-122.335253'), ('47.613652', '-122.335253'), ('47.613652', '-122.335253'), ('47.596654', '-122.314056'), ('47.596654', '-122.314056'), ('47.611444', '-122.322462'), ('47.611444', '-122.322462'), ('47.526441', '-122.314910'), ('47.526441', '-122.314910'), ('47.609750', '-122.337793'), ('47.609750', '-122.337793'), ('47.616656', '-122.325547'), ('47.616656', '-122.325547'), ('47.616656', '-122.325547'), ('47.661392', '-122.346667'), ('47.661392', '-122.346667'), ('47.661392', '-122.346667'), ('47.661392', '-122.346667'), ('47.615255', '-122.318026'), ('47.615255', '-122.318026'), ('47.652745', '-122.345964'), ('47.652745', '-122.345964'), ('47.652745', '-122.345964'), ('47.652745', '-122.345964'), ('47.583656', '-122.302199'), ('47.583656', '-122.302199'), ('47.583656', '-122.302199'), ('47.522680', '-122.357798'), ('47.522680', '-122.357798'), ('47.621155', '-122.312671'), ('47.621155', '-122.312671'), ('47.548703', '-122.334536'), ('47.548703', '-122.334536'), ('47.548703', '-122.334536'), ('47.548703', '-122.334536'), ('47.618561', '-122.345006'), ('47.618561', '-122.345006'), ('47.615557', '-122.344253'), ('47.615557', '-122.344253'), ('47.620716', '-122.347603'), ('47.620716', '-122.347603'), ('47.687101', '-122.376794'), ('47.687101', '-122.376794'), ('47.615689', '-122.352409'), ('47.615689', '-122.352409'), ('47.655320', '-122.307891'), ('47.655320', '-122.307891'), ('47.655320', '-122.307891'), ('47.622109', '-122.356969'), ('47.622109', '-122.356969'), ('47.549123', '-122.326171'), ('47.549123', '-122.326171'), ('47.626762', '-122.368579'), ('47.626762', '-122.368579'), ('47.611557', '-122.315340'), ('47.611557', '-122.315340'), ('47.661793', '-122.314272'), ('47.661793', '-122.314272'), ('47.692107', '-122.304836'), ('47.692107', '-122.304836'), ('47.552688', '-122.329558'), ('47.552688', '-122.329558'), ('47.552688', '-122.329558'), ('47.552688', '-122.329558'), ('47.618652', '-122.324006'), ('47.618652', '-122.324006'), ('47.604242', '-122.296798'), ('47.604242', '-122.296798'), ('47.604242', '-122.296798'), ('47.613831', '-122.341333'), ('47.613831', '-122.341333'), ('47.708935', '-122.320569'), ('47.708935', '-122.320569'), ('47.618652', '-122.324006'), ('47.618652', '-122.324006'), ('47.618652', '-122.324006'), ('47.618652', '-122.324006'), ('47.600011', '-122.314133'), ('47.600011', '-122.314133'), ('47.650742', '-122.308009'), ('47.650742', '-122.308009'), ('47.618618', '-122.358478'), ('47.618618', '-122.358478'), ('47.618618', '-122.358478'), ('47.521022', '-122.365894'), ('47.521022', '-122.365894'), ('47.586170', '-122.329979'), ('47.586170', '-122.329979'), ('47.623134', '-122.326592'), ('47.623134', '-122.326592'), ('47.599201', '-122.331578'), ('47.599201', '-122.331578'), ('47.612071', '-122.332244'), ('47.612071', '-122.332244'), ('47.571678', '-122.329103'), ('47.571678', '-122.329103'), ('47.668679', '-122.387576'), ('47.668679', '-122.387576'), ('47.613208', '-122.342140'), ('47.613208', '-122.342140'), ('47.608071', '-122.339327'), ('47.608071', '-122.339327'), ('47.608071', '-122.339327'), ('47.531389', '-122.392698'), ('47.531389', '-122.392698'), ('47.656018', '-122.316767'), ('47.656018', '-122.316767'), ('47.618550', '-122.342402'), ('47.618550', '-122.342402'), ('47.536766', '-122.317353'), ('47.536766', '-122.317353'), ('47.536766', '-122.317353'), ('47.520930', '-122.356471'), ('47.520930', '-122.356471'), ('47.617928', '-122.354220'), ('47.617928', '-122.354220'), ('47.611733', '-122.341753'), ('47.611733', '-122.341753'), ('47.531389', '-122.392698'), ('47.531389', '-122.392698'), ('47.639103', '-122.277088'), ('47.639103', '-122.277088'), ('47.639103', '-122.277088'), ('47.523310', '-122.272639'), ('47.523310', '-122.272639'), ('47.523310', '-122.272639'), ('47.523310', '-122.272639'), ('47.605624', '-122.334019'), ('47.605624', '-122.334019'), ('47.605624', '-122.334019'), ('47.605624', '-122.334019'), ('47.561110', '-122.386957'), ('47.561110', '-122.386957'), ('47.719572', '-122.344937'), ('47.719572', '-122.344937'), ('47.579809', '-122.327516'), ('47.579809', '-122.327516'), ('47.602382', '-122.332338'), ('47.602382', '-122.332338'), ('47.667885', '-122.370960'), ('47.667885', '-122.370960'), ('47.661269', '-122.313130'), ('47.661269', '-122.313130'), ('47.616595', '-122.340055'), ('47.616595', '-122.340055'), ('47.616595', '-122.340055'), ('47.623218', '-122.340830'), ('47.623218', '-122.340830'), ('47.623218', '-122.340830'), ('47.616989', '-122.330811'), ('47.616989', '-122.330811'), ('47.616989', '-122.330811'), ('47.617157', '-122.323443'), ('47.617157', '-122.323443'), ('47.607992', '-122.293632'), ('47.607992', '-122.293632'), ('47.613157', '-122.340192'), ('47.613157', '-122.340192'), ('47.701430', '-122.344651'), ('47.701430', '-122.344651'), ('47.701430', '-122.344651'), ('47.701430', '-122.344651'), ('47.609285', '-122.338904'), ('47.609285', '-122.338904'), ('47.609285', '-122.338904'), ('47.701430', '-122.344651'), ('47.701430', '-122.344651'), ('47.657519', '-122.320846'), ('47.657519', '-122.320846'), ('47.599191', '-122.325055'), ('47.599191', '-122.325055'), ('47.615249', '-122.349682'), ('47.615249', '-122.349682'), ('47.701430', '-122.344651'), ('47.701430', '-122.344651'), ('47.535284', '-122.376607'), ('47.535284', '-122.376607'), ('47.712528', '-122.355509'), ('47.712528', '-122.355509'), ('47.656828', '-122.338506'), ('47.656828', '-122.338506'), ('47.662193', '-122.366195'), ('47.662193', '-122.366195'), ('47.607828', '-122.339105'), ('47.607828', '-122.339105'), ('47.579809', '-122.325977'), ('47.579809', '-122.325977'), ('47.666820', '-122.316310'), ('47.666820', '-122.316310'), ('47.554140', '-122.329545'), ('47.554140', '-122.329545'), ('47.554140', '-122.329545'), ('47.554140', '-122.329545'), ('47.554140', '-122.329545'), ('47.554140', '-122.329545'), ('47.554140', '-122.329545'), ('47.554140', '-122.329545'), ('47.614600', '-122.342634'), ('47.614600', '-122.342634'), ('47.603019', '-122.333172'), ('47.603019', '-122.333172'), ('47.634726', '-122.279579'), ('47.634726', '-122.279579'), ('47.634726', '-122.279579'), ('47.579556', '-122.325977'), ('47.579556', '-122.325977'), ('47.681054', '-122.355307'), ('47.681054', '-122.355307'), ('47.719450', '-122.318134'), ('47.719450', '-122.318134'), ('47.658727', '-122.319785'), ('47.658727', '-122.319785'), ('47.613561', '-122.328687'), ('47.613561', '-122.328687'), ('47.613561', '-122.328687'), ('47.531555', '-122.285907'), ('47.531555', '-122.285907'), ('47.531555', '-122.285907'), ('47.650421', '-122.383358'), ('47.650421', '-122.383358'), ('47.534704', '-122.272269'), ('47.534704', '-122.272269'), ('47.620834', '-122.325091'), ('47.620834', '-122.325091'), ('47.619908', '-122.320873'), ('47.619908', '-122.320873'), ('47.589986', '-122.335119'), ('47.589986', '-122.335119'), ('47.618492', '-122.330723'), ('47.618492', '-122.330723'), ('47.535522', '-122.364086'), ('47.535522', '-122.364086'), ('47.657135', '-122.314394'), ('47.657135', '-122.314394'), ('47.659795', '-122.313168'), ('47.659795', '-122.313168'), ('47.622347', '-122.312639'), ('47.622347', '-122.312639'), ('47.534704', '-122.272287'), ('47.534704', '-122.272287'), ('47.595693', '-122.333273'), ('47.595693', '-122.333273'), ('47.595693', '-122.333273'), ('47.595693', '-122.333273'), ('47.604197', '-122.332714'), ('47.604197', '-122.332714'), ('47.588110', '-122.333264'), ('47.588110', '-122.333264'), ('47.616403', '-122.320817'), ('47.616403', '-122.320817'), ('47.661386', '-122.334908'), ('47.661386', '-122.334908'), ('47.661386', '-122.334908'), ('47.626727', '-122.359626'), ('47.626727', '-122.359626'), ('47.626727', '-122.359626'), ('47.616579', '-122.347964'), ('47.616579', '-122.347964'), ('47.616579', '-122.347964'), ('47.703635', '-122.355438'), ('47.703635', '-122.355438'), ('47.597509', '-122.319645'), ('47.597509', '-122.319645'), ('47.597509', '-122.319645'), ('47.625795', '-122.359313'), ('47.625795', '-122.359313'), ('47.659834', '-122.316385'), ('47.659834', '-122.316385'), ('47.667526', '-122.398452'), ('47.667526', '-122.398452'), ('47.658629', '-122.315512'), ('47.658629', '-122.315512'), ('47.658629', '-122.315512'), ('47.658629', '-122.315512'), ('47.658629', '-122.315512'), ('47.658540', '-122.314357'), ('47.658540', '-122.314357'), ('47.658540', '-122.314357'), ('47.658540', '-122.314357'), ('47.681382', '-122.376774'), ('47.681382', '-122.376774'), ('47.588195', '-122.325970'), ('47.588195', '-122.325970'), ('47.599193', '-122.316662'), ('47.599193', '-122.316662'), ('47.659460', '-122.319782'), ('47.659460', '-122.319782'), ('47.659460', '-122.319782'), ('47.614985', '-122.331840'), ('47.614985', '-122.331840'), ('47.615235', '-122.320799'), ('47.615235', '-122.320799'), ('47.652005', '-122.353411'), ('47.652005', '-122.353411'), ('47.612577', '-122.342956'), ('47.612577', '-122.342956'), ('47.690655', '-122.365993'), ('47.690655', '-122.365993'), ('47.608830', '-122.339990'), ('47.608830', '-122.339990'), ('47.627826', '-122.326620'), ('47.627826', '-122.326620'), ('47.618428', '-122.303639'), ('47.618428', '-122.303639'), ('47.588422', '-122.317276'), ('47.588422', '-122.317276'), ('47.531389', '-122.392698'), ('47.531389', '-122.392698'), ('47.624715', '-122.358015'), ('47.624715', '-122.358015'), ('47.615235', '-122.320799'), ('47.615235', '-122.320799'), ('47.611733', '-122.296223'), ('47.611733', '-122.296223'), ('47.611733', '-122.296223'), ('47.617077', '-122.326820'), ('47.617077', '-122.326820'), ('47.613561', '-122.328687'), ('47.613561', '-122.328687'), ('47.661332', '-122.314285'), ('47.661332', '-122.314285'), ('47.661332', '-122.314285'), ('47.646877', '-122.351337'), ('47.646877', '-122.351337'), ('47.619664', '-122.312722'), ('47.619664', '-122.312722'), ('47.610972', '-122.335843'), ('47.610972', '-122.335843'), ('47.610972', '-122.335843'), ('47.610972', '-122.335843'), ('47.589997', '-122.333263'), ('47.589997', '-122.333263'), ('47.645068', '-122.376206'), ('47.645068', '-122.376206'), ('47.645068', '-122.376206'), ('47.610743', '-122.338702'), ('47.610743', '-122.338702'), ('47.610743', '-122.338702'), ('47.681599', '-122.290438'), ('47.681599', '-122.290438'), ('47.616441', '-122.315567'), ('47.616441', '-122.315567'), ('47.677781', '-122.355322'), ('47.677781', '-122.355322'), ('47.613167', '-122.342193'), ('47.613167', '-122.342193'), ('47.524680', '-122.365875'), ('47.524680', '-122.365875'), ('47.614798', '-122.348918'), ('47.614798', '-122.348918'), ('47.610214', '-122.336683'), ('47.610214', '-122.336683'), ('47.627182', '-122.343467'), ('47.627182', '-122.343467'), ('47.707083', '-122.317831'), ('47.707083', '-122.317831'), ('47.678980', '-122.191895'), ('47.678980', '-122.191895'), ('47.590313', '-122.336404'), ('47.590313', '-122.336404'), ('47.590313', '-122.336404'), ('47.658478', '-122.315516'), ('47.658478', '-122.315516'), ('47.646802', '-122.410952'), ('47.646802', '-122.410952'), ('47.610743', '-122.338702'), ('47.610743', '-122.338702'), ('47.543719', '-122.328393'), ('47.543719', '-122.328393'), ('47.690648', '-122.401956'), ('47.690648', '-122.401956'), ('47.555493', '-122.329532'), ('47.555493', '-122.329532'), ('47.612136', '-122.335373'), ('47.612136', '-122.335373'), ('47.658150', '-122.318793'), ('47.658150', '-122.318793'), ('47.618123', '-122.347615'), ('47.618123', '-122.347615'), ('47.540170', '-122.360804'), ('47.540170', '-122.360804'), ('47.609381', '-122.283038'), ('47.609381', '-122.283038'), ('47.692382', '-122.344544'), ('47.692382', '-122.344544'), ('47.675783', '-122.290273'), ('47.675783', '-122.290273'), ('47.675783', '-122.290273'), ('47.626705', '-122.356694'), ('47.626705', '-122.356694'), ('47.642025', '-122.346933'), ('47.642025', '-122.346933'), ('47.615416', '-122.323419'), ('47.615416', '-122.323419'), ('47.613002', '-122.318123'), ('47.613002', '-122.318123'), ('47.555228', '-122.280742'), ('47.555228', '-122.280742'), ('47.694049', '-122.317599'), ('47.694049', '-122.317599'), ('47.621257', '-122.335854'), ('47.621257', '-122.335854'), ('47.689835', '-122.349636'), ('47.689835', '-122.349636'), ('47.618947', '-122.322190'), ('47.618947', '-122.322190'), ('47.594049', '-122.325967'), ('47.594049', '-122.325967'), ('47.579810', '-122.333269'), ('47.579810', '-122.333269'), ('47.686419', '-122.339487'), ('47.686419', '-122.339487'), ('47.583656', '-122.302199'), ('47.583656', '-122.302199'), ('47.611837', '-122.343912'), ('47.611837', '-122.343912'), ('47.615235', '-122.320799'), ('47.615235', '-122.320799'), ('47.613063', '-122.340033'), ('47.613063', '-122.340033'), ('47.612989', '-122.325458'), ('47.612989', '-122.325458'), ('47.560061', '-122.336796'), ('47.560061', '-122.336796'), ('47.607710', '-122.326721'), ('47.607710', '-122.326721'), ('47.567946', '-122.326755'), ('47.567946', '-122.326755'), ('47.567946', '-122.326755'), ('47.604911', '-122.333366'), ('47.604911', '-122.333366'), ('47.624588', '-122.330523'), ('47.624588', '-122.330523'), ('47.624588', '-122.330523'), ('47.623299', '-122.326593'), ('47.623299', '-122.326593'), ('47.618488', '-122.325286'), ('47.618488', '-122.325286'), ('47.605147', '-122.302790'), ('47.605147', '-122.302790'), ('47.605147', '-122.302790'), ('47.575200', '-122.335127'), ('47.575200', '-122.335127'), ('47.658308', '-122.312639'), ('47.658308', '-122.312639'), ('47.581176', '-122.383889'), ('47.581176', '-122.383889'), ('47.581176', '-122.383889'), ('47.581176', '-122.383889'), ('47.614076', '-122.320780'), ('47.614076', '-122.320780'), ('47.609783', '-122.342424'), ('47.609783', '-122.342424'), ('47.625452', '-122.355397'), ('47.625452', '-122.355397'), ('47.624259', '-122.314635'), ('47.624259', '-122.314635'), ('47.618740', '-122.320854'), ('47.618740', '-122.320854'), ('47.590313', '-122.336721'), ('47.590313', '-122.336721'), ('47.551827', '-122.346264'), ('47.551827', '-122.346264'), ('47.549170', '-122.317312'), ('47.549170', '-122.317312'), ('47.668586', '-122.311881'), ('47.668586', '-122.311881'), ('47.618489', '-122.325633'), ('47.618489', '-122.325633'), ('47.612987', '-122.323440'), ('47.612987', '-122.323440'), ('47.617100', '-122.350827'), ('47.617100', '-122.350827'), ('47.663663', '-122.374988'), ('47.663663', '-122.374988'), ('47.614809', '-122.346954'), ('47.614809', '-122.346954'), ('47.686942', '-122.344503'), ('47.686942', '-122.344503'), ('47.548171', '-122.373688'), ('47.548171', '-122.373688'), ('47.619908', '-122.320873'), ('47.619908', '-122.320873'), ('47.548171', '-122.373688'), ('47.548171', '-122.373688'), ('47.623129', '-122.320924'), ('47.623129', '-122.320924'), ('47.623129', '-122.320924'), ('47.612297', '-122.323239'), ('47.612297', '-122.323239'), ('47.612987', '-122.322823'), ('47.612987', '-122.322823'), ('47.561106', '-122.386778'), ('47.561106', '-122.386778'), ('47.606801', '-122.333562'), ('47.606801', '-122.333562'), ('47.544683', '-122.376445'), ('47.544683', '-122.376445'), ('47.599191', '-122.321025'), ('47.599191', '-122.321025'), ('47.588060', '-122.385208'), ('47.588060', '-122.385208'), ('47.586334', '-122.305534'), ('47.586334', '-122.305534'), ('47.661339', '-122.324036'), ('47.661339', '-122.324036'), ('47.614066', '-122.322111'), ('47.614066', '-122.322111'), ('47.614064', '-122.337587'), ('47.614064', '-122.337587'), ('47.704426', '-122.355446'), ('47.704426', '-122.355446'), ('47.704426', '-122.355446'), ('47.662042', '-122.304473'), ('47.662042', '-122.304473'), ('47.661269', '-122.313130'), ('47.661269', '-122.313130'), ('47.506583', '-122.270133'), ('47.506583', '-122.270133'), ('47.623520', '-122.331720'), ('47.623520', '-122.331720'), ('47.580507', '-122.313332'), ('47.580507', '-122.313332'), ('47.690648', '-122.401956'), ('47.690648', '-122.401956'), ('47.690648', '-122.401956'), ('47.534132', '-122.328132'), ('47.534132', '-122.328132'), ('47.621012', '-122.356738'), ('47.621012', '-122.356738'), ('47.610146', '-122.342059'), ('47.610146', '-122.342059'), ('47.610146', '-122.342059'), ('47.613301', '-122.337431'), ('47.613301', '-122.337431'), ('47.613301', '-122.337431'), ('47.546292', '-122.376405'), ('47.546292', '-122.376405'), ('47.618497', '-122.327854'), ('47.618497', '-122.327854'), ('47.557848', '-122.284881'), ('47.557848', '-122.284881'), ('47.658964', '-122.313191'), ('47.658964', '-122.313191'), ('47.602372', '-122.320739'), ('47.602372', '-122.320739'), ('47.624588', '-122.358016'), ('47.624588', '-122.358016'), ('47.725703', '-122.312655'), ('47.725703', '-122.312655'), ('47.709964', '-122.328614'), ('47.709964', '-122.328614'), ('47.589883', '-122.325969'), ('47.589883', '-122.325969'), ('47.608923', '-122.283156'), ('47.608923', '-122.283156'), ('47.608923', '-122.283156'), ('47.608923', '-122.283156'), ('47.612136', '-122.335373'), ('47.612136', '-122.335373'), ('47.617554', '-122.323446'), ('47.617554', '-122.323446'), ('47.617554', '-122.323446'), ('47.506583', '-122.270133'), ('47.506583', '-122.270133'), ('47.608854', '-122.339934'), ('47.608854', '-122.339934'), ('47.608854', '-122.339934'), ('47.609115', '-122.340282'), ('47.609115', '-122.340282'), ('47.609115', '-122.340282'), ('47.613167', '-122.342193'), ('47.613167', '-122.342193'), ('47.634743', '-122.358311'), ('47.634743', '-122.358311'), ('47.597517', '-122.327675'), ('47.597517', '-122.327675'), ('47.708663', '-122.333993'), ('47.708663', '-122.333993'), ('47.608845', '-122.339956'), ('47.608845', '-122.339956'), ('47.663125', '-122.318398'), ('47.663125', '-122.318398'), ('47.561106', '-122.386778'), ('47.561106', '-122.386778'), ('47.668677', '-122.383148'), ('47.668677', '-122.383148'), ('47.667954', '-122.376216'), ('47.667954', '-122.376216'), ('47.667954', '-122.376216'), ('47.668665', '-122.373589'), ('47.668665', '-122.373589'), ('47.667891', '-122.376216'), ('47.667891', '-122.376216'), ('47.668678', '-122.384746'), ('47.668678', '-122.384746'), ('47.668678', '-122.384746'), ('47.668766', '-122.313019'), ('47.668766', '-122.313019'), ('47.602051', '-122.307659'), ('47.602051', '-122.307659'), ('47.658964', '-122.313191'), ('47.658964', '-122.313191'), ('47.658651', '-122.347197'), ('47.658651', '-122.347197'), ('47.658651', '-122.347197'), ('47.612987', '-122.322823'), ('47.612987', '-122.322823'), ('47.659837', '-122.316617'), ('47.659837', '-122.316617'), ('47.586103', '-122.333266'), ('47.586103', '-122.333266'), ('47.610133', '-122.342037'), ('47.610133', '-122.342037'), ('47.610133', '-122.342037'), ('47.610133', '-122.342037'), ('47.633255', '-122.378853'), ('47.633255', '-122.378853'), ('47.686732', '-122.317553'), ('47.686732', '-122.317553'), ('47.600030', '-122.325052'), ('47.600030', '-122.325052'), ('47.599197', '-122.328968'), ('47.599197', '-122.328968'), ('47.573699', '-122.329991'), ('47.573699', '-122.329991'), ('47.616642', '-122.325547'), ('47.616642', '-122.325547'), ('47.574377', '-122.329059'), ('47.574377', '-122.329059'), ('47.574377', '-122.329059'), ('47.574377', '-122.329059'), ('47.654302', '-122.355486'), ('47.654302', '-122.355486'), ('47.663167', '-122.316358'), ('47.663167', '-122.316358'), ('47.605435', '-122.327711'), ('47.605435', '-122.327711'), ('47.605435', '-122.327711'), ('47.605435', '-122.327711'), ('47.605435', '-122.327711'), ('47.703140', '-122.323148'), ('47.703140', '-122.323148'), ('47.538637', '-122.320607'), ('47.538637', '-122.320607'), ('47.666585', '-122.313049'), ('47.666585', '-122.313049'), ('47.666585', '-122.313049'), ('47.573187', '-122.291975'), ('47.573187', '-122.291975'), ('47.567840', '-122.324031'), ('47.567840', '-122.324031'), ('47.659960', '-122.342217'), ('47.659960', '-122.342217'), ('47.618020', '-122.347749'), ('47.618020', '-122.347749'), ('47.611479', '-122.327097'), ('47.611479', '-122.327097'), ('47.599208', '-122.314139'), ('47.599208', '-122.314139'), ('47.666436', '-122.313051'), ('47.666436', '-122.313051'), ('47.677855', '-122.326186'), ('47.677855', '-122.326186'), ('47.677855', '-122.326186'), ('47.677855', '-122.326186'), ('47.581885', '-122.321397'), ('47.581885', '-122.321397'), ('47.579809', '-122.323505'), ('47.579809', '-122.323505'), ('47.619700', '-122.337170'), ('47.619700', '-122.337170'), ('47.600871', '-122.326354'), ('47.600871', '-122.326354'), ('47.667890', '-122.373589'), ('47.667890', '-122.373589'), ('47.698678', '-122.335050'), ('47.698678', '-122.335050'), ('47.664901', '-122.313074'), ('47.664901', '-122.313074'), ('47.664901', '-122.313074'), ('47.664901', '-122.313074'), ('47.620242', '-122.320878'), ('47.620242', '-122.320878'), ('47.6631', '-122.314238'), ('47.6631', '-122.314238'), ('47.6631', '-122.314238'), ('47.663288', '-122.314235'), ('47.663288', '-122.314235'), ('47.661444', '-122.313127'), ('47.661444', '-122.313127'), ('47.661277', '-122.314227'), ('47.661277', '-122.314227'), ('47.66147', '-122.314281'), ('47.66147', '-122.314281'), ('47.599191', '-122.325055'), ('47.599191', '-122.325055'), ('47.599191', '-122.325055'), ('47.593375', '-122.334194'), ('47.593375', '-122.334194'), ('47.593375', '-122.334194'), ('47.66973', '-122.364015'), ('47.66973', '-122.364015'), ('47.52331', '-122.272812'), ('47.52331', '-122.272812'), ('47.52331', '-122.272812'), ('47.52331', '-122.272812'), ('47.52331', '-122.272812'), ('47.52331', '-122.272812'), ('47.598352', '-122.325059'), ('47.598352', '-122.325059'), ('47.598352', '-122.325059'), ('47.603871', '-122.333951'), ('47.603871', '-122.333951'), ('47.68911', '-122.367271'), ('47.68911', '-122.367271'), ('47.536724', '-122.330122'), ('47.536724', '-122.330122'), ('47.57922', '-122.298814'), ('47.57922', '-122.298814'), ('47.625715', '-122.357024'), ('47.625715', '-122.357024'), ('47.625715', '-122.357024'), ('47.612253', '-122.323199'), ('47.612253', '-122.323199'), ('47.612253', '-122.323199'), ('47.612253', '-122.323199'), ('47.612253', '-122.323199'), ('47.612253', '-122.323199'), ('47.612253', '-122.323199'), ('47.612253', '-122.323199'), ('47.612253', '-122.323199')]\n"
          ],
          "name": "stdout"
        }
      ]
    },
    {
      "cell_type": "code",
      "metadata": {
        "id": "8TpttEqM56cA",
        "colab_type": "code",
        "outputId": "fdbbbfa7-8a9e-4ae6-f795-4ccdca3bea73",
        "colab": {
          "base_uri": "https://localhost:8080/",
          "height": 394
        }
      },
      "source": [
        "sprees['start_location'] = first_location\n",
        "sprees.head()"
      ],
      "execution_count": 140,
      "outputs": [
        {
          "output_type": "execute_result",
          "data": {
            "text/html": [
              "<div>\n",
              "<style scoped>\n",
              "    .dataframe tbody tr th:only-of-type {\n",
              "        vertical-align: middle;\n",
              "    }\n",
              "\n",
              "    .dataframe tbody tr th {\n",
              "        vertical-align: top;\n",
              "    }\n",
              "\n",
              "    .dataframe thead th {\n",
              "        text-align: right;\n",
              "    }\n",
              "</style>\n",
              "<table border=\"1\" class=\"dataframe\">\n",
              "  <thead>\n",
              "    <tr style=\"text-align: right;\">\n",
              "      <th></th>\n",
              "      <th>address</th>\n",
              "      <th>type</th>\n",
              "      <th>datetime</th>\n",
              "      <th>latitude</th>\n",
              "      <th>longitude</th>\n",
              "      <th>report_location</th>\n",
              "      <th>incident_number</th>\n",
              "      <th>year</th>\n",
              "      <th>month</th>\n",
              "      <th>date_obj</th>\n",
              "      <th>calls_within_24h</th>\n",
              "      <th>start_location</th>\n",
              "    </tr>\n",
              "  </thead>\n",
              "  <tbody>\n",
              "    <tr>\n",
              "      <th>2</th>\n",
              "      <td>6TH AV / PIKE ST</td>\n",
              "      <td>Dumpster Fire</td>\n",
              "      <td>2003-11-18T09:10:42.000</td>\n",
              "      <td>47.611142</td>\n",
              "      <td>-122.334464</td>\n",
              "      <td>(47.611142, -122.334464)</td>\n",
              "      <td>F030085104</td>\n",
              "      <td>2003</td>\n",
              "      <td>11</td>\n",
              "      <td>2003-11-18 09:10:42</td>\n",
              "      <td>2</td>\n",
              "      <td>(47.611142, -122.334464)</td>\n",
              "    </tr>\n",
              "    <tr>\n",
              "      <th>3</th>\n",
              "      <td>6th Av / Pike St</td>\n",
              "      <td>Dumpster Fire</td>\n",
              "      <td>2003-11-18T09:10:57.000</td>\n",
              "      <td>47.611142</td>\n",
              "      <td>-122.334464</td>\n",
              "      <td>(47.611142, -122.334464)</td>\n",
              "      <td>F030085103</td>\n",
              "      <td>2003</td>\n",
              "      <td>11</td>\n",
              "      <td>2003-11-18 09:10:57</td>\n",
              "      <td>2</td>\n",
              "      <td>(47.611142, -122.334464)</td>\n",
              "    </tr>\n",
              "    <tr>\n",
              "      <th>4</th>\n",
              "      <td>Stone Way N / N 45th St</td>\n",
              "      <td>Dumpster Fire</td>\n",
              "      <td>2003-11-18T15:38:25.000</td>\n",
              "      <td>47.661385</td>\n",
              "      <td>-122.342145</td>\n",
              "      <td>(47.661385, -122.342145)</td>\n",
              "      <td>F030085264</td>\n",
              "      <td>2003</td>\n",
              "      <td>11</td>\n",
              "      <td>2003-11-18 15:38:25</td>\n",
              "      <td>2</td>\n",
              "      <td>(47.611142, -122.334464)</td>\n",
              "    </tr>\n",
              "    <tr>\n",
              "      <th>7</th>\n",
              "      <td>401 2nd Av S</td>\n",
              "      <td>Dumpster Fire</td>\n",
              "      <td>2003-12-02T22:09:02.000</td>\n",
              "      <td>47.599192</td>\n",
              "      <td>-122.331578</td>\n",
              "      <td>(47.599192, -122.331578)</td>\n",
              "      <td>F030090264</td>\n",
              "      <td>2003</td>\n",
              "      <td>12</td>\n",
              "      <td>2003-12-02 22:09:02</td>\n",
              "      <td>7</td>\n",
              "      <td>(47.599192, -122.331578)</td>\n",
              "    </tr>\n",
              "    <tr>\n",
              "      <th>8</th>\n",
              "      <td>133 Pontius Av N</td>\n",
              "      <td>Dumpster Fire</td>\n",
              "      <td>2003-12-03T00:31:27.000</td>\n",
              "      <td>47.618887</td>\n",
              "      <td>-122.332245</td>\n",
              "      <td>(47.618887, -122.332245)</td>\n",
              "      <td>F030090301</td>\n",
              "      <td>2003</td>\n",
              "      <td>12</td>\n",
              "      <td>2003-12-03 00:31:27</td>\n",
              "      <td>7</td>\n",
              "      <td>(47.599192, -122.331578)</td>\n",
              "    </tr>\n",
              "  </tbody>\n",
              "</table>\n",
              "</div>"
            ],
            "text/plain": [
              "                   address  ...            start_location\n",
              "2         6TH AV / PIKE ST  ...  (47.611142, -122.334464)\n",
              "3         6th Av / Pike St  ...  (47.611142, -122.334464)\n",
              "4  Stone Way N / N 45th St  ...  (47.611142, -122.334464)\n",
              "7             401 2nd Av S  ...  (47.599192, -122.331578)\n",
              "8         133 Pontius Av N  ...  (47.599192, -122.331578)\n",
              "\n",
              "[5 rows x 12 columns]"
            ]
          },
          "metadata": {
            "tags": []
          },
          "execution_count": 140
        }
      ]
    },
    {
      "cell_type": "code",
      "metadata": {
        "id": "Y9D-uUdk7SPk",
        "colab_type": "code",
        "colab": {}
      },
      "source": [
        "def dist_from_start(row):\n",
        "  return distance(row['start_location'], row['report_location']).miles"
      ],
      "execution_count": 0,
      "outputs": []
    },
    {
      "cell_type": "code",
      "metadata": {
        "id": "BrATu7HZ8Mdj",
        "colab_type": "code",
        "colab": {}
      },
      "source": [
        "sprees['distance'] = sprees.apply(dist_from_start, axis = 1)"
      ],
      "execution_count": 0,
      "outputs": []
    },
    {
      "cell_type": "code",
      "metadata": {
        "id": "96X49Szn8Txm",
        "colab_type": "code",
        "outputId": "dd561d6d-a35c-4dc0-9d2f-d696a876abfb",
        "colab": {
          "base_uri": "https://localhost:8080/",
          "height": 394
        }
      },
      "source": [
        "sprees.head()"
      ],
      "execution_count": 143,
      "outputs": [
        {
          "output_type": "execute_result",
          "data": {
            "text/html": [
              "<div>\n",
              "<style scoped>\n",
              "    .dataframe tbody tr th:only-of-type {\n",
              "        vertical-align: middle;\n",
              "    }\n",
              "\n",
              "    .dataframe tbody tr th {\n",
              "        vertical-align: top;\n",
              "    }\n",
              "\n",
              "    .dataframe thead th {\n",
              "        text-align: right;\n",
              "    }\n",
              "</style>\n",
              "<table border=\"1\" class=\"dataframe\">\n",
              "  <thead>\n",
              "    <tr style=\"text-align: right;\">\n",
              "      <th></th>\n",
              "      <th>address</th>\n",
              "      <th>type</th>\n",
              "      <th>datetime</th>\n",
              "      <th>latitude</th>\n",
              "      <th>longitude</th>\n",
              "      <th>report_location</th>\n",
              "      <th>incident_number</th>\n",
              "      <th>year</th>\n",
              "      <th>month</th>\n",
              "      <th>date_obj</th>\n",
              "      <th>calls_within_24h</th>\n",
              "      <th>start_location</th>\n",
              "      <th>distance</th>\n",
              "    </tr>\n",
              "  </thead>\n",
              "  <tbody>\n",
              "    <tr>\n",
              "      <th>2</th>\n",
              "      <td>6TH AV / PIKE ST</td>\n",
              "      <td>Dumpster Fire</td>\n",
              "      <td>2003-11-18T09:10:42.000</td>\n",
              "      <td>47.611142</td>\n",
              "      <td>-122.334464</td>\n",
              "      <td>(47.611142, -122.334464)</td>\n",
              "      <td>F030085104</td>\n",
              "      <td>2003</td>\n",
              "      <td>11</td>\n",
              "      <td>2003-11-18 09:10:42</td>\n",
              "      <td>2</td>\n",
              "      <td>(47.611142, -122.334464)</td>\n",
              "      <td>0.000000</td>\n",
              "    </tr>\n",
              "    <tr>\n",
              "      <th>3</th>\n",
              "      <td>6th Av / Pike St</td>\n",
              "      <td>Dumpster Fire</td>\n",
              "      <td>2003-11-18T09:10:57.000</td>\n",
              "      <td>47.611142</td>\n",
              "      <td>-122.334464</td>\n",
              "      <td>(47.611142, -122.334464)</td>\n",
              "      <td>F030085103</td>\n",
              "      <td>2003</td>\n",
              "      <td>11</td>\n",
              "      <td>2003-11-18 09:10:57</td>\n",
              "      <td>2</td>\n",
              "      <td>(47.611142, -122.334464)</td>\n",
              "      <td>0.000000</td>\n",
              "    </tr>\n",
              "    <tr>\n",
              "      <th>4</th>\n",
              "      <td>Stone Way N / N 45th St</td>\n",
              "      <td>Dumpster Fire</td>\n",
              "      <td>2003-11-18T15:38:25.000</td>\n",
              "      <td>47.661385</td>\n",
              "      <td>-122.342145</td>\n",
              "      <td>(47.661385, -122.342145)</td>\n",
              "      <td>F030085264</td>\n",
              "      <td>2003</td>\n",
              "      <td>11</td>\n",
              "      <td>2003-11-18 15:38:25</td>\n",
              "      <td>2</td>\n",
              "      <td>(47.611142, -122.334464)</td>\n",
              "      <td>3.489572</td>\n",
              "    </tr>\n",
              "    <tr>\n",
              "      <th>7</th>\n",
              "      <td>401 2nd Av S</td>\n",
              "      <td>Dumpster Fire</td>\n",
              "      <td>2003-12-02T22:09:02.000</td>\n",
              "      <td>47.599192</td>\n",
              "      <td>-122.331578</td>\n",
              "      <td>(47.599192, -122.331578)</td>\n",
              "      <td>F030090264</td>\n",
              "      <td>2003</td>\n",
              "      <td>12</td>\n",
              "      <td>2003-12-02 22:09:02</td>\n",
              "      <td>7</td>\n",
              "      <td>(47.599192, -122.331578)</td>\n",
              "      <td>0.000000</td>\n",
              "    </tr>\n",
              "    <tr>\n",
              "      <th>8</th>\n",
              "      <td>133 Pontius Av N</td>\n",
              "      <td>Dumpster Fire</td>\n",
              "      <td>2003-12-03T00:31:27.000</td>\n",
              "      <td>47.618887</td>\n",
              "      <td>-122.332245</td>\n",
              "      <td>(47.618887, -122.332245)</td>\n",
              "      <td>F030090301</td>\n",
              "      <td>2003</td>\n",
              "      <td>12</td>\n",
              "      <td>2003-12-03 00:31:27</td>\n",
              "      <td>7</td>\n",
              "      <td>(47.599192, -122.331578)</td>\n",
              "      <td>1.361000</td>\n",
              "    </tr>\n",
              "  </tbody>\n",
              "</table>\n",
              "</div>"
            ],
            "text/plain": [
              "                   address           type  ...            start_location  distance\n",
              "2         6TH AV / PIKE ST  Dumpster Fire  ...  (47.611142, -122.334464)  0.000000\n",
              "3         6th Av / Pike St  Dumpster Fire  ...  (47.611142, -122.334464)  0.000000\n",
              "4  Stone Way N / N 45th St  Dumpster Fire  ...  (47.611142, -122.334464)  3.489572\n",
              "7             401 2nd Av S  Dumpster Fire  ...  (47.599192, -122.331578)  0.000000\n",
              "8         133 Pontius Av N  Dumpster Fire  ...  (47.599192, -122.331578)  1.361000\n",
              "\n",
              "[5 rows x 13 columns]"
            ]
          },
          "metadata": {
            "tags": []
          },
          "execution_count": 143
        }
      ]
    },
    {
      "cell_type": "code",
      "metadata": {
        "id": "UBI3VnQs9K8T",
        "colab_type": "code",
        "colab": {}
      },
      "source": [
        "less_than_mile = sprees[sprees['distance'] <= 1]"
      ],
      "execution_count": 0,
      "outputs": []
    },
    {
      "cell_type": "code",
      "metadata": {
        "id": "aXpe2JXx9W9J",
        "colab_type": "code",
        "outputId": "4a6a3477-5bb8-4ac5-9f5d-7ff204ddc48b",
        "colab": {
          "base_uri": "https://localhost:8080/",
          "height": 411
        }
      },
      "source": [
        "print(less_than_mile.shape)\n",
        "less_than_mile.head()"
      ],
      "execution_count": 145,
      "outputs": [
        {
          "output_type": "stream",
          "text": [
            "(487, 13)\n"
          ],
          "name": "stdout"
        },
        {
          "output_type": "execute_result",
          "data": {
            "text/html": [
              "<div>\n",
              "<style scoped>\n",
              "    .dataframe tbody tr th:only-of-type {\n",
              "        vertical-align: middle;\n",
              "    }\n",
              "\n",
              "    .dataframe tbody tr th {\n",
              "        vertical-align: top;\n",
              "    }\n",
              "\n",
              "    .dataframe thead th {\n",
              "        text-align: right;\n",
              "    }\n",
              "</style>\n",
              "<table border=\"1\" class=\"dataframe\">\n",
              "  <thead>\n",
              "    <tr style=\"text-align: right;\">\n",
              "      <th></th>\n",
              "      <th>address</th>\n",
              "      <th>type</th>\n",
              "      <th>datetime</th>\n",
              "      <th>latitude</th>\n",
              "      <th>longitude</th>\n",
              "      <th>report_location</th>\n",
              "      <th>incident_number</th>\n",
              "      <th>year</th>\n",
              "      <th>month</th>\n",
              "      <th>date_obj</th>\n",
              "      <th>calls_within_24h</th>\n",
              "      <th>start_location</th>\n",
              "      <th>distance</th>\n",
              "    </tr>\n",
              "  </thead>\n",
              "  <tbody>\n",
              "    <tr>\n",
              "      <th>2</th>\n",
              "      <td>6TH AV / PIKE ST</td>\n",
              "      <td>Dumpster Fire</td>\n",
              "      <td>2003-11-18T09:10:42.000</td>\n",
              "      <td>47.611142</td>\n",
              "      <td>-122.334464</td>\n",
              "      <td>(47.611142, -122.334464)</td>\n",
              "      <td>F030085104</td>\n",
              "      <td>2003</td>\n",
              "      <td>11</td>\n",
              "      <td>2003-11-18 09:10:42</td>\n",
              "      <td>2</td>\n",
              "      <td>(47.611142, -122.334464)</td>\n",
              "      <td>0.0</td>\n",
              "    </tr>\n",
              "    <tr>\n",
              "      <th>3</th>\n",
              "      <td>6th Av / Pike St</td>\n",
              "      <td>Dumpster Fire</td>\n",
              "      <td>2003-11-18T09:10:57.000</td>\n",
              "      <td>47.611142</td>\n",
              "      <td>-122.334464</td>\n",
              "      <td>(47.611142, -122.334464)</td>\n",
              "      <td>F030085103</td>\n",
              "      <td>2003</td>\n",
              "      <td>11</td>\n",
              "      <td>2003-11-18 09:10:57</td>\n",
              "      <td>2</td>\n",
              "      <td>(47.611142, -122.334464)</td>\n",
              "      <td>0.0</td>\n",
              "    </tr>\n",
              "    <tr>\n",
              "      <th>7</th>\n",
              "      <td>401 2nd Av S</td>\n",
              "      <td>Dumpster Fire</td>\n",
              "      <td>2003-12-02T22:09:02.000</td>\n",
              "      <td>47.599192</td>\n",
              "      <td>-122.331578</td>\n",
              "      <td>(47.599192, -122.331578)</td>\n",
              "      <td>F030090264</td>\n",
              "      <td>2003</td>\n",
              "      <td>12</td>\n",
              "      <td>2003-12-02 22:09:02</td>\n",
              "      <td>7</td>\n",
              "      <td>(47.599192, -122.331578)</td>\n",
              "      <td>0.0</td>\n",
              "    </tr>\n",
              "    <tr>\n",
              "      <th>10</th>\n",
              "      <td>23rd Av / E Cherry St</td>\n",
              "      <td>Dumpster Fire</td>\n",
              "      <td>2003-12-08T20:41:15.000</td>\n",
              "      <td>47.608009</td>\n",
              "      <td>-122.302770</td>\n",
              "      <td>(47.608009, -122.302770)</td>\n",
              "      <td>F030092604</td>\n",
              "      <td>2003</td>\n",
              "      <td>12</td>\n",
              "      <td>2003-12-08 20:41:15</td>\n",
              "      <td>10</td>\n",
              "      <td>(47.608009, -122.302770)</td>\n",
              "      <td>0.0</td>\n",
              "    </tr>\n",
              "    <tr>\n",
              "      <th>13</th>\n",
              "      <td>20th Av Nw / Nw 65th St</td>\n",
              "      <td>Dumpster Fire</td>\n",
              "      <td>2003-12-09T23:11:28.000</td>\n",
              "      <td>47.675985</td>\n",
              "      <td>-122.382128</td>\n",
              "      <td>(47.675985, -122.382128)</td>\n",
              "      <td>F030092968</td>\n",
              "      <td>2003</td>\n",
              "      <td>12</td>\n",
              "      <td>2003-12-09 23:11:28</td>\n",
              "      <td>13</td>\n",
              "      <td>(47.675985, -122.382128)</td>\n",
              "      <td>0.0</td>\n",
              "    </tr>\n",
              "  </tbody>\n",
              "</table>\n",
              "</div>"
            ],
            "text/plain": [
              "                    address           type  ...            start_location distance\n",
              "2          6TH AV / PIKE ST  Dumpster Fire  ...  (47.611142, -122.334464)      0.0\n",
              "3          6th Av / Pike St  Dumpster Fire  ...  (47.611142, -122.334464)      0.0\n",
              "7              401 2nd Av S  Dumpster Fire  ...  (47.599192, -122.331578)      0.0\n",
              "10    23rd Av / E Cherry St  Dumpster Fire  ...  (47.608009, -122.302770)      0.0\n",
              "13  20th Av Nw / Nw 65th St  Dumpster Fire  ...  (47.675985, -122.382128)      0.0\n",
              "\n",
              "[5 rows x 13 columns]"
            ]
          },
          "metadata": {
            "tags": []
          },
          "execution_count": 145
        }
      ]
    },
    {
      "cell_type": "code",
      "metadata": {
        "id": "5V7L9ODG-WEL",
        "colab_type": "code",
        "outputId": "850575a0-3240-4ce0-c076-3621811d67a4",
        "colab": {
          "base_uri": "https://localhost:8080/",
          "height": 136
        }
      },
      "source": [
        "less_than_mile['calls_within_24h'].value_counts().value_counts()"
      ],
      "execution_count": 146,
      "outputs": [
        {
          "output_type": "execute_result",
          "data": {
            "text/plain": [
              "1    249\n",
              "2     87\n",
              "3     14\n",
              "4      2\n",
              "9      1\n",
              "5      1\n",
              "Name: calls_within_24h, dtype: int64"
            ]
          },
          "metadata": {
            "tags": []
          },
          "execution_count": 146
        }
      ]
    },
    {
      "cell_type": "code",
      "metadata": {
        "id": "nZPFy0ou_EtO",
        "colab_type": "code",
        "outputId": "c0a3e2d1-fea5-4b70-e3db-2efc199ac88b",
        "colab": {
          "base_uri": "https://localhost:8080/",
          "height": 204
        }
      },
      "source": [
        "#okay I think I'm interpreting this right.  But basically if there is only 1\n",
        "#value, that means its pair was dropped for being greater than a mile off.\n",
        "#which means we can ignore it for determing what sprees happened within a mile\n",
        "#radius.  Wow this is awesome.\n",
        "\n",
        "final_sprees = pd.DataFrame(less_than_mile['calls_within_24h'].value_counts().value_counts())\n",
        "final_sprees.head()"
      ],
      "execution_count": 147,
      "outputs": [
        {
          "output_type": "execute_result",
          "data": {
            "text/html": [
              "<div>\n",
              "<style scoped>\n",
              "    .dataframe tbody tr th:only-of-type {\n",
              "        vertical-align: middle;\n",
              "    }\n",
              "\n",
              "    .dataframe tbody tr th {\n",
              "        vertical-align: top;\n",
              "    }\n",
              "\n",
              "    .dataframe thead th {\n",
              "        text-align: right;\n",
              "    }\n",
              "</style>\n",
              "<table border=\"1\" class=\"dataframe\">\n",
              "  <thead>\n",
              "    <tr style=\"text-align: right;\">\n",
              "      <th></th>\n",
              "      <th>calls_within_24h</th>\n",
              "    </tr>\n",
              "  </thead>\n",
              "  <tbody>\n",
              "    <tr>\n",
              "      <th>1</th>\n",
              "      <td>249</td>\n",
              "    </tr>\n",
              "    <tr>\n",
              "      <th>2</th>\n",
              "      <td>87</td>\n",
              "    </tr>\n",
              "    <tr>\n",
              "      <th>3</th>\n",
              "      <td>14</td>\n",
              "    </tr>\n",
              "    <tr>\n",
              "      <th>4</th>\n",
              "      <td>2</td>\n",
              "    </tr>\n",
              "    <tr>\n",
              "      <th>9</th>\n",
              "      <td>1</td>\n",
              "    </tr>\n",
              "  </tbody>\n",
              "</table>\n",
              "</div>"
            ],
            "text/plain": [
              "   calls_within_24h\n",
              "1               249\n",
              "2                87\n",
              "3                14\n",
              "4                 2\n",
              "9                 1"
            ]
          },
          "metadata": {
            "tags": []
          },
          "execution_count": 147
        }
      ]
    },
    {
      "cell_type": "code",
      "metadata": {
        "id": "_iGZRctyBOGd",
        "colab_type": "code",
        "colab": {}
      },
      "source": [
        "final_sprees.drop(index = 1, axis = 1, inplace = True)"
      ],
      "execution_count": 0,
      "outputs": []
    },
    {
      "cell_type": "code",
      "metadata": {
        "id": "I8FNAu_FBXs3",
        "colab_type": "code",
        "colab": {}
      },
      "source": [
        "final_sprees.reset_index(inplace = True)"
      ],
      "execution_count": 0,
      "outputs": []
    },
    {
      "cell_type": "code",
      "metadata": {
        "id": "pWYhsXwfBp74",
        "colab_type": "code",
        "colab": {}
      },
      "source": [
        "final_sprees.rename(columns = {'index': 'Number of calls within 24 hours', 'calls_within_24h': 'Occured within a mile'}, inplace = True)"
      ],
      "execution_count": 0,
      "outputs": []
    },
    {
      "cell_type": "code",
      "metadata": {
        "id": "-6ED0ctR_6b6",
        "colab_type": "code",
        "outputId": "92f2a449-9a20-45f9-e871-83152213780c",
        "colab": {
          "base_uri": "https://localhost:8080/",
          "height": 119
        }
      },
      "source": [
        "#lets knock out a percentage of total for this one as well.\n",
        "final_sprees['raw_percentage'] = final_sprees['Occured within a mile'] * final_sprees['Number of calls within 24 hours']\n",
        "final_sprees['raw_percentage'] = final_sprees['raw_percentage'].apply(lambda x: round((x * 100) / dumpster.shape[0], 2))\n",
        "final_sprees['Percentage'] = final_sprees['raw_percentage'].apply(lambda x: str(x) + '%')\n",
        "final_sprees['Percentage']"
      ],
      "execution_count": 151,
      "outputs": [
        {
          "output_type": "execute_result",
          "data": {
            "text/plain": [
              "0    10.37%\n",
              "1      2.5%\n",
              "2     0.48%\n",
              "3     0.54%\n",
              "4      0.3%\n",
              "Name: Percentage, dtype: object"
            ]
          },
          "metadata": {
            "tags": []
          },
          "execution_count": 151
        }
      ]
    },
    {
      "cell_type": "code",
      "metadata": {
        "id": "kL-BTq8GNOfw",
        "colab_type": "code",
        "outputId": "1419e8fe-d045-4dd5-f862-a1e1500c5029",
        "colab": {
          "base_uri": "https://localhost:8080/",
          "height": 119
        }
      },
      "source": [
        "final_sprees['raw_percentage']"
      ],
      "execution_count": 152,
      "outputs": [
        {
          "output_type": "execute_result",
          "data": {
            "text/plain": [
              "0    10.37\n",
              "1     2.50\n",
              "2     0.48\n",
              "3     0.54\n",
              "4     0.30\n",
              "Name: raw_percentage, dtype: float64"
            ]
          },
          "metadata": {
            "tags": []
          },
          "execution_count": 152
        }
      ]
    },
    {
      "cell_type": "code",
      "metadata": {
        "id": "HkrevfrEBrmn",
        "colab_type": "code",
        "outputId": "af9e4e9c-e1db-4671-e486-5b07f1901673",
        "colab": {
          "base_uri": "https://localhost:8080/",
          "height": 542
        }
      },
      "source": [
        "fig = px.bar(final_sprees, x = 'Number of calls within 24 hours', \n",
        "             y = 'Occured within a mile', text = 'Percentage',\n",
        "             title = 'Dumpster Fires Reported to 911',\n",
        "             color_discrete_sequence = colors)\n",
        "fig.update_xaxes(tickmode = 'linear')\n",
        "fig.show()"
      ],
      "execution_count": 153,
      "outputs": [
        {
          "output_type": "display_data",
          "data": {
            "text/html": [
              "<html>\n",
              "<head><meta charset=\"utf-8\" /></head>\n",
              "<body>\n",
              "    <div>\n",
              "            <script src=\"https://cdnjs.cloudflare.com/ajax/libs/mathjax/2.7.5/MathJax.js?config=TeX-AMS-MML_SVG\"></script><script type=\"text/javascript\">if (window.MathJax) {MathJax.Hub.Config({SVG: {font: \"STIX-Web\"}});}</script>\n",
              "                <script type=\"text/javascript\">window.PlotlyConfig = {MathJaxConfig: 'local'};</script>\n",
              "        <script src=\"https://cdn.plot.ly/plotly-latest.min.js\"></script>    \n",
              "            <div id=\"1b8708ed-cf1d-4482-a5f2-99aff527ad99\" class=\"plotly-graph-div\" style=\"height:525px; width:100%;\"></div>\n",
              "            <script type=\"text/javascript\">\n",
              "                \n",
              "                    window.PLOTLYENV=window.PLOTLYENV || {};\n",
              "                    \n",
              "                if (document.getElementById(\"1b8708ed-cf1d-4482-a5f2-99aff527ad99\")) {\n",
              "                    Plotly.newPlot(\n",
              "                        '1b8708ed-cf1d-4482-a5f2-99aff527ad99',\n",
              "                        [{\"alignmentgroup\": \"True\", \"hoverlabel\": {\"namelength\": 0}, \"hovertemplate\": \"Number of calls within 24 hours=%{x}<br>Occured within a mile=%{y}<br>Percentage=%{text}\", \"legendgroup\": \"\", \"marker\": {\"color\": \"#7a0000\"}, \"name\": \"\", \"offsetgroup\": \"\", \"orientation\": \"v\", \"showlegend\": false, \"text\": [\"10.37%\", \"2.5%\", \"0.48%\", \"0.54%\", \"0.3%\"], \"textposition\": \"auto\", \"type\": \"bar\", \"x\": [2, 3, 4, 9, 5], \"xaxis\": \"x\", \"y\": [87, 14, 2, 1, 1], \"yaxis\": \"y\"}],\n",
              "                        {\"barmode\": \"relative\", \"legend\": {\"tracegroupgap\": 0}, \"template\": {\"data\": {\"bar\": [{\"error_x\": {\"color\": \"#2a3f5f\"}, \"error_y\": {\"color\": \"#2a3f5f\"}, \"marker\": {\"line\": {\"color\": \"#E5ECF6\", \"width\": 0.5}}, \"type\": \"bar\"}], \"barpolar\": [{\"marker\": {\"line\": {\"color\": \"#E5ECF6\", \"width\": 0.5}}, \"type\": \"barpolar\"}], \"carpet\": [{\"aaxis\": {\"endlinecolor\": \"#2a3f5f\", \"gridcolor\": \"white\", \"linecolor\": \"white\", \"minorgridcolor\": \"white\", \"startlinecolor\": \"#2a3f5f\"}, \"baxis\": {\"endlinecolor\": \"#2a3f5f\", \"gridcolor\": \"white\", \"linecolor\": \"white\", \"minorgridcolor\": \"white\", \"startlinecolor\": \"#2a3f5f\"}, \"type\": \"carpet\"}], \"choropleth\": [{\"colorbar\": {\"outlinewidth\": 0, \"ticks\": \"\"}, \"type\": \"choropleth\"}], \"contour\": [{\"colorbar\": {\"outlinewidth\": 0, \"ticks\": \"\"}, \"colorscale\": [[0.0, \"#0d0887\"], [0.1111111111111111, \"#46039f\"], [0.2222222222222222, \"#7201a8\"], [0.3333333333333333, \"#9c179e\"], [0.4444444444444444, \"#bd3786\"], [0.5555555555555556, \"#d8576b\"], [0.6666666666666666, \"#ed7953\"], [0.7777777777777778, \"#fb9f3a\"], [0.8888888888888888, \"#fdca26\"], [1.0, \"#f0f921\"]], \"type\": \"contour\"}], \"contourcarpet\": [{\"colorbar\": {\"outlinewidth\": 0, \"ticks\": \"\"}, \"type\": \"contourcarpet\"}], \"heatmap\": [{\"colorbar\": {\"outlinewidth\": 0, \"ticks\": \"\"}, \"colorscale\": [[0.0, \"#0d0887\"], [0.1111111111111111, \"#46039f\"], [0.2222222222222222, \"#7201a8\"], [0.3333333333333333, \"#9c179e\"], [0.4444444444444444, \"#bd3786\"], [0.5555555555555556, \"#d8576b\"], [0.6666666666666666, \"#ed7953\"], [0.7777777777777778, \"#fb9f3a\"], [0.8888888888888888, \"#fdca26\"], [1.0, \"#f0f921\"]], \"type\": \"heatmap\"}], \"heatmapgl\": [{\"colorbar\": {\"outlinewidth\": 0, \"ticks\": \"\"}, \"colorscale\": [[0.0, \"#0d0887\"], [0.1111111111111111, \"#46039f\"], [0.2222222222222222, \"#7201a8\"], [0.3333333333333333, \"#9c179e\"], [0.4444444444444444, \"#bd3786\"], [0.5555555555555556, \"#d8576b\"], [0.6666666666666666, \"#ed7953\"], [0.7777777777777778, \"#fb9f3a\"], [0.8888888888888888, \"#fdca26\"], [1.0, \"#f0f921\"]], \"type\": \"heatmapgl\"}], \"histogram\": [{\"marker\": {\"colorbar\": {\"outlinewidth\": 0, \"ticks\": \"\"}}, \"type\": \"histogram\"}], \"histogram2d\": [{\"colorbar\": {\"outlinewidth\": 0, \"ticks\": \"\"}, \"colorscale\": [[0.0, \"#0d0887\"], [0.1111111111111111, \"#46039f\"], [0.2222222222222222, \"#7201a8\"], [0.3333333333333333, \"#9c179e\"], [0.4444444444444444, \"#bd3786\"], [0.5555555555555556, \"#d8576b\"], [0.6666666666666666, \"#ed7953\"], [0.7777777777777778, \"#fb9f3a\"], [0.8888888888888888, \"#fdca26\"], [1.0, \"#f0f921\"]], \"type\": \"histogram2d\"}], \"histogram2dcontour\": [{\"colorbar\": {\"outlinewidth\": 0, \"ticks\": \"\"}, \"colorscale\": [[0.0, \"#0d0887\"], [0.1111111111111111, \"#46039f\"], [0.2222222222222222, \"#7201a8\"], [0.3333333333333333, \"#9c179e\"], [0.4444444444444444, \"#bd3786\"], [0.5555555555555556, \"#d8576b\"], [0.6666666666666666, \"#ed7953\"], [0.7777777777777778, \"#fb9f3a\"], [0.8888888888888888, \"#fdca26\"], [1.0, \"#f0f921\"]], \"type\": \"histogram2dcontour\"}], \"mesh3d\": [{\"colorbar\": {\"outlinewidth\": 0, \"ticks\": \"\"}, \"type\": \"mesh3d\"}], \"parcoords\": [{\"line\": {\"colorbar\": {\"outlinewidth\": 0, \"ticks\": \"\"}}, \"type\": \"parcoords\"}], \"pie\": [{\"automargin\": true, \"type\": \"pie\"}], \"scatter\": [{\"marker\": {\"colorbar\": {\"outlinewidth\": 0, \"ticks\": \"\"}}, \"type\": \"scatter\"}], \"scatter3d\": [{\"line\": {\"colorbar\": {\"outlinewidth\": 0, \"ticks\": \"\"}}, \"marker\": {\"colorbar\": {\"outlinewidth\": 0, \"ticks\": \"\"}}, \"type\": \"scatter3d\"}], \"scattercarpet\": [{\"marker\": {\"colorbar\": {\"outlinewidth\": 0, \"ticks\": \"\"}}, \"type\": \"scattercarpet\"}], \"scattergeo\": [{\"marker\": {\"colorbar\": {\"outlinewidth\": 0, \"ticks\": \"\"}}, \"type\": \"scattergeo\"}], \"scattergl\": [{\"marker\": {\"colorbar\": {\"outlinewidth\": 0, \"ticks\": \"\"}}, \"type\": \"scattergl\"}], \"scattermapbox\": [{\"marker\": {\"colorbar\": {\"outlinewidth\": 0, \"ticks\": \"\"}}, \"type\": \"scattermapbox\"}], \"scatterpolar\": [{\"marker\": {\"colorbar\": {\"outlinewidth\": 0, \"ticks\": \"\"}}, \"type\": \"scatterpolar\"}], \"scatterpolargl\": [{\"marker\": {\"colorbar\": {\"outlinewidth\": 0, \"ticks\": \"\"}}, \"type\": \"scatterpolargl\"}], \"scatterternary\": [{\"marker\": {\"colorbar\": {\"outlinewidth\": 0, \"ticks\": \"\"}}, \"type\": \"scatterternary\"}], \"surface\": [{\"colorbar\": {\"outlinewidth\": 0, \"ticks\": \"\"}, \"colorscale\": [[0.0, \"#0d0887\"], [0.1111111111111111, \"#46039f\"], [0.2222222222222222, \"#7201a8\"], [0.3333333333333333, \"#9c179e\"], [0.4444444444444444, \"#bd3786\"], [0.5555555555555556, \"#d8576b\"], [0.6666666666666666, \"#ed7953\"], [0.7777777777777778, \"#fb9f3a\"], [0.8888888888888888, \"#fdca26\"], [1.0, \"#f0f921\"]], \"type\": \"surface\"}], \"table\": [{\"cells\": {\"fill\": {\"color\": \"#EBF0F8\"}, \"line\": {\"color\": \"white\"}}, \"header\": {\"fill\": {\"color\": \"#C8D4E3\"}, \"line\": {\"color\": \"white\"}}, \"type\": \"table\"}]}, \"layout\": {\"annotationdefaults\": {\"arrowcolor\": \"#2a3f5f\", \"arrowhead\": 0, \"arrowwidth\": 1}, \"coloraxis\": {\"colorbar\": {\"outlinewidth\": 0, \"ticks\": \"\"}}, \"colorscale\": {\"diverging\": [[0, \"#8e0152\"], [0.1, \"#c51b7d\"], [0.2, \"#de77ae\"], [0.3, \"#f1b6da\"], [0.4, \"#fde0ef\"], [0.5, \"#f7f7f7\"], [0.6, \"#e6f5d0\"], [0.7, \"#b8e186\"], [0.8, \"#7fbc41\"], [0.9, \"#4d9221\"], [1, \"#276419\"]], \"sequential\": [[0.0, \"#0d0887\"], [0.1111111111111111, \"#46039f\"], [0.2222222222222222, \"#7201a8\"], [0.3333333333333333, \"#9c179e\"], [0.4444444444444444, \"#bd3786\"], [0.5555555555555556, \"#d8576b\"], [0.6666666666666666, \"#ed7953\"], [0.7777777777777778, \"#fb9f3a\"], [0.8888888888888888, \"#fdca26\"], [1.0, \"#f0f921\"]], \"sequentialminus\": [[0.0, \"#0d0887\"], [0.1111111111111111, \"#46039f\"], [0.2222222222222222, \"#7201a8\"], [0.3333333333333333, \"#9c179e\"], [0.4444444444444444, \"#bd3786\"], [0.5555555555555556, \"#d8576b\"], [0.6666666666666666, \"#ed7953\"], [0.7777777777777778, \"#fb9f3a\"], [0.8888888888888888, \"#fdca26\"], [1.0, \"#f0f921\"]]}, \"colorway\": [\"#636efa\", \"#EF553B\", \"#00cc96\", \"#ab63fa\", \"#FFA15A\", \"#19d3f3\", \"#FF6692\", \"#B6E880\", \"#FF97FF\", \"#FECB52\"], \"font\": {\"color\": \"#2a3f5f\"}, \"geo\": {\"bgcolor\": \"white\", \"lakecolor\": \"white\", \"landcolor\": \"#E5ECF6\", \"showlakes\": true, \"showland\": true, \"subunitcolor\": \"white\"}, \"hoverlabel\": {\"align\": \"left\"}, \"hovermode\": \"closest\", \"mapbox\": {\"style\": \"light\"}, \"paper_bgcolor\": \"white\", \"plot_bgcolor\": \"#E5ECF6\", \"polar\": {\"angularaxis\": {\"gridcolor\": \"white\", \"linecolor\": \"white\", \"ticks\": \"\"}, \"bgcolor\": \"#E5ECF6\", \"radialaxis\": {\"gridcolor\": \"white\", \"linecolor\": \"white\", \"ticks\": \"\"}}, \"scene\": {\"xaxis\": {\"backgroundcolor\": \"#E5ECF6\", \"gridcolor\": \"white\", \"gridwidth\": 2, \"linecolor\": \"white\", \"showbackground\": true, \"ticks\": \"\", \"zerolinecolor\": \"white\"}, \"yaxis\": {\"backgroundcolor\": \"#E5ECF6\", \"gridcolor\": \"white\", \"gridwidth\": 2, \"linecolor\": \"white\", \"showbackground\": true, \"ticks\": \"\", \"zerolinecolor\": \"white\"}, \"zaxis\": {\"backgroundcolor\": \"#E5ECF6\", \"gridcolor\": \"white\", \"gridwidth\": 2, \"linecolor\": \"white\", \"showbackground\": true, \"ticks\": \"\", \"zerolinecolor\": \"white\"}}, \"shapedefaults\": {\"line\": {\"color\": \"#2a3f5f\"}}, \"ternary\": {\"aaxis\": {\"gridcolor\": \"white\", \"linecolor\": \"white\", \"ticks\": \"\"}, \"baxis\": {\"gridcolor\": \"white\", \"linecolor\": \"white\", \"ticks\": \"\"}, \"bgcolor\": \"#E5ECF6\", \"caxis\": {\"gridcolor\": \"white\", \"linecolor\": \"white\", \"ticks\": \"\"}}, \"title\": {\"x\": 0.05}, \"xaxis\": {\"automargin\": true, \"gridcolor\": \"white\", \"linecolor\": \"white\", \"ticks\": \"\", \"title\": {\"standoff\": 15}, \"zerolinecolor\": \"white\", \"zerolinewidth\": 2}, \"yaxis\": {\"automargin\": true, \"gridcolor\": \"white\", \"linecolor\": \"white\", \"ticks\": \"\", \"title\": {\"standoff\": 15}, \"zerolinecolor\": \"white\", \"zerolinewidth\": 2}}}, \"title\": {\"text\": \"Dumpster Fires Reported to 911\"}, \"xaxis\": {\"anchor\": \"y\", \"domain\": [0.0, 1.0], \"tickmode\": \"linear\", \"title\": {\"text\": \"Number of calls within 24 hours\"}}, \"yaxis\": {\"anchor\": \"x\", \"domain\": [0.0, 1.0], \"title\": {\"text\": \"Occured within a mile\"}}},\n",
              "                        {\"responsive\": true}\n",
              "                    ).then(function(){\n",
              "                            \n",
              "var gd = document.getElementById('1b8708ed-cf1d-4482-a5f2-99aff527ad99');\n",
              "var x = new MutationObserver(function (mutations, observer) {{\n",
              "        var display = window.getComputedStyle(gd).display;\n",
              "        if (!display || display === 'none') {{\n",
              "            console.log([gd, 'removed!']);\n",
              "            Plotly.purge(gd);\n",
              "            observer.disconnect();\n",
              "        }}\n",
              "}});\n",
              "\n",
              "// Listen for the removal of the full notebook cells\n",
              "var notebookContainer = gd.closest('#notebook-container');\n",
              "if (notebookContainer) {{\n",
              "    x.observe(notebookContainer, {childList: true});\n",
              "}}\n",
              "\n",
              "// Listen for the clearing of the current output cell\n",
              "var outputEl = gd.closest('.output');\n",
              "if (outputEl) {{\n",
              "    x.observe(outputEl, {childList: true});\n",
              "}}\n",
              "\n",
              "                        })\n",
              "                };\n",
              "                \n",
              "            </script>\n",
              "        </div>\n",
              "</body>\n",
              "</html>"
            ]
          },
          "metadata": {
            "tags": []
          }
        }
      ]
    },
    {
      "cell_type": "code",
      "metadata": {
        "id": "gpoIyGCkCZrd",
        "colab_type": "code",
        "outputId": "2f8469cc-d1cf-489a-c412-34d583194598",
        "colab": {
          "base_uri": "https://localhost:8080/",
          "height": 221
        }
      },
      "source": [
        "#okay I want to score these \n",
        "dumpster['calls_within_24h'].value_counts()"
      ],
      "execution_count": 154,
      "outputs": [
        {
          "output_type": "execute_result",
          "data": {
            "text/plain": [
              "0       849\n",
              "1666      9\n",
              "579       8\n",
              "188       7\n",
              "1621      6\n",
              "       ... \n",
              "1065      2\n",
              "1067      2\n",
              "1070      2\n",
              "1075      2\n",
              "872       2\n",
              "Name: calls_within_24h, Length: 355, dtype: int64"
            ]
          },
          "metadata": {
            "tags": []
          },
          "execution_count": 154
        }
      ]
    },
    {
      "cell_type": "code",
      "metadata": {
        "id": "OH9y2hKYI6qE",
        "colab_type": "code",
        "colab": {}
      },
      "source": [
        "#pandas replace function can take a dictionary.  So I'm going to just make a\n",
        "#dictionary to turn out valls_within_24h column into a score for me to get a\n",
        "#better illustration of what is typical\n",
        "\n",
        "dictionary = {}\n",
        "\n",
        "for value in dumpster['calls_within_24h'].value_counts().index:\n",
        "  dictionary[value] = dumpster['calls_within_24h'].value_counts().loc[value]\n",
        " "
      ],
      "execution_count": 0,
      "outputs": []
    },
    {
      "cell_type": "code",
      "metadata": {
        "id": "Pd-yG6g2P5wk",
        "colab_type": "code",
        "outputId": "f60be9d0-5e78-49a6-ad0d-35993221095a",
        "colab": {
          "base_uri": "https://localhost:8080/",
          "height": 34
        }
      },
      "source": [
        "#okay same length as our value_counts series.  I feel confident this worked\n",
        "len(dictionary)"
      ],
      "execution_count": 156,
      "outputs": [
        {
          "output_type": "execute_result",
          "data": {
            "text/plain": [
              "355"
            ]
          },
          "metadata": {
            "tags": []
          },
          "execution_count": 156
        }
      ]
    },
    {
      "cell_type": "code",
      "metadata": {
        "id": "9bTOtm-NRWkm",
        "colab_type": "code",
        "outputId": "1d033ef9-f468-451b-f61d-f01e2d5d2ec8",
        "colab": {
          "base_uri": "https://localhost:8080/",
          "height": 204
        }
      },
      "source": [
        "#alright sum and value_counts look good.  Other than 849, it looks like I scored\n",
        "#my dataframe correctly.  So I'm going to adjust the 849 value to 1, see the\n",
        "#justifcation above.\n",
        "dumpster['score'] = dumpster['calls_within_24h'].replace(dictionary)\n",
        "print(dumpster['score'].value_counts().sum())\n",
        "dumpster['score'].value_counts()"
      ],
      "execution_count": 157,
      "outputs": [
        {
          "output_type": "stream",
          "text": [
            "1678\n"
          ],
          "name": "stdout"
        },
        {
          "output_type": "execute_result",
          "data": {
            "text/plain": [
              "849    849\n",
              "2      546\n",
              "3      171\n",
              "4       72\n",
              "5       10\n",
              "9        9\n",
              "8        8\n",
              "7        7\n",
              "6        6\n",
              "Name: score, dtype: int64"
            ]
          },
          "metadata": {
            "tags": []
          },
          "execution_count": 157
        }
      ]
    },
    {
      "cell_type": "code",
      "metadata": {
        "id": "6K8anK3iWZI4",
        "colab_type": "code",
        "outputId": "a2dc6c87-00e2-4eac-82c7-8aa80f92cc88",
        "colab": {
          "base_uri": "https://localhost:8080/",
          "height": 187
        }
      },
      "source": [
        "dumpster['score'].replace(849, 1, inplace = True)\n",
        "dumpster['score'].value_counts()"
      ],
      "execution_count": 158,
      "outputs": [
        {
          "output_type": "execute_result",
          "data": {
            "text/plain": [
              "1    849\n",
              "2    546\n",
              "3    171\n",
              "4     72\n",
              "5     10\n",
              "9      9\n",
              "8      8\n",
              "7      7\n",
              "6      6\n",
              "Name: score, dtype: int64"
            ]
          },
          "metadata": {
            "tags": []
          },
          "execution_count": 158
        }
      ]
    },
    {
      "cell_type": "code",
      "metadata": {
        "id": "MTIDwOf6ia2y",
        "colab_type": "code",
        "colab": {
          "base_uri": "https://localhost:8080/",
          "height": 170
        },
        "outputId": "c4377ce6-7cdf-4032-f90a-b5e715c157c3"
      },
      "source": [
        "#going to have to stop analysis here for time.\n",
        "dumpster['score'].describe()"
      ],
      "execution_count": 160,
      "outputs": [
        {
          "output_type": "execute_result",
          "data": {
            "text/plain": [
              "count    1678.000000\n",
              "mean        1.800954\n",
              "std         1.179106\n",
              "min         1.000000\n",
              "25%         1.000000\n",
              "50%         1.000000\n",
              "75%         2.000000\n",
              "max         9.000000\n",
              "Name: score, dtype: float64"
            ]
          },
          "metadata": {
            "tags": []
          },
          "execution_count": 160
        }
      ]
    },
    {
      "cell_type": "code",
      "metadata": {
        "id": "j0JcZySfieeM",
        "colab_type": "code",
        "colab": {}
      },
      "source": [
        ""
      ],
      "execution_count": 0,
      "outputs": []
    }
  ]
}
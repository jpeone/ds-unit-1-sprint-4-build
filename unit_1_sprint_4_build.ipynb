{
  "nbformat": 4,
  "nbformat_minor": 0,
  "metadata": {
    "colab": {
      "name": "unit-1-sprint-4-build",
      "provenance": [],
      "collapsed_sections": [],
      "include_colab_link": true
    },
    "kernelspec": {
      "name": "python3",
      "display_name": "Python 3"
    }
  },
  "cells": [
    {
      "cell_type": "markdown",
      "metadata": {
        "id": "view-in-github",
        "colab_type": "text"
      },
      "source": [
        "<a href=\"https://colab.research.google.com/github/jpeone/ds-unit-1-sprint-4-build/blob/master/unit_1_sprint_4_build.ipynb\" target=\"_parent\"><img src=\"https://colab.research.google.com/assets/colab-badge.svg\" alt=\"Open In Colab\"/></a>"
      ]
    },
    {
      "cell_type": "markdown",
      "metadata": {
        "id": "Wo5koAx2NGsg",
        "colab_type": "text"
      },
      "source": [
        "\n",
        "#Making a Dumpster Fire Companion Notebook<br>\n",
        "###Objective\n",
        "Inspired by a local arson's spree of 12 Dumpster fires, I'll explore the recods of 911 calls to Seattle's Fire Department. I'll attempt to answer the questions:\n",
        "_Just how common are dumpster fires? Are dumpster fire series, like the one above, uncommon?_\n",
        "\n",
        "\n",
        "###Sources\n",
        "[911 Calls](https://data.seattle.gov/Public-Safety/Seattle-Real-Time-Fire-911-Calls/kzjm-xkqj), [Code Types](https://data.seattle.gov/Public-Safety/SFD-Type-Codes-Standard-Response/mati-fqsc), \n",
        "[Inspiring Incident](https://www.capitolhillseattle.com/2019/12/police-seek-help-investigating-overnight-arson-string-after-broadway-trash-fire-arrest/)\n",
        "\n",
        "###Outline\n",
        "Explore and Clean<br>\n",
        "Feature Engineering 1<br>\n",
        "Visualization 1<br>\n",
        "Feature Engineering 2 <br>\n",
        "Visualization 2<br>\n",
        "Further Analysis<br>"
      ]
    },
    {
      "cell_type": "code",
      "metadata": {
        "id": "OLYgHmREoNEx",
        "colab_type": "code",
        "colab": {}
      },
      "source": [
        "#old habits die hard, here is an import block\n",
        "import pandas as pd\n",
        "import requests\n",
        "import datetime\n",
        "import plotly.express as px\n",
        "from geopy.distance import distance"
      ],
      "execution_count": 0,
      "outputs": []
    },
    {
      "cell_type": "markdown",
      "metadata": {
        "id": "NmkARC8gpf0x",
        "colab_type": "text"
      },
      "source": [
        "##Exploration and Cleaning"
      ]
    },
    {
      "cell_type": "code",
      "metadata": {
        "id": "XJt-LRs8rMY1",
        "colab_type": "code",
        "outputId": "590b9eba-6b2e-4367-fad9-84e73b7231f9",
        "colab": {
          "base_uri": "https://localhost:8080/",
          "height": 34
        }
      },
      "source": [
        "#Uses socrata api, ref paging instructions here: \n",
        "#https://dev.socrata.com/docs/paging.html\n",
        "#it appears from the documentation that there no is size or rate limit to using \n",
        "#socrata api.\n",
        "#Lets get gutsy and just do it in one call lol\n",
        "\n",
        "params = {'$limit': 5000000, '$offset': 0}\n",
        "url = 'https://data.seattle.gov/resource/fire-911.json'\n",
        "response = requests.get(url, params = params)\n",
        "response"
      ],
      "execution_count": 87,
      "outputs": [
        {
          "output_type": "execute_result",
          "data": {
            "text/plain": [
              "<Response [200]>"
            ]
          },
          "metadata": {
            "tags": []
          },
          "execution_count": 87
        }
      ]
    },
    {
      "cell_type": "code",
      "metadata": {
        "id": "GEhTD6Lj5i7E",
        "colab_type": "code",
        "outputId": "915fffe1-9281-43fb-942c-2a4bfbbc15f6",
        "colab": {
          "base_uri": "https://localhost:8080/",
          "height": 34
        }
      },
      "source": [
        "#got a 200 code, so things are looking good. Lets check that object length\n",
        "len(response.json())"
      ],
      "execution_count": 88,
      "outputs": [
        {
          "output_type": "execute_result",
          "data": {
            "text/plain": [
              "1434311"
            ]
          },
          "metadata": {
            "tags": []
          },
          "execution_count": 88
        }
      ]
    },
    {
      "cell_type": "code",
      "metadata": {
        "id": "aGe0dSZH6D0N",
        "colab_type": "code",
        "outputId": "de74ede7-4910-4879-bb41-5b95be2c6438",
        "colab": {
          "base_uri": "https://localhost:8080/",
          "height": 411
        }
      },
      "source": [
        "#okay, thats the 1.43 million as per the website. lets slap it in a dataframe\n",
        "df = pd.DataFrame(response.json())\n",
        "print(df.shape)\n",
        "df.head()"
      ],
      "execution_count": 89,
      "outputs": [
        {
          "output_type": "stream",
          "text": [
            "(1434311, 12)\n"
          ],
          "name": "stdout"
        },
        {
          "output_type": "execute_result",
          "data": {
            "text/html": [
              "<div>\n",
              "<style scoped>\n",
              "    .dataframe tbody tr th:only-of-type {\n",
              "        vertical-align: middle;\n",
              "    }\n",
              "\n",
              "    .dataframe tbody tr th {\n",
              "        vertical-align: top;\n",
              "    }\n",
              "\n",
              "    .dataframe thead th {\n",
              "        text-align: right;\n",
              "    }\n",
              "</style>\n",
              "<table border=\"1\" class=\"dataframe\">\n",
              "  <thead>\n",
              "    <tr style=\"text-align: right;\">\n",
              "      <th></th>\n",
              "      <th>address</th>\n",
              "      <th>type</th>\n",
              "      <th>datetime</th>\n",
              "      <th>latitude</th>\n",
              "      <th>longitude</th>\n",
              "      <th>report_location</th>\n",
              "      <th>incident_number</th>\n",
              "      <th>:@computed_region_ru88_fbhk</th>\n",
              "      <th>:@computed_region_kuhn_3gp2</th>\n",
              "      <th>:@computed_region_q256_3sug</th>\n",
              "      <th>:@computed_region_2day_rhn5</th>\n",
              "      <th>:@computed_region_cyqu_gs94</th>\n",
              "    </tr>\n",
              "  </thead>\n",
              "  <tbody>\n",
              "    <tr>\n",
              "      <th>0</th>\n",
              "      <td>Nw 59th St / 15th Av Nw</td>\n",
              "      <td>Triaged Incident</td>\n",
              "      <td>2019-10-11T23:34:00.000</td>\n",
              "      <td>47.67163</td>\n",
              "      <td>-122.376212</td>\n",
              "      <td>{'type': 'Point', 'coordinates': [-122.376212,...</td>\n",
              "      <td>F190108891</td>\n",
              "      <td>4</td>\n",
              "      <td>1</td>\n",
              "      <td>18386</td>\n",
              "      <td>NaN</td>\n",
              "      <td>NaN</td>\n",
              "    </tr>\n",
              "    <tr>\n",
              "      <th>1</th>\n",
              "      <td>1431 Minor Av</td>\n",
              "      <td>Aid Response</td>\n",
              "      <td>2019-12-27T01:24:00.000</td>\n",
              "      <td>47.613247</td>\n",
              "      <td>-122.327187</td>\n",
              "      <td>{'type': 'Point', 'coordinates': [-122.327187,...</td>\n",
              "      <td>F190136279</td>\n",
              "      <td>8</td>\n",
              "      <td>12</td>\n",
              "      <td>18081</td>\n",
              "      <td>NaN</td>\n",
              "      <td>NaN</td>\n",
              "    </tr>\n",
              "    <tr>\n",
              "      <th>2</th>\n",
              "      <td>1402 3rd Av</td>\n",
              "      <td>Rescue Elevator</td>\n",
              "      <td>2019-05-30T11:22:00.000</td>\n",
              "      <td>47.608766</td>\n",
              "      <td>-122.336894</td>\n",
              "      <td>{'type': 'Point', 'coordinates': [-122.336894,...</td>\n",
              "      <td>F190056035</td>\n",
              "      <td>14</td>\n",
              "      <td>24</td>\n",
              "      <td>18081</td>\n",
              "      <td>NaN</td>\n",
              "      <td>NaN</td>\n",
              "    </tr>\n",
              "    <tr>\n",
              "      <th>3</th>\n",
              "      <td>500 17th Av</td>\n",
              "      <td>Aid Response</td>\n",
              "      <td>2019-05-30T11:23:00.000</td>\n",
              "      <td>47.606176</td>\n",
              "      <td>-122.310249</td>\n",
              "      <td>{'type': 'Point', 'coordinates': [-122.310249,...</td>\n",
              "      <td>F190056036</td>\n",
              "      <td>9</td>\n",
              "      <td>17</td>\n",
              "      <td>19578</td>\n",
              "      <td>NaN</td>\n",
              "      <td>NaN</td>\n",
              "    </tr>\n",
              "    <tr>\n",
              "      <th>4</th>\n",
              "      <td>201 Occidental Av S</td>\n",
              "      <td>Triaged Incident</td>\n",
              "      <td>2019-11-12T12:33:00.000</td>\n",
              "      <td>47.600873</td>\n",
              "      <td>-122.332877</td>\n",
              "      <td>{'type': 'Point', 'coordinates': [-122.332877,...</td>\n",
              "      <td>F190120585</td>\n",
              "      <td>49</td>\n",
              "      <td>20</td>\n",
              "      <td>18379</td>\n",
              "      <td>NaN</td>\n",
              "      <td>NaN</td>\n",
              "    </tr>\n",
              "  </tbody>\n",
              "</table>\n",
              "</div>"
            ],
            "text/plain": [
              "                   address  ... :@computed_region_cyqu_gs94\n",
              "0  Nw 59th St / 15th Av Nw  ...                         NaN\n",
              "1            1431 Minor Av  ...                         NaN\n",
              "2              1402 3rd Av  ...                         NaN\n",
              "3              500 17th Av  ...                         NaN\n",
              "4      201 Occidental Av S  ...                         NaN\n",
              "\n",
              "[5 rows x 12 columns]"
            ]
          },
          "metadata": {
            "tags": []
          },
          "execution_count": 89
        }
      ]
    },
    {
      "cell_type": "code",
      "metadata": {
        "id": "OSwKmcG58GkZ",
        "colab_type": "code",
        "outputId": "b5032b23-85bb-44ca-8ce9-03aa4219aaf4",
        "colab": {
          "base_uri": "https://localhost:8080/",
          "height": 34
        }
      },
      "source": [
        "#didn't expect all the computed region columns. I'll go ahead and drop those\n",
        "#shape is 12 wide, I'm keeping 7 columns.\n",
        "dropped = df.columns[7:]\n",
        "df.drop(dropped, axis = 1, inplace = True)\n",
        "df.shape"
      ],
      "execution_count": 90,
      "outputs": [
        {
          "output_type": "execute_result",
          "data": {
            "text/plain": [
              "(1434311, 7)"
            ]
          },
          "metadata": {
            "tags": []
          },
          "execution_count": 90
        }
      ]
    },
    {
      "cell_type": "code",
      "metadata": {
        "id": "idVBIsmc0XE3",
        "colab_type": "code",
        "outputId": "ce303da7-ee75-48d5-e7bf-2d959b6ba69d",
        "colab": {
          "base_uri": "https://localhost:8080/",
          "height": 153
        }
      },
      "source": [
        "#okay some nans, good to know. I'm keeping df as close to original as possible,\n",
        "#so I'm going to leave nans in here. I'll have to adjust for nans in my working \n",
        "#dataframes\n",
        "df.isnull().sum()"
      ],
      "execution_count": 91,
      "outputs": [
        {
          "output_type": "execute_result",
          "data": {
            "text/plain": [
              "address             10\n",
              "type                 0\n",
              "datetime             0\n",
              "latitude           239\n",
              "longitude          239\n",
              "report_location    229\n",
              "incident_number      0\n",
              "dtype: int64"
            ]
          },
          "metadata": {
            "tags": []
          },
          "execution_count": 91
        }
      ]
    },
    {
      "cell_type": "code",
      "metadata": {
        "id": "7lHof7E69HfH",
        "colab_type": "code",
        "outputId": "91aa7ae6-33d6-4e20-fc9f-0c03ad6fde12",
        "colab": {
          "base_uri": "https://localhost:8080/",
          "height": 221
        }
      },
      "source": [
        "df['type'].value_counts()"
      ],
      "execution_count": 92,
      "outputs": [
        {
          "output_type": "execute_result",
          "data": {
            "text/plain": [
              "Aid Response                  703823\n",
              "Medic Response                274922\n",
              "Auto Fire Alarm                82652\n",
              "Trans to AMR                   63810\n",
              "Aid Response Yellow            31210\n",
              "                               ...  \n",
              "Rescue Lock In/Out Yellow          1\n",
              "Mutual Aid Strike Team Lad         1\n",
              "Mutual Aid, Aircraft               1\n",
              "Explosion Unk Situation            1\n",
              "Tunnel North Ops Bldg              1\n",
              "Name: type, Length: 222, dtype: int64"
            ]
          },
          "metadata": {
            "tags": []
          },
          "execution_count": 92
        }
      ]
    },
    {
      "cell_type": "code",
      "metadata": {
        "id": "CnOHsRp3OUph",
        "colab_type": "code",
        "outputId": "97dedeb6-22eb-4862-8483-5d817bb91d8e",
        "colab": {
          "base_uri": "https://localhost:8080/",
          "height": 34
        }
      },
      "source": [
        "#how common are these?\n",
        "df[df['type'] == 'Dumpster Fire'].shape[0]/df.shape[0] * 100"
      ],
      "execution_count": 93,
      "outputs": [
        {
          "output_type": "execute_result",
          "data": {
            "text/plain": [
              "0.11719912905917894"
            ]
          },
          "metadata": {
            "tags": []
          },
          "execution_count": 93
        }
      ]
    },
    {
      "cell_type": "code",
      "metadata": {
        "id": "ywBAfxKcC8CK",
        "colab_type": "code",
        "colab": {}
      },
      "source": [
        "#looks like dumpster fires are pretty rare\n",
        "dumpster = df[df['type'] == 'Dumpster Fire'].copy()"
      ],
      "execution_count": 0,
      "outputs": []
    },
    {
      "cell_type": "code",
      "metadata": {
        "id": "L5e0yIbHEajT",
        "colab_type": "code",
        "outputId": "414469d4-b75e-4c42-d3d6-6b80c3831c44",
        "colab": {
          "base_uri": "https://localhost:8080/",
          "height": 425
        }
      },
      "source": [
        "print(dumpster.shape)\n",
        "dumpster.head()"
      ],
      "execution_count": 95,
      "outputs": [
        {
          "output_type": "stream",
          "text": [
            "(1681, 7)\n"
          ],
          "name": "stdout"
        },
        {
          "output_type": "execute_result",
          "data": {
            "text/html": [
              "<div>\n",
              "<style scoped>\n",
              "    .dataframe tbody tr th:only-of-type {\n",
              "        vertical-align: middle;\n",
              "    }\n",
              "\n",
              "    .dataframe tbody tr th {\n",
              "        vertical-align: top;\n",
              "    }\n",
              "\n",
              "    .dataframe thead th {\n",
              "        text-align: right;\n",
              "    }\n",
              "</style>\n",
              "<table border=\"1\" class=\"dataframe\">\n",
              "  <thead>\n",
              "    <tr style=\"text-align: right;\">\n",
              "      <th></th>\n",
              "      <th>address</th>\n",
              "      <th>type</th>\n",
              "      <th>datetime</th>\n",
              "      <th>latitude</th>\n",
              "      <th>longitude</th>\n",
              "      <th>report_location</th>\n",
              "      <th>incident_number</th>\n",
              "    </tr>\n",
              "  </thead>\n",
              "  <tbody>\n",
              "    <tr>\n",
              "      <th>511</th>\n",
              "      <td>900 S Jackson St</td>\n",
              "      <td>Dumpster Fire</td>\n",
              "      <td>2019-07-20T19:36:00.000</td>\n",
              "      <td>47.599191</td>\n",
              "      <td>-122.321025</td>\n",
              "      <td>{'type': 'Point', 'coordinates': [-122.321025,...</td>\n",
              "      <td>F190076831</td>\n",
              "    </tr>\n",
              "    <tr>\n",
              "      <th>1598</th>\n",
              "      <td>1723 Summit Av</td>\n",
              "      <td>Dumpster Fire</td>\n",
              "      <td>2019-08-10T03:08:00.000</td>\n",
              "      <td>47.616656</td>\n",
              "      <td>-122.325547</td>\n",
              "      <td>{'type': 'Point', 'coordinates': [-122.325547,...</td>\n",
              "      <td>F190084947</td>\n",
              "    </tr>\n",
              "    <tr>\n",
              "      <th>2821</th>\n",
              "      <td>S Michigan St / Corson Av S</td>\n",
              "      <td>Dumpster Fire</td>\n",
              "      <td>2019-11-02T02:31:00.000</td>\n",
              "      <td>47.547503</td>\n",
              "      <td>-122.321439</td>\n",
              "      <td>{'type': 'Point', 'coordinates': [-122.321439,...</td>\n",
              "      <td>F190116740</td>\n",
              "    </tr>\n",
              "    <tr>\n",
              "      <th>5832</th>\n",
              "      <td>714 7th Av</td>\n",
              "      <td>Dumpster Fire</td>\n",
              "      <td>2019-09-11T06:05:00.000</td>\n",
              "      <td>47.605435</td>\n",
              "      <td>-122.327711</td>\n",
              "      <td>{'type': 'Point', 'coordinates': [-122.327711,...</td>\n",
              "      <td>F190097400</td>\n",
              "    </tr>\n",
              "    <tr>\n",
              "      <th>6138</th>\n",
              "      <td>4231 8th Av Ne</td>\n",
              "      <td>Dumpster Fire</td>\n",
              "      <td>2019-07-22T13:07:00.000</td>\n",
              "      <td>47.658112</td>\n",
              "      <td>-122.319788</td>\n",
              "      <td>{'type': 'Point', 'coordinates': [-122.319788,...</td>\n",
              "      <td>F190077473</td>\n",
              "    </tr>\n",
              "  </tbody>\n",
              "</table>\n",
              "</div>"
            ],
            "text/plain": [
              "                          address  ... incident_number\n",
              "511              900 S Jackson St  ...      F190076831\n",
              "1598               1723 Summit Av  ...      F190084947\n",
              "2821  S Michigan St / Corson Av S  ...      F190116740\n",
              "5832                   714 7th Av  ...      F190097400\n",
              "6138               4231 8th Av Ne  ...      F190077473\n",
              "\n",
              "[5 rows x 7 columns]"
            ]
          },
          "metadata": {
            "tags": []
          },
          "execution_count": 95
        }
      ]
    },
    {
      "cell_type": "code",
      "metadata": {
        "id": "HyKWiiN9up3R",
        "colab_type": "code",
        "colab": {}
      },
      "source": [
        "#okay lets pull out the month and year to do some analysis\n",
        "dumpster['year'] = pd.DatetimeIndex(dumpster['datetime']).year\n",
        "dumpster['month'] = pd.DatetimeIndex(dumpster['datetime']).month"
      ],
      "execution_count": 0,
      "outputs": []
    },
    {
      "cell_type": "code",
      "metadata": {
        "id": "oyqZ2abz7NyP",
        "colab_type": "code",
        "colab": {}
      },
      "source": [
        "#okay this is a live data set, and rather than get the paging exactly right,\n",
        "#I'll just drop any calls from 2020 and beyond.\n",
        "dumpster = dumpster[dumpster['year'] < 2020]"
      ],
      "execution_count": 0,
      "outputs": []
    },
    {
      "cell_type": "code",
      "metadata": {
        "id": "Av8Pyv9rGe2k",
        "colab_type": "code",
        "outputId": "ae0fc942-35d0-452f-9072-655d1064f6ed",
        "colab": {
          "base_uri": "https://localhost:8080/",
          "height": 428
        }
      },
      "source": [
        "print(dumpster.shape)\n",
        "dumpster.tail()"
      ],
      "execution_count": 98,
      "outputs": [
        {
          "output_type": "stream",
          "text": [
            "(1678, 9)\n"
          ],
          "name": "stdout"
        },
        {
          "output_type": "execute_result",
          "data": {
            "text/html": [
              "<div>\n",
              "<style scoped>\n",
              "    .dataframe tbody tr th:only-of-type {\n",
              "        vertical-align: middle;\n",
              "    }\n",
              "\n",
              "    .dataframe tbody tr th {\n",
              "        vertical-align: top;\n",
              "    }\n",
              "\n",
              "    .dataframe thead th {\n",
              "        text-align: right;\n",
              "    }\n",
              "</style>\n",
              "<table border=\"1\" class=\"dataframe\">\n",
              "  <thead>\n",
              "    <tr style=\"text-align: right;\">\n",
              "      <th></th>\n",
              "      <th>address</th>\n",
              "      <th>type</th>\n",
              "      <th>datetime</th>\n",
              "      <th>latitude</th>\n",
              "      <th>longitude</th>\n",
              "      <th>report_location</th>\n",
              "      <th>incident_number</th>\n",
              "      <th>year</th>\n",
              "      <th>month</th>\n",
              "    </tr>\n",
              "  </thead>\n",
              "  <tbody>\n",
              "    <tr>\n",
              "      <th>1429898</th>\n",
              "      <td>229 Broadway E</td>\n",
              "      <td>Dumpster Fire</td>\n",
              "      <td>2019-04-12T06:02:59.000</td>\n",
              "      <td>47.620242</td>\n",
              "      <td>-122.320878</td>\n",
              "      <td>{'type': 'Point', 'coordinates': [-122.320878,...</td>\n",
              "      <td>F190036651</td>\n",
              "      <td>2019</td>\n",
              "      <td>4</td>\n",
              "    </tr>\n",
              "    <tr>\n",
              "      <th>1430007</th>\n",
              "      <td>8th Av N / Harrison St</td>\n",
              "      <td>Dumpster Fire</td>\n",
              "      <td>2019-04-12T15:33:03.000</td>\n",
              "      <td>47.622051</td>\n",
              "      <td>-122.341066</td>\n",
              "      <td>{'type': 'Point', 'coordinates': [-122.341066,...</td>\n",
              "      <td>F190036792</td>\n",
              "      <td>2019</td>\n",
              "      <td>4</td>\n",
              "    </tr>\n",
              "    <tr>\n",
              "      <th>1431931</th>\n",
              "      <td>2711 Franklin Av E</td>\n",
              "      <td>Dumpster Fire</td>\n",
              "      <td>2019-04-19T22:53:14.000</td>\n",
              "      <td>47.644610</td>\n",
              "      <td>-122.324624</td>\n",
              "      <td>{'type': 'Point', 'coordinates': [-122.324624,...</td>\n",
              "      <td>F190039329</td>\n",
              "      <td>2019</td>\n",
              "      <td>4</td>\n",
              "    </tr>\n",
              "    <tr>\n",
              "      <th>1432615</th>\n",
              "      <td>8532 15th Av Nw</td>\n",
              "      <td>Dumpster Fire</td>\n",
              "      <td>2019-04-22T17:11:47.000</td>\n",
              "      <td>47.690901</td>\n",
              "      <td>-122.376806</td>\n",
              "      <td>{'type': 'Point', 'coordinates': [-122.376806,...</td>\n",
              "      <td>F190040225</td>\n",
              "      <td>2019</td>\n",
              "      <td>4</td>\n",
              "    </tr>\n",
              "    <tr>\n",
              "      <th>1433125</th>\n",
              "      <td>Brooklyn Av Ne / Ne 47th St</td>\n",
              "      <td>Dumpster Fire</td>\n",
              "      <td>2019-04-24T19:30:00.000</td>\n",
              "      <td>47.6631</td>\n",
              "      <td>-122.314238</td>\n",
              "      <td>{'type': 'Point', 'coordinates': [-122.314238,...</td>\n",
              "      <td>F190041023</td>\n",
              "      <td>2019</td>\n",
              "      <td>4</td>\n",
              "    </tr>\n",
              "  </tbody>\n",
              "</table>\n",
              "</div>"
            ],
            "text/plain": [
              "                             address           type  ...  year month\n",
              "1429898               229 Broadway E  Dumpster Fire  ...  2019     4\n",
              "1430007       8th Av N / Harrison St  Dumpster Fire  ...  2019     4\n",
              "1431931           2711 Franklin Av E  Dumpster Fire  ...  2019     4\n",
              "1432615              8532 15th Av Nw  Dumpster Fire  ...  2019     4\n",
              "1433125  Brooklyn Av Ne / Ne 47th St  Dumpster Fire  ...  2019     4\n",
              "\n",
              "[5 rows x 9 columns]"
            ]
          },
          "metadata": {
            "tags": []
          },
          "execution_count": 98
        }
      ]
    },
    {
      "cell_type": "code",
      "metadata": {
        "id": "GwaY9NnJ0fN6",
        "colab_type": "code",
        "outputId": "5180d44a-1f8f-469a-870b-98123a5fc8b3",
        "colab": {
          "base_uri": "https://localhost:8080/",
          "height": 187
        }
      },
      "source": [
        "#well we lucked out anyways, no nans pulled\n",
        "dumpster.isnull().sum()"
      ],
      "execution_count": 99,
      "outputs": [
        {
          "output_type": "execute_result",
          "data": {
            "text/plain": [
              "address            0\n",
              "type               0\n",
              "datetime           0\n",
              "latitude           0\n",
              "longitude          0\n",
              "report_location    0\n",
              "incident_number    0\n",
              "year               0\n",
              "month              0\n",
              "dtype: int64"
            ]
          },
          "metadata": {
            "tags": []
          },
          "execution_count": 99
        }
      ]
    },
    {
      "cell_type": "markdown",
      "metadata": {
        "id": "8CQkLpIh14vL",
        "colab_type": "text"
      },
      "source": [
        "###Exploratory Visualizations\n",
        "Small side track to see which months have the most fires reported."
      ]
    },
    {
      "cell_type": "code",
      "metadata": {
        "id": "rAIvQgyQzl6G",
        "colab_type": "code",
        "outputId": "d101c2f7-d2a3-482d-99bd-d1d200868d89",
        "colab": {
          "base_uri": "https://localhost:8080/",
          "height": 111
        }
      },
      "source": [
        "#okay lets make a crosstab.\n",
        "tot_fire_p_month = pd.crosstab(dumpster['type'], dumpster['month'])\n",
        "tot_fire_p_month"
      ],
      "execution_count": 106,
      "outputs": [
        {
          "output_type": "execute_result",
          "data": {
            "text/html": [
              "<div>\n",
              "<style scoped>\n",
              "    .dataframe tbody tr th:only-of-type {\n",
              "        vertical-align: middle;\n",
              "    }\n",
              "\n",
              "    .dataframe tbody tr th {\n",
              "        vertical-align: top;\n",
              "    }\n",
              "\n",
              "    .dataframe thead th {\n",
              "        text-align: right;\n",
              "    }\n",
              "</style>\n",
              "<table border=\"1\" class=\"dataframe\">\n",
              "  <thead>\n",
              "    <tr style=\"text-align: right;\">\n",
              "      <th>month</th>\n",
              "      <th>1</th>\n",
              "      <th>2</th>\n",
              "      <th>3</th>\n",
              "      <th>4</th>\n",
              "      <th>5</th>\n",
              "      <th>6</th>\n",
              "      <th>7</th>\n",
              "      <th>8</th>\n",
              "      <th>9</th>\n",
              "      <th>10</th>\n",
              "      <th>11</th>\n",
              "      <th>12</th>\n",
              "    </tr>\n",
              "    <tr>\n",
              "      <th>type</th>\n",
              "      <th></th>\n",
              "      <th></th>\n",
              "      <th></th>\n",
              "      <th></th>\n",
              "      <th></th>\n",
              "      <th></th>\n",
              "      <th></th>\n",
              "      <th></th>\n",
              "      <th></th>\n",
              "      <th></th>\n",
              "      <th></th>\n",
              "      <th></th>\n",
              "    </tr>\n",
              "  </thead>\n",
              "  <tbody>\n",
              "    <tr>\n",
              "      <th>Dumpster Fire</th>\n",
              "      <td>96</td>\n",
              "      <td>99</td>\n",
              "      <td>141</td>\n",
              "      <td>125</td>\n",
              "      <td>159</td>\n",
              "      <td>184</td>\n",
              "      <td>218</td>\n",
              "      <td>163</td>\n",
              "      <td>149</td>\n",
              "      <td>122</td>\n",
              "      <td>91</td>\n",
              "      <td>131</td>\n",
              "    </tr>\n",
              "  </tbody>\n",
              "</table>\n",
              "</div>"
            ],
            "text/plain": [
              "month          1   2    3    4    5    6    7    8    9    10  11   12\n",
              "type                                                                  \n",
              "Dumpster Fire  96  99  141  125  159  184  218  163  149  122  91  131"
            ]
          },
          "metadata": {
            "tags": []
          },
          "execution_count": 106
        }
      ]
    },
    {
      "cell_type": "code",
      "metadata": {
        "id": "CGe8YlefPsBF",
        "colab_type": "code",
        "outputId": "49a5021e-6f61-45f1-b850-2e6caf2d0117",
        "colab": {
          "base_uri": "https://localhost:8080/",
          "height": 421
        }
      },
      "source": [
        "#boom, lets make that digestible for plotly\n",
        "#I'm transposing, putting the month into a column (instead of as an index), \n",
        "#and renaming the columns for better display.\n",
        "\n",
        "columns = {'month' : 'Month', 'Dumpster Fire': 'Total Dumpster Fires'}\n",
        "tot_fire_p_month = tot_fire_p_month.T.reset_index().rename(columns = columns)\n",
        "tot_fire_p_month"
      ],
      "execution_count": 107,
      "outputs": [
        {
          "output_type": "execute_result",
          "data": {
            "text/html": [
              "<div>\n",
              "<style scoped>\n",
              "    .dataframe tbody tr th:only-of-type {\n",
              "        vertical-align: middle;\n",
              "    }\n",
              "\n",
              "    .dataframe tbody tr th {\n",
              "        vertical-align: top;\n",
              "    }\n",
              "\n",
              "    .dataframe thead th {\n",
              "        text-align: right;\n",
              "    }\n",
              "</style>\n",
              "<table border=\"1\" class=\"dataframe\">\n",
              "  <thead>\n",
              "    <tr style=\"text-align: right;\">\n",
              "      <th>type</th>\n",
              "      <th>Month</th>\n",
              "      <th>Total Dumpster Fires</th>\n",
              "    </tr>\n",
              "  </thead>\n",
              "  <tbody>\n",
              "    <tr>\n",
              "      <th>0</th>\n",
              "      <td>1</td>\n",
              "      <td>96</td>\n",
              "    </tr>\n",
              "    <tr>\n",
              "      <th>1</th>\n",
              "      <td>2</td>\n",
              "      <td>99</td>\n",
              "    </tr>\n",
              "    <tr>\n",
              "      <th>2</th>\n",
              "      <td>3</td>\n",
              "      <td>141</td>\n",
              "    </tr>\n",
              "    <tr>\n",
              "      <th>3</th>\n",
              "      <td>4</td>\n",
              "      <td>125</td>\n",
              "    </tr>\n",
              "    <tr>\n",
              "      <th>4</th>\n",
              "      <td>5</td>\n",
              "      <td>159</td>\n",
              "    </tr>\n",
              "    <tr>\n",
              "      <th>5</th>\n",
              "      <td>6</td>\n",
              "      <td>184</td>\n",
              "    </tr>\n",
              "    <tr>\n",
              "      <th>6</th>\n",
              "      <td>7</td>\n",
              "      <td>218</td>\n",
              "    </tr>\n",
              "    <tr>\n",
              "      <th>7</th>\n",
              "      <td>8</td>\n",
              "      <td>163</td>\n",
              "    </tr>\n",
              "    <tr>\n",
              "      <th>8</th>\n",
              "      <td>9</td>\n",
              "      <td>149</td>\n",
              "    </tr>\n",
              "    <tr>\n",
              "      <th>9</th>\n",
              "      <td>10</td>\n",
              "      <td>122</td>\n",
              "    </tr>\n",
              "    <tr>\n",
              "      <th>10</th>\n",
              "      <td>11</td>\n",
              "      <td>91</td>\n",
              "    </tr>\n",
              "    <tr>\n",
              "      <th>11</th>\n",
              "      <td>12</td>\n",
              "      <td>131</td>\n",
              "    </tr>\n",
              "  </tbody>\n",
              "</table>\n",
              "</div>"
            ],
            "text/plain": [
              "type  Month  Total Dumpster Fires\n",
              "0         1                    96\n",
              "1         2                    99\n",
              "2         3                   141\n",
              "3         4                   125\n",
              "4         5                   159\n",
              "5         6                   184\n",
              "6         7                   218\n",
              "7         8                   163\n",
              "8         9                   149\n",
              "9        10                   122\n",
              "10       11                    91\n",
              "11       12                   131"
            ]
          },
          "metadata": {
            "tags": []
          },
          "execution_count": 107
        }
      ]
    },
    {
      "cell_type": "code",
      "metadata": {
        "id": "OIU7-V1m37th",
        "colab_type": "code",
        "outputId": "1a334737-e875-49e6-fd57-f3c40befd117",
        "colab": {
          "base_uri": "https://localhost:8080/",
          "height": 542
        }
      },
      "source": [
        "#okay so this is the total number of dumpster fires reported over the years of\n",
        "#2003-2019.  Kind cool to look at, but normalized might be better for \n",
        "#understanding how much of an anomoly, if it was an anomoly.\n",
        "\n",
        "fig = px.bar(tot_fire_p_month, x = 'Month', y = 'Total Dumpster Fires')\n",
        "fig.show()"
      ],
      "execution_count": 109,
      "outputs": [
        {
          "output_type": "display_data",
          "data": {
            "text/html": [
              "<html>\n",
              "<head><meta charset=\"utf-8\" /></head>\n",
              "<body>\n",
              "    <div>\n",
              "            <script src=\"https://cdnjs.cloudflare.com/ajax/libs/mathjax/2.7.5/MathJax.js?config=TeX-AMS-MML_SVG\"></script><script type=\"text/javascript\">if (window.MathJax) {MathJax.Hub.Config({SVG: {font: \"STIX-Web\"}});}</script>\n",
              "                <script type=\"text/javascript\">window.PlotlyConfig = {MathJaxConfig: 'local'};</script>\n",
              "        <script src=\"https://cdn.plot.ly/plotly-latest.min.js\"></script>    \n",
              "            <div id=\"26e00a12-fd28-43c2-a42a-97f53aa869a4\" class=\"plotly-graph-div\" style=\"height:525px; width:100%;\"></div>\n",
              "            <script type=\"text/javascript\">\n",
              "                \n",
              "                    window.PLOTLYENV=window.PLOTLYENV || {};\n",
              "                    \n",
              "                if (document.getElementById(\"26e00a12-fd28-43c2-a42a-97f53aa869a4\")) {\n",
              "                    Plotly.newPlot(\n",
              "                        '26e00a12-fd28-43c2-a42a-97f53aa869a4',\n",
              "                        [{\"alignmentgroup\": \"True\", \"hoverlabel\": {\"namelength\": 0}, \"hovertemplate\": \"Month=%{x}<br>Total Dumpster Fires=%{y}\", \"legendgroup\": \"\", \"marker\": {\"color\": \"#636efa\"}, \"name\": \"\", \"offsetgroup\": \"\", \"orientation\": \"v\", \"showlegend\": false, \"textposition\": \"auto\", \"type\": \"bar\", \"x\": [1, 2, 3, 4, 5, 6, 7, 8, 9, 10, 11, 12], \"xaxis\": \"x\", \"y\": [96, 99, 141, 125, 159, 184, 218, 163, 149, 122, 91, 131], \"yaxis\": \"y\"}],\n",
              "                        {\"barmode\": \"relative\", \"legend\": {\"tracegroupgap\": 0}, \"margin\": {\"t\": 60}, \"template\": {\"data\": {\"bar\": [{\"error_x\": {\"color\": \"#2a3f5f\"}, \"error_y\": {\"color\": \"#2a3f5f\"}, \"marker\": {\"line\": {\"color\": \"#E5ECF6\", \"width\": 0.5}}, \"type\": \"bar\"}], \"barpolar\": [{\"marker\": {\"line\": {\"color\": \"#E5ECF6\", \"width\": 0.5}}, \"type\": \"barpolar\"}], \"carpet\": [{\"aaxis\": {\"endlinecolor\": \"#2a3f5f\", \"gridcolor\": \"white\", \"linecolor\": \"white\", \"minorgridcolor\": \"white\", \"startlinecolor\": \"#2a3f5f\"}, \"baxis\": {\"endlinecolor\": \"#2a3f5f\", \"gridcolor\": \"white\", \"linecolor\": \"white\", \"minorgridcolor\": \"white\", \"startlinecolor\": \"#2a3f5f\"}, \"type\": \"carpet\"}], \"choropleth\": [{\"colorbar\": {\"outlinewidth\": 0, \"ticks\": \"\"}, \"type\": \"choropleth\"}], \"contour\": [{\"colorbar\": {\"outlinewidth\": 0, \"ticks\": \"\"}, \"colorscale\": [[0.0, \"#0d0887\"], [0.1111111111111111, \"#46039f\"], [0.2222222222222222, \"#7201a8\"], [0.3333333333333333, \"#9c179e\"], [0.4444444444444444, \"#bd3786\"], [0.5555555555555556, \"#d8576b\"], [0.6666666666666666, \"#ed7953\"], [0.7777777777777778, \"#fb9f3a\"], [0.8888888888888888, \"#fdca26\"], [1.0, \"#f0f921\"]], \"type\": \"contour\"}], \"contourcarpet\": [{\"colorbar\": {\"outlinewidth\": 0, \"ticks\": \"\"}, \"type\": \"contourcarpet\"}], \"heatmap\": [{\"colorbar\": {\"outlinewidth\": 0, \"ticks\": \"\"}, \"colorscale\": [[0.0, \"#0d0887\"], [0.1111111111111111, \"#46039f\"], [0.2222222222222222, \"#7201a8\"], [0.3333333333333333, \"#9c179e\"], [0.4444444444444444, \"#bd3786\"], [0.5555555555555556, \"#d8576b\"], [0.6666666666666666, \"#ed7953\"], [0.7777777777777778, \"#fb9f3a\"], [0.8888888888888888, \"#fdca26\"], [1.0, \"#f0f921\"]], \"type\": \"heatmap\"}], \"heatmapgl\": [{\"colorbar\": {\"outlinewidth\": 0, \"ticks\": \"\"}, \"colorscale\": [[0.0, \"#0d0887\"], [0.1111111111111111, \"#46039f\"], [0.2222222222222222, \"#7201a8\"], [0.3333333333333333, \"#9c179e\"], [0.4444444444444444, \"#bd3786\"], [0.5555555555555556, \"#d8576b\"], [0.6666666666666666, \"#ed7953\"], [0.7777777777777778, \"#fb9f3a\"], [0.8888888888888888, \"#fdca26\"], [1.0, \"#f0f921\"]], \"type\": \"heatmapgl\"}], \"histogram\": [{\"marker\": {\"colorbar\": {\"outlinewidth\": 0, \"ticks\": \"\"}}, \"type\": \"histogram\"}], \"histogram2d\": [{\"colorbar\": {\"outlinewidth\": 0, \"ticks\": \"\"}, \"colorscale\": [[0.0, \"#0d0887\"], [0.1111111111111111, \"#46039f\"], [0.2222222222222222, \"#7201a8\"], [0.3333333333333333, \"#9c179e\"], [0.4444444444444444, \"#bd3786\"], [0.5555555555555556, \"#d8576b\"], [0.6666666666666666, \"#ed7953\"], [0.7777777777777778, \"#fb9f3a\"], [0.8888888888888888, \"#fdca26\"], [1.0, \"#f0f921\"]], \"type\": \"histogram2d\"}], \"histogram2dcontour\": [{\"colorbar\": {\"outlinewidth\": 0, \"ticks\": \"\"}, \"colorscale\": [[0.0, \"#0d0887\"], [0.1111111111111111, \"#46039f\"], [0.2222222222222222, \"#7201a8\"], [0.3333333333333333, \"#9c179e\"], [0.4444444444444444, \"#bd3786\"], [0.5555555555555556, \"#d8576b\"], [0.6666666666666666, \"#ed7953\"], [0.7777777777777778, \"#fb9f3a\"], [0.8888888888888888, \"#fdca26\"], [1.0, \"#f0f921\"]], \"type\": \"histogram2dcontour\"}], \"mesh3d\": [{\"colorbar\": {\"outlinewidth\": 0, \"ticks\": \"\"}, \"type\": \"mesh3d\"}], \"parcoords\": [{\"line\": {\"colorbar\": {\"outlinewidth\": 0, \"ticks\": \"\"}}, \"type\": \"parcoords\"}], \"pie\": [{\"automargin\": true, \"type\": \"pie\"}], \"scatter\": [{\"marker\": {\"colorbar\": {\"outlinewidth\": 0, \"ticks\": \"\"}}, \"type\": \"scatter\"}], \"scatter3d\": [{\"line\": {\"colorbar\": {\"outlinewidth\": 0, \"ticks\": \"\"}}, \"marker\": {\"colorbar\": {\"outlinewidth\": 0, \"ticks\": \"\"}}, \"type\": \"scatter3d\"}], \"scattercarpet\": [{\"marker\": {\"colorbar\": {\"outlinewidth\": 0, \"ticks\": \"\"}}, \"type\": \"scattercarpet\"}], \"scattergeo\": [{\"marker\": {\"colorbar\": {\"outlinewidth\": 0, \"ticks\": \"\"}}, \"type\": \"scattergeo\"}], \"scattergl\": [{\"marker\": {\"colorbar\": {\"outlinewidth\": 0, \"ticks\": \"\"}}, \"type\": \"scattergl\"}], \"scattermapbox\": [{\"marker\": {\"colorbar\": {\"outlinewidth\": 0, \"ticks\": \"\"}}, \"type\": \"scattermapbox\"}], \"scatterpolar\": [{\"marker\": {\"colorbar\": {\"outlinewidth\": 0, \"ticks\": \"\"}}, \"type\": \"scatterpolar\"}], \"scatterpolargl\": [{\"marker\": {\"colorbar\": {\"outlinewidth\": 0, \"ticks\": \"\"}}, \"type\": \"scatterpolargl\"}], \"scatterternary\": [{\"marker\": {\"colorbar\": {\"outlinewidth\": 0, \"ticks\": \"\"}}, \"type\": \"scatterternary\"}], \"surface\": [{\"colorbar\": {\"outlinewidth\": 0, \"ticks\": \"\"}, \"colorscale\": [[0.0, \"#0d0887\"], [0.1111111111111111, \"#46039f\"], [0.2222222222222222, \"#7201a8\"], [0.3333333333333333, \"#9c179e\"], [0.4444444444444444, \"#bd3786\"], [0.5555555555555556, \"#d8576b\"], [0.6666666666666666, \"#ed7953\"], [0.7777777777777778, \"#fb9f3a\"], [0.8888888888888888, \"#fdca26\"], [1.0, \"#f0f921\"]], \"type\": \"surface\"}], \"table\": [{\"cells\": {\"fill\": {\"color\": \"#EBF0F8\"}, \"line\": {\"color\": \"white\"}}, \"header\": {\"fill\": {\"color\": \"#C8D4E3\"}, \"line\": {\"color\": \"white\"}}, \"type\": \"table\"}]}, \"layout\": {\"annotationdefaults\": {\"arrowcolor\": \"#2a3f5f\", \"arrowhead\": 0, \"arrowwidth\": 1}, \"coloraxis\": {\"colorbar\": {\"outlinewidth\": 0, \"ticks\": \"\"}}, \"colorscale\": {\"diverging\": [[0, \"#8e0152\"], [0.1, \"#c51b7d\"], [0.2, \"#de77ae\"], [0.3, \"#f1b6da\"], [0.4, \"#fde0ef\"], [0.5, \"#f7f7f7\"], [0.6, \"#e6f5d0\"], [0.7, \"#b8e186\"], [0.8, \"#7fbc41\"], [0.9, \"#4d9221\"], [1, \"#276419\"]], \"sequential\": [[0.0, \"#0d0887\"], [0.1111111111111111, \"#46039f\"], [0.2222222222222222, \"#7201a8\"], [0.3333333333333333, \"#9c179e\"], [0.4444444444444444, \"#bd3786\"], [0.5555555555555556, \"#d8576b\"], [0.6666666666666666, \"#ed7953\"], [0.7777777777777778, \"#fb9f3a\"], [0.8888888888888888, \"#fdca26\"], [1.0, \"#f0f921\"]], \"sequentialminus\": [[0.0, \"#0d0887\"], [0.1111111111111111, \"#46039f\"], [0.2222222222222222, \"#7201a8\"], [0.3333333333333333, \"#9c179e\"], [0.4444444444444444, \"#bd3786\"], [0.5555555555555556, \"#d8576b\"], [0.6666666666666666, \"#ed7953\"], [0.7777777777777778, \"#fb9f3a\"], [0.8888888888888888, \"#fdca26\"], [1.0, \"#f0f921\"]]}, \"colorway\": [\"#636efa\", \"#EF553B\", \"#00cc96\", \"#ab63fa\", \"#FFA15A\", \"#19d3f3\", \"#FF6692\", \"#B6E880\", \"#FF97FF\", \"#FECB52\"], \"font\": {\"color\": \"#2a3f5f\"}, \"geo\": {\"bgcolor\": \"white\", \"lakecolor\": \"white\", \"landcolor\": \"#E5ECF6\", \"showlakes\": true, \"showland\": true, \"subunitcolor\": \"white\"}, \"hoverlabel\": {\"align\": \"left\"}, \"hovermode\": \"closest\", \"mapbox\": {\"style\": \"light\"}, \"paper_bgcolor\": \"white\", \"plot_bgcolor\": \"#E5ECF6\", \"polar\": {\"angularaxis\": {\"gridcolor\": \"white\", \"linecolor\": \"white\", \"ticks\": \"\"}, \"bgcolor\": \"#E5ECF6\", \"radialaxis\": {\"gridcolor\": \"white\", \"linecolor\": \"white\", \"ticks\": \"\"}}, \"scene\": {\"xaxis\": {\"backgroundcolor\": \"#E5ECF6\", \"gridcolor\": \"white\", \"gridwidth\": 2, \"linecolor\": \"white\", \"showbackground\": true, \"ticks\": \"\", \"zerolinecolor\": \"white\"}, \"yaxis\": {\"backgroundcolor\": \"#E5ECF6\", \"gridcolor\": \"white\", \"gridwidth\": 2, \"linecolor\": \"white\", \"showbackground\": true, \"ticks\": \"\", \"zerolinecolor\": \"white\"}, \"zaxis\": {\"backgroundcolor\": \"#E5ECF6\", \"gridcolor\": \"white\", \"gridwidth\": 2, \"linecolor\": \"white\", \"showbackground\": true, \"ticks\": \"\", \"zerolinecolor\": \"white\"}}, \"shapedefaults\": {\"line\": {\"color\": \"#2a3f5f\"}}, \"ternary\": {\"aaxis\": {\"gridcolor\": \"white\", \"linecolor\": \"white\", \"ticks\": \"\"}, \"baxis\": {\"gridcolor\": \"white\", \"linecolor\": \"white\", \"ticks\": \"\"}, \"bgcolor\": \"#E5ECF6\", \"caxis\": {\"gridcolor\": \"white\", \"linecolor\": \"white\", \"ticks\": \"\"}}, \"title\": {\"x\": 0.05}, \"xaxis\": {\"automargin\": true, \"gridcolor\": \"white\", \"linecolor\": \"white\", \"ticks\": \"\", \"title\": {\"standoff\": 15}, \"zerolinecolor\": \"white\", \"zerolinewidth\": 2}, \"yaxis\": {\"automargin\": true, \"gridcolor\": \"white\", \"linecolor\": \"white\", \"ticks\": \"\", \"title\": {\"standoff\": 15}, \"zerolinecolor\": \"white\", \"zerolinewidth\": 2}}}, \"xaxis\": {\"anchor\": \"y\", \"domain\": [0.0, 1.0], \"title\": {\"text\": \"Month\"}}, \"yaxis\": {\"anchor\": \"x\", \"domain\": [0.0, 1.0], \"title\": {\"text\": \"Total Dumpster Fires\"}}},\n",
              "                        {\"responsive\": true}\n",
              "                    ).then(function(){\n",
              "                            \n",
              "var gd = document.getElementById('26e00a12-fd28-43c2-a42a-97f53aa869a4');\n",
              "var x = new MutationObserver(function (mutations, observer) {{\n",
              "        var display = window.getComputedStyle(gd).display;\n",
              "        if (!display || display === 'none') {{\n",
              "            console.log([gd, 'removed!']);\n",
              "            Plotly.purge(gd);\n",
              "            observer.disconnect();\n",
              "        }}\n",
              "}});\n",
              "\n",
              "// Listen for the removal of the full notebook cells\n",
              "var notebookContainer = gd.closest('#notebook-container');\n",
              "if (notebookContainer) {{\n",
              "    x.observe(notebookContainer, {childList: true});\n",
              "}}\n",
              "\n",
              "// Listen for the clearing of the current output cell\n",
              "var outputEl = gd.closest('.output');\n",
              "if (outputEl) {{\n",
              "    x.observe(outputEl, {childList: true});\n",
              "}}\n",
              "\n",
              "                        })\n",
              "                };\n",
              "                \n",
              "            </script>\n",
              "        </div>\n",
              "</body>\n",
              "</html>"
            ]
          },
          "metadata": {
            "tags": []
          }
        }
      ]
    },
    {
      "cell_type": "code",
      "metadata": {
        "id": "OcDKl3pX427-",
        "colab_type": "code",
        "outputId": "1bbcf52e-d002-4fd3-db70-fb3013095987",
        "colab": {
          "base_uri": "https://localhost:8080/",
          "height": 148
        }
      },
      "source": [
        "#Making a normalized crosstab\n",
        "avg_fire_p_month = pd.crosstab(dumpster['type'], dumpster['month'], \n",
        "                               normalize = True)\n",
        "avg_fire_p_month"
      ],
      "execution_count": 110,
      "outputs": [
        {
          "output_type": "execute_result",
          "data": {
            "text/html": [
              "<div>\n",
              "<style scoped>\n",
              "    .dataframe tbody tr th:only-of-type {\n",
              "        vertical-align: middle;\n",
              "    }\n",
              "\n",
              "    .dataframe tbody tr th {\n",
              "        vertical-align: top;\n",
              "    }\n",
              "\n",
              "    .dataframe thead th {\n",
              "        text-align: right;\n",
              "    }\n",
              "</style>\n",
              "<table border=\"1\" class=\"dataframe\">\n",
              "  <thead>\n",
              "    <tr style=\"text-align: right;\">\n",
              "      <th>month</th>\n",
              "      <th>1</th>\n",
              "      <th>2</th>\n",
              "      <th>3</th>\n",
              "      <th>4</th>\n",
              "      <th>5</th>\n",
              "      <th>6</th>\n",
              "      <th>7</th>\n",
              "      <th>8</th>\n",
              "      <th>9</th>\n",
              "      <th>10</th>\n",
              "      <th>11</th>\n",
              "      <th>12</th>\n",
              "    </tr>\n",
              "    <tr>\n",
              "      <th>type</th>\n",
              "      <th></th>\n",
              "      <th></th>\n",
              "      <th></th>\n",
              "      <th></th>\n",
              "      <th></th>\n",
              "      <th></th>\n",
              "      <th></th>\n",
              "      <th></th>\n",
              "      <th></th>\n",
              "      <th></th>\n",
              "      <th></th>\n",
              "      <th></th>\n",
              "    </tr>\n",
              "  </thead>\n",
              "  <tbody>\n",
              "    <tr>\n",
              "      <th>Dumpster Fire</th>\n",
              "      <td>0.057211</td>\n",
              "      <td>0.058999</td>\n",
              "      <td>0.084029</td>\n",
              "      <td>0.074493</td>\n",
              "      <td>0.094756</td>\n",
              "      <td>0.109654</td>\n",
              "      <td>0.129917</td>\n",
              "      <td>0.097139</td>\n",
              "      <td>0.088796</td>\n",
              "      <td>0.072706</td>\n",
              "      <td>0.054231</td>\n",
              "      <td>0.078069</td>\n",
              "    </tr>\n",
              "  </tbody>\n",
              "</table>\n",
              "</div>"
            ],
            "text/plain": [
              "month                1         2         3   ...        10        11        12\n",
              "type                                         ...                              \n",
              "Dumpster Fire  0.057211  0.058999  0.084029  ...  0.072706  0.054231  0.078069\n",
              "\n",
              "[1 rows x 12 columns]"
            ]
          },
          "metadata": {
            "tags": []
          },
          "execution_count": 110
        }
      ]
    },
    {
      "cell_type": "code",
      "metadata": {
        "id": "ZX4BzAtjSAiz",
        "colab_type": "code",
        "outputId": "d8d0b4ca-738f-4834-c858-9eb5e2e71524",
        "colab": {
          "base_uri": "https://localhost:8080/",
          "height": 421
        }
      },
      "source": [
        "#for mah boy plotly\n",
        "columns = {'month' : 'Month', 'Dumpster Fire': 'Average Dumpster Fires'}\n",
        "avg_fire_p_month = avg_fire_p_month.T.reset_index().rename(columns = columns)\n",
        "avg_fire_p_month"
      ],
      "execution_count": 111,
      "outputs": [
        {
          "output_type": "execute_result",
          "data": {
            "text/html": [
              "<div>\n",
              "<style scoped>\n",
              "    .dataframe tbody tr th:only-of-type {\n",
              "        vertical-align: middle;\n",
              "    }\n",
              "\n",
              "    .dataframe tbody tr th {\n",
              "        vertical-align: top;\n",
              "    }\n",
              "\n",
              "    .dataframe thead th {\n",
              "        text-align: right;\n",
              "    }\n",
              "</style>\n",
              "<table border=\"1\" class=\"dataframe\">\n",
              "  <thead>\n",
              "    <tr style=\"text-align: right;\">\n",
              "      <th>type</th>\n",
              "      <th>Month</th>\n",
              "      <th>Average Dumpster Fires</th>\n",
              "    </tr>\n",
              "  </thead>\n",
              "  <tbody>\n",
              "    <tr>\n",
              "      <th>0</th>\n",
              "      <td>1</td>\n",
              "      <td>0.057211</td>\n",
              "    </tr>\n",
              "    <tr>\n",
              "      <th>1</th>\n",
              "      <td>2</td>\n",
              "      <td>0.058999</td>\n",
              "    </tr>\n",
              "    <tr>\n",
              "      <th>2</th>\n",
              "      <td>3</td>\n",
              "      <td>0.084029</td>\n",
              "    </tr>\n",
              "    <tr>\n",
              "      <th>3</th>\n",
              "      <td>4</td>\n",
              "      <td>0.074493</td>\n",
              "    </tr>\n",
              "    <tr>\n",
              "      <th>4</th>\n",
              "      <td>5</td>\n",
              "      <td>0.094756</td>\n",
              "    </tr>\n",
              "    <tr>\n",
              "      <th>5</th>\n",
              "      <td>6</td>\n",
              "      <td>0.109654</td>\n",
              "    </tr>\n",
              "    <tr>\n",
              "      <th>6</th>\n",
              "      <td>7</td>\n",
              "      <td>0.129917</td>\n",
              "    </tr>\n",
              "    <tr>\n",
              "      <th>7</th>\n",
              "      <td>8</td>\n",
              "      <td>0.097139</td>\n",
              "    </tr>\n",
              "    <tr>\n",
              "      <th>8</th>\n",
              "      <td>9</td>\n",
              "      <td>0.088796</td>\n",
              "    </tr>\n",
              "    <tr>\n",
              "      <th>9</th>\n",
              "      <td>10</td>\n",
              "      <td>0.072706</td>\n",
              "    </tr>\n",
              "    <tr>\n",
              "      <th>10</th>\n",
              "      <td>11</td>\n",
              "      <td>0.054231</td>\n",
              "    </tr>\n",
              "    <tr>\n",
              "      <th>11</th>\n",
              "      <td>12</td>\n",
              "      <td>0.078069</td>\n",
              "    </tr>\n",
              "  </tbody>\n",
              "</table>\n",
              "</div>"
            ],
            "text/plain": [
              "type  Month  Average Dumpster Fires\n",
              "0         1                0.057211\n",
              "1         2                0.058999\n",
              "2         3                0.084029\n",
              "3         4                0.074493\n",
              "4         5                0.094756\n",
              "5         6                0.109654\n",
              "6         7                0.129917\n",
              "7         8                0.097139\n",
              "8         9                0.088796\n",
              "9        10                0.072706\n",
              "10       11                0.054231\n",
              "11       12                0.078069"
            ]
          },
          "metadata": {
            "tags": []
          },
          "execution_count": 111
        }
      ]
    },
    {
      "cell_type": "code",
      "metadata": {
        "id": "KCbdprwrSSj_",
        "colab_type": "code",
        "outputId": "f6b05685-3d44-4f0b-884a-1c5dbee7a7a5",
        "colab": {
          "base_uri": "https://localhost:8080/",
          "height": 542
        }
      },
      "source": [
        "#damn so if i you look at the month of december, and the average is WAY low.\n",
        "#so our arson was over 10x the average for the month of december in one night.\n",
        "\n",
        "fig = px.bar(avg_fire_p_month, x = 'Month', y = 'Average Dumpster Fires')\n",
        "fig.show()"
      ],
      "execution_count": 112,
      "outputs": [
        {
          "output_type": "display_data",
          "data": {
            "text/html": [
              "<html>\n",
              "<head><meta charset=\"utf-8\" /></head>\n",
              "<body>\n",
              "    <div>\n",
              "            <script src=\"https://cdnjs.cloudflare.com/ajax/libs/mathjax/2.7.5/MathJax.js?config=TeX-AMS-MML_SVG\"></script><script type=\"text/javascript\">if (window.MathJax) {MathJax.Hub.Config({SVG: {font: \"STIX-Web\"}});}</script>\n",
              "                <script type=\"text/javascript\">window.PlotlyConfig = {MathJaxConfig: 'local'};</script>\n",
              "        <script src=\"https://cdn.plot.ly/plotly-latest.min.js\"></script>    \n",
              "            <div id=\"a5ae889b-f4b6-4b1a-b6ff-9730dd4df8b7\" class=\"plotly-graph-div\" style=\"height:525px; width:100%;\"></div>\n",
              "            <script type=\"text/javascript\">\n",
              "                \n",
              "                    window.PLOTLYENV=window.PLOTLYENV || {};\n",
              "                    \n",
              "                if (document.getElementById(\"a5ae889b-f4b6-4b1a-b6ff-9730dd4df8b7\")) {\n",
              "                    Plotly.newPlot(\n",
              "                        'a5ae889b-f4b6-4b1a-b6ff-9730dd4df8b7',\n",
              "                        [{\"alignmentgroup\": \"True\", \"hoverlabel\": {\"namelength\": 0}, \"hovertemplate\": \"Month=%{x}<br>Average Dumpster Fires=%{y}\", \"legendgroup\": \"\", \"marker\": {\"color\": \"#636efa\"}, \"name\": \"\", \"offsetgroup\": \"\", \"orientation\": \"v\", \"showlegend\": false, \"textposition\": \"auto\", \"type\": \"bar\", \"x\": [1, 2, 3, 4, 5, 6, 7, 8, 9, 10, 11, 12], \"xaxis\": \"x\", \"y\": [0.057210965435041714, 0.05899880810488677, 0.08402860548271752, 0.07449344457687723, 0.09475566150178784, 0.10965435041716329, 0.1299165673420739, 0.09713945172824791, 0.08879618593563766, 0.07270560190703218, 0.054231227651966626, 0.07806912991656734], \"yaxis\": \"y\"}],\n",
              "                        {\"barmode\": \"relative\", \"legend\": {\"tracegroupgap\": 0}, \"margin\": {\"t\": 60}, \"template\": {\"data\": {\"bar\": [{\"error_x\": {\"color\": \"#2a3f5f\"}, \"error_y\": {\"color\": \"#2a3f5f\"}, \"marker\": {\"line\": {\"color\": \"#E5ECF6\", \"width\": 0.5}}, \"type\": \"bar\"}], \"barpolar\": [{\"marker\": {\"line\": {\"color\": \"#E5ECF6\", \"width\": 0.5}}, \"type\": \"barpolar\"}], \"carpet\": [{\"aaxis\": {\"endlinecolor\": \"#2a3f5f\", \"gridcolor\": \"white\", \"linecolor\": \"white\", \"minorgridcolor\": \"white\", \"startlinecolor\": \"#2a3f5f\"}, \"baxis\": {\"endlinecolor\": \"#2a3f5f\", \"gridcolor\": \"white\", \"linecolor\": \"white\", \"minorgridcolor\": \"white\", \"startlinecolor\": \"#2a3f5f\"}, \"type\": \"carpet\"}], \"choropleth\": [{\"colorbar\": {\"outlinewidth\": 0, \"ticks\": \"\"}, \"type\": \"choropleth\"}], \"contour\": [{\"colorbar\": {\"outlinewidth\": 0, \"ticks\": \"\"}, \"colorscale\": [[0.0, \"#0d0887\"], [0.1111111111111111, \"#46039f\"], [0.2222222222222222, \"#7201a8\"], [0.3333333333333333, \"#9c179e\"], [0.4444444444444444, \"#bd3786\"], [0.5555555555555556, \"#d8576b\"], [0.6666666666666666, \"#ed7953\"], [0.7777777777777778, \"#fb9f3a\"], [0.8888888888888888, \"#fdca26\"], [1.0, \"#f0f921\"]], \"type\": \"contour\"}], \"contourcarpet\": [{\"colorbar\": {\"outlinewidth\": 0, \"ticks\": \"\"}, \"type\": \"contourcarpet\"}], \"heatmap\": [{\"colorbar\": {\"outlinewidth\": 0, \"ticks\": \"\"}, \"colorscale\": [[0.0, \"#0d0887\"], [0.1111111111111111, \"#46039f\"], [0.2222222222222222, \"#7201a8\"], [0.3333333333333333, \"#9c179e\"], [0.4444444444444444, \"#bd3786\"], [0.5555555555555556, \"#d8576b\"], [0.6666666666666666, \"#ed7953\"], [0.7777777777777778, \"#fb9f3a\"], [0.8888888888888888, \"#fdca26\"], [1.0, \"#f0f921\"]], \"type\": \"heatmap\"}], \"heatmapgl\": [{\"colorbar\": {\"outlinewidth\": 0, \"ticks\": \"\"}, \"colorscale\": [[0.0, \"#0d0887\"], [0.1111111111111111, \"#46039f\"], [0.2222222222222222, \"#7201a8\"], [0.3333333333333333, \"#9c179e\"], [0.4444444444444444, \"#bd3786\"], [0.5555555555555556, \"#d8576b\"], [0.6666666666666666, \"#ed7953\"], [0.7777777777777778, \"#fb9f3a\"], [0.8888888888888888, \"#fdca26\"], [1.0, \"#f0f921\"]], \"type\": \"heatmapgl\"}], \"histogram\": [{\"marker\": {\"colorbar\": {\"outlinewidth\": 0, \"ticks\": \"\"}}, \"type\": \"histogram\"}], \"histogram2d\": [{\"colorbar\": {\"outlinewidth\": 0, \"ticks\": \"\"}, \"colorscale\": [[0.0, \"#0d0887\"], [0.1111111111111111, \"#46039f\"], [0.2222222222222222, \"#7201a8\"], [0.3333333333333333, \"#9c179e\"], [0.4444444444444444, \"#bd3786\"], [0.5555555555555556, \"#d8576b\"], [0.6666666666666666, \"#ed7953\"], [0.7777777777777778, \"#fb9f3a\"], [0.8888888888888888, \"#fdca26\"], [1.0, \"#f0f921\"]], \"type\": \"histogram2d\"}], \"histogram2dcontour\": [{\"colorbar\": {\"outlinewidth\": 0, \"ticks\": \"\"}, \"colorscale\": [[0.0, \"#0d0887\"], [0.1111111111111111, \"#46039f\"], [0.2222222222222222, \"#7201a8\"], [0.3333333333333333, \"#9c179e\"], [0.4444444444444444, \"#bd3786\"], [0.5555555555555556, \"#d8576b\"], [0.6666666666666666, \"#ed7953\"], [0.7777777777777778, \"#fb9f3a\"], [0.8888888888888888, \"#fdca26\"], [1.0, \"#f0f921\"]], \"type\": \"histogram2dcontour\"}], \"mesh3d\": [{\"colorbar\": {\"outlinewidth\": 0, \"ticks\": \"\"}, \"type\": \"mesh3d\"}], \"parcoords\": [{\"line\": {\"colorbar\": {\"outlinewidth\": 0, \"ticks\": \"\"}}, \"type\": \"parcoords\"}], \"pie\": [{\"automargin\": true, \"type\": \"pie\"}], \"scatter\": [{\"marker\": {\"colorbar\": {\"outlinewidth\": 0, \"ticks\": \"\"}}, \"type\": \"scatter\"}], \"scatter3d\": [{\"line\": {\"colorbar\": {\"outlinewidth\": 0, \"ticks\": \"\"}}, \"marker\": {\"colorbar\": {\"outlinewidth\": 0, \"ticks\": \"\"}}, \"type\": \"scatter3d\"}], \"scattercarpet\": [{\"marker\": {\"colorbar\": {\"outlinewidth\": 0, \"ticks\": \"\"}}, \"type\": \"scattercarpet\"}], \"scattergeo\": [{\"marker\": {\"colorbar\": {\"outlinewidth\": 0, \"ticks\": \"\"}}, \"type\": \"scattergeo\"}], \"scattergl\": [{\"marker\": {\"colorbar\": {\"outlinewidth\": 0, \"ticks\": \"\"}}, \"type\": \"scattergl\"}], \"scattermapbox\": [{\"marker\": {\"colorbar\": {\"outlinewidth\": 0, \"ticks\": \"\"}}, \"type\": \"scattermapbox\"}], \"scatterpolar\": [{\"marker\": {\"colorbar\": {\"outlinewidth\": 0, \"ticks\": \"\"}}, \"type\": \"scatterpolar\"}], \"scatterpolargl\": [{\"marker\": {\"colorbar\": {\"outlinewidth\": 0, \"ticks\": \"\"}}, \"type\": \"scatterpolargl\"}], \"scatterternary\": [{\"marker\": {\"colorbar\": {\"outlinewidth\": 0, \"ticks\": \"\"}}, \"type\": \"scatterternary\"}], \"surface\": [{\"colorbar\": {\"outlinewidth\": 0, \"ticks\": \"\"}, \"colorscale\": [[0.0, \"#0d0887\"], [0.1111111111111111, \"#46039f\"], [0.2222222222222222, \"#7201a8\"], [0.3333333333333333, \"#9c179e\"], [0.4444444444444444, \"#bd3786\"], [0.5555555555555556, \"#d8576b\"], [0.6666666666666666, \"#ed7953\"], [0.7777777777777778, \"#fb9f3a\"], [0.8888888888888888, \"#fdca26\"], [1.0, \"#f0f921\"]], \"type\": \"surface\"}], \"table\": [{\"cells\": {\"fill\": {\"color\": \"#EBF0F8\"}, \"line\": {\"color\": \"white\"}}, \"header\": {\"fill\": {\"color\": \"#C8D4E3\"}, \"line\": {\"color\": \"white\"}}, \"type\": \"table\"}]}, \"layout\": {\"annotationdefaults\": {\"arrowcolor\": \"#2a3f5f\", \"arrowhead\": 0, \"arrowwidth\": 1}, \"coloraxis\": {\"colorbar\": {\"outlinewidth\": 0, \"ticks\": \"\"}}, \"colorscale\": {\"diverging\": [[0, \"#8e0152\"], [0.1, \"#c51b7d\"], [0.2, \"#de77ae\"], [0.3, \"#f1b6da\"], [0.4, \"#fde0ef\"], [0.5, \"#f7f7f7\"], [0.6, \"#e6f5d0\"], [0.7, \"#b8e186\"], [0.8, \"#7fbc41\"], [0.9, \"#4d9221\"], [1, \"#276419\"]], \"sequential\": [[0.0, \"#0d0887\"], [0.1111111111111111, \"#46039f\"], [0.2222222222222222, \"#7201a8\"], [0.3333333333333333, \"#9c179e\"], [0.4444444444444444, \"#bd3786\"], [0.5555555555555556, \"#d8576b\"], [0.6666666666666666, \"#ed7953\"], [0.7777777777777778, \"#fb9f3a\"], [0.8888888888888888, \"#fdca26\"], [1.0, \"#f0f921\"]], \"sequentialminus\": [[0.0, \"#0d0887\"], [0.1111111111111111, \"#46039f\"], [0.2222222222222222, \"#7201a8\"], [0.3333333333333333, \"#9c179e\"], [0.4444444444444444, \"#bd3786\"], [0.5555555555555556, \"#d8576b\"], [0.6666666666666666, \"#ed7953\"], [0.7777777777777778, \"#fb9f3a\"], [0.8888888888888888, \"#fdca26\"], [1.0, \"#f0f921\"]]}, \"colorway\": [\"#636efa\", \"#EF553B\", \"#00cc96\", \"#ab63fa\", \"#FFA15A\", \"#19d3f3\", \"#FF6692\", \"#B6E880\", \"#FF97FF\", \"#FECB52\"], \"font\": {\"color\": \"#2a3f5f\"}, \"geo\": {\"bgcolor\": \"white\", \"lakecolor\": \"white\", \"landcolor\": \"#E5ECF6\", \"showlakes\": true, \"showland\": true, \"subunitcolor\": \"white\"}, \"hoverlabel\": {\"align\": \"left\"}, \"hovermode\": \"closest\", \"mapbox\": {\"style\": \"light\"}, \"paper_bgcolor\": \"white\", \"plot_bgcolor\": \"#E5ECF6\", \"polar\": {\"angularaxis\": {\"gridcolor\": \"white\", \"linecolor\": \"white\", \"ticks\": \"\"}, \"bgcolor\": \"#E5ECF6\", \"radialaxis\": {\"gridcolor\": \"white\", \"linecolor\": \"white\", \"ticks\": \"\"}}, \"scene\": {\"xaxis\": {\"backgroundcolor\": \"#E5ECF6\", \"gridcolor\": \"white\", \"gridwidth\": 2, \"linecolor\": \"white\", \"showbackground\": true, \"ticks\": \"\", \"zerolinecolor\": \"white\"}, \"yaxis\": {\"backgroundcolor\": \"#E5ECF6\", \"gridcolor\": \"white\", \"gridwidth\": 2, \"linecolor\": \"white\", \"showbackground\": true, \"ticks\": \"\", \"zerolinecolor\": \"white\"}, \"zaxis\": {\"backgroundcolor\": \"#E5ECF6\", \"gridcolor\": \"white\", \"gridwidth\": 2, \"linecolor\": \"white\", \"showbackground\": true, \"ticks\": \"\", \"zerolinecolor\": \"white\"}}, \"shapedefaults\": {\"line\": {\"color\": \"#2a3f5f\"}}, \"ternary\": {\"aaxis\": {\"gridcolor\": \"white\", \"linecolor\": \"white\", \"ticks\": \"\"}, \"baxis\": {\"gridcolor\": \"white\", \"linecolor\": \"white\", \"ticks\": \"\"}, \"bgcolor\": \"#E5ECF6\", \"caxis\": {\"gridcolor\": \"white\", \"linecolor\": \"white\", \"ticks\": \"\"}}, \"title\": {\"x\": 0.05}, \"xaxis\": {\"automargin\": true, \"gridcolor\": \"white\", \"linecolor\": \"white\", \"ticks\": \"\", \"title\": {\"standoff\": 15}, \"zerolinecolor\": \"white\", \"zerolinewidth\": 2}, \"yaxis\": {\"automargin\": true, \"gridcolor\": \"white\", \"linecolor\": \"white\", \"ticks\": \"\", \"title\": {\"standoff\": 15}, \"zerolinecolor\": \"white\", \"zerolinewidth\": 2}}}, \"xaxis\": {\"anchor\": \"y\", \"domain\": [0.0, 1.0], \"title\": {\"text\": \"Month\"}}, \"yaxis\": {\"anchor\": \"x\", \"domain\": [0.0, 1.0], \"title\": {\"text\": \"Average Dumpster Fires\"}}},\n",
              "                        {\"responsive\": true}\n",
              "                    ).then(function(){\n",
              "                            \n",
              "var gd = document.getElementById('a5ae889b-f4b6-4b1a-b6ff-9730dd4df8b7');\n",
              "var x = new MutationObserver(function (mutations, observer) {{\n",
              "        var display = window.getComputedStyle(gd).display;\n",
              "        if (!display || display === 'none') {{\n",
              "            console.log([gd, 'removed!']);\n",
              "            Plotly.purge(gd);\n",
              "            observer.disconnect();\n",
              "        }}\n",
              "}});\n",
              "\n",
              "// Listen for the removal of the full notebook cells\n",
              "var notebookContainer = gd.closest('#notebook-container');\n",
              "if (notebookContainer) {{\n",
              "    x.observe(notebookContainer, {childList: true});\n",
              "}}\n",
              "\n",
              "// Listen for the clearing of the current output cell\n",
              "var outputEl = gd.closest('.output');\n",
              "if (outputEl) {{\n",
              "    x.observe(outputEl, {childList: true});\n",
              "}}\n",
              "\n",
              "                        })\n",
              "                };\n",
              "                \n",
              "            </script>\n",
              "        </div>\n",
              "</body>\n",
              "</html>"
            ]
          },
          "metadata": {
            "tags": []
          }
        }
      ]
    },
    {
      "cell_type": "markdown",
      "metadata": {
        "id": "IJBw-zkV3jKU",
        "colab_type": "text"
      },
      "source": [
        "##Feature Engineering 1"
      ]
    },
    {
      "cell_type": "code",
      "metadata": {
        "id": "svJSnXwnSeXx",
        "colab_type": "code",
        "colab": {}
      },
      "source": [
        "#Okay lets get back on track.\n",
        "#Just plough through these, sorted by datetime and give a simple boolean value \n",
        "#for if each call was within 24 hours.\n",
        "#Then just group each set, and count how many calls in a row.\n",
        "\n",
        "#check if two dates are within 24 hours\n",
        "def within_24(earlier, later):\n",
        "  return (later - earlier) <= datetime.timedelta(hours = 24)"
      ],
      "execution_count": 0,
      "outputs": []
    },
    {
      "cell_type": "code",
      "metadata": {
        "id": "hNV28MWxaZvF",
        "colab_type": "code",
        "outputId": "cb731e3b-b678-49a9-9693-0c4aea869169",
        "colab": {
          "base_uri": "https://localhost:8080/",
          "height": 411
        }
      },
      "source": [
        "#indexes are still showing from the original data set, just going to reset these\n",
        "#for ease of processing and using iloc.\n",
        "dumpster.sort_values('datetime', inplace = True)\n",
        "dumpster.reset_index(drop = True, inplace = True)\n",
        "dumpster.head()"
      ],
      "execution_count": 114,
      "outputs": [
        {
          "output_type": "execute_result",
          "data": {
            "text/html": [
              "<div>\n",
              "<style scoped>\n",
              "    .dataframe tbody tr th:only-of-type {\n",
              "        vertical-align: middle;\n",
              "    }\n",
              "\n",
              "    .dataframe tbody tr th {\n",
              "        vertical-align: top;\n",
              "    }\n",
              "\n",
              "    .dataframe thead th {\n",
              "        text-align: right;\n",
              "    }\n",
              "</style>\n",
              "<table border=\"1\" class=\"dataframe\">\n",
              "  <thead>\n",
              "    <tr style=\"text-align: right;\">\n",
              "      <th></th>\n",
              "      <th>address</th>\n",
              "      <th>type</th>\n",
              "      <th>datetime</th>\n",
              "      <th>latitude</th>\n",
              "      <th>longitude</th>\n",
              "      <th>report_location</th>\n",
              "      <th>incident_number</th>\n",
              "      <th>year</th>\n",
              "      <th>month</th>\n",
              "    </tr>\n",
              "  </thead>\n",
              "  <tbody>\n",
              "    <tr>\n",
              "      <th>0</th>\n",
              "      <td>747 Broadway</td>\n",
              "      <td>Dumpster Fire</td>\n",
              "      <td>2003-11-10T15:43:04.000</td>\n",
              "      <td>47.608621</td>\n",
              "      <td>-122.320756</td>\n",
              "      <td>{'type': 'Point', 'coordinates': [-122.320756,...</td>\n",
              "      <td>F030082401</td>\n",
              "      <td>2003</td>\n",
              "      <td>11</td>\n",
              "    </tr>\n",
              "    <tr>\n",
              "      <th>1</th>\n",
              "      <td>32nd Av E / E Madison St</td>\n",
              "      <td>Dumpster Fire</td>\n",
              "      <td>2003-11-14T23:45:39.000</td>\n",
              "      <td>47.627040</td>\n",
              "      <td>-122.290929</td>\n",
              "      <td>{'type': 'Point', 'coordinates': [-122.290929,...</td>\n",
              "      <td>F030083954</td>\n",
              "      <td>2003</td>\n",
              "      <td>11</td>\n",
              "    </tr>\n",
              "    <tr>\n",
              "      <th>2</th>\n",
              "      <td>6TH AV / PIKE ST</td>\n",
              "      <td>Dumpster Fire</td>\n",
              "      <td>2003-11-18T09:10:42.000</td>\n",
              "      <td>47.611142</td>\n",
              "      <td>-122.334464</td>\n",
              "      <td>{'type': 'Point', 'coordinates': [-122.334464,...</td>\n",
              "      <td>F030085104</td>\n",
              "      <td>2003</td>\n",
              "      <td>11</td>\n",
              "    </tr>\n",
              "    <tr>\n",
              "      <th>3</th>\n",
              "      <td>6th Av / Pike St</td>\n",
              "      <td>Dumpster Fire</td>\n",
              "      <td>2003-11-18T09:10:57.000</td>\n",
              "      <td>47.611142</td>\n",
              "      <td>-122.334464</td>\n",
              "      <td>{'type': 'Point', 'coordinates': [-122.334464,...</td>\n",
              "      <td>F030085103</td>\n",
              "      <td>2003</td>\n",
              "      <td>11</td>\n",
              "    </tr>\n",
              "    <tr>\n",
              "      <th>4</th>\n",
              "      <td>Stone Way N / N 45th St</td>\n",
              "      <td>Dumpster Fire</td>\n",
              "      <td>2003-11-18T15:38:25.000</td>\n",
              "      <td>47.661385</td>\n",
              "      <td>-122.342145</td>\n",
              "      <td>{'type': 'Point', 'coordinates': [-122.342145,...</td>\n",
              "      <td>F030085264</td>\n",
              "      <td>2003</td>\n",
              "      <td>11</td>\n",
              "    </tr>\n",
              "  </tbody>\n",
              "</table>\n",
              "</div>"
            ],
            "text/plain": [
              "                    address           type  ...  year month\n",
              "0              747 Broadway  Dumpster Fire  ...  2003    11\n",
              "1  32nd Av E / E Madison St  Dumpster Fire  ...  2003    11\n",
              "2          6TH AV / PIKE ST  Dumpster Fire  ...  2003    11\n",
              "3          6th Av / Pike St  Dumpster Fire  ...  2003    11\n",
              "4   Stone Way N / N 45th St  Dumpster Fire  ...  2003    11\n",
              "\n",
              "[5 rows x 9 columns]"
            ]
          },
          "metadata": {
            "tags": []
          },
          "execution_count": 114
        }
      ]
    },
    {
      "cell_type": "code",
      "metadata": {
        "id": "648WeNYTdzTc",
        "colab_type": "code",
        "colab": {}
      },
      "source": [
        "#need some actual datetime objects to do this so lets just convert that date\n",
        "#time column in to datetime objects.\n",
        "dumpster['date_obj'] = pd.DatetimeIndex(dumpster['datetime'])"
      ],
      "execution_count": 0,
      "outputs": []
    },
    {
      "cell_type": "code",
      "metadata": {
        "id": "Uci2YpsPfk9J",
        "colab_type": "code",
        "outputId": "46953b89-f561-4b01-8ab6-53c95d6cffc9",
        "colab": {
          "base_uri": "https://localhost:8080/",
          "height": 411
        }
      },
      "source": [
        "dumpster.head()"
      ],
      "execution_count": 116,
      "outputs": [
        {
          "output_type": "execute_result",
          "data": {
            "text/html": [
              "<div>\n",
              "<style scoped>\n",
              "    .dataframe tbody tr th:only-of-type {\n",
              "        vertical-align: middle;\n",
              "    }\n",
              "\n",
              "    .dataframe tbody tr th {\n",
              "        vertical-align: top;\n",
              "    }\n",
              "\n",
              "    .dataframe thead th {\n",
              "        text-align: right;\n",
              "    }\n",
              "</style>\n",
              "<table border=\"1\" class=\"dataframe\">\n",
              "  <thead>\n",
              "    <tr style=\"text-align: right;\">\n",
              "      <th></th>\n",
              "      <th>address</th>\n",
              "      <th>type</th>\n",
              "      <th>datetime</th>\n",
              "      <th>latitude</th>\n",
              "      <th>longitude</th>\n",
              "      <th>report_location</th>\n",
              "      <th>incident_number</th>\n",
              "      <th>year</th>\n",
              "      <th>month</th>\n",
              "      <th>date_obj</th>\n",
              "    </tr>\n",
              "  </thead>\n",
              "  <tbody>\n",
              "    <tr>\n",
              "      <th>0</th>\n",
              "      <td>747 Broadway</td>\n",
              "      <td>Dumpster Fire</td>\n",
              "      <td>2003-11-10T15:43:04.000</td>\n",
              "      <td>47.608621</td>\n",
              "      <td>-122.320756</td>\n",
              "      <td>{'type': 'Point', 'coordinates': [-122.320756,...</td>\n",
              "      <td>F030082401</td>\n",
              "      <td>2003</td>\n",
              "      <td>11</td>\n",
              "      <td>2003-11-10 15:43:04</td>\n",
              "    </tr>\n",
              "    <tr>\n",
              "      <th>1</th>\n",
              "      <td>32nd Av E / E Madison St</td>\n",
              "      <td>Dumpster Fire</td>\n",
              "      <td>2003-11-14T23:45:39.000</td>\n",
              "      <td>47.627040</td>\n",
              "      <td>-122.290929</td>\n",
              "      <td>{'type': 'Point', 'coordinates': [-122.290929,...</td>\n",
              "      <td>F030083954</td>\n",
              "      <td>2003</td>\n",
              "      <td>11</td>\n",
              "      <td>2003-11-14 23:45:39</td>\n",
              "    </tr>\n",
              "    <tr>\n",
              "      <th>2</th>\n",
              "      <td>6TH AV / PIKE ST</td>\n",
              "      <td>Dumpster Fire</td>\n",
              "      <td>2003-11-18T09:10:42.000</td>\n",
              "      <td>47.611142</td>\n",
              "      <td>-122.334464</td>\n",
              "      <td>{'type': 'Point', 'coordinates': [-122.334464,...</td>\n",
              "      <td>F030085104</td>\n",
              "      <td>2003</td>\n",
              "      <td>11</td>\n",
              "      <td>2003-11-18 09:10:42</td>\n",
              "    </tr>\n",
              "    <tr>\n",
              "      <th>3</th>\n",
              "      <td>6th Av / Pike St</td>\n",
              "      <td>Dumpster Fire</td>\n",
              "      <td>2003-11-18T09:10:57.000</td>\n",
              "      <td>47.611142</td>\n",
              "      <td>-122.334464</td>\n",
              "      <td>{'type': 'Point', 'coordinates': [-122.334464,...</td>\n",
              "      <td>F030085103</td>\n",
              "      <td>2003</td>\n",
              "      <td>11</td>\n",
              "      <td>2003-11-18 09:10:57</td>\n",
              "    </tr>\n",
              "    <tr>\n",
              "      <th>4</th>\n",
              "      <td>Stone Way N / N 45th St</td>\n",
              "      <td>Dumpster Fire</td>\n",
              "      <td>2003-11-18T15:38:25.000</td>\n",
              "      <td>47.661385</td>\n",
              "      <td>-122.342145</td>\n",
              "      <td>{'type': 'Point', 'coordinates': [-122.342145,...</td>\n",
              "      <td>F030085264</td>\n",
              "      <td>2003</td>\n",
              "      <td>11</td>\n",
              "      <td>2003-11-18 15:38:25</td>\n",
              "    </tr>\n",
              "  </tbody>\n",
              "</table>\n",
              "</div>"
            ],
            "text/plain": [
              "                    address           type  ... month            date_obj\n",
              "0              747 Broadway  Dumpster Fire  ...    11 2003-11-10 15:43:04\n",
              "1  32nd Av E / E Madison St  Dumpster Fire  ...    11 2003-11-14 23:45:39\n",
              "2          6TH AV / PIKE ST  Dumpster Fire  ...    11 2003-11-18 09:10:42\n",
              "3          6th Av / Pike St  Dumpster Fire  ...    11 2003-11-18 09:10:57\n",
              "4   Stone Way N / N 45th St  Dumpster Fire  ...    11 2003-11-18 15:38:25\n",
              "\n",
              "[5 rows x 10 columns]"
            ]
          },
          "metadata": {
            "tags": []
          },
          "execution_count": 116
        }
      ]
    },
    {
      "cell_type": "code",
      "metadata": {
        "id": "FbEfg030ZdDb",
        "colab_type": "code",
        "outputId": "536d38fc-fc5b-448e-a03e-9812d9a13011",
        "colab": {
          "base_uri": "https://localhost:8080/",
          "height": 51
        }
      },
      "source": [
        "#can't really think of how to do this without good old fashioned indexing\n",
        "#so I'm going to do that for now.  Would love to find a better way to do this\n",
        "#the - 1 in the range is to compensate for looking one index ahead\n",
        "#I'm comparing the index, to the index+1, and seeing if they are within 24\n",
        "#hours, then storing that truth value in a list to be added to our dataframe\n",
        "\n",
        "#we are assuming all calls are greater than 24 hours apart, and only changing\n",
        "#when they aren't\n",
        "booleans = [False] * dumpster.shape[0]\n",
        "\n",
        "for i in range(dumpster.shape[0] - 1):\n",
        "  if within_24(dumpster['date_obj'].iloc[i], dumpster['date_obj'].iloc[i + 1]):\n",
        "    booleans[i] = True\n",
        "    booleans[i+1] = True\n",
        "  else:\n",
        "    continue\n",
        "\n",
        "print(len(booleans))\n",
        "print(dumpster.shape[0])"
      ],
      "execution_count": 117,
      "outputs": [
        {
          "output_type": "stream",
          "text": [
            "1678\n",
            "1678\n"
          ],
          "name": "stdout"
        }
      ]
    },
    {
      "cell_type": "code",
      "metadata": {
        "id": "sLGrej_3datg",
        "colab_type": "code",
        "outputId": "f2f7faaf-b7f6-443d-c0c1-815166ca56b3",
        "colab": {
          "base_uri": "https://localhost:8080/",
          "height": 54
        }
      },
      "source": [
        "#length matches shape, so I did it right.\n",
        "print(booleans)"
      ],
      "execution_count": 118,
      "outputs": [
        {
          "output_type": "stream",
          "text": [
            "[False, False, True, True, True, False, False, True, True, False, True, True, True, True, True, True, True, True, True, True, False, False, False, False, False, False, True, True, False, False, False, False, False, True, True, False, False, False, False, False, False, True, True, True, True, True, True, False, True, True, False, True, True, False, False, True, True, False, False, False, False, False, False, False, False, False, False, True, True, True, True, True, True, False, True, True, True, True, False, True, True, True, True, True, True, True, True, True, True, True, True, False, False, True, True, False, False, False, False, False, False, False, True, True, False, True, True, True, False, True, True, True, True, False, False, False, False, False, False, False, True, True, False, False, False, False, False, False, False, False, False, False, False, False, False, False, True, True, True, False, False, True, True, False, False, False, False, False, False, False, True, True, False, False, False, False, False, False, False, False, True, True, False, False, False, False, False, False, False, False, True, True, False, False, False, False, True, True, True, False, False, True, True, True, True, True, True, True, True, True, True, True, True, True, True, True, True, True, True, True, False, True, True, False, True, True, True, False, True, True, False, False, False, False, True, True, False, False, True, True, True, True, False, False, False, False, False, True, True, True, False, True, True, True, True, True, True, False, False, False, True, True, True, True, True, True, True, False, False, False, False, True, True, False, False, False, False, False, False, False, False, True, True, False, False, False, False, True, True, True, True, True, True, False, False, True, True, False, False, True, True, True, True, False, False, False, False, True, True, True, True, True, False, False, False, True, True, True, True, False, True, True, True, True, True, True, True, True, True, True, True, True, False, True, True, True, False, False, False, False, False, False, False, True, True, True, True, False, False, False, True, True, True, True, True, True, True, True, True, False, False, True, True, True, True, False, False, False, False, False, True, True, True, False, False, False, False, False, False, True, True, False, False, False, False, False, False, False, False, True, True, False, False, False, False, False, True, True, False, True, True, False, True, True, True, False, False, False, False, False, False, False, False, False, False, False, False, True, True, False, False, True, True, False, False, False, False, True, True, True, True, True, True, False, False, False, False, True, True, False, False, False, False, False, False, True, True, True, True, True, True, True, True, False, True, True, True, True, False, True, True, True, False, False, False, False, True, True, False, True, True, True, True, True, True, True, True, True, True, True, True, True, True, True, False, False, True, True, False, True, True, False, True, True, False, True, True, False, False, False, False, False, False, True, True, True, True, True, True, False, True, True, True, False, False, False, False, True, True, False, True, True, False, False, True, True, True, False, False, False, False, False, True, True, False, False, False, False, False, False, False, False, False, False, True, True, True, True, True, True, True, False, False, False, False, True, True, False, False, False, False, True, True, False, True, True, True, True, False, True, True, False, False, True, True, True, True, True, True, True, True, True, False, False, False, False, False, False, False, False, False, True, True, False, True, True, True, False, False, True, True, True, True, True, True, True, True, True, True, True, True, False, True, True, True, True, True, False, True, True, False, True, True, True, True, True, True, True, True, True, True, False, False, True, True, True, False, False, True, True, False, False, False, True, True, False, False, False, False, True, True, False, False, True, True, False, False, False, False, False, False, False, False, False, False, True, True, False, False, True, True, False, True, True, False, False, False, False, True, True, False, False, False, False, False, True, True, False, False, False, False, False, False, False, False, False, False, False, False, False, False, False, False, True, True, True, True, True, True, False, False, False, True, True, False, False, False, False, False, True, True, False, False, False, True, True, True, True, True, True, False, False, False, True, True, True, True, True, True, True, True, True, False, False, True, True, True, True, False, False, True, True, True, True, True, True, False, False, False, True, True, True, True, True, True, False, True, True, True, True, True, False, True, True, False, False, False, False, True, True, False, False, False, False, False, False, False, True, True, False, False, False, False, False, False, False, False, False, True, True, True, False, False, True, True, True, True, False, False, False, False, False, False, False, True, True, False, True, True, False, True, True, True, True, False, False, True, True, True, True, False, False, True, True, False, False, True, True, False, True, True, False, False, False, False, False, True, True, False, False, False, False, False, False, False, False, False, False, False, False, False, False, False, False, True, True, True, False, False, False, False, False, True, True, False, False, False, False, False, False, True, True, False, False, True, True, True, False, True, True, False, False, True, True, True, True, True, True, True, True, True, True, True, True, True, True, True, True, False, True, True, False, False, False, False, True, True, False, False, False, False, False, False, False, True, True, False, False, True, True, True, True, True, False, True, True, False, True, True, False, False, False, False, False, False, False, True, True, False, False, False, False, False, True, True, True, True, True, False, False, True, True, False, True, True, True, True, False, False, True, True, True, True, False, False, True, True, True, True, True, True, True, True, True, False, True, True, False, True, True, False, False, False, False, False, True, True, False, False, False, False, True, True, True, False, False, True, True, False, False, False, True, True, False, False, False, False, True, True, False, False, True, True, False, False, False, True, True, True, True, False, False, False, False, False, False, False, False, True, True, False, True, True, False, False, False, False, False, False, False, False, False, False, False, False, False, True, True, True, True, False, False, False, False, False, False, False, False, True, True, True, True, False, False, False, True, True, False, False, False, False, False, True, True, False, True, True, True, True, False, True, True, False, False, False, True, True, False, False, False, False, False, False, True, True, False, False, True, True, True, False, False, False, False, False, False, False, False, False, True, True, False, False, True, True, True, False, True, True, True, True, True, True, True, True, True, False, False, False, False, False, False, False, True, True, True, True, True, True, True, True, False, False, False, False, False, True, True, False, False, False, True, True, False, False, True, True, False, False, False, True, True, True, True, False, False, False, False, True, True, False, False, False, True, True, False, False, False, True, True, True, True, True, True, True, True, True, True, True, False, False, False, False, False, False, False, True, True, False, True, True, False, False, False, True, True, True, True, True, True, False, True, True, False, True, True, True, False, False, False, True, True, False, False, False, False, False, False, False, False, False, True, True, False, False, False, False, False, True, True, False, True, True, False, False, True, True, False, True, True, False, False, False, True, True, False, False, True, True, True, True, True, True, True, True, True, False, False, False, False, False, False, False, False, False, False, False, False, False, True, True, True, True, True, True, True, True, True, False, False, False, True, True, False, False, True, True, False, False, False, True, True, True, True, True, True, True, True, True, True, False, False, False, False, False, False, False, False, True, True, True, False, False, False, False, False, False, True, True, False, False, False, False, False, False, False, True, True, False, False, False, False, False, False, True, True, False, False, False, False, False, False, False, True, True, True, False, False, True, True, False, False, False, False, False, False, False, True, True, True, False, False, False, False, False, False, True, True, True, True, True, True, True, True, True, True, False, False, False, True, True, True, False, True, True, True, True, True, True, True, True, True, True, True, True, False, False, True, True, False, True, True, False, False, False, False, False, False, False, False, False, True, True, True, True, False, False, False, True, True, False, True, True, False, False, True, True, True, True, True, True, True, True, True, False, False, True, True, True, True, True, True, False, True, True, False, False, True, True, True, True, False, True, True, True, True, True, False, True, True, True, False, False, True, True, False, False, False, True, True, True, True, True, True, False, True, True, True, True, False, False, False, True, True, True, True, False, True, True, True, True, True, True, False, False, False, True, True, False, True, True, False, True, True, True, True, True, False, True, True, True, True, False, False, False, False, True, True, True, False, False, False, False, False, False, True, True, False, False, False, False, True, True, True, True, True, True, False, True, True, False, True, True, True, True, False, False, False, True, True, True, True, True, True, False, True, True, False, False, False, True, True, False, False, False, False, False, True, True, False, True, True, False, True, True, False, False, True, True, True, True, False, False, True, True, False, False, True, True, True, False, False, True, True, False, False, True, True, False, False, True, True, False, False, False, True, True, True, True, True, False, True, True, True, True, False, False, True, True, True, False, True, True, True, True, True, True, False, False, False, False, False, True, True, True, True, True, True, False, False, False, False, True, True, False, False, False, False, False, False, False, False, False, False, True, True, True, False, False, False, True, True, True, True, True, False, True, True, True, True, True, True, True, True, True, False, False, False]\n"
          ],
          "name": "stdout"
        }
      ]
    },
    {
      "cell_type": "code",
      "metadata": {
        "id": "HNV2zrEKmGvr",
        "colab_type": "code",
        "outputId": "a8c7a51e-bd65-4ff4-e65e-6d617f99cab9",
        "colab": {
          "base_uri": "https://localhost:8080/",
          "height": 51
        }
      },
      "source": [
        "#okay I'm pretty sure I didn't make a mistake, but more that I didn't make a \n",
        "#meaningful choice when I selected a boolean.  Lets try this again, and I will\n",
        "#simply choose to group them by the initial index value. This is getting very\n",
        "#c-like, and not very pythonic\n",
        "groups = [0] * dumpster.shape[0]\n",
        "\n",
        "#I need to dynamically change i, so it will be a while loop\n",
        "i = 0\n",
        "while i < dumpster.shape[0]:\n",
        "\n",
        "  #i + 1 because we can't be comparing the same index\n",
        "  for j in range(i + 1, dumpster.shape[0]):\n",
        "    if within_24(dumpster['date_obj'].iloc[i], dumpster['date_obj'].iloc[j]):\n",
        "      groups[i] = i\n",
        "      groups[j] = i\n",
        "    else:\n",
        "      \n",
        "      #ugh god this is so jank. -1 to account for the manually incrementing\n",
        "      i = j - 1\n",
        "      break\n",
        "  i += 1\n",
        "\n",
        "#I think thise might be what we are looking for\n",
        "print(len(groups))\n",
        "print(dumpster.shape[0])\n"
      ],
      "execution_count": 119,
      "outputs": [
        {
          "output_type": "stream",
          "text": [
            "1678\n",
            "1678\n"
          ],
          "name": "stdout"
        }
      ]
    },
    {
      "cell_type": "code",
      "metadata": {
        "id": "4N3ldWINpHXo",
        "colab_type": "code",
        "outputId": "96af010a-6434-4898-aaaa-cea5ece32251",
        "colab": {
          "base_uri": "https://localhost:8080/",
          "height": 54
        }
      },
      "source": [
        "print(groups)"
      ],
      "execution_count": 120,
      "outputs": [
        {
          "output_type": "stream",
          "text": [
            "[0, 0, 2, 2, 2, 0, 0, 7, 7, 0, 10, 10, 10, 13, 13, 15, 15, 17, 17, 17, 0, 0, 0, 0, 0, 0, 26, 26, 0, 0, 0, 0, 0, 33, 33, 0, 0, 0, 0, 0, 0, 41, 41, 43, 43, 43, 0, 0, 48, 48, 0, 51, 51, 0, 0, 55, 55, 0, 0, 0, 0, 0, 0, 0, 0, 0, 0, 67, 67, 69, 69, 71, 71, 0, 74, 74, 74, 0, 0, 79, 79, 81, 81, 81, 84, 84, 86, 86, 86, 89, 89, 0, 0, 93, 93, 0, 0, 0, 0, 0, 0, 0, 102, 102, 0, 105, 105, 105, 0, 109, 109, 111, 111, 0, 0, 0, 0, 0, 0, 0, 120, 120, 0, 0, 0, 0, 0, 0, 0, 0, 0, 0, 0, 0, 0, 0, 136, 136, 0, 0, 0, 141, 141, 0, 0, 0, 0, 0, 0, 0, 150, 150, 0, 0, 0, 0, 0, 0, 0, 0, 160, 160, 0, 0, 0, 0, 0, 0, 0, 0, 170, 170, 0, 0, 0, 0, 176, 176, 176, 0, 0, 181, 181, 181, 181, 185, 185, 185, 188, 188, 188, 188, 188, 188, 188, 0, 196, 196, 196, 196, 0, 201, 201, 0, 204, 204, 204, 0, 208, 208, 0, 0, 0, 0, 214, 214, 0, 0, 218, 218, 220, 220, 0, 0, 0, 0, 0, 227, 227, 227, 0, 231, 231, 231, 231, 235, 235, 0, 0, 0, 240, 240, 240, 240, 244, 244, 244, 0, 0, 0, 0, 251, 251, 0, 0, 0, 0, 0, 0, 0, 0, 261, 261, 0, 0, 0, 0, 267, 267, 267, 267, 271, 271, 0, 0, 275, 275, 0, 0, 279, 279, 281, 281, 0, 0, 0, 0, 287, 287, 289, 289, 289, 0, 0, 0, 295, 295, 297, 297, 0, 300, 300, 302, 302, 304, 304, 306, 306, 308, 308, 308, 308, 0, 313, 313, 0, 0, 0, 0, 0, 0, 0, 0, 323, 323, 323, 0, 0, 0, 0, 330, 330, 332, 332, 334, 334, 334, 334, 0, 0, 0, 341, 341, 343, 343, 0, 0, 0, 0, 0, 350, 350, 350, 0, 0, 0, 0, 0, 0, 359, 359, 0, 0, 0, 0, 0, 0, 0, 0, 369, 369, 0, 0, 0, 0, 0, 376, 376, 0, 379, 379, 0, 382, 382, 0, 0, 0, 0, 0, 0, 0, 0, 0, 0, 0, 0, 0, 397, 397, 0, 0, 401, 401, 0, 0, 0, 0, 407, 407, 409, 409, 409, 0, 0, 0, 0, 0, 417, 417, 0, 0, 0, 0, 0, 0, 425, 425, 0, 428, 428, 430, 430, 430, 0, 434, 434, 436, 436, 0, 439, 439, 0, 0, 0, 0, 0, 446, 446, 0, 449, 449, 449, 452, 452, 452, 452, 456, 456, 456, 456, 460, 460, 462, 462, 0, 0, 466, 466, 0, 469, 469, 0, 472, 472, 0, 475, 475, 0, 0, 0, 0, 0, 0, 483, 483, 483, 486, 486, 486, 0, 490, 490, 490, 0, 0, 0, 0, 497, 497, 0, 500, 500, 0, 0, 504, 504, 0, 0, 0, 0, 0, 0, 512, 512, 0, 0, 0, 0, 0, 0, 0, 0, 0, 0, 524, 524, 526, 526, 526, 529, 529, 0, 0, 0, 0, 535, 535, 0, 0, 0, 0, 541, 541, 0, 544, 544, 546, 546, 0, 549, 549, 0, 0, 553, 553, 0, 556, 556, 558, 558, 560, 560, 0, 0, 0, 0, 0, 0, 0, 0, 0, 571, 571, 0, 574, 574, 0, 0, 0, 579, 579, 579, 579, 579, 579, 579, 579, 587, 587, 589, 589, 0, 592, 592, 592, 595, 595, 0, 598, 598, 0, 601, 601, 603, 603, 605, 605, 605, 608, 608, 608, 0, 0, 613, 613, 0, 0, 0, 618, 618, 0, 0, 0, 623, 623, 0, 0, 0, 0, 629, 629, 0, 0, 633, 633, 0, 0, 0, 0, 0, 0, 0, 0, 0, 0, 645, 645, 0, 0, 649, 649, 0, 652, 652, 0, 0, 0, 0, 658, 658, 0, 0, 0, 0, 0, 665, 665, 0, 0, 0, 0, 0, 0, 0, 0, 0, 0, 0, 0, 0, 0, 0, 0, 683, 683, 685, 685, 685, 685, 0, 0, 0, 692, 692, 0, 0, 0, 0, 0, 699, 699, 0, 0, 0, 704, 704, 706, 706, 706, 0, 0, 0, 0, 713, 713, 713, 716, 716, 716, 0, 720, 720, 0, 0, 724, 724, 724, 0, 0, 0, 730, 730, 732, 732, 734, 734, 0, 0, 0, 739, 739, 739, 739, 739, 0, 0, 746, 746, 746, 746, 0, 0, 752, 752, 0, 0, 0, 0, 758, 758, 0, 0, 0, 0, 0, 0, 0, 767, 767, 0, 0, 0, 0, 0, 0, 0, 0, 0, 778, 778, 778, 0, 0, 783, 783, 785, 785, 0, 0, 0, 0, 0, 0, 0, 794, 794, 0, 797, 797, 0, 800, 800, 802, 802, 0, 0, 806, 806, 808, 808, 0, 0, 812, 812, 0, 0, 816, 816, 0, 819, 819, 0, 0, 0, 0, 0, 826, 826, 0, 0, 0, 0, 0, 0, 0, 0, 0, 0, 0, 0, 0, 0, 0, 0, 844, 844, 844, 0, 0, 0, 0, 0, 852, 852, 0, 0, 0, 0, 0, 0, 860, 860, 0, 0, 864, 864, 864, 0, 868, 868, 0, 0, 872, 872, 874, 874, 874, 874, 878, 878, 880, 880, 880, 883, 883, 883, 886, 886, 0, 889, 889, 0, 0, 0, 0, 895, 895, 0, 0, 0, 0, 0, 0, 0, 904, 904, 0, 0, 908, 908, 910, 910, 0, 0, 914, 914, 0, 917, 917, 0, 0, 0, 0, 0, 0, 0, 926, 926, 0, 0, 0, 0, 0, 933, 933, 935, 935, 935, 0, 0, 940, 940, 0, 943, 943, 945, 945, 0, 0, 949, 949, 951, 951, 0, 0, 955, 955, 957, 957, 0, 960, 960, 962, 962, 0, 965, 965, 0, 968, 968, 0, 0, 0, 0, 0, 975, 975, 0, 0, 0, 0, 981, 981, 981, 0, 0, 986, 986, 0, 0, 0, 991, 991, 0, 0, 0, 0, 997, 997, 0, 0, 1001, 1001, 0, 0, 0, 1006, 1006, 1008, 1008, 0, 0, 0, 0, 0, 0, 0, 0, 1018, 1018, 0, 1021, 1021, 0, 0, 0, 0, 0, 0, 0, 0, 0, 0, 0, 0, 0, 1036, 1036, 1038, 1038, 0, 0, 0, 0, 0, 0, 0, 0, 1048, 1048, 1050, 1050, 0, 0, 0, 1055, 1055, 0, 0, 0, 0, 0, 1062, 1062, 0, 1065, 1065, 1067, 1067, 0, 1070, 1070, 0, 0, 0, 1075, 1075, 0, 0, 0, 0, 0, 0, 1083, 1083, 0, 0, 1087, 1087, 1087, 0, 0, 0, 0, 0, 0, 0, 0, 0, 1099, 1099, 0, 0, 1103, 1103, 1103, 0, 1107, 1107, 1109, 1109, 1111, 1111, 1111, 1114, 1114, 0, 0, 0, 0, 0, 0, 0, 1123, 1123, 1125, 1125, 1125, 1125, 1129, 1129, 0, 0, 0, 0, 0, 1136, 1136, 0, 0, 0, 1141, 1141, 0, 0, 1145, 1145, 0, 0, 0, 1150, 1150, 1152, 1152, 0, 0, 0, 0, 1158, 1158, 0, 0, 0, 1163, 1163, 0, 0, 0, 1168, 1168, 0, 1171, 1171, 0, 1174, 1174, 1176, 1176, 0, 0, 0, 0, 0, 0, 0, 0, 1186, 1186, 0, 1189, 1189, 0, 0, 0, 1194, 1194, 1196, 1196, 1198, 1198, 0, 1201, 1201, 0, 1204, 1204, 1204, 0, 0, 0, 1210, 1210, 0, 0, 0, 0, 0, 0, 0, 0, 0, 1221, 1221, 0, 0, 0, 0, 0, 1228, 1228, 0, 1231, 1231, 0, 0, 1235, 1235, 0, 1238, 1238, 0, 0, 0, 1243, 1243, 0, 0, 1247, 1247, 1249, 1249, 1251, 1251, 0, 1254, 1254, 0, 0, 0, 0, 0, 0, 0, 0, 0, 0, 0, 0, 0, 1269, 1269, 1269, 1272, 1272, 1274, 1274, 1276, 1276, 0, 0, 0, 1281, 1281, 0, 0, 1285, 1285, 0, 0, 0, 1290, 1290, 1290, 1293, 1293, 1295, 1295, 1297, 1297, 1297, 0, 0, 0, 0, 0, 0, 0, 0, 1308, 1308, 1308, 0, 0, 0, 0, 0, 0, 1317, 1317, 0, 0, 0, 0, 0, 0, 0, 1326, 1326, 0, 0, 0, 0, 0, 0, 1334, 1334, 0, 0, 0, 0, 0, 0, 0, 1343, 1343, 0, 0, 0, 1348, 1348, 0, 0, 0, 0, 0, 0, 0, 1357, 1357, 0, 0, 0, 0, 0, 0, 0, 1366, 1366, 1368, 1368, 1370, 1370, 1372, 1372, 1372, 1372, 0, 0, 0, 1379, 1379, 0, 0, 1383, 1383, 1383, 1386, 1386, 0, 1389, 1389, 1389, 1392, 1392, 1392, 0, 0, 1397, 1397, 0, 1400, 1400, 0, 0, 0, 0, 0, 0, 0, 0, 0, 1411, 1411, 1413, 1413, 0, 0, 0, 1418, 1418, 0, 1421, 1421, 0, 0, 1425, 1425, 1427, 1427, 1429, 1429, 1429, 1432, 1432, 0, 0, 1436, 1436, 1438, 1438, 1438, 0, 0, 1443, 1443, 0, 0, 1447, 1447, 1449, 1449, 0, 1452, 1452, 1452, 1455, 1455, 0, 1458, 1458, 0, 0, 0, 1463, 1463, 0, 0, 0, 1468, 1468, 1468, 1468, 1472, 1472, 0, 1475, 1475, 1477, 1477, 0, 0, 0, 1482, 1482, 1484, 1484, 0, 1487, 1487, 1489, 1489, 1489, 1489, 0, 0, 0, 1496, 1496, 0, 1499, 1499, 0, 1502, 1502, 1502, 1502, 1502, 0, 1508, 1508, 1510, 1510, 0, 0, 0, 0, 1516, 1516, 1516, 0, 0, 0, 0, 0, 0, 1525, 1525, 0, 0, 0, 0, 1531, 1531, 1533, 1533, 1535, 1535, 0, 1538, 1538, 0, 1541, 1541, 1543, 1543, 0, 0, 0, 1548, 1548, 1548, 1548, 1552, 1552, 0, 1555, 1555, 0, 0, 0, 1560, 1560, 0, 0, 0, 0, 0, 1567, 1567, 0, 1570, 1570, 0, 1573, 1573, 0, 0, 1577, 1577, 1577, 1577, 0, 0, 1583, 1583, 0, 0, 1587, 1587, 1587, 0, 0, 1592, 1592, 0, 0, 1596, 1596, 0, 0, 1600, 1600, 0, 0, 0, 1605, 1605, 1607, 1607, 1607, 0, 1611, 1611, 1611, 0, 0, 0, 1617, 1617, 0, 0, 1621, 1621, 1621, 1621, 1621, 1621, 0, 0, 0, 0, 0, 1632, 1632, 1632, 0, 1636, 1636, 0, 0, 0, 0, 1642, 1642, 0, 0, 0, 0, 0, 0, 0, 0, 0, 0, 1654, 1654, 0, 0, 0, 0, 1660, 1660, 1662, 1662, 1662, 0, 1666, 1666, 1666, 1666, 1666, 1666, 1666, 1666, 1666, 0, 0, 0]\n"
          ],
          "name": "stdout"
        }
      ]
    },
    {
      "cell_type": "code",
      "metadata": {
        "id": "srUMMuL-rckS",
        "colab_type": "code",
        "outputId": "7490ff14-f281-4ccd-f4a3-d9321c78ced9",
        "colab": {
          "base_uri": "https://localhost:8080/",
          "height": 1000
        }
      },
      "source": [
        "#for manual eyeball comparison, looks like I'm getting the groupings I expect.\n",
        "#especially group 1666, that is our serial dumpster arson.\n",
        "dumpster.tail(15)"
      ],
      "execution_count": 121,
      "outputs": [
        {
          "output_type": "execute_result",
          "data": {
            "text/html": [
              "<div>\n",
              "<style scoped>\n",
              "    .dataframe tbody tr th:only-of-type {\n",
              "        vertical-align: middle;\n",
              "    }\n",
              "\n",
              "    .dataframe tbody tr th {\n",
              "        vertical-align: top;\n",
              "    }\n",
              "\n",
              "    .dataframe thead th {\n",
              "        text-align: right;\n",
              "    }\n",
              "</style>\n",
              "<table border=\"1\" class=\"dataframe\">\n",
              "  <thead>\n",
              "    <tr style=\"text-align: right;\">\n",
              "      <th></th>\n",
              "      <th>address</th>\n",
              "      <th>type</th>\n",
              "      <th>datetime</th>\n",
              "      <th>latitude</th>\n",
              "      <th>longitude</th>\n",
              "      <th>report_location</th>\n",
              "      <th>incident_number</th>\n",
              "      <th>year</th>\n",
              "      <th>month</th>\n",
              "      <th>date_obj</th>\n",
              "    </tr>\n",
              "  </thead>\n",
              "  <tbody>\n",
              "    <tr>\n",
              "      <th>1663</th>\n",
              "      <td>520 2nd Av W</td>\n",
              "      <td>Dumpster Fire</td>\n",
              "      <td>2019-11-28T07:19:00.000</td>\n",
              "      <td>47.623539</td>\n",
              "      <td>-122.35933</td>\n",
              "      <td>{'type': 'Point', 'coordinates': [-122.35933, ...</td>\n",
              "      <td>F190126059</td>\n",
              "      <td>2019</td>\n",
              "      <td>11</td>\n",
              "      <td>2019-11-28 07:19:00</td>\n",
              "    </tr>\n",
              "    <tr>\n",
              "      <th>1664</th>\n",
              "      <td>515 1st Av W</td>\n",
              "      <td>Dumpster Fire</td>\n",
              "      <td>2019-11-28T07:24:00.000</td>\n",
              "      <td>47.623458</td>\n",
              "      <td>-122.358023</td>\n",
              "      <td>{'type': 'Point', 'coordinates': [-122.358023,...</td>\n",
              "      <td>F190126061</td>\n",
              "      <td>2019</td>\n",
              "      <td>11</td>\n",
              "      <td>2019-11-28 07:24:00</td>\n",
              "    </tr>\n",
              "    <tr>\n",
              "      <th>1665</th>\n",
              "      <td>504 E Denny Way</td>\n",
              "      <td>Dumpster Fire</td>\n",
              "      <td>2019-12-03T12:26:00.000</td>\n",
              "      <td>47.618488</td>\n",
              "      <td>-122.325234</td>\n",
              "      <td>{'type': 'Point', 'coordinates': [-122.325234,...</td>\n",
              "      <td>F190127833</td>\n",
              "      <td>2019</td>\n",
              "      <td>12</td>\n",
              "      <td>2019-12-03 12:26:00</td>\n",
              "    </tr>\n",
              "    <tr>\n",
              "      <th>1666</th>\n",
              "      <td>1214 Boylston Av</td>\n",
              "      <td>Dumpster Fire</td>\n",
              "      <td>2019-12-17T21:17:00.000</td>\n",
              "      <td>47.612253</td>\n",
              "      <td>-122.323199</td>\n",
              "      <td>{'type': 'Point', 'coordinates': [-122.323199,...</td>\n",
              "      <td>F190132873</td>\n",
              "      <td>2019</td>\n",
              "      <td>12</td>\n",
              "      <td>2019-12-17 21:17:00</td>\n",
              "    </tr>\n",
              "    <tr>\n",
              "      <th>1667</th>\n",
              "      <td>1308 SENECA ST</td>\n",
              "      <td>Dumpster Fire</td>\n",
              "      <td>2019-12-17T21:24:00.000</td>\n",
              "      <td>47.611732</td>\n",
              "      <td>-122.324132</td>\n",
              "      <td>{'type': 'Point', 'coordinates': [-122.324132,...</td>\n",
              "      <td>F190132878</td>\n",
              "      <td>2019</td>\n",
              "      <td>12</td>\n",
              "      <td>2019-12-17 21:24:00</td>\n",
              "    </tr>\n",
              "    <tr>\n",
              "      <th>1668</th>\n",
              "      <td>801 Spring St</td>\n",
              "      <td>Dumpster Fire</td>\n",
              "      <td>2019-12-17T21:36:00.000</td>\n",
              "      <td>47.608663</td>\n",
              "      <td>-122.329113</td>\n",
              "      <td>{'type': 'Point', 'coordinates': [-122.329113,...</td>\n",
              "      <td>F190132883</td>\n",
              "      <td>2019</td>\n",
              "      <td>12</td>\n",
              "      <td>2019-12-17 21:36:00</td>\n",
              "    </tr>\n",
              "    <tr>\n",
              "      <th>1669</th>\n",
              "      <td>1000 8th Av</td>\n",
              "      <td>Dumpster Fire</td>\n",
              "      <td>2019-12-17T21:39:00.000</td>\n",
              "      <td>47.607945</td>\n",
              "      <td>-122.328471</td>\n",
              "      <td>{'type': 'Point', 'coordinates': [-122.328471,...</td>\n",
              "      <td>F190132885</td>\n",
              "      <td>2019</td>\n",
              "      <td>12</td>\n",
              "      <td>2019-12-17 21:39:00</td>\n",
              "    </tr>\n",
              "    <tr>\n",
              "      <th>1670</th>\n",
              "      <td>1000 8th Av</td>\n",
              "      <td>Dumpster Fire</td>\n",
              "      <td>2019-12-17T21:41:00.000</td>\n",
              "      <td>47.607945</td>\n",
              "      <td>-122.328471</td>\n",
              "      <td>{'type': 'Point', 'coordinates': [-122.328471,...</td>\n",
              "      <td>F190132888</td>\n",
              "      <td>2019</td>\n",
              "      <td>12</td>\n",
              "      <td>2019-12-17 21:41:00</td>\n",
              "    </tr>\n",
              "    <tr>\n",
              "      <th>1671</th>\n",
              "      <td>211 1st Av S</td>\n",
              "      <td>Dumpster Fire</td>\n",
              "      <td>2019-12-17T22:28:00.000</td>\n",
              "      <td>47.600788</td>\n",
              "      <td>-122.334182</td>\n",
              "      <td>{'type': 'Point', 'coordinates': [-122.334182,...</td>\n",
              "      <td>F190132896</td>\n",
              "      <td>2019</td>\n",
              "      <td>12</td>\n",
              "      <td>2019-12-17 22:28:00</td>\n",
              "    </tr>\n",
              "    <tr>\n",
              "      <th>1672</th>\n",
              "      <td>2nd Av S / S Jackson St</td>\n",
              "      <td>Dumpster Fire</td>\n",
              "      <td>2019-12-17T22:37:00.000</td>\n",
              "      <td>47.599201</td>\n",
              "      <td>-122.331578</td>\n",
              "      <td>{'type': 'Point', 'coordinates': [-122.331578,...</td>\n",
              "      <td>F190132898</td>\n",
              "      <td>2019</td>\n",
              "      <td>12</td>\n",
              "      <td>2019-12-17 22:37:00</td>\n",
              "    </tr>\n",
              "    <tr>\n",
              "      <th>1673</th>\n",
              "      <td>85 S Main St</td>\n",
              "      <td>Dumpster Fire</td>\n",
              "      <td>2019-12-17T22:38:00.000</td>\n",
              "      <td>47.600045</td>\n",
              "      <td>-122.334623</td>\n",
              "      <td>{'type': 'Point', 'coordinates': [-122.334623,...</td>\n",
              "      <td>F190132899</td>\n",
              "      <td>2019</td>\n",
              "      <td>12</td>\n",
              "      <td>2019-12-17 22:38:00</td>\n",
              "    </tr>\n",
              "    <tr>\n",
              "      <th>1674</th>\n",
              "      <td>170 11th Av</td>\n",
              "      <td>Dumpster Fire</td>\n",
              "      <td>2019-12-18T00:38:00.000</td>\n",
              "      <td>47.603272</td>\n",
              "      <td>-122.318102</td>\n",
              "      <td>{'type': 'Point', 'coordinates': [-122.318102,...</td>\n",
              "      <td>F190132925</td>\n",
              "      <td>2019</td>\n",
              "      <td>12</td>\n",
              "      <td>2019-12-18 00:38:00</td>\n",
              "    </tr>\n",
              "    <tr>\n",
              "      <th>1675</th>\n",
              "      <td>17TH AV NE / NE 123RD ST</td>\n",
              "      <td>Dumpster Fire</td>\n",
              "      <td>2019-12-19T11:37:00.000</td>\n",
              "      <td>47.717577</td>\n",
              "      <td>-122.309921</td>\n",
              "      <td>{'type': 'Point', 'coordinates': [-122.309921,...</td>\n",
              "      <td>F190133440</td>\n",
              "      <td>2019</td>\n",
              "      <td>12</td>\n",
              "      <td>2019-12-19 11:37:00</td>\n",
              "    </tr>\n",
              "    <tr>\n",
              "      <th>1676</th>\n",
              "      <td>50th Av S / S Thistle St</td>\n",
              "      <td>Dumpster Fire</td>\n",
              "      <td>2019-12-23T17:29:00.000</td>\n",
              "      <td>47.52791</td>\n",
              "      <td>-122.2714</td>\n",
              "      <td>{'type': 'Point', 'coordinates': [-122.2714, 4...</td>\n",
              "      <td>F190135209</td>\n",
              "      <td>2019</td>\n",
              "      <td>12</td>\n",
              "      <td>2019-12-23 17:29:00</td>\n",
              "    </tr>\n",
              "    <tr>\n",
              "      <th>1677</th>\n",
              "      <td>Minor Av / Madison St</td>\n",
              "      <td>Dumpster Fire</td>\n",
              "      <td>2019-12-30T21:00:00.000</td>\n",
              "      <td>47.609802</td>\n",
              "      <td>-122.324029</td>\n",
              "      <td>{'type': 'Point', 'coordinates': [-122.324029,...</td>\n",
              "      <td>F190137639</td>\n",
              "      <td>2019</td>\n",
              "      <td>12</td>\n",
              "      <td>2019-12-30 21:00:00</td>\n",
              "    </tr>\n",
              "  </tbody>\n",
              "</table>\n",
              "</div>"
            ],
            "text/plain": [
              "                       address           type  ... month            date_obj\n",
              "1663              520 2nd Av W  Dumpster Fire  ...    11 2019-11-28 07:19:00\n",
              "1664              515 1st Av W  Dumpster Fire  ...    11 2019-11-28 07:24:00\n",
              "1665           504 E Denny Way  Dumpster Fire  ...    12 2019-12-03 12:26:00\n",
              "1666          1214 Boylston Av  Dumpster Fire  ...    12 2019-12-17 21:17:00\n",
              "1667            1308 SENECA ST  Dumpster Fire  ...    12 2019-12-17 21:24:00\n",
              "1668             801 Spring St  Dumpster Fire  ...    12 2019-12-17 21:36:00\n",
              "1669               1000 8th Av  Dumpster Fire  ...    12 2019-12-17 21:39:00\n",
              "1670               1000 8th Av  Dumpster Fire  ...    12 2019-12-17 21:41:00\n",
              "1671              211 1st Av S  Dumpster Fire  ...    12 2019-12-17 22:28:00\n",
              "1672   2nd Av S / S Jackson St  Dumpster Fire  ...    12 2019-12-17 22:37:00\n",
              "1673              85 S Main St  Dumpster Fire  ...    12 2019-12-17 22:38:00\n",
              "1674               170 11th Av  Dumpster Fire  ...    12 2019-12-18 00:38:00\n",
              "1675  17TH AV NE / NE 123RD ST  Dumpster Fire  ...    12 2019-12-19 11:37:00\n",
              "1676  50th Av S / S Thistle St  Dumpster Fire  ...    12 2019-12-23 17:29:00\n",
              "1677     Minor Av / Madison St  Dumpster Fire  ...    12 2019-12-30 21:00:00\n",
              "\n",
              "[15 rows x 10 columns]"
            ]
          },
          "metadata": {
            "tags": []
          },
          "execution_count": 121
        }
      ]
    },
    {
      "cell_type": "code",
      "metadata": {
        "id": "TA6NJrRjvtPk",
        "colab_type": "code",
        "outputId": "373c86f2-e236-4b6f-b6dc-37b2370113d1",
        "colab": {
          "base_uri": "https://localhost:8080/",
          "height": 1000
        }
      },
      "source": [
        "#Since they passed the eyeball check, my next step would be to throw these in a \n",
        "#column, and then do a groupby/ value_count on that column to see if there are \n",
        "#any groups that even come closer to 1666\n",
        "\n",
        "dumpster['calls_within_24h'] = groups\n",
        "dumpster.tail(15)"
      ],
      "execution_count": 122,
      "outputs": [
        {
          "output_type": "execute_result",
          "data": {
            "text/html": [
              "<div>\n",
              "<style scoped>\n",
              "    .dataframe tbody tr th:only-of-type {\n",
              "        vertical-align: middle;\n",
              "    }\n",
              "\n",
              "    .dataframe tbody tr th {\n",
              "        vertical-align: top;\n",
              "    }\n",
              "\n",
              "    .dataframe thead th {\n",
              "        text-align: right;\n",
              "    }\n",
              "</style>\n",
              "<table border=\"1\" class=\"dataframe\">\n",
              "  <thead>\n",
              "    <tr style=\"text-align: right;\">\n",
              "      <th></th>\n",
              "      <th>address</th>\n",
              "      <th>type</th>\n",
              "      <th>datetime</th>\n",
              "      <th>latitude</th>\n",
              "      <th>longitude</th>\n",
              "      <th>report_location</th>\n",
              "      <th>incident_number</th>\n",
              "      <th>year</th>\n",
              "      <th>month</th>\n",
              "      <th>date_obj</th>\n",
              "      <th>calls_within_24h</th>\n",
              "    </tr>\n",
              "  </thead>\n",
              "  <tbody>\n",
              "    <tr>\n",
              "      <th>1663</th>\n",
              "      <td>520 2nd Av W</td>\n",
              "      <td>Dumpster Fire</td>\n",
              "      <td>2019-11-28T07:19:00.000</td>\n",
              "      <td>47.623539</td>\n",
              "      <td>-122.35933</td>\n",
              "      <td>{'type': 'Point', 'coordinates': [-122.35933, ...</td>\n",
              "      <td>F190126059</td>\n",
              "      <td>2019</td>\n",
              "      <td>11</td>\n",
              "      <td>2019-11-28 07:19:00</td>\n",
              "      <td>1662</td>\n",
              "    </tr>\n",
              "    <tr>\n",
              "      <th>1664</th>\n",
              "      <td>515 1st Av W</td>\n",
              "      <td>Dumpster Fire</td>\n",
              "      <td>2019-11-28T07:24:00.000</td>\n",
              "      <td>47.623458</td>\n",
              "      <td>-122.358023</td>\n",
              "      <td>{'type': 'Point', 'coordinates': [-122.358023,...</td>\n",
              "      <td>F190126061</td>\n",
              "      <td>2019</td>\n",
              "      <td>11</td>\n",
              "      <td>2019-11-28 07:24:00</td>\n",
              "      <td>1662</td>\n",
              "    </tr>\n",
              "    <tr>\n",
              "      <th>1665</th>\n",
              "      <td>504 E Denny Way</td>\n",
              "      <td>Dumpster Fire</td>\n",
              "      <td>2019-12-03T12:26:00.000</td>\n",
              "      <td>47.618488</td>\n",
              "      <td>-122.325234</td>\n",
              "      <td>{'type': 'Point', 'coordinates': [-122.325234,...</td>\n",
              "      <td>F190127833</td>\n",
              "      <td>2019</td>\n",
              "      <td>12</td>\n",
              "      <td>2019-12-03 12:26:00</td>\n",
              "      <td>0</td>\n",
              "    </tr>\n",
              "    <tr>\n",
              "      <th>1666</th>\n",
              "      <td>1214 Boylston Av</td>\n",
              "      <td>Dumpster Fire</td>\n",
              "      <td>2019-12-17T21:17:00.000</td>\n",
              "      <td>47.612253</td>\n",
              "      <td>-122.323199</td>\n",
              "      <td>{'type': 'Point', 'coordinates': [-122.323199,...</td>\n",
              "      <td>F190132873</td>\n",
              "      <td>2019</td>\n",
              "      <td>12</td>\n",
              "      <td>2019-12-17 21:17:00</td>\n",
              "      <td>1666</td>\n",
              "    </tr>\n",
              "    <tr>\n",
              "      <th>1667</th>\n",
              "      <td>1308 SENECA ST</td>\n",
              "      <td>Dumpster Fire</td>\n",
              "      <td>2019-12-17T21:24:00.000</td>\n",
              "      <td>47.611732</td>\n",
              "      <td>-122.324132</td>\n",
              "      <td>{'type': 'Point', 'coordinates': [-122.324132,...</td>\n",
              "      <td>F190132878</td>\n",
              "      <td>2019</td>\n",
              "      <td>12</td>\n",
              "      <td>2019-12-17 21:24:00</td>\n",
              "      <td>1666</td>\n",
              "    </tr>\n",
              "    <tr>\n",
              "      <th>1668</th>\n",
              "      <td>801 Spring St</td>\n",
              "      <td>Dumpster Fire</td>\n",
              "      <td>2019-12-17T21:36:00.000</td>\n",
              "      <td>47.608663</td>\n",
              "      <td>-122.329113</td>\n",
              "      <td>{'type': 'Point', 'coordinates': [-122.329113,...</td>\n",
              "      <td>F190132883</td>\n",
              "      <td>2019</td>\n",
              "      <td>12</td>\n",
              "      <td>2019-12-17 21:36:00</td>\n",
              "      <td>1666</td>\n",
              "    </tr>\n",
              "    <tr>\n",
              "      <th>1669</th>\n",
              "      <td>1000 8th Av</td>\n",
              "      <td>Dumpster Fire</td>\n",
              "      <td>2019-12-17T21:39:00.000</td>\n",
              "      <td>47.607945</td>\n",
              "      <td>-122.328471</td>\n",
              "      <td>{'type': 'Point', 'coordinates': [-122.328471,...</td>\n",
              "      <td>F190132885</td>\n",
              "      <td>2019</td>\n",
              "      <td>12</td>\n",
              "      <td>2019-12-17 21:39:00</td>\n",
              "      <td>1666</td>\n",
              "    </tr>\n",
              "    <tr>\n",
              "      <th>1670</th>\n",
              "      <td>1000 8th Av</td>\n",
              "      <td>Dumpster Fire</td>\n",
              "      <td>2019-12-17T21:41:00.000</td>\n",
              "      <td>47.607945</td>\n",
              "      <td>-122.328471</td>\n",
              "      <td>{'type': 'Point', 'coordinates': [-122.328471,...</td>\n",
              "      <td>F190132888</td>\n",
              "      <td>2019</td>\n",
              "      <td>12</td>\n",
              "      <td>2019-12-17 21:41:00</td>\n",
              "      <td>1666</td>\n",
              "    </tr>\n",
              "    <tr>\n",
              "      <th>1671</th>\n",
              "      <td>211 1st Av S</td>\n",
              "      <td>Dumpster Fire</td>\n",
              "      <td>2019-12-17T22:28:00.000</td>\n",
              "      <td>47.600788</td>\n",
              "      <td>-122.334182</td>\n",
              "      <td>{'type': 'Point', 'coordinates': [-122.334182,...</td>\n",
              "      <td>F190132896</td>\n",
              "      <td>2019</td>\n",
              "      <td>12</td>\n",
              "      <td>2019-12-17 22:28:00</td>\n",
              "      <td>1666</td>\n",
              "    </tr>\n",
              "    <tr>\n",
              "      <th>1672</th>\n",
              "      <td>2nd Av S / S Jackson St</td>\n",
              "      <td>Dumpster Fire</td>\n",
              "      <td>2019-12-17T22:37:00.000</td>\n",
              "      <td>47.599201</td>\n",
              "      <td>-122.331578</td>\n",
              "      <td>{'type': 'Point', 'coordinates': [-122.331578,...</td>\n",
              "      <td>F190132898</td>\n",
              "      <td>2019</td>\n",
              "      <td>12</td>\n",
              "      <td>2019-12-17 22:37:00</td>\n",
              "      <td>1666</td>\n",
              "    </tr>\n",
              "    <tr>\n",
              "      <th>1673</th>\n",
              "      <td>85 S Main St</td>\n",
              "      <td>Dumpster Fire</td>\n",
              "      <td>2019-12-17T22:38:00.000</td>\n",
              "      <td>47.600045</td>\n",
              "      <td>-122.334623</td>\n",
              "      <td>{'type': 'Point', 'coordinates': [-122.334623,...</td>\n",
              "      <td>F190132899</td>\n",
              "      <td>2019</td>\n",
              "      <td>12</td>\n",
              "      <td>2019-12-17 22:38:00</td>\n",
              "      <td>1666</td>\n",
              "    </tr>\n",
              "    <tr>\n",
              "      <th>1674</th>\n",
              "      <td>170 11th Av</td>\n",
              "      <td>Dumpster Fire</td>\n",
              "      <td>2019-12-18T00:38:00.000</td>\n",
              "      <td>47.603272</td>\n",
              "      <td>-122.318102</td>\n",
              "      <td>{'type': 'Point', 'coordinates': [-122.318102,...</td>\n",
              "      <td>F190132925</td>\n",
              "      <td>2019</td>\n",
              "      <td>12</td>\n",
              "      <td>2019-12-18 00:38:00</td>\n",
              "      <td>1666</td>\n",
              "    </tr>\n",
              "    <tr>\n",
              "      <th>1675</th>\n",
              "      <td>17TH AV NE / NE 123RD ST</td>\n",
              "      <td>Dumpster Fire</td>\n",
              "      <td>2019-12-19T11:37:00.000</td>\n",
              "      <td>47.717577</td>\n",
              "      <td>-122.309921</td>\n",
              "      <td>{'type': 'Point', 'coordinates': [-122.309921,...</td>\n",
              "      <td>F190133440</td>\n",
              "      <td>2019</td>\n",
              "      <td>12</td>\n",
              "      <td>2019-12-19 11:37:00</td>\n",
              "      <td>0</td>\n",
              "    </tr>\n",
              "    <tr>\n",
              "      <th>1676</th>\n",
              "      <td>50th Av S / S Thistle St</td>\n",
              "      <td>Dumpster Fire</td>\n",
              "      <td>2019-12-23T17:29:00.000</td>\n",
              "      <td>47.52791</td>\n",
              "      <td>-122.2714</td>\n",
              "      <td>{'type': 'Point', 'coordinates': [-122.2714, 4...</td>\n",
              "      <td>F190135209</td>\n",
              "      <td>2019</td>\n",
              "      <td>12</td>\n",
              "      <td>2019-12-23 17:29:00</td>\n",
              "      <td>0</td>\n",
              "    </tr>\n",
              "    <tr>\n",
              "      <th>1677</th>\n",
              "      <td>Minor Av / Madison St</td>\n",
              "      <td>Dumpster Fire</td>\n",
              "      <td>2019-12-30T21:00:00.000</td>\n",
              "      <td>47.609802</td>\n",
              "      <td>-122.324029</td>\n",
              "      <td>{'type': 'Point', 'coordinates': [-122.324029,...</td>\n",
              "      <td>F190137639</td>\n",
              "      <td>2019</td>\n",
              "      <td>12</td>\n",
              "      <td>2019-12-30 21:00:00</td>\n",
              "      <td>0</td>\n",
              "    </tr>\n",
              "  </tbody>\n",
              "</table>\n",
              "</div>"
            ],
            "text/plain": [
              "                       address  ... calls_within_24h\n",
              "1663              520 2nd Av W  ...             1662\n",
              "1664              515 1st Av W  ...             1662\n",
              "1665           504 E Denny Way  ...                0\n",
              "1666          1214 Boylston Av  ...             1666\n",
              "1667            1308 SENECA ST  ...             1666\n",
              "1668             801 Spring St  ...             1666\n",
              "1669               1000 8th Av  ...             1666\n",
              "1670               1000 8th Av  ...             1666\n",
              "1671              211 1st Av S  ...             1666\n",
              "1672   2nd Av S / S Jackson St  ...             1666\n",
              "1673              85 S Main St  ...             1666\n",
              "1674               170 11th Av  ...             1666\n",
              "1675  17TH AV NE / NE 123RD ST  ...                0\n",
              "1676  50th Av S / S Thistle St  ...                0\n",
              "1677     Minor Av / Madison St  ...                0\n",
              "\n",
              "[15 rows x 11 columns]"
            ]
          },
          "metadata": {
            "tags": []
          },
          "execution_count": 122
        }
      ]
    },
    {
      "cell_type": "code",
      "metadata": {
        "id": "tWfS5z84ThIC",
        "colab_type": "code",
        "outputId": "22ffd6d4-1b9a-4728-a920-1f144fd5edee",
        "colab": {
          "base_uri": "https://localhost:8080/",
          "height": 221
        }
      },
      "source": [
        "#huh 1666 is a bit smaller than I expected from the article.  Looking at the\n",
        "#tail calls above, it seems like not all of the 12 fires were called into 911.\n",
        "#good to know\n",
        "dumpster['calls_within_24h'].value_counts()"
      ],
      "execution_count": 123,
      "outputs": [
        {
          "output_type": "execute_result",
          "data": {
            "text/plain": [
              "0       849\n",
              "1666      9\n",
              "579       8\n",
              "188       7\n",
              "1621      6\n",
              "       ... \n",
              "1065      2\n",
              "1067      2\n",
              "1070      2\n",
              "1075      2\n",
              "872       2\n",
              "Name: calls_within_24h, Length: 355, dtype: int64"
            ]
          },
          "metadata": {
            "tags": []
          },
          "execution_count": 123
        }
      ]
    },
    {
      "cell_type": "code",
      "metadata": {
        "id": "Fa117vfK1gN7",
        "colab_type": "code",
        "outputId": "7edff5cd-2394-4a4b-cb71-0b15e10d77ae",
        "colab": {
          "base_uri": "https://localhost:8080/",
          "height": 187
        }
      },
      "source": [
        "dumpster['calls_within_24h'].value_counts().value_counts()"
      ],
      "execution_count": 124,
      "outputs": [
        {
          "output_type": "execute_result",
          "data": {
            "text/plain": [
              "2      273\n",
              "3       57\n",
              "4       18\n",
              "5        2\n",
              "849      1\n",
              "9        1\n",
              "8        1\n",
              "7        1\n",
              "6        1\n",
              "Name: calls_within_24h, dtype: int64"
            ]
          },
          "metadata": {
            "tags": []
          },
          "execution_count": 124
        }
      ]
    },
    {
      "cell_type": "markdown",
      "metadata": {
        "id": "RqZfH6up5nY5",
        "colab_type": "text"
      },
      "source": [
        "##Visualization 1"
      ]
    },
    {
      "cell_type": "code",
      "metadata": {
        "id": "N1ja1mxw1mFk",
        "colab_type": "code",
        "outputId": "35ae0bdd-eed0-4604-d27b-6299d7e3014c",
        "colab": {
          "base_uri": "https://localhost:8080/",
          "height": 328
        }
      },
      "source": [
        "#this might make an interesting graph. \n",
        "call_groups = pd.DataFrame(dumpster['calls_within_24h'].value_counts().value_counts())\n",
        "\n",
        "call_groups"
      ],
      "execution_count": 125,
      "outputs": [
        {
          "output_type": "execute_result",
          "data": {
            "text/html": [
              "<div>\n",
              "<style scoped>\n",
              "    .dataframe tbody tr th:only-of-type {\n",
              "        vertical-align: middle;\n",
              "    }\n",
              "\n",
              "    .dataframe tbody tr th {\n",
              "        vertical-align: top;\n",
              "    }\n",
              "\n",
              "    .dataframe thead th {\n",
              "        text-align: right;\n",
              "    }\n",
              "</style>\n",
              "<table border=\"1\" class=\"dataframe\">\n",
              "  <thead>\n",
              "    <tr style=\"text-align: right;\">\n",
              "      <th></th>\n",
              "      <th>calls_within_24h</th>\n",
              "    </tr>\n",
              "  </thead>\n",
              "  <tbody>\n",
              "    <tr>\n",
              "      <th>2</th>\n",
              "      <td>273</td>\n",
              "    </tr>\n",
              "    <tr>\n",
              "      <th>3</th>\n",
              "      <td>57</td>\n",
              "    </tr>\n",
              "    <tr>\n",
              "      <th>4</th>\n",
              "      <td>18</td>\n",
              "    </tr>\n",
              "    <tr>\n",
              "      <th>5</th>\n",
              "      <td>2</td>\n",
              "    </tr>\n",
              "    <tr>\n",
              "      <th>849</th>\n",
              "      <td>1</td>\n",
              "    </tr>\n",
              "    <tr>\n",
              "      <th>9</th>\n",
              "      <td>1</td>\n",
              "    </tr>\n",
              "    <tr>\n",
              "      <th>8</th>\n",
              "      <td>1</td>\n",
              "    </tr>\n",
              "    <tr>\n",
              "      <th>7</th>\n",
              "      <td>1</td>\n",
              "    </tr>\n",
              "    <tr>\n",
              "      <th>6</th>\n",
              "      <td>1</td>\n",
              "    </tr>\n",
              "  </tbody>\n",
              "</table>\n",
              "</div>"
            ],
            "text/plain": [
              "     calls_within_24h\n",
              "2                 273\n",
              "3                  57\n",
              "4                  18\n",
              "5                   2\n",
              "849                 1\n",
              "9                   1\n",
              "8                   1\n",
              "7                   1\n",
              "6                   1"
            ]
          },
          "metadata": {
            "tags": []
          },
          "execution_count": 125
        }
      ]
    },
    {
      "cell_type": "code",
      "metadata": {
        "id": "BYi1EKdwOkbY",
        "colab_type": "code",
        "colab": {}
      },
      "source": [
        "call_groups.reset_index(inplace = True)"
      ],
      "execution_count": 0,
      "outputs": []
    },
    {
      "cell_type": "code",
      "metadata": {
        "id": "ciygckbiPqH5",
        "colab_type": "code",
        "colab": {}
      },
      "source": [
        "call_groups.columns = ['Number of calls within 24 hours', 'Occurences']"
      ],
      "execution_count": 0,
      "outputs": []
    },
    {
      "cell_type": "markdown",
      "metadata": {
        "id": "52MvzZzK5324",
        "colab_type": "text"
      },
      "source": [
        "###Manual Edits\n",
        "For the sake of time, I'm going to leave my original feature code alone.  Instead I will describe what is happening as justification for this row edit.<br><br>\n",
        "\n",
        "Since I only gave unique labels to calls within 24 hours of each other, single calls were all labeled the same as 0.  So when I did the above value count, it listed 0 as though it had 849 calls within 24 hours.  This is wrong, and it should list that there are 849 individual calls each within their own 24 hour period.<br><br>\n",
        "In hindsight, my original code should issue a unique value for these calls.  For now I'll say this is justification enough for the following row edits."
      ]
    },
    {
      "cell_type": "code",
      "metadata": {
        "id": "sqd8INGZQhiO",
        "colab_type": "code",
        "outputId": "a6bfe046-3af5-4d83-ac6e-ef5dda855e2b",
        "colab": {
          "base_uri": "https://localhost:8080/",
          "height": 328
        }
      },
      "source": [
        "#manually fixing a wonky line due to my feature code\n",
        "\n",
        "num = call_groups['Number of calls within 24 hours'].iloc[4]\n",
        "call_groups['Number of calls within 24 hours'].iloc[4] = 1\n",
        "\n",
        "call_groups['Occurences'].iloc[4] = num\n",
        "call_groups"
      ],
      "execution_count": 128,
      "outputs": [
        {
          "output_type": "execute_result",
          "data": {
            "text/html": [
              "<div>\n",
              "<style scoped>\n",
              "    .dataframe tbody tr th:only-of-type {\n",
              "        vertical-align: middle;\n",
              "    }\n",
              "\n",
              "    .dataframe tbody tr th {\n",
              "        vertical-align: top;\n",
              "    }\n",
              "\n",
              "    .dataframe thead th {\n",
              "        text-align: right;\n",
              "    }\n",
              "</style>\n",
              "<table border=\"1\" class=\"dataframe\">\n",
              "  <thead>\n",
              "    <tr style=\"text-align: right;\">\n",
              "      <th></th>\n",
              "      <th>Number of calls within 24 hours</th>\n",
              "      <th>Occurences</th>\n",
              "    </tr>\n",
              "  </thead>\n",
              "  <tbody>\n",
              "    <tr>\n",
              "      <th>0</th>\n",
              "      <td>2</td>\n",
              "      <td>273</td>\n",
              "    </tr>\n",
              "    <tr>\n",
              "      <th>1</th>\n",
              "      <td>3</td>\n",
              "      <td>57</td>\n",
              "    </tr>\n",
              "    <tr>\n",
              "      <th>2</th>\n",
              "      <td>4</td>\n",
              "      <td>18</td>\n",
              "    </tr>\n",
              "    <tr>\n",
              "      <th>3</th>\n",
              "      <td>5</td>\n",
              "      <td>2</td>\n",
              "    </tr>\n",
              "    <tr>\n",
              "      <th>4</th>\n",
              "      <td>1</td>\n",
              "      <td>849</td>\n",
              "    </tr>\n",
              "    <tr>\n",
              "      <th>5</th>\n",
              "      <td>9</td>\n",
              "      <td>1</td>\n",
              "    </tr>\n",
              "    <tr>\n",
              "      <th>6</th>\n",
              "      <td>8</td>\n",
              "      <td>1</td>\n",
              "    </tr>\n",
              "    <tr>\n",
              "      <th>7</th>\n",
              "      <td>7</td>\n",
              "      <td>1</td>\n",
              "    </tr>\n",
              "    <tr>\n",
              "      <th>8</th>\n",
              "      <td>6</td>\n",
              "      <td>1</td>\n",
              "    </tr>\n",
              "  </tbody>\n",
              "</table>\n",
              "</div>"
            ],
            "text/plain": [
              "   Number of calls within 24 hours  Occurences\n",
              "0                                2         273\n",
              "1                                3          57\n",
              "2                                4          18\n",
              "3                                5           2\n",
              "4                                1         849\n",
              "5                                9           1\n",
              "6                                8           1\n",
              "7                                7           1\n",
              "8                                6           1"
            ]
          },
          "metadata": {
            "tags": []
          },
          "execution_count": 128
        }
      ]
    },
    {
      "cell_type": "code",
      "metadata": {
        "id": "WJJ804u6an3F",
        "colab_type": "code",
        "outputId": "5f6b0a47-af96-4d84-f991-f54f16cd27b2",
        "colab": {
          "base_uri": "https://localhost:8080/",
          "height": 542
        }
      },
      "source": [
        "fig = px.bar(call_groups, x = 'Number of calls within 24 hours', y = 'Occurences')\n",
        "fig.update_xaxes(tickmode = 'linear')\n",
        "fig.show()"
      ],
      "execution_count": 129,
      "outputs": [
        {
          "output_type": "display_data",
          "data": {
            "text/html": [
              "<html>\n",
              "<head><meta charset=\"utf-8\" /></head>\n",
              "<body>\n",
              "    <div>\n",
              "            <script src=\"https://cdnjs.cloudflare.com/ajax/libs/mathjax/2.7.5/MathJax.js?config=TeX-AMS-MML_SVG\"></script><script type=\"text/javascript\">if (window.MathJax) {MathJax.Hub.Config({SVG: {font: \"STIX-Web\"}});}</script>\n",
              "                <script type=\"text/javascript\">window.PlotlyConfig = {MathJaxConfig: 'local'};</script>\n",
              "        <script src=\"https://cdn.plot.ly/plotly-latest.min.js\"></script>    \n",
              "            <div id=\"987e6614-2864-4a1b-96c3-0956f07750ee\" class=\"plotly-graph-div\" style=\"height:525px; width:100%;\"></div>\n",
              "            <script type=\"text/javascript\">\n",
              "                \n",
              "                    window.PLOTLYENV=window.PLOTLYENV || {};\n",
              "                    \n",
              "                if (document.getElementById(\"987e6614-2864-4a1b-96c3-0956f07750ee\")) {\n",
              "                    Plotly.newPlot(\n",
              "                        '987e6614-2864-4a1b-96c3-0956f07750ee',\n",
              "                        [{\"alignmentgroup\": \"True\", \"hoverlabel\": {\"namelength\": 0}, \"hovertemplate\": \"Number of calls within 24 hours=%{x}<br>Occurences=%{y}\", \"legendgroup\": \"\", \"marker\": {\"color\": \"#636efa\"}, \"name\": \"\", \"offsetgroup\": \"\", \"orientation\": \"v\", \"showlegend\": false, \"textposition\": \"auto\", \"type\": \"bar\", \"x\": [2, 3, 4, 5, 1, 9, 8, 7, 6], \"xaxis\": \"x\", \"y\": [273, 57, 18, 2, 849, 1, 1, 1, 1], \"yaxis\": \"y\"}],\n",
              "                        {\"barmode\": \"relative\", \"legend\": {\"tracegroupgap\": 0}, \"margin\": {\"t\": 60}, \"template\": {\"data\": {\"bar\": [{\"error_x\": {\"color\": \"#2a3f5f\"}, \"error_y\": {\"color\": \"#2a3f5f\"}, \"marker\": {\"line\": {\"color\": \"#E5ECF6\", \"width\": 0.5}}, \"type\": \"bar\"}], \"barpolar\": [{\"marker\": {\"line\": {\"color\": \"#E5ECF6\", \"width\": 0.5}}, \"type\": \"barpolar\"}], \"carpet\": [{\"aaxis\": {\"endlinecolor\": \"#2a3f5f\", \"gridcolor\": \"white\", \"linecolor\": \"white\", \"minorgridcolor\": \"white\", \"startlinecolor\": \"#2a3f5f\"}, \"baxis\": {\"endlinecolor\": \"#2a3f5f\", \"gridcolor\": \"white\", \"linecolor\": \"white\", \"minorgridcolor\": \"white\", \"startlinecolor\": \"#2a3f5f\"}, \"type\": \"carpet\"}], \"choropleth\": [{\"colorbar\": {\"outlinewidth\": 0, \"ticks\": \"\"}, \"type\": \"choropleth\"}], \"contour\": [{\"colorbar\": {\"outlinewidth\": 0, \"ticks\": \"\"}, \"colorscale\": [[0.0, \"#0d0887\"], [0.1111111111111111, \"#46039f\"], [0.2222222222222222, \"#7201a8\"], [0.3333333333333333, \"#9c179e\"], [0.4444444444444444, \"#bd3786\"], [0.5555555555555556, \"#d8576b\"], [0.6666666666666666, \"#ed7953\"], [0.7777777777777778, \"#fb9f3a\"], [0.8888888888888888, \"#fdca26\"], [1.0, \"#f0f921\"]], \"type\": \"contour\"}], \"contourcarpet\": [{\"colorbar\": {\"outlinewidth\": 0, \"ticks\": \"\"}, \"type\": \"contourcarpet\"}], \"heatmap\": [{\"colorbar\": {\"outlinewidth\": 0, \"ticks\": \"\"}, \"colorscale\": [[0.0, \"#0d0887\"], [0.1111111111111111, \"#46039f\"], [0.2222222222222222, \"#7201a8\"], [0.3333333333333333, \"#9c179e\"], [0.4444444444444444, \"#bd3786\"], [0.5555555555555556, \"#d8576b\"], [0.6666666666666666, \"#ed7953\"], [0.7777777777777778, \"#fb9f3a\"], [0.8888888888888888, \"#fdca26\"], [1.0, \"#f0f921\"]], \"type\": \"heatmap\"}], \"heatmapgl\": [{\"colorbar\": {\"outlinewidth\": 0, \"ticks\": \"\"}, \"colorscale\": [[0.0, \"#0d0887\"], [0.1111111111111111, \"#46039f\"], [0.2222222222222222, \"#7201a8\"], [0.3333333333333333, \"#9c179e\"], [0.4444444444444444, \"#bd3786\"], [0.5555555555555556, \"#d8576b\"], [0.6666666666666666, \"#ed7953\"], [0.7777777777777778, \"#fb9f3a\"], [0.8888888888888888, \"#fdca26\"], [1.0, \"#f0f921\"]], \"type\": \"heatmapgl\"}], \"histogram\": [{\"marker\": {\"colorbar\": {\"outlinewidth\": 0, \"ticks\": \"\"}}, \"type\": \"histogram\"}], \"histogram2d\": [{\"colorbar\": {\"outlinewidth\": 0, \"ticks\": \"\"}, \"colorscale\": [[0.0, \"#0d0887\"], [0.1111111111111111, \"#46039f\"], [0.2222222222222222, \"#7201a8\"], [0.3333333333333333, \"#9c179e\"], [0.4444444444444444, \"#bd3786\"], [0.5555555555555556, \"#d8576b\"], [0.6666666666666666, \"#ed7953\"], [0.7777777777777778, \"#fb9f3a\"], [0.8888888888888888, \"#fdca26\"], [1.0, \"#f0f921\"]], \"type\": \"histogram2d\"}], \"histogram2dcontour\": [{\"colorbar\": {\"outlinewidth\": 0, \"ticks\": \"\"}, \"colorscale\": [[0.0, \"#0d0887\"], [0.1111111111111111, \"#46039f\"], [0.2222222222222222, \"#7201a8\"], [0.3333333333333333, \"#9c179e\"], [0.4444444444444444, \"#bd3786\"], [0.5555555555555556, \"#d8576b\"], [0.6666666666666666, \"#ed7953\"], [0.7777777777777778, \"#fb9f3a\"], [0.8888888888888888, \"#fdca26\"], [1.0, \"#f0f921\"]], \"type\": \"histogram2dcontour\"}], \"mesh3d\": [{\"colorbar\": {\"outlinewidth\": 0, \"ticks\": \"\"}, \"type\": \"mesh3d\"}], \"parcoords\": [{\"line\": {\"colorbar\": {\"outlinewidth\": 0, \"ticks\": \"\"}}, \"type\": \"parcoords\"}], \"pie\": [{\"automargin\": true, \"type\": \"pie\"}], \"scatter\": [{\"marker\": {\"colorbar\": {\"outlinewidth\": 0, \"ticks\": \"\"}}, \"type\": \"scatter\"}], \"scatter3d\": [{\"line\": {\"colorbar\": {\"outlinewidth\": 0, \"ticks\": \"\"}}, \"marker\": {\"colorbar\": {\"outlinewidth\": 0, \"ticks\": \"\"}}, \"type\": \"scatter3d\"}], \"scattercarpet\": [{\"marker\": {\"colorbar\": {\"outlinewidth\": 0, \"ticks\": \"\"}}, \"type\": \"scattercarpet\"}], \"scattergeo\": [{\"marker\": {\"colorbar\": {\"outlinewidth\": 0, \"ticks\": \"\"}}, \"type\": \"scattergeo\"}], \"scattergl\": [{\"marker\": {\"colorbar\": {\"outlinewidth\": 0, \"ticks\": \"\"}}, \"type\": \"scattergl\"}], \"scattermapbox\": [{\"marker\": {\"colorbar\": {\"outlinewidth\": 0, \"ticks\": \"\"}}, \"type\": \"scattermapbox\"}], \"scatterpolar\": [{\"marker\": {\"colorbar\": {\"outlinewidth\": 0, \"ticks\": \"\"}}, \"type\": \"scatterpolar\"}], \"scatterpolargl\": [{\"marker\": {\"colorbar\": {\"outlinewidth\": 0, \"ticks\": \"\"}}, \"type\": \"scatterpolargl\"}], \"scatterternary\": [{\"marker\": {\"colorbar\": {\"outlinewidth\": 0, \"ticks\": \"\"}}, \"type\": \"scatterternary\"}], \"surface\": [{\"colorbar\": {\"outlinewidth\": 0, \"ticks\": \"\"}, \"colorscale\": [[0.0, \"#0d0887\"], [0.1111111111111111, \"#46039f\"], [0.2222222222222222, \"#7201a8\"], [0.3333333333333333, \"#9c179e\"], [0.4444444444444444, \"#bd3786\"], [0.5555555555555556, \"#d8576b\"], [0.6666666666666666, \"#ed7953\"], [0.7777777777777778, \"#fb9f3a\"], [0.8888888888888888, \"#fdca26\"], [1.0, \"#f0f921\"]], \"type\": \"surface\"}], \"table\": [{\"cells\": {\"fill\": {\"color\": \"#EBF0F8\"}, \"line\": {\"color\": \"white\"}}, \"header\": {\"fill\": {\"color\": \"#C8D4E3\"}, \"line\": {\"color\": \"white\"}}, \"type\": \"table\"}]}, \"layout\": {\"annotationdefaults\": {\"arrowcolor\": \"#2a3f5f\", \"arrowhead\": 0, \"arrowwidth\": 1}, \"coloraxis\": {\"colorbar\": {\"outlinewidth\": 0, \"ticks\": \"\"}}, \"colorscale\": {\"diverging\": [[0, \"#8e0152\"], [0.1, \"#c51b7d\"], [0.2, \"#de77ae\"], [0.3, \"#f1b6da\"], [0.4, \"#fde0ef\"], [0.5, \"#f7f7f7\"], [0.6, \"#e6f5d0\"], [0.7, \"#b8e186\"], [0.8, \"#7fbc41\"], [0.9, \"#4d9221\"], [1, \"#276419\"]], \"sequential\": [[0.0, \"#0d0887\"], [0.1111111111111111, \"#46039f\"], [0.2222222222222222, \"#7201a8\"], [0.3333333333333333, \"#9c179e\"], [0.4444444444444444, \"#bd3786\"], [0.5555555555555556, \"#d8576b\"], [0.6666666666666666, \"#ed7953\"], [0.7777777777777778, \"#fb9f3a\"], [0.8888888888888888, \"#fdca26\"], [1.0, \"#f0f921\"]], \"sequentialminus\": [[0.0, \"#0d0887\"], [0.1111111111111111, \"#46039f\"], [0.2222222222222222, \"#7201a8\"], [0.3333333333333333, \"#9c179e\"], [0.4444444444444444, \"#bd3786\"], [0.5555555555555556, \"#d8576b\"], [0.6666666666666666, \"#ed7953\"], [0.7777777777777778, \"#fb9f3a\"], [0.8888888888888888, \"#fdca26\"], [1.0, \"#f0f921\"]]}, \"colorway\": [\"#636efa\", \"#EF553B\", \"#00cc96\", \"#ab63fa\", \"#FFA15A\", \"#19d3f3\", \"#FF6692\", \"#B6E880\", \"#FF97FF\", \"#FECB52\"], \"font\": {\"color\": \"#2a3f5f\"}, \"geo\": {\"bgcolor\": \"white\", \"lakecolor\": \"white\", \"landcolor\": \"#E5ECF6\", \"showlakes\": true, \"showland\": true, \"subunitcolor\": \"white\"}, \"hoverlabel\": {\"align\": \"left\"}, \"hovermode\": \"closest\", \"mapbox\": {\"style\": \"light\"}, \"paper_bgcolor\": \"white\", \"plot_bgcolor\": \"#E5ECF6\", \"polar\": {\"angularaxis\": {\"gridcolor\": \"white\", \"linecolor\": \"white\", \"ticks\": \"\"}, \"bgcolor\": \"#E5ECF6\", \"radialaxis\": {\"gridcolor\": \"white\", \"linecolor\": \"white\", \"ticks\": \"\"}}, \"scene\": {\"xaxis\": {\"backgroundcolor\": \"#E5ECF6\", \"gridcolor\": \"white\", \"gridwidth\": 2, \"linecolor\": \"white\", \"showbackground\": true, \"ticks\": \"\", \"zerolinecolor\": \"white\"}, \"yaxis\": {\"backgroundcolor\": \"#E5ECF6\", \"gridcolor\": \"white\", \"gridwidth\": 2, \"linecolor\": \"white\", \"showbackground\": true, \"ticks\": \"\", \"zerolinecolor\": \"white\"}, \"zaxis\": {\"backgroundcolor\": \"#E5ECF6\", \"gridcolor\": \"white\", \"gridwidth\": 2, \"linecolor\": \"white\", \"showbackground\": true, \"ticks\": \"\", \"zerolinecolor\": \"white\"}}, \"shapedefaults\": {\"line\": {\"color\": \"#2a3f5f\"}}, \"ternary\": {\"aaxis\": {\"gridcolor\": \"white\", \"linecolor\": \"white\", \"ticks\": \"\"}, \"baxis\": {\"gridcolor\": \"white\", \"linecolor\": \"white\", \"ticks\": \"\"}, \"bgcolor\": \"#E5ECF6\", \"caxis\": {\"gridcolor\": \"white\", \"linecolor\": \"white\", \"ticks\": \"\"}}, \"title\": {\"x\": 0.05}, \"xaxis\": {\"automargin\": true, \"gridcolor\": \"white\", \"linecolor\": \"white\", \"ticks\": \"\", \"title\": {\"standoff\": 15}, \"zerolinecolor\": \"white\", \"zerolinewidth\": 2}, \"yaxis\": {\"automargin\": true, \"gridcolor\": \"white\", \"linecolor\": \"white\", \"ticks\": \"\", \"title\": {\"standoff\": 15}, \"zerolinecolor\": \"white\", \"zerolinewidth\": 2}}}, \"xaxis\": {\"anchor\": \"y\", \"domain\": [0.0, 1.0], \"tickmode\": \"linear\", \"title\": {\"text\": \"Number of calls within 24 hours\"}}, \"yaxis\": {\"anchor\": \"x\", \"domain\": [0.0, 1.0], \"title\": {\"text\": \"Occurences\"}}},\n",
              "                        {\"responsive\": true}\n",
              "                    ).then(function(){\n",
              "                            \n",
              "var gd = document.getElementById('987e6614-2864-4a1b-96c3-0956f07750ee');\n",
              "var x = new MutationObserver(function (mutations, observer) {{\n",
              "        var display = window.getComputedStyle(gd).display;\n",
              "        if (!display || display === 'none') {{\n",
              "            console.log([gd, 'removed!']);\n",
              "            Plotly.purge(gd);\n",
              "            observer.disconnect();\n",
              "        }}\n",
              "}});\n",
              "\n",
              "// Listen for the removal of the full notebook cells\n",
              "var notebookContainer = gd.closest('#notebook-container');\n",
              "if (notebookContainer) {{\n",
              "    x.observe(notebookContainer, {childList: true});\n",
              "}}\n",
              "\n",
              "// Listen for the clearing of the current output cell\n",
              "var outputEl = gd.closest('.output');\n",
              "if (outputEl) {{\n",
              "    x.observe(outputEl, {childList: true});\n",
              "}}\n",
              "\n",
              "                        })\n",
              "                };\n",
              "                \n",
              "            </script>\n",
              "        </div>\n",
              "</body>\n",
              "</html>"
            ]
          },
          "metadata": {
            "tags": []
          }
        }
      ]
    },
    {
      "cell_type": "code",
      "metadata": {
        "id": "hOGF2BtEcMjv",
        "colab_type": "code",
        "outputId": "01478abf-5e3e-44a3-93ef-52874fa73605",
        "colab": {
          "base_uri": "https://localhost:8080/",
          "height": 542
        }
      },
      "source": [
        "#I think it makes a better graph when single calls are left in.  But good to\n",
        "#explore options.\n",
        "\n",
        "fig = px.bar(call_groups.drop(4, axis = 0), x = 'Number of calls within 24 hours', y = 'Occurences')\n",
        "fig.update_xaxes(tickmode = 'linear')\n",
        "fig.show()"
      ],
      "execution_count": 130,
      "outputs": [
        {
          "output_type": "display_data",
          "data": {
            "text/html": [
              "<html>\n",
              "<head><meta charset=\"utf-8\" /></head>\n",
              "<body>\n",
              "    <div>\n",
              "            <script src=\"https://cdnjs.cloudflare.com/ajax/libs/mathjax/2.7.5/MathJax.js?config=TeX-AMS-MML_SVG\"></script><script type=\"text/javascript\">if (window.MathJax) {MathJax.Hub.Config({SVG: {font: \"STIX-Web\"}});}</script>\n",
              "                <script type=\"text/javascript\">window.PlotlyConfig = {MathJaxConfig: 'local'};</script>\n",
              "        <script src=\"https://cdn.plot.ly/plotly-latest.min.js\"></script>    \n",
              "            <div id=\"b84e7d17-521f-47fa-aa31-85a84111d27c\" class=\"plotly-graph-div\" style=\"height:525px; width:100%;\"></div>\n",
              "            <script type=\"text/javascript\">\n",
              "                \n",
              "                    window.PLOTLYENV=window.PLOTLYENV || {};\n",
              "                    \n",
              "                if (document.getElementById(\"b84e7d17-521f-47fa-aa31-85a84111d27c\")) {\n",
              "                    Plotly.newPlot(\n",
              "                        'b84e7d17-521f-47fa-aa31-85a84111d27c',\n",
              "                        [{\"alignmentgroup\": \"True\", \"hoverlabel\": {\"namelength\": 0}, \"hovertemplate\": \"Number of calls within 24 hours=%{x}<br>Occurences=%{y}\", \"legendgroup\": \"\", \"marker\": {\"color\": \"#636efa\"}, \"name\": \"\", \"offsetgroup\": \"\", \"orientation\": \"v\", \"showlegend\": false, \"textposition\": \"auto\", \"type\": \"bar\", \"x\": [2, 3, 4, 5, 9, 8, 7, 6], \"xaxis\": \"x\", \"y\": [273, 57, 18, 2, 1, 1, 1, 1], \"yaxis\": \"y\"}],\n",
              "                        {\"barmode\": \"relative\", \"legend\": {\"tracegroupgap\": 0}, \"margin\": {\"t\": 60}, \"template\": {\"data\": {\"bar\": [{\"error_x\": {\"color\": \"#2a3f5f\"}, \"error_y\": {\"color\": \"#2a3f5f\"}, \"marker\": {\"line\": {\"color\": \"#E5ECF6\", \"width\": 0.5}}, \"type\": \"bar\"}], \"barpolar\": [{\"marker\": {\"line\": {\"color\": \"#E5ECF6\", \"width\": 0.5}}, \"type\": \"barpolar\"}], \"carpet\": [{\"aaxis\": {\"endlinecolor\": \"#2a3f5f\", \"gridcolor\": \"white\", \"linecolor\": \"white\", \"minorgridcolor\": \"white\", \"startlinecolor\": \"#2a3f5f\"}, \"baxis\": {\"endlinecolor\": \"#2a3f5f\", \"gridcolor\": \"white\", \"linecolor\": \"white\", \"minorgridcolor\": \"white\", \"startlinecolor\": \"#2a3f5f\"}, \"type\": \"carpet\"}], \"choropleth\": [{\"colorbar\": {\"outlinewidth\": 0, \"ticks\": \"\"}, \"type\": \"choropleth\"}], \"contour\": [{\"colorbar\": {\"outlinewidth\": 0, \"ticks\": \"\"}, \"colorscale\": [[0.0, \"#0d0887\"], [0.1111111111111111, \"#46039f\"], [0.2222222222222222, \"#7201a8\"], [0.3333333333333333, \"#9c179e\"], [0.4444444444444444, \"#bd3786\"], [0.5555555555555556, \"#d8576b\"], [0.6666666666666666, \"#ed7953\"], [0.7777777777777778, \"#fb9f3a\"], [0.8888888888888888, \"#fdca26\"], [1.0, \"#f0f921\"]], \"type\": \"contour\"}], \"contourcarpet\": [{\"colorbar\": {\"outlinewidth\": 0, \"ticks\": \"\"}, \"type\": \"contourcarpet\"}], \"heatmap\": [{\"colorbar\": {\"outlinewidth\": 0, \"ticks\": \"\"}, \"colorscale\": [[0.0, \"#0d0887\"], [0.1111111111111111, \"#46039f\"], [0.2222222222222222, \"#7201a8\"], [0.3333333333333333, \"#9c179e\"], [0.4444444444444444, \"#bd3786\"], [0.5555555555555556, \"#d8576b\"], [0.6666666666666666, \"#ed7953\"], [0.7777777777777778, \"#fb9f3a\"], [0.8888888888888888, \"#fdca26\"], [1.0, \"#f0f921\"]], \"type\": \"heatmap\"}], \"heatmapgl\": [{\"colorbar\": {\"outlinewidth\": 0, \"ticks\": \"\"}, \"colorscale\": [[0.0, \"#0d0887\"], [0.1111111111111111, \"#46039f\"], [0.2222222222222222, \"#7201a8\"], [0.3333333333333333, \"#9c179e\"], [0.4444444444444444, \"#bd3786\"], [0.5555555555555556, \"#d8576b\"], [0.6666666666666666, \"#ed7953\"], [0.7777777777777778, \"#fb9f3a\"], [0.8888888888888888, \"#fdca26\"], [1.0, \"#f0f921\"]], \"type\": \"heatmapgl\"}], \"histogram\": [{\"marker\": {\"colorbar\": {\"outlinewidth\": 0, \"ticks\": \"\"}}, \"type\": \"histogram\"}], \"histogram2d\": [{\"colorbar\": {\"outlinewidth\": 0, \"ticks\": \"\"}, \"colorscale\": [[0.0, \"#0d0887\"], [0.1111111111111111, \"#46039f\"], [0.2222222222222222, \"#7201a8\"], [0.3333333333333333, \"#9c179e\"], [0.4444444444444444, \"#bd3786\"], [0.5555555555555556, \"#d8576b\"], [0.6666666666666666, \"#ed7953\"], [0.7777777777777778, \"#fb9f3a\"], [0.8888888888888888, \"#fdca26\"], [1.0, \"#f0f921\"]], \"type\": \"histogram2d\"}], \"histogram2dcontour\": [{\"colorbar\": {\"outlinewidth\": 0, \"ticks\": \"\"}, \"colorscale\": [[0.0, \"#0d0887\"], [0.1111111111111111, \"#46039f\"], [0.2222222222222222, \"#7201a8\"], [0.3333333333333333, \"#9c179e\"], [0.4444444444444444, \"#bd3786\"], [0.5555555555555556, \"#d8576b\"], [0.6666666666666666, \"#ed7953\"], [0.7777777777777778, \"#fb9f3a\"], [0.8888888888888888, \"#fdca26\"], [1.0, \"#f0f921\"]], \"type\": \"histogram2dcontour\"}], \"mesh3d\": [{\"colorbar\": {\"outlinewidth\": 0, \"ticks\": \"\"}, \"type\": \"mesh3d\"}], \"parcoords\": [{\"line\": {\"colorbar\": {\"outlinewidth\": 0, \"ticks\": \"\"}}, \"type\": \"parcoords\"}], \"pie\": [{\"automargin\": true, \"type\": \"pie\"}], \"scatter\": [{\"marker\": {\"colorbar\": {\"outlinewidth\": 0, \"ticks\": \"\"}}, \"type\": \"scatter\"}], \"scatter3d\": [{\"line\": {\"colorbar\": {\"outlinewidth\": 0, \"ticks\": \"\"}}, \"marker\": {\"colorbar\": {\"outlinewidth\": 0, \"ticks\": \"\"}}, \"type\": \"scatter3d\"}], \"scattercarpet\": [{\"marker\": {\"colorbar\": {\"outlinewidth\": 0, \"ticks\": \"\"}}, \"type\": \"scattercarpet\"}], \"scattergeo\": [{\"marker\": {\"colorbar\": {\"outlinewidth\": 0, \"ticks\": \"\"}}, \"type\": \"scattergeo\"}], \"scattergl\": [{\"marker\": {\"colorbar\": {\"outlinewidth\": 0, \"ticks\": \"\"}}, \"type\": \"scattergl\"}], \"scattermapbox\": [{\"marker\": {\"colorbar\": {\"outlinewidth\": 0, \"ticks\": \"\"}}, \"type\": \"scattermapbox\"}], \"scatterpolar\": [{\"marker\": {\"colorbar\": {\"outlinewidth\": 0, \"ticks\": \"\"}}, \"type\": \"scatterpolar\"}], \"scatterpolargl\": [{\"marker\": {\"colorbar\": {\"outlinewidth\": 0, \"ticks\": \"\"}}, \"type\": \"scatterpolargl\"}], \"scatterternary\": [{\"marker\": {\"colorbar\": {\"outlinewidth\": 0, \"ticks\": \"\"}}, \"type\": \"scatterternary\"}], \"surface\": [{\"colorbar\": {\"outlinewidth\": 0, \"ticks\": \"\"}, \"colorscale\": [[0.0, \"#0d0887\"], [0.1111111111111111, \"#46039f\"], [0.2222222222222222, \"#7201a8\"], [0.3333333333333333, \"#9c179e\"], [0.4444444444444444, \"#bd3786\"], [0.5555555555555556, \"#d8576b\"], [0.6666666666666666, \"#ed7953\"], [0.7777777777777778, \"#fb9f3a\"], [0.8888888888888888, \"#fdca26\"], [1.0, \"#f0f921\"]], \"type\": \"surface\"}], \"table\": [{\"cells\": {\"fill\": {\"color\": \"#EBF0F8\"}, \"line\": {\"color\": \"white\"}}, \"header\": {\"fill\": {\"color\": \"#C8D4E3\"}, \"line\": {\"color\": \"white\"}}, \"type\": \"table\"}]}, \"layout\": {\"annotationdefaults\": {\"arrowcolor\": \"#2a3f5f\", \"arrowhead\": 0, \"arrowwidth\": 1}, \"coloraxis\": {\"colorbar\": {\"outlinewidth\": 0, \"ticks\": \"\"}}, \"colorscale\": {\"diverging\": [[0, \"#8e0152\"], [0.1, \"#c51b7d\"], [0.2, \"#de77ae\"], [0.3, \"#f1b6da\"], [0.4, \"#fde0ef\"], [0.5, \"#f7f7f7\"], [0.6, \"#e6f5d0\"], [0.7, \"#b8e186\"], [0.8, \"#7fbc41\"], [0.9, \"#4d9221\"], [1, \"#276419\"]], \"sequential\": [[0.0, \"#0d0887\"], [0.1111111111111111, \"#46039f\"], [0.2222222222222222, \"#7201a8\"], [0.3333333333333333, \"#9c179e\"], [0.4444444444444444, \"#bd3786\"], [0.5555555555555556, \"#d8576b\"], [0.6666666666666666, \"#ed7953\"], [0.7777777777777778, \"#fb9f3a\"], [0.8888888888888888, \"#fdca26\"], [1.0, \"#f0f921\"]], \"sequentialminus\": [[0.0, \"#0d0887\"], [0.1111111111111111, \"#46039f\"], [0.2222222222222222, \"#7201a8\"], [0.3333333333333333, \"#9c179e\"], [0.4444444444444444, \"#bd3786\"], [0.5555555555555556, \"#d8576b\"], [0.6666666666666666, \"#ed7953\"], [0.7777777777777778, \"#fb9f3a\"], [0.8888888888888888, \"#fdca26\"], [1.0, \"#f0f921\"]]}, \"colorway\": [\"#636efa\", \"#EF553B\", \"#00cc96\", \"#ab63fa\", \"#FFA15A\", \"#19d3f3\", \"#FF6692\", \"#B6E880\", \"#FF97FF\", \"#FECB52\"], \"font\": {\"color\": \"#2a3f5f\"}, \"geo\": {\"bgcolor\": \"white\", \"lakecolor\": \"white\", \"landcolor\": \"#E5ECF6\", \"showlakes\": true, \"showland\": true, \"subunitcolor\": \"white\"}, \"hoverlabel\": {\"align\": \"left\"}, \"hovermode\": \"closest\", \"mapbox\": {\"style\": \"light\"}, \"paper_bgcolor\": \"white\", \"plot_bgcolor\": \"#E5ECF6\", \"polar\": {\"angularaxis\": {\"gridcolor\": \"white\", \"linecolor\": \"white\", \"ticks\": \"\"}, \"bgcolor\": \"#E5ECF6\", \"radialaxis\": {\"gridcolor\": \"white\", \"linecolor\": \"white\", \"ticks\": \"\"}}, \"scene\": {\"xaxis\": {\"backgroundcolor\": \"#E5ECF6\", \"gridcolor\": \"white\", \"gridwidth\": 2, \"linecolor\": \"white\", \"showbackground\": true, \"ticks\": \"\", \"zerolinecolor\": \"white\"}, \"yaxis\": {\"backgroundcolor\": \"#E5ECF6\", \"gridcolor\": \"white\", \"gridwidth\": 2, \"linecolor\": \"white\", \"showbackground\": true, \"ticks\": \"\", \"zerolinecolor\": \"white\"}, \"zaxis\": {\"backgroundcolor\": \"#E5ECF6\", \"gridcolor\": \"white\", \"gridwidth\": 2, \"linecolor\": \"white\", \"showbackground\": true, \"ticks\": \"\", \"zerolinecolor\": \"white\"}}, \"shapedefaults\": {\"line\": {\"color\": \"#2a3f5f\"}}, \"ternary\": {\"aaxis\": {\"gridcolor\": \"white\", \"linecolor\": \"white\", \"ticks\": \"\"}, \"baxis\": {\"gridcolor\": \"white\", \"linecolor\": \"white\", \"ticks\": \"\"}, \"bgcolor\": \"#E5ECF6\", \"caxis\": {\"gridcolor\": \"white\", \"linecolor\": \"white\", \"ticks\": \"\"}}, \"title\": {\"x\": 0.05}, \"xaxis\": {\"automargin\": true, \"gridcolor\": \"white\", \"linecolor\": \"white\", \"ticks\": \"\", \"title\": {\"standoff\": 15}, \"zerolinecolor\": \"white\", \"zerolinewidth\": 2}, \"yaxis\": {\"automargin\": true, \"gridcolor\": \"white\", \"linecolor\": \"white\", \"ticks\": \"\", \"title\": {\"standoff\": 15}, \"zerolinecolor\": \"white\", \"zerolinewidth\": 2}}}, \"xaxis\": {\"anchor\": \"y\", \"domain\": [0.0, 1.0], \"tickmode\": \"linear\", \"title\": {\"text\": \"Number of calls within 24 hours\"}}, \"yaxis\": {\"anchor\": \"x\", \"domain\": [0.0, 1.0], \"title\": {\"text\": \"Occurences\"}}},\n",
              "                        {\"responsive\": true}\n",
              "                    ).then(function(){\n",
              "                            \n",
              "var gd = document.getElementById('b84e7d17-521f-47fa-aa31-85a84111d27c');\n",
              "var x = new MutationObserver(function (mutations, observer) {{\n",
              "        var display = window.getComputedStyle(gd).display;\n",
              "        if (!display || display === 'none') {{\n",
              "            console.log([gd, 'removed!']);\n",
              "            Plotly.purge(gd);\n",
              "            observer.disconnect();\n",
              "        }}\n",
              "}});\n",
              "\n",
              "// Listen for the removal of the full notebook cells\n",
              "var notebookContainer = gd.closest('#notebook-container');\n",
              "if (notebookContainer) {{\n",
              "    x.observe(notebookContainer, {childList: true});\n",
              "}}\n",
              "\n",
              "// Listen for the clearing of the current output cell\n",
              "var outputEl = gd.closest('.output');\n",
              "if (outputEl) {{\n",
              "    x.observe(outputEl, {childList: true});\n",
              "}}\n",
              "\n",
              "                        })\n",
              "                };\n",
              "                \n",
              "            </script>\n",
              "        </div>\n",
              "</body>\n",
              "</html>"
            ]
          },
          "metadata": {
            "tags": []
          }
        }
      ]
    },
    {
      "cell_type": "markdown",
      "metadata": {
        "id": "dtcjnfx48qhV",
        "colab_type": "text"
      },
      "source": [
        "###Unpacking Features\n",
        "Because I am counting the occurences of a \"spree\" or a \"series\" of fires, I need to multiply the occurence by the number of calls that happen in that spree.  So think: a spree of 3 calls happend 5 times.  15 total calls were made between those sprees.  To figure out the percentage I need total spree calls / total calls to get the percentage."
      ]
    },
    {
      "cell_type": "code",
      "metadata": {
        "id": "puwSbBSpoB3M",
        "colab_type": "code",
        "colab": {}
      },
      "source": [
        "#okay so maybe this would be even easier for your average person to understand\n",
        "#if I presented the above as an average, instead of as just numbers.\n",
        "call_groups['raw_percentage'] = call_groups['Occurences'] * call_groups['Number of calls within 24 hours']"
      ],
      "execution_count": 0,
      "outputs": []
    },
    {
      "cell_type": "code",
      "metadata": {
        "id": "ZWJdgodSq4x_",
        "colab_type": "code",
        "outputId": "be4c47eb-7aa7-4a26-ce9a-960db58f8caa",
        "colab": {
          "base_uri": "https://localhost:8080/",
          "height": 34
        }
      },
      "source": [
        "#double checking to make sure I'm doing it right.\n",
        "call_groups['raw_percentage'].sum() == dumpster.shape[0]"
      ],
      "execution_count": 132,
      "outputs": [
        {
          "output_type": "execute_result",
          "data": {
            "text/plain": [
              "True"
            ]
          },
          "metadata": {
            "tags": []
          },
          "execution_count": 132
        }
      ]
    },
    {
      "cell_type": "code",
      "metadata": {
        "id": "X60kE-BG2G49",
        "colab_type": "code",
        "colab": {}
      },
      "source": [
        "#next figure out the % of each by dividing the dumpster dataframe length.\n",
        "call_groups['raw_percentage'] = call_groups['raw_percentage'].apply(lambda x: ((x * 100)/ dumpster.shape[0]))"
      ],
      "execution_count": 0,
      "outputs": []
    },
    {
      "cell_type": "code",
      "metadata": {
        "id": "NsfJGj3suZl6",
        "colab_type": "code",
        "colab": {}
      },
      "source": [
        "#rounding\n",
        "call_groups['raw_percentage'] = call_groups['raw_percentage'].apply(lambda x: round(x, 2))"
      ],
      "execution_count": 0,
      "outputs": []
    },
    {
      "cell_type": "code",
      "metadata": {
        "id": "pqY1N_GlvcQ2",
        "colab_type": "code",
        "outputId": "24c3ded2-697d-4883-a835-5620f6b4b047",
        "colab": {
          "base_uri": "https://localhost:8080/",
          "height": 34
        }
      },
      "source": [
        "#Okay rounding errors, I should have expected that.  There is definitely a super\n",
        "#computer sciency way to deal with this. But I'm going with the classic\n",
        "#pull .02 randomly from the values.\n",
        "call_groups['raw_percentage'].sum()"
      ],
      "execution_count": 135,
      "outputs": [
        {
          "output_type": "execute_result",
          "data": {
            "text/plain": [
              "100.02"
            ]
          },
          "metadata": {
            "tags": []
          },
          "execution_count": 135
        }
      ]
    },
    {
      "cell_type": "code",
      "metadata": {
        "id": "3yK_PvHJzGh9",
        "colab_type": "code",
        "outputId": "3f535188-c4a2-4886-e52a-0dc0383a46f9",
        "colab": {
          "base_uri": "https://localhost:8080/",
          "height": 156
        }
      },
      "source": [
        "#To keep my notebook factoring consistently, I'm pulling from rows 1 and 3\n",
        "\n",
        "call_groups['raw_percentage'].iloc[1] = call_groups['raw_percentage'].iloc[1] - .01\n",
        "call_groups['raw_percentage'].iloc[3] = call_groups['raw_percentage'].iloc[3] - .01"
      ],
      "execution_count": 136,
      "outputs": [
        {
          "output_type": "stream",
          "text": [
            "/usr/local/lib/python3.6/dist-packages/pandas/core/indexing.py:205: SettingWithCopyWarning:\n",
            "\n",
            "\n",
            "A value is trying to be set on a copy of a slice from a DataFrame\n",
            "\n",
            "See the caveats in the documentation: http://pandas.pydata.org/pandas-docs/stable/user_guide/indexing.html#returning-a-view-versus-a-copy\n",
            "\n"
          ],
          "name": "stderr"
        }
      ]
    },
    {
      "cell_type": "code",
      "metadata": {
        "id": "teH6VL170Ss-",
        "colab_type": "code",
        "outputId": "57541aba-8a73-4a66-e58a-40ac39f201f0",
        "colab": {
          "base_uri": "https://localhost:8080/",
          "height": 34
        }
      },
      "source": [
        "#good a clean round percentage total. Important for my visualization!\n",
        "call_groups['raw_percentage'].sum()"
      ],
      "execution_count": 137,
      "outputs": [
        {
          "output_type": "execute_result",
          "data": {
            "text/plain": [
              "100.0"
            ]
          },
          "metadata": {
            "tags": []
          },
          "execution_count": 137
        }
      ]
    },
    {
      "cell_type": "code",
      "metadata": {
        "id": "le0IRrw6Zh4S",
        "colab_type": "code",
        "colab": {}
      },
      "source": [
        "#will make for a better overlay in plotly express.\n",
        "call_groups['Percentage'] = call_groups['raw_percentage'].apply(lambda x: str(x) + '%')"
      ],
      "execution_count": 0,
      "outputs": []
    },
    {
      "cell_type": "code",
      "metadata": {
        "id": "IvuCpplGHBUg",
        "colab_type": "code",
        "colab": {
          "base_uri": "https://localhost:8080/",
          "height": 187
        },
        "outputId": "fdb6a36c-79e1-4bc1-90f1-ae90522e85ad"
      },
      "source": [
        "call_groups['Percentage']"
      ],
      "execution_count": 170,
      "outputs": [
        {
          "output_type": "execute_result",
          "data": {
            "text/plain": [
              "0    32.54%\n",
              "1    10.18%\n",
              "2     4.29%\n",
              "3     0.59%\n",
              "4     50.6%\n",
              "5     0.54%\n",
              "6     0.48%\n",
              "7     0.42%\n",
              "8     0.36%\n",
              "Name: Percentage, dtype: object"
            ]
          },
          "metadata": {
            "tags": []
          },
          "execution_count": 170
        }
      ]
    },
    {
      "cell_type": "code",
      "metadata": {
        "id": "4m4z4-0xnc5Y",
        "colab_type": "code",
        "colab": {}
      },
      "source": [
        "#the color setting on plotly express takes a list of strings for color\n",
        "#I only want one color, so my list is pretty short lol.\n",
        "colors = ['#7a0000'] "
      ],
      "execution_count": 0,
      "outputs": []
    },
    {
      "cell_type": "code",
      "metadata": {
        "id": "2-oscjKYJ_72",
        "colab_type": "code",
        "outputId": "fd9b36ec-7cfb-44ea-b11c-96d4def2b714",
        "colab": {
          "base_uri": "https://localhost:8080/",
          "height": 542
        }
      },
      "source": [
        "#I think this is one that will really demonstrate how much of an outlier 9\n",
        "#calls in a day really is.\n",
        "\n",
        "fig = px.bar(call_groups, x = 'Number of calls within 24 hours', \n",
        "             y = 'Occurences', text = 'Percentage', \n",
        "             title = 'Dumpster Fires Reported to 911',\n",
        "             color_discrete_sequence = colors)\n",
        "fig.update_xaxes(tickmode = 'linear')\n",
        "fig.show()"
      ],
      "execution_count": 171,
      "outputs": [
        {
          "output_type": "display_data",
          "data": {
            "text/html": [
              "<html>\n",
              "<head><meta charset=\"utf-8\" /></head>\n",
              "<body>\n",
              "    <div>\n",
              "            <script src=\"https://cdnjs.cloudflare.com/ajax/libs/mathjax/2.7.5/MathJax.js?config=TeX-AMS-MML_SVG\"></script><script type=\"text/javascript\">if (window.MathJax) {MathJax.Hub.Config({SVG: {font: \"STIX-Web\"}});}</script>\n",
              "                <script type=\"text/javascript\">window.PlotlyConfig = {MathJaxConfig: 'local'};</script>\n",
              "        <script src=\"https://cdn.plot.ly/plotly-latest.min.js\"></script>    \n",
              "            <div id=\"d61fe67c-81ad-4ac2-a1ed-d3766a8d23af\" class=\"plotly-graph-div\" style=\"height:525px; width:100%;\"></div>\n",
              "            <script type=\"text/javascript\">\n",
              "                \n",
              "                    window.PLOTLYENV=window.PLOTLYENV || {};\n",
              "                    \n",
              "                if (document.getElementById(\"d61fe67c-81ad-4ac2-a1ed-d3766a8d23af\")) {\n",
              "                    Plotly.newPlot(\n",
              "                        'd61fe67c-81ad-4ac2-a1ed-d3766a8d23af',\n",
              "                        [{\"alignmentgroup\": \"True\", \"hoverlabel\": {\"namelength\": 0}, \"hovertemplate\": \"Number of calls within 24 hours=%{x}<br>Occurences=%{y}<br>Percentage=%{text}\", \"legendgroup\": \"\", \"marker\": {\"color\": \"#7a0000\"}, \"name\": \"\", \"offsetgroup\": \"\", \"orientation\": \"v\", \"showlegend\": false, \"text\": [\"32.54%\", \"10.18%\", \"4.29%\", \"0.59%\", \"50.6%\", \"0.54%\", \"0.48%\", \"0.42%\", \"0.36%\"], \"textposition\": \"auto\", \"type\": \"bar\", \"x\": [2, 3, 4, 5, 1, 9, 8, 7, 6], \"xaxis\": \"x\", \"y\": [273, 57, 18, 2, 849, 1, 1, 1, 1], \"yaxis\": \"y\"}],\n",
              "                        {\"barmode\": \"relative\", \"legend\": {\"tracegroupgap\": 0}, \"template\": {\"data\": {\"bar\": [{\"error_x\": {\"color\": \"#2a3f5f\"}, \"error_y\": {\"color\": \"#2a3f5f\"}, \"marker\": {\"line\": {\"color\": \"#E5ECF6\", \"width\": 0.5}}, \"type\": \"bar\"}], \"barpolar\": [{\"marker\": {\"line\": {\"color\": \"#E5ECF6\", \"width\": 0.5}}, \"type\": \"barpolar\"}], \"carpet\": [{\"aaxis\": {\"endlinecolor\": \"#2a3f5f\", \"gridcolor\": \"white\", \"linecolor\": \"white\", \"minorgridcolor\": \"white\", \"startlinecolor\": \"#2a3f5f\"}, \"baxis\": {\"endlinecolor\": \"#2a3f5f\", \"gridcolor\": \"white\", \"linecolor\": \"white\", \"minorgridcolor\": \"white\", \"startlinecolor\": \"#2a3f5f\"}, \"type\": \"carpet\"}], \"choropleth\": [{\"colorbar\": {\"outlinewidth\": 0, \"ticks\": \"\"}, \"type\": \"choropleth\"}], \"contour\": [{\"colorbar\": {\"outlinewidth\": 0, \"ticks\": \"\"}, \"colorscale\": [[0.0, \"#0d0887\"], [0.1111111111111111, \"#46039f\"], [0.2222222222222222, \"#7201a8\"], [0.3333333333333333, \"#9c179e\"], [0.4444444444444444, \"#bd3786\"], [0.5555555555555556, \"#d8576b\"], [0.6666666666666666, \"#ed7953\"], [0.7777777777777778, \"#fb9f3a\"], [0.8888888888888888, \"#fdca26\"], [1.0, \"#f0f921\"]], \"type\": \"contour\"}], \"contourcarpet\": [{\"colorbar\": {\"outlinewidth\": 0, \"ticks\": \"\"}, \"type\": \"contourcarpet\"}], \"heatmap\": [{\"colorbar\": {\"outlinewidth\": 0, \"ticks\": \"\"}, \"colorscale\": [[0.0, \"#0d0887\"], [0.1111111111111111, \"#46039f\"], [0.2222222222222222, \"#7201a8\"], [0.3333333333333333, \"#9c179e\"], [0.4444444444444444, \"#bd3786\"], [0.5555555555555556, \"#d8576b\"], [0.6666666666666666, \"#ed7953\"], [0.7777777777777778, \"#fb9f3a\"], [0.8888888888888888, \"#fdca26\"], [1.0, \"#f0f921\"]], \"type\": \"heatmap\"}], \"heatmapgl\": [{\"colorbar\": {\"outlinewidth\": 0, \"ticks\": \"\"}, \"colorscale\": [[0.0, \"#0d0887\"], [0.1111111111111111, \"#46039f\"], [0.2222222222222222, \"#7201a8\"], [0.3333333333333333, \"#9c179e\"], [0.4444444444444444, \"#bd3786\"], [0.5555555555555556, \"#d8576b\"], [0.6666666666666666, \"#ed7953\"], [0.7777777777777778, \"#fb9f3a\"], [0.8888888888888888, \"#fdca26\"], [1.0, \"#f0f921\"]], \"type\": \"heatmapgl\"}], \"histogram\": [{\"marker\": {\"colorbar\": {\"outlinewidth\": 0, \"ticks\": \"\"}}, \"type\": \"histogram\"}], \"histogram2d\": [{\"colorbar\": {\"outlinewidth\": 0, \"ticks\": \"\"}, \"colorscale\": [[0.0, \"#0d0887\"], [0.1111111111111111, \"#46039f\"], [0.2222222222222222, \"#7201a8\"], [0.3333333333333333, \"#9c179e\"], [0.4444444444444444, \"#bd3786\"], [0.5555555555555556, \"#d8576b\"], [0.6666666666666666, \"#ed7953\"], [0.7777777777777778, \"#fb9f3a\"], [0.8888888888888888, \"#fdca26\"], [1.0, \"#f0f921\"]], \"type\": \"histogram2d\"}], \"histogram2dcontour\": [{\"colorbar\": {\"outlinewidth\": 0, \"ticks\": \"\"}, \"colorscale\": [[0.0, \"#0d0887\"], [0.1111111111111111, \"#46039f\"], [0.2222222222222222, \"#7201a8\"], [0.3333333333333333, \"#9c179e\"], [0.4444444444444444, \"#bd3786\"], [0.5555555555555556, \"#d8576b\"], [0.6666666666666666, \"#ed7953\"], [0.7777777777777778, \"#fb9f3a\"], [0.8888888888888888, \"#fdca26\"], [1.0, \"#f0f921\"]], \"type\": \"histogram2dcontour\"}], \"mesh3d\": [{\"colorbar\": {\"outlinewidth\": 0, \"ticks\": \"\"}, \"type\": \"mesh3d\"}], \"parcoords\": [{\"line\": {\"colorbar\": {\"outlinewidth\": 0, \"ticks\": \"\"}}, \"type\": \"parcoords\"}], \"pie\": [{\"automargin\": true, \"type\": \"pie\"}], \"scatter\": [{\"marker\": {\"colorbar\": {\"outlinewidth\": 0, \"ticks\": \"\"}}, \"type\": \"scatter\"}], \"scatter3d\": [{\"line\": {\"colorbar\": {\"outlinewidth\": 0, \"ticks\": \"\"}}, \"marker\": {\"colorbar\": {\"outlinewidth\": 0, \"ticks\": \"\"}}, \"type\": \"scatter3d\"}], \"scattercarpet\": [{\"marker\": {\"colorbar\": {\"outlinewidth\": 0, \"ticks\": \"\"}}, \"type\": \"scattercarpet\"}], \"scattergeo\": [{\"marker\": {\"colorbar\": {\"outlinewidth\": 0, \"ticks\": \"\"}}, \"type\": \"scattergeo\"}], \"scattergl\": [{\"marker\": {\"colorbar\": {\"outlinewidth\": 0, \"ticks\": \"\"}}, \"type\": \"scattergl\"}], \"scattermapbox\": [{\"marker\": {\"colorbar\": {\"outlinewidth\": 0, \"ticks\": \"\"}}, \"type\": \"scattermapbox\"}], \"scatterpolar\": [{\"marker\": {\"colorbar\": {\"outlinewidth\": 0, \"ticks\": \"\"}}, \"type\": \"scatterpolar\"}], \"scatterpolargl\": [{\"marker\": {\"colorbar\": {\"outlinewidth\": 0, \"ticks\": \"\"}}, \"type\": \"scatterpolargl\"}], \"scatterternary\": [{\"marker\": {\"colorbar\": {\"outlinewidth\": 0, \"ticks\": \"\"}}, \"type\": \"scatterternary\"}], \"surface\": [{\"colorbar\": {\"outlinewidth\": 0, \"ticks\": \"\"}, \"colorscale\": [[0.0, \"#0d0887\"], [0.1111111111111111, \"#46039f\"], [0.2222222222222222, \"#7201a8\"], [0.3333333333333333, \"#9c179e\"], [0.4444444444444444, \"#bd3786\"], [0.5555555555555556, \"#d8576b\"], [0.6666666666666666, \"#ed7953\"], [0.7777777777777778, \"#fb9f3a\"], [0.8888888888888888, \"#fdca26\"], [1.0, \"#f0f921\"]], \"type\": \"surface\"}], \"table\": [{\"cells\": {\"fill\": {\"color\": \"#EBF0F8\"}, \"line\": {\"color\": \"white\"}}, \"header\": {\"fill\": {\"color\": \"#C8D4E3\"}, \"line\": {\"color\": \"white\"}}, \"type\": \"table\"}]}, \"layout\": {\"annotationdefaults\": {\"arrowcolor\": \"#2a3f5f\", \"arrowhead\": 0, \"arrowwidth\": 1}, \"coloraxis\": {\"colorbar\": {\"outlinewidth\": 0, \"ticks\": \"\"}}, \"colorscale\": {\"diverging\": [[0, \"#8e0152\"], [0.1, \"#c51b7d\"], [0.2, \"#de77ae\"], [0.3, \"#f1b6da\"], [0.4, \"#fde0ef\"], [0.5, \"#f7f7f7\"], [0.6, \"#e6f5d0\"], [0.7, \"#b8e186\"], [0.8, \"#7fbc41\"], [0.9, \"#4d9221\"], [1, \"#276419\"]], \"sequential\": [[0.0, \"#0d0887\"], [0.1111111111111111, \"#46039f\"], [0.2222222222222222, \"#7201a8\"], [0.3333333333333333, \"#9c179e\"], [0.4444444444444444, \"#bd3786\"], [0.5555555555555556, \"#d8576b\"], [0.6666666666666666, \"#ed7953\"], [0.7777777777777778, \"#fb9f3a\"], [0.8888888888888888, \"#fdca26\"], [1.0, \"#f0f921\"]], \"sequentialminus\": [[0.0, \"#0d0887\"], [0.1111111111111111, \"#46039f\"], [0.2222222222222222, \"#7201a8\"], [0.3333333333333333, \"#9c179e\"], [0.4444444444444444, \"#bd3786\"], [0.5555555555555556, \"#d8576b\"], [0.6666666666666666, \"#ed7953\"], [0.7777777777777778, \"#fb9f3a\"], [0.8888888888888888, \"#fdca26\"], [1.0, \"#f0f921\"]]}, \"colorway\": [\"#636efa\", \"#EF553B\", \"#00cc96\", \"#ab63fa\", \"#FFA15A\", \"#19d3f3\", \"#FF6692\", \"#B6E880\", \"#FF97FF\", \"#FECB52\"], \"font\": {\"color\": \"#2a3f5f\"}, \"geo\": {\"bgcolor\": \"white\", \"lakecolor\": \"white\", \"landcolor\": \"#E5ECF6\", \"showlakes\": true, \"showland\": true, \"subunitcolor\": \"white\"}, \"hoverlabel\": {\"align\": \"left\"}, \"hovermode\": \"closest\", \"mapbox\": {\"style\": \"light\"}, \"paper_bgcolor\": \"white\", \"plot_bgcolor\": \"#E5ECF6\", \"polar\": {\"angularaxis\": {\"gridcolor\": \"white\", \"linecolor\": \"white\", \"ticks\": \"\"}, \"bgcolor\": \"#E5ECF6\", \"radialaxis\": {\"gridcolor\": \"white\", \"linecolor\": \"white\", \"ticks\": \"\"}}, \"scene\": {\"xaxis\": {\"backgroundcolor\": \"#E5ECF6\", \"gridcolor\": \"white\", \"gridwidth\": 2, \"linecolor\": \"white\", \"showbackground\": true, \"ticks\": \"\", \"zerolinecolor\": \"white\"}, \"yaxis\": {\"backgroundcolor\": \"#E5ECF6\", \"gridcolor\": \"white\", \"gridwidth\": 2, \"linecolor\": \"white\", \"showbackground\": true, \"ticks\": \"\", \"zerolinecolor\": \"white\"}, \"zaxis\": {\"backgroundcolor\": \"#E5ECF6\", \"gridcolor\": \"white\", \"gridwidth\": 2, \"linecolor\": \"white\", \"showbackground\": true, \"ticks\": \"\", \"zerolinecolor\": \"white\"}}, \"shapedefaults\": {\"line\": {\"color\": \"#2a3f5f\"}}, \"ternary\": {\"aaxis\": {\"gridcolor\": \"white\", \"linecolor\": \"white\", \"ticks\": \"\"}, \"baxis\": {\"gridcolor\": \"white\", \"linecolor\": \"white\", \"ticks\": \"\"}, \"bgcolor\": \"#E5ECF6\", \"caxis\": {\"gridcolor\": \"white\", \"linecolor\": \"white\", \"ticks\": \"\"}}, \"title\": {\"x\": 0.05}, \"xaxis\": {\"automargin\": true, \"gridcolor\": \"white\", \"linecolor\": \"white\", \"ticks\": \"\", \"title\": {\"standoff\": 15}, \"zerolinecolor\": \"white\", \"zerolinewidth\": 2}, \"yaxis\": {\"automargin\": true, \"gridcolor\": \"white\", \"linecolor\": \"white\", \"ticks\": \"\", \"title\": {\"standoff\": 15}, \"zerolinecolor\": \"white\", \"zerolinewidth\": 2}}}, \"title\": {\"text\": \"Dumpster Fires Reported to 911\"}, \"xaxis\": {\"anchor\": \"y\", \"domain\": [0.0, 1.0], \"tickmode\": \"linear\", \"title\": {\"text\": \"Number of calls within 24 hours\"}}, \"yaxis\": {\"anchor\": \"x\", \"domain\": [0.0, 1.0], \"title\": {\"text\": \"Occurences\"}}},\n",
              "                        {\"responsive\": true}\n",
              "                    ).then(function(){\n",
              "                            \n",
              "var gd = document.getElementById('d61fe67c-81ad-4ac2-a1ed-d3766a8d23af');\n",
              "var x = new MutationObserver(function (mutations, observer) {{\n",
              "        var display = window.getComputedStyle(gd).display;\n",
              "        if (!display || display === 'none') {{\n",
              "            console.log([gd, 'removed!']);\n",
              "            Plotly.purge(gd);\n",
              "            observer.disconnect();\n",
              "        }}\n",
              "}});\n",
              "\n",
              "// Listen for the removal of the full notebook cells\n",
              "var notebookContainer = gd.closest('#notebook-container');\n",
              "if (notebookContainer) {{\n",
              "    x.observe(notebookContainer, {childList: true});\n",
              "}}\n",
              "\n",
              "// Listen for the clearing of the current output cell\n",
              "var outputEl = gd.closest('.output');\n",
              "if (outputEl) {{\n",
              "    x.observe(outputEl, {childList: true});\n",
              "}}\n",
              "\n",
              "                        })\n",
              "                };\n",
              "                \n",
              "            </script>\n",
              "        </div>\n",
              "</body>\n",
              "</html>"
            ]
          },
          "metadata": {
            "tags": []
          }
        }
      ]
    },
    {
      "cell_type": "markdown",
      "metadata": {
        "id": "94lp1kPm_06Z",
        "colab_type": "text"
      },
      "source": [
        "##Feature Engineering 2"
      ]
    },
    {
      "cell_type": "markdown",
      "metadata": {
        "id": "AURVJfYa-2dB",
        "colab_type": "text"
      },
      "source": [
        "###Re-Defining\n",
        "After looking at the above graph, I got the feeling that I hadn't considered enough details when determining what features I need to really identify series of fires.  Realistically if I had a fire in northgate, and a fire in southpark in the same day, I'd count that as a \"series.\"  Its just not a very realistic analysis for my questions.  So I'm going to add a distance feature to narrow this down some."
      ]
    },
    {
      "cell_type": "code",
      "metadata": {
        "id": "rgztkOQHM8qP",
        "colab_type": "code",
        "outputId": "c9b8f569-17f5-45c9-d5b1-a5694c4b64d2",
        "colab": {
          "base_uri": "https://localhost:8080/",
          "height": 411
        }
      },
      "source": [
        "#so lets look at figuring out our distances of each group.\n",
        "dumpster.head()"
      ],
      "execution_count": 141,
      "outputs": [
        {
          "output_type": "execute_result",
          "data": {
            "text/html": [
              "<div>\n",
              "<style scoped>\n",
              "    .dataframe tbody tr th:only-of-type {\n",
              "        vertical-align: middle;\n",
              "    }\n",
              "\n",
              "    .dataframe tbody tr th {\n",
              "        vertical-align: top;\n",
              "    }\n",
              "\n",
              "    .dataframe thead th {\n",
              "        text-align: right;\n",
              "    }\n",
              "</style>\n",
              "<table border=\"1\" class=\"dataframe\">\n",
              "  <thead>\n",
              "    <tr style=\"text-align: right;\">\n",
              "      <th></th>\n",
              "      <th>address</th>\n",
              "      <th>type</th>\n",
              "      <th>datetime</th>\n",
              "      <th>latitude</th>\n",
              "      <th>longitude</th>\n",
              "      <th>report_location</th>\n",
              "      <th>incident_number</th>\n",
              "      <th>year</th>\n",
              "      <th>month</th>\n",
              "      <th>date_obj</th>\n",
              "      <th>calls_within_24h</th>\n",
              "    </tr>\n",
              "  </thead>\n",
              "  <tbody>\n",
              "    <tr>\n",
              "      <th>0</th>\n",
              "      <td>747 Broadway</td>\n",
              "      <td>Dumpster Fire</td>\n",
              "      <td>2003-11-10T15:43:04.000</td>\n",
              "      <td>47.608621</td>\n",
              "      <td>-122.320756</td>\n",
              "      <td>{'type': 'Point', 'coordinates': [-122.320756,...</td>\n",
              "      <td>F030082401</td>\n",
              "      <td>2003</td>\n",
              "      <td>11</td>\n",
              "      <td>2003-11-10 15:43:04</td>\n",
              "      <td>0</td>\n",
              "    </tr>\n",
              "    <tr>\n",
              "      <th>1</th>\n",
              "      <td>32nd Av E / E Madison St</td>\n",
              "      <td>Dumpster Fire</td>\n",
              "      <td>2003-11-14T23:45:39.000</td>\n",
              "      <td>47.627040</td>\n",
              "      <td>-122.290929</td>\n",
              "      <td>{'type': 'Point', 'coordinates': [-122.290929,...</td>\n",
              "      <td>F030083954</td>\n",
              "      <td>2003</td>\n",
              "      <td>11</td>\n",
              "      <td>2003-11-14 23:45:39</td>\n",
              "      <td>0</td>\n",
              "    </tr>\n",
              "    <tr>\n",
              "      <th>2</th>\n",
              "      <td>6TH AV / PIKE ST</td>\n",
              "      <td>Dumpster Fire</td>\n",
              "      <td>2003-11-18T09:10:42.000</td>\n",
              "      <td>47.611142</td>\n",
              "      <td>-122.334464</td>\n",
              "      <td>{'type': 'Point', 'coordinates': [-122.334464,...</td>\n",
              "      <td>F030085104</td>\n",
              "      <td>2003</td>\n",
              "      <td>11</td>\n",
              "      <td>2003-11-18 09:10:42</td>\n",
              "      <td>2</td>\n",
              "    </tr>\n",
              "    <tr>\n",
              "      <th>3</th>\n",
              "      <td>6th Av / Pike St</td>\n",
              "      <td>Dumpster Fire</td>\n",
              "      <td>2003-11-18T09:10:57.000</td>\n",
              "      <td>47.611142</td>\n",
              "      <td>-122.334464</td>\n",
              "      <td>{'type': 'Point', 'coordinates': [-122.334464,...</td>\n",
              "      <td>F030085103</td>\n",
              "      <td>2003</td>\n",
              "      <td>11</td>\n",
              "      <td>2003-11-18 09:10:57</td>\n",
              "      <td>2</td>\n",
              "    </tr>\n",
              "    <tr>\n",
              "      <th>4</th>\n",
              "      <td>Stone Way N / N 45th St</td>\n",
              "      <td>Dumpster Fire</td>\n",
              "      <td>2003-11-18T15:38:25.000</td>\n",
              "      <td>47.661385</td>\n",
              "      <td>-122.342145</td>\n",
              "      <td>{'type': 'Point', 'coordinates': [-122.342145,...</td>\n",
              "      <td>F030085264</td>\n",
              "      <td>2003</td>\n",
              "      <td>11</td>\n",
              "      <td>2003-11-18 15:38:25</td>\n",
              "      <td>2</td>\n",
              "    </tr>\n",
              "  </tbody>\n",
              "</table>\n",
              "</div>"
            ],
            "text/plain": [
              "                    address  ... calls_within_24h\n",
              "0              747 Broadway  ...                0\n",
              "1  32nd Av E / E Madison St  ...                0\n",
              "2          6TH AV / PIKE ST  ...                2\n",
              "3          6th Av / Pike St  ...                2\n",
              "4   Stone Way N / N 45th St  ...                2\n",
              "\n",
              "[5 rows x 11 columns]"
            ]
          },
          "metadata": {
            "tags": []
          },
          "execution_count": 141
        }
      ]
    },
    {
      "cell_type": "code",
      "metadata": {
        "id": "e7i8TgE-qFes",
        "colab_type": "code",
        "colab": {}
      },
      "source": [
        "#okay this is the furthest distance between fires on the 1666 fire spree.\n",
        "#remember geopy does lat first, long second\n",
        "p1 = (dumpster['latitude'].iloc[1666], dumpster['longitude'].iloc[1666])\n",
        "p2 = (dumpster['latitude'].iloc[1671], dumpster['longitude'].iloc[1671])"
      ],
      "execution_count": 0,
      "outputs": []
    },
    {
      "cell_type": "code",
      "metadata": {
        "id": "g3a1px5etkhv",
        "colab_type": "code",
        "colab": {}
      },
      "source": [
        "d = distance(p1, p2)"
      ],
      "execution_count": 0,
      "outputs": []
    },
    {
      "cell_type": "code",
      "metadata": {
        "id": "msd43lbAtqGJ",
        "colab_type": "code",
        "outputId": "aff44826-fb10-46e8-b5ca-41f16e6d20fe",
        "colab": {
          "base_uri": "https://localhost:8080/",
          "height": 34
        }
      },
      "source": [
        "#based off this, it is probably fair to say a spree must have all fire locations\n",
        "#within one mile of each other.\n",
        "d.miles"
      ],
      "execution_count": 144,
      "outputs": [
        {
          "output_type": "execute_result",
          "data": {
            "text/plain": [
              "0.9437619193725458"
            ]
          },
          "metadata": {
            "tags": []
          },
          "execution_count": 144
        }
      ]
    },
    {
      "cell_type": "code",
      "metadata": {
        "id": "hQdDHgYCt3BB",
        "colab_type": "code",
        "colab": {}
      },
      "source": [
        "#okay lets clean that point column up.\n",
        "def coords(row):\n",
        "  return(row['latitude'], row['longitude'])"
      ],
      "execution_count": 0,
      "outputs": []
    },
    {
      "cell_type": "code",
      "metadata": {
        "id": "GBmYnr2H050U",
        "colab_type": "code",
        "colab": {}
      },
      "source": [
        "dumpster['report_location'] = dumpster.apply(coords, axis = 1)"
      ],
      "execution_count": 0,
      "outputs": []
    },
    {
      "cell_type": "code",
      "metadata": {
        "id": "yfxf6ZLi1Db6",
        "colab_type": "code",
        "outputId": "e707eaa3-cfe6-450f-ddb9-e35a6c42b397",
        "colab": {
          "base_uri": "https://localhost:8080/",
          "height": 411
        }
      },
      "source": [
        "dumpster.head()"
      ],
      "execution_count": 147,
      "outputs": [
        {
          "output_type": "execute_result",
          "data": {
            "text/html": [
              "<div>\n",
              "<style scoped>\n",
              "    .dataframe tbody tr th:only-of-type {\n",
              "        vertical-align: middle;\n",
              "    }\n",
              "\n",
              "    .dataframe tbody tr th {\n",
              "        vertical-align: top;\n",
              "    }\n",
              "\n",
              "    .dataframe thead th {\n",
              "        text-align: right;\n",
              "    }\n",
              "</style>\n",
              "<table border=\"1\" class=\"dataframe\">\n",
              "  <thead>\n",
              "    <tr style=\"text-align: right;\">\n",
              "      <th></th>\n",
              "      <th>address</th>\n",
              "      <th>type</th>\n",
              "      <th>datetime</th>\n",
              "      <th>latitude</th>\n",
              "      <th>longitude</th>\n",
              "      <th>report_location</th>\n",
              "      <th>incident_number</th>\n",
              "      <th>year</th>\n",
              "      <th>month</th>\n",
              "      <th>date_obj</th>\n",
              "      <th>calls_within_24h</th>\n",
              "    </tr>\n",
              "  </thead>\n",
              "  <tbody>\n",
              "    <tr>\n",
              "      <th>0</th>\n",
              "      <td>747 Broadway</td>\n",
              "      <td>Dumpster Fire</td>\n",
              "      <td>2003-11-10T15:43:04.000</td>\n",
              "      <td>47.608621</td>\n",
              "      <td>-122.320756</td>\n",
              "      <td>(47.608621, -122.320756)</td>\n",
              "      <td>F030082401</td>\n",
              "      <td>2003</td>\n",
              "      <td>11</td>\n",
              "      <td>2003-11-10 15:43:04</td>\n",
              "      <td>0</td>\n",
              "    </tr>\n",
              "    <tr>\n",
              "      <th>1</th>\n",
              "      <td>32nd Av E / E Madison St</td>\n",
              "      <td>Dumpster Fire</td>\n",
              "      <td>2003-11-14T23:45:39.000</td>\n",
              "      <td>47.627040</td>\n",
              "      <td>-122.290929</td>\n",
              "      <td>(47.627040, -122.290929)</td>\n",
              "      <td>F030083954</td>\n",
              "      <td>2003</td>\n",
              "      <td>11</td>\n",
              "      <td>2003-11-14 23:45:39</td>\n",
              "      <td>0</td>\n",
              "    </tr>\n",
              "    <tr>\n",
              "      <th>2</th>\n",
              "      <td>6TH AV / PIKE ST</td>\n",
              "      <td>Dumpster Fire</td>\n",
              "      <td>2003-11-18T09:10:42.000</td>\n",
              "      <td>47.611142</td>\n",
              "      <td>-122.334464</td>\n",
              "      <td>(47.611142, -122.334464)</td>\n",
              "      <td>F030085104</td>\n",
              "      <td>2003</td>\n",
              "      <td>11</td>\n",
              "      <td>2003-11-18 09:10:42</td>\n",
              "      <td>2</td>\n",
              "    </tr>\n",
              "    <tr>\n",
              "      <th>3</th>\n",
              "      <td>6th Av / Pike St</td>\n",
              "      <td>Dumpster Fire</td>\n",
              "      <td>2003-11-18T09:10:57.000</td>\n",
              "      <td>47.611142</td>\n",
              "      <td>-122.334464</td>\n",
              "      <td>(47.611142, -122.334464)</td>\n",
              "      <td>F030085103</td>\n",
              "      <td>2003</td>\n",
              "      <td>11</td>\n",
              "      <td>2003-11-18 09:10:57</td>\n",
              "      <td>2</td>\n",
              "    </tr>\n",
              "    <tr>\n",
              "      <th>4</th>\n",
              "      <td>Stone Way N / N 45th St</td>\n",
              "      <td>Dumpster Fire</td>\n",
              "      <td>2003-11-18T15:38:25.000</td>\n",
              "      <td>47.661385</td>\n",
              "      <td>-122.342145</td>\n",
              "      <td>(47.661385, -122.342145)</td>\n",
              "      <td>F030085264</td>\n",
              "      <td>2003</td>\n",
              "      <td>11</td>\n",
              "      <td>2003-11-18 15:38:25</td>\n",
              "      <td>2</td>\n",
              "    </tr>\n",
              "  </tbody>\n",
              "</table>\n",
              "</div>"
            ],
            "text/plain": [
              "                    address  ... calls_within_24h\n",
              "0              747 Broadway  ...                0\n",
              "1  32nd Av E / E Madison St  ...                0\n",
              "2          6TH AV / PIKE ST  ...                2\n",
              "3          6th Av / Pike St  ...                2\n",
              "4   Stone Way N / N 45th St  ...                2\n",
              "\n",
              "[5 rows x 11 columns]"
            ]
          },
          "metadata": {
            "tags": []
          },
          "execution_count": 147
        }
      ]
    },
    {
      "cell_type": "code",
      "metadata": {
        "id": "GXD8vJbv1Epv",
        "colab_type": "code",
        "outputId": "2e7a6de3-70a1-4d5f-92ab-3c6ee4d4e784",
        "colab": {
          "base_uri": "https://localhost:8080/",
          "height": 411
        }
      },
      "source": [
        "#I want to know of all the \"spree\" calls, what their distance from the original\n",
        "#call was.  So I'm going to filter out to only spree calls, and then just \n",
        "#iterate and compare.\n",
        "\n",
        "sprees = dumpster[dumpster['calls_within_24h'] != 0].copy()\n",
        "print(sprees.shape)\n",
        "sprees.head()"
      ],
      "execution_count": 148,
      "outputs": [
        {
          "output_type": "stream",
          "text": [
            "(829, 11)\n"
          ],
          "name": "stdout"
        },
        {
          "output_type": "execute_result",
          "data": {
            "text/html": [
              "<div>\n",
              "<style scoped>\n",
              "    .dataframe tbody tr th:only-of-type {\n",
              "        vertical-align: middle;\n",
              "    }\n",
              "\n",
              "    .dataframe tbody tr th {\n",
              "        vertical-align: top;\n",
              "    }\n",
              "\n",
              "    .dataframe thead th {\n",
              "        text-align: right;\n",
              "    }\n",
              "</style>\n",
              "<table border=\"1\" class=\"dataframe\">\n",
              "  <thead>\n",
              "    <tr style=\"text-align: right;\">\n",
              "      <th></th>\n",
              "      <th>address</th>\n",
              "      <th>type</th>\n",
              "      <th>datetime</th>\n",
              "      <th>latitude</th>\n",
              "      <th>longitude</th>\n",
              "      <th>report_location</th>\n",
              "      <th>incident_number</th>\n",
              "      <th>year</th>\n",
              "      <th>month</th>\n",
              "      <th>date_obj</th>\n",
              "      <th>calls_within_24h</th>\n",
              "    </tr>\n",
              "  </thead>\n",
              "  <tbody>\n",
              "    <tr>\n",
              "      <th>2</th>\n",
              "      <td>6TH AV / PIKE ST</td>\n",
              "      <td>Dumpster Fire</td>\n",
              "      <td>2003-11-18T09:10:42.000</td>\n",
              "      <td>47.611142</td>\n",
              "      <td>-122.334464</td>\n",
              "      <td>(47.611142, -122.334464)</td>\n",
              "      <td>F030085104</td>\n",
              "      <td>2003</td>\n",
              "      <td>11</td>\n",
              "      <td>2003-11-18 09:10:42</td>\n",
              "      <td>2</td>\n",
              "    </tr>\n",
              "    <tr>\n",
              "      <th>3</th>\n",
              "      <td>6th Av / Pike St</td>\n",
              "      <td>Dumpster Fire</td>\n",
              "      <td>2003-11-18T09:10:57.000</td>\n",
              "      <td>47.611142</td>\n",
              "      <td>-122.334464</td>\n",
              "      <td>(47.611142, -122.334464)</td>\n",
              "      <td>F030085103</td>\n",
              "      <td>2003</td>\n",
              "      <td>11</td>\n",
              "      <td>2003-11-18 09:10:57</td>\n",
              "      <td>2</td>\n",
              "    </tr>\n",
              "    <tr>\n",
              "      <th>4</th>\n",
              "      <td>Stone Way N / N 45th St</td>\n",
              "      <td>Dumpster Fire</td>\n",
              "      <td>2003-11-18T15:38:25.000</td>\n",
              "      <td>47.661385</td>\n",
              "      <td>-122.342145</td>\n",
              "      <td>(47.661385, -122.342145)</td>\n",
              "      <td>F030085264</td>\n",
              "      <td>2003</td>\n",
              "      <td>11</td>\n",
              "      <td>2003-11-18 15:38:25</td>\n",
              "      <td>2</td>\n",
              "    </tr>\n",
              "    <tr>\n",
              "      <th>7</th>\n",
              "      <td>401 2nd Av S</td>\n",
              "      <td>Dumpster Fire</td>\n",
              "      <td>2003-12-02T22:09:02.000</td>\n",
              "      <td>47.599192</td>\n",
              "      <td>-122.331578</td>\n",
              "      <td>(47.599192, -122.331578)</td>\n",
              "      <td>F030090264</td>\n",
              "      <td>2003</td>\n",
              "      <td>12</td>\n",
              "      <td>2003-12-02 22:09:02</td>\n",
              "      <td>7</td>\n",
              "    </tr>\n",
              "    <tr>\n",
              "      <th>8</th>\n",
              "      <td>133 Pontius Av N</td>\n",
              "      <td>Dumpster Fire</td>\n",
              "      <td>2003-12-03T00:31:27.000</td>\n",
              "      <td>47.618887</td>\n",
              "      <td>-122.332245</td>\n",
              "      <td>(47.618887, -122.332245)</td>\n",
              "      <td>F030090301</td>\n",
              "      <td>2003</td>\n",
              "      <td>12</td>\n",
              "      <td>2003-12-03 00:31:27</td>\n",
              "      <td>7</td>\n",
              "    </tr>\n",
              "  </tbody>\n",
              "</table>\n",
              "</div>"
            ],
            "text/plain": [
              "                   address           type  ...            date_obj calls_within_24h\n",
              "2         6TH AV / PIKE ST  Dumpster Fire  ... 2003-11-18 09:10:42                2\n",
              "3         6th Av / Pike St  Dumpster Fire  ... 2003-11-18 09:10:57                2\n",
              "4  Stone Way N / N 45th St  Dumpster Fire  ... 2003-11-18 15:38:25                2\n",
              "7             401 2nd Av S  Dumpster Fire  ... 2003-12-02 22:09:02                7\n",
              "8         133 Pontius Av N  Dumpster Fire  ... 2003-12-03 00:31:27                7\n",
              "\n",
              "[5 rows x 11 columns]"
            ]
          },
          "metadata": {
            "tags": []
          },
          "execution_count": 148
        }
      ]
    },
    {
      "cell_type": "code",
      "metadata": {
        "id": "niZUycaD31Yy",
        "colab_type": "code",
        "outputId": "3f4351f5-744b-46ab-c42e-a2716f7e7707",
        "colab": {
          "base_uri": "https://localhost:8080/",
          "height": 71
        }
      },
      "source": [
        "#I'm going to make an additiona column, so that for each row we can see what\n",
        "#the first location is.  Then later I can use that location to do an .apply()\n",
        "#by row to find the distance.\n",
        "\n",
        "first_location = []\n",
        "for i in sprees.index:\n",
        "  point_index = sprees['calls_within_24h'].loc[i]\n",
        "  first_location.append(sprees['report_location'].loc[point_index])\n",
        "print(len(first_location))\n",
        "print(first_location)"
      ],
      "execution_count": 149,
      "outputs": [
        {
          "output_type": "stream",
          "text": [
            "829\n",
            "[('47.611142', '-122.334464'), ('47.611142', '-122.334464'), ('47.611142', '-122.334464'), ('47.599192', '-122.331578'), ('47.599192', '-122.331578'), ('47.608009', '-122.302770'), ('47.608009', '-122.302770'), ('47.608009', '-122.302770'), ('47.675985', '-122.382128'), ('47.675985', '-122.382128'), ('47.597848', '-122.286930'), ('47.597848', '-122.286930'), ('47.584001', '-122.386423'), ('47.584001', '-122.386423'), ('47.584001', '-122.386423'), ('47.616761', '-122.314266'), ('47.616761', '-122.314266'), ('47.603512', '-122.315329'), ('47.603512', '-122.315329'), ('47.624593', '-122.359508'), ('47.624593', '-122.359508'), ('47.599192', '-122.325980'), ('47.599192', '-122.325980'), ('47.599192', '-122.325980'), ('47.661269', '-122.313130'), ('47.661269', '-122.313130'), ('47.574384', '-122.329059'), ('47.574384', '-122.329059'), ('47.539220', '-122.376575'), ('47.539220', '-122.376575'), ('47.612937', '-122.300058'), ('47.612937', '-122.300058'), ('47.671645', '-122.387587'), ('47.671645', '-122.387587'), ('47.611629', '-122.339592'), ('47.611629', '-122.339592'), ('47.541205', '-122.360955'), ('47.541205', '-122.360955'), ('47.541205', '-122.360955'), ('47.658465', '-122.314359'), ('47.658465', '-122.314359'), ('47.602985', '-122.328535'), ('47.602985', '-122.328535'), ('47.602985', '-122.328535'), ('47.579509', '-122.409331'), ('47.579509', '-122.409331'), ('47.624358', '-122.313610'), ('47.624358', '-122.313610'), ('47.624358', '-122.313610'), ('47.610678', '-122.335574'), ('47.610678', '-122.335574'), ('47.608292', '-122.337995'), ('47.608292', '-122.337995'), ('47.608756', '-122.336885'), ('47.608756', '-122.336885'), ('47.619171', '-122.302547'), ('47.619171', '-122.302547'), ('47.619171', '-122.302547'), ('47.624737', '-122.347570'), ('47.624737', '-122.347570'), ('47.583629', '-122.325974'), ('47.583629', '-122.325974'), ('47.615234', '-122.327691'), ('47.615234', '-122.327691'), ('47.521595', '-122.264225'), ('47.521595', '-122.264225'), ('47.658301', '-122.312071'), ('47.658301', '-122.312071'), ('47.656434', '-122.391087'), ('47.656434', '-122.391087'), ('47.533694', '-122.361351'), ('47.533694', '-122.361351'), ('47.632331', '-122.311924'), ('47.632331', '-122.311924'), ('47.524317', '-122.359126'), ('47.524317', '-122.359126'), ('47.524317', '-122.359126'), ('47.612865', '-122.345651'), ('47.612865', '-122.345651'), ('47.612865', '-122.345651'), ('47.612865', '-122.345651'), ('47.627188', '-122.355382'), ('47.627188', '-122.355382'), ('47.627188', '-122.355382'), ('47.732881', '-122.296531'), ('47.732881', '-122.296531'), ('47.732881', '-122.296531'), ('47.732881', '-122.296531'), ('47.732881', '-122.296531'), ('47.732881', '-122.296531'), ('47.732881', '-122.296531'), ('47.554125', '-122.299237'), ('47.554125', '-122.299237'), ('47.554125', '-122.299237'), ('47.554125', '-122.299237'), ('47.609704', '-122.334621'), ('47.609704', '-122.334621'), ('47.613652', '-122.335253'), ('47.613652', '-122.335253'), ('47.613652', '-122.335253'), ('47.596654', '-122.314056'), ('47.596654', '-122.314056'), ('47.611444', '-122.322462'), ('47.611444', '-122.322462'), ('47.526441', '-122.314910'), ('47.526441', '-122.314910'), ('47.609750', '-122.337793'), ('47.609750', '-122.337793'), ('47.616656', '-122.325547'), ('47.616656', '-122.325547'), ('47.616656', '-122.325547'), ('47.661392', '-122.346667'), ('47.661392', '-122.346667'), ('47.661392', '-122.346667'), ('47.661392', '-122.346667'), ('47.615255', '-122.318026'), ('47.615255', '-122.318026'), ('47.652745', '-122.345964'), ('47.652745', '-122.345964'), ('47.652745', '-122.345964'), ('47.652745', '-122.345964'), ('47.583656', '-122.302199'), ('47.583656', '-122.302199'), ('47.583656', '-122.302199'), ('47.522680', '-122.357798'), ('47.522680', '-122.357798'), ('47.621155', '-122.312671'), ('47.621155', '-122.312671'), ('47.548703', '-122.334536'), ('47.548703', '-122.334536'), ('47.548703', '-122.334536'), ('47.548703', '-122.334536'), ('47.618561', '-122.345006'), ('47.618561', '-122.345006'), ('47.615557', '-122.344253'), ('47.615557', '-122.344253'), ('47.620716', '-122.347603'), ('47.620716', '-122.347603'), ('47.687101', '-122.376794'), ('47.687101', '-122.376794'), ('47.615689', '-122.352409'), ('47.615689', '-122.352409'), ('47.655320', '-122.307891'), ('47.655320', '-122.307891'), ('47.655320', '-122.307891'), ('47.622109', '-122.356969'), ('47.622109', '-122.356969'), ('47.549123', '-122.326171'), ('47.549123', '-122.326171'), ('47.626762', '-122.368579'), ('47.626762', '-122.368579'), ('47.611557', '-122.315340'), ('47.611557', '-122.315340'), ('47.661793', '-122.314272'), ('47.661793', '-122.314272'), ('47.692107', '-122.304836'), ('47.692107', '-122.304836'), ('47.552688', '-122.329558'), ('47.552688', '-122.329558'), ('47.552688', '-122.329558'), ('47.552688', '-122.329558'), ('47.618652', '-122.324006'), ('47.618652', '-122.324006'), ('47.604242', '-122.296798'), ('47.604242', '-122.296798'), ('47.604242', '-122.296798'), ('47.613831', '-122.341333'), ('47.613831', '-122.341333'), ('47.708935', '-122.320569'), ('47.708935', '-122.320569'), ('47.618652', '-122.324006'), ('47.618652', '-122.324006'), ('47.618652', '-122.324006'), ('47.618652', '-122.324006'), ('47.600011', '-122.314133'), ('47.600011', '-122.314133'), ('47.650742', '-122.308009'), ('47.650742', '-122.308009'), ('47.618618', '-122.358478'), ('47.618618', '-122.358478'), ('47.618618', '-122.358478'), ('47.521022', '-122.365894'), ('47.521022', '-122.365894'), ('47.586170', '-122.329979'), ('47.586170', '-122.329979'), ('47.623134', '-122.326592'), ('47.623134', '-122.326592'), ('47.599201', '-122.331578'), ('47.599201', '-122.331578'), ('47.612071', '-122.332244'), ('47.612071', '-122.332244'), ('47.571678', '-122.329103'), ('47.571678', '-122.329103'), ('47.668679', '-122.387576'), ('47.668679', '-122.387576'), ('47.613208', '-122.342140'), ('47.613208', '-122.342140'), ('47.608071', '-122.339327'), ('47.608071', '-122.339327'), ('47.608071', '-122.339327'), ('47.531389', '-122.392698'), ('47.531389', '-122.392698'), ('47.656018', '-122.316767'), ('47.656018', '-122.316767'), ('47.618550', '-122.342402'), ('47.618550', '-122.342402'), ('47.536766', '-122.317353'), ('47.536766', '-122.317353'), ('47.536766', '-122.317353'), ('47.520930', '-122.356471'), ('47.520930', '-122.356471'), ('47.617928', '-122.354220'), ('47.617928', '-122.354220'), ('47.611733', '-122.341753'), ('47.611733', '-122.341753'), ('47.531389', '-122.392698'), ('47.531389', '-122.392698'), ('47.639103', '-122.277088'), ('47.639103', '-122.277088'), ('47.639103', '-122.277088'), ('47.523310', '-122.272639'), ('47.523310', '-122.272639'), ('47.523310', '-122.272639'), ('47.523310', '-122.272639'), ('47.605624', '-122.334019'), ('47.605624', '-122.334019'), ('47.605624', '-122.334019'), ('47.605624', '-122.334019'), ('47.561110', '-122.386957'), ('47.561110', '-122.386957'), ('47.719572', '-122.344937'), ('47.719572', '-122.344937'), ('47.579809', '-122.327516'), ('47.579809', '-122.327516'), ('47.602382', '-122.332338'), ('47.602382', '-122.332338'), ('47.667885', '-122.370960'), ('47.667885', '-122.370960'), ('47.661269', '-122.313130'), ('47.661269', '-122.313130'), ('47.616595', '-122.340055'), ('47.616595', '-122.340055'), ('47.616595', '-122.340055'), ('47.623218', '-122.340830'), ('47.623218', '-122.340830'), ('47.623218', '-122.340830'), ('47.616989', '-122.330811'), ('47.616989', '-122.330811'), ('47.616989', '-122.330811'), ('47.617157', '-122.323443'), ('47.617157', '-122.323443'), ('47.607992', '-122.293632'), ('47.607992', '-122.293632'), ('47.613157', '-122.340192'), ('47.613157', '-122.340192'), ('47.701430', '-122.344651'), ('47.701430', '-122.344651'), ('47.701430', '-122.344651'), ('47.701430', '-122.344651'), ('47.609285', '-122.338904'), ('47.609285', '-122.338904'), ('47.609285', '-122.338904'), ('47.701430', '-122.344651'), ('47.701430', '-122.344651'), ('47.657519', '-122.320846'), ('47.657519', '-122.320846'), ('47.599191', '-122.325055'), ('47.599191', '-122.325055'), ('47.615249', '-122.349682'), ('47.615249', '-122.349682'), ('47.701430', '-122.344651'), ('47.701430', '-122.344651'), ('47.535284', '-122.376607'), ('47.535284', '-122.376607'), ('47.712528', '-122.355509'), ('47.712528', '-122.355509'), ('47.656828', '-122.338506'), ('47.656828', '-122.338506'), ('47.662193', '-122.366195'), ('47.662193', '-122.366195'), ('47.607828', '-122.339105'), ('47.607828', '-122.339105'), ('47.579809', '-122.325977'), ('47.579809', '-122.325977'), ('47.666820', '-122.316310'), ('47.666820', '-122.316310'), ('47.554140', '-122.329545'), ('47.554140', '-122.329545'), ('47.554140', '-122.329545'), ('47.554140', '-122.329545'), ('47.554140', '-122.329545'), ('47.554140', '-122.329545'), ('47.554140', '-122.329545'), ('47.554140', '-122.329545'), ('47.614600', '-122.342634'), ('47.614600', '-122.342634'), ('47.603019', '-122.333172'), ('47.603019', '-122.333172'), ('47.634726', '-122.279579'), ('47.634726', '-122.279579'), ('47.634726', '-122.279579'), ('47.579556', '-122.325977'), ('47.579556', '-122.325977'), ('47.681054', '-122.355307'), ('47.681054', '-122.355307'), ('47.719450', '-122.318134'), ('47.719450', '-122.318134'), ('47.658727', '-122.319785'), ('47.658727', '-122.319785'), ('47.613561', '-122.328687'), ('47.613561', '-122.328687'), ('47.613561', '-122.328687'), ('47.531555', '-122.285907'), ('47.531555', '-122.285907'), ('47.531555', '-122.285907'), ('47.650421', '-122.383358'), ('47.650421', '-122.383358'), ('47.534704', '-122.272269'), ('47.534704', '-122.272269'), ('47.620834', '-122.325091'), ('47.620834', '-122.325091'), ('47.619908', '-122.320873'), ('47.619908', '-122.320873'), ('47.589986', '-122.335119'), ('47.589986', '-122.335119'), ('47.618492', '-122.330723'), ('47.618492', '-122.330723'), ('47.535522', '-122.364086'), ('47.535522', '-122.364086'), ('47.657135', '-122.314394'), ('47.657135', '-122.314394'), ('47.659795', '-122.313168'), ('47.659795', '-122.313168'), ('47.622347', '-122.312639'), ('47.622347', '-122.312639'), ('47.534704', '-122.272287'), ('47.534704', '-122.272287'), ('47.595693', '-122.333273'), ('47.595693', '-122.333273'), ('47.595693', '-122.333273'), ('47.595693', '-122.333273'), ('47.604197', '-122.332714'), ('47.604197', '-122.332714'), ('47.588110', '-122.333264'), ('47.588110', '-122.333264'), ('47.616403', '-122.320817'), ('47.616403', '-122.320817'), ('47.661386', '-122.334908'), ('47.661386', '-122.334908'), ('47.661386', '-122.334908'), ('47.626727', '-122.359626'), ('47.626727', '-122.359626'), ('47.626727', '-122.359626'), ('47.616579', '-122.347964'), ('47.616579', '-122.347964'), ('47.616579', '-122.347964'), ('47.703635', '-122.355438'), ('47.703635', '-122.355438'), ('47.597509', '-122.319645'), ('47.597509', '-122.319645'), ('47.597509', '-122.319645'), ('47.625795', '-122.359313'), ('47.625795', '-122.359313'), ('47.659834', '-122.316385'), ('47.659834', '-122.316385'), ('47.667526', '-122.398452'), ('47.667526', '-122.398452'), ('47.658629', '-122.315512'), ('47.658629', '-122.315512'), ('47.658629', '-122.315512'), ('47.658629', '-122.315512'), ('47.658629', '-122.315512'), ('47.658540', '-122.314357'), ('47.658540', '-122.314357'), ('47.658540', '-122.314357'), ('47.658540', '-122.314357'), ('47.681382', '-122.376774'), ('47.681382', '-122.376774'), ('47.588195', '-122.325970'), ('47.588195', '-122.325970'), ('47.599193', '-122.316662'), ('47.599193', '-122.316662'), ('47.659460', '-122.319782'), ('47.659460', '-122.319782'), ('47.659460', '-122.319782'), ('47.614985', '-122.331840'), ('47.614985', '-122.331840'), ('47.615235', '-122.320799'), ('47.615235', '-122.320799'), ('47.652005', '-122.353411'), ('47.652005', '-122.353411'), ('47.612577', '-122.342956'), ('47.612577', '-122.342956'), ('47.690655', '-122.365993'), ('47.690655', '-122.365993'), ('47.608830', '-122.339990'), ('47.608830', '-122.339990'), ('47.627826', '-122.326620'), ('47.627826', '-122.326620'), ('47.618428', '-122.303639'), ('47.618428', '-122.303639'), ('47.588422', '-122.317276'), ('47.588422', '-122.317276'), ('47.531389', '-122.392698'), ('47.531389', '-122.392698'), ('47.624715', '-122.358015'), ('47.624715', '-122.358015'), ('47.615235', '-122.320799'), ('47.615235', '-122.320799'), ('47.611733', '-122.296223'), ('47.611733', '-122.296223'), ('47.611733', '-122.296223'), ('47.617077', '-122.326820'), ('47.617077', '-122.326820'), ('47.613561', '-122.328687'), ('47.613561', '-122.328687'), ('47.661332', '-122.314285'), ('47.661332', '-122.314285'), ('47.661332', '-122.314285'), ('47.646877', '-122.351337'), ('47.646877', '-122.351337'), ('47.619664', '-122.312722'), ('47.619664', '-122.312722'), ('47.610972', '-122.335843'), ('47.610972', '-122.335843'), ('47.610972', '-122.335843'), ('47.610972', '-122.335843'), ('47.589997', '-122.333263'), ('47.589997', '-122.333263'), ('47.645068', '-122.376206'), ('47.645068', '-122.376206'), ('47.645068', '-122.376206'), ('47.610743', '-122.338702'), ('47.610743', '-122.338702'), ('47.610743', '-122.338702'), ('47.681599', '-122.290438'), ('47.681599', '-122.290438'), ('47.616441', '-122.315567'), ('47.616441', '-122.315567'), ('47.677781', '-122.355322'), ('47.677781', '-122.355322'), ('47.613167', '-122.342193'), ('47.613167', '-122.342193'), ('47.524680', '-122.365875'), ('47.524680', '-122.365875'), ('47.614798', '-122.348918'), ('47.614798', '-122.348918'), ('47.610214', '-122.336683'), ('47.610214', '-122.336683'), ('47.627182', '-122.343467'), ('47.627182', '-122.343467'), ('47.707083', '-122.317831'), ('47.707083', '-122.317831'), ('47.678980', '-122.191895'), ('47.678980', '-122.191895'), ('47.590313', '-122.336404'), ('47.590313', '-122.336404'), ('47.590313', '-122.336404'), ('47.658478', '-122.315516'), ('47.658478', '-122.315516'), ('47.646802', '-122.410952'), ('47.646802', '-122.410952'), ('47.610743', '-122.338702'), ('47.610743', '-122.338702'), ('47.543719', '-122.328393'), ('47.543719', '-122.328393'), ('47.690648', '-122.401956'), ('47.690648', '-122.401956'), ('47.555493', '-122.329532'), ('47.555493', '-122.329532'), ('47.612136', '-122.335373'), ('47.612136', '-122.335373'), ('47.658150', '-122.318793'), ('47.658150', '-122.318793'), ('47.618123', '-122.347615'), ('47.618123', '-122.347615'), ('47.540170', '-122.360804'), ('47.540170', '-122.360804'), ('47.609381', '-122.283038'), ('47.609381', '-122.283038'), ('47.692382', '-122.344544'), ('47.692382', '-122.344544'), ('47.675783', '-122.290273'), ('47.675783', '-122.290273'), ('47.675783', '-122.290273'), ('47.626705', '-122.356694'), ('47.626705', '-122.356694'), ('47.642025', '-122.346933'), ('47.642025', '-122.346933'), ('47.615416', '-122.323419'), ('47.615416', '-122.323419'), ('47.613002', '-122.318123'), ('47.613002', '-122.318123'), ('47.555228', '-122.280742'), ('47.555228', '-122.280742'), ('47.694049', '-122.317599'), ('47.694049', '-122.317599'), ('47.621257', '-122.335854'), ('47.621257', '-122.335854'), ('47.689835', '-122.349636'), ('47.689835', '-122.349636'), ('47.618947', '-122.322190'), ('47.618947', '-122.322190'), ('47.594049', '-122.325967'), ('47.594049', '-122.325967'), ('47.579810', '-122.333269'), ('47.579810', '-122.333269'), ('47.686419', '-122.339487'), ('47.686419', '-122.339487'), ('47.583656', '-122.302199'), ('47.583656', '-122.302199'), ('47.611837', '-122.343912'), ('47.611837', '-122.343912'), ('47.615235', '-122.320799'), ('47.615235', '-122.320799'), ('47.613063', '-122.340033'), ('47.613063', '-122.340033'), ('47.612989', '-122.325458'), ('47.612989', '-122.325458'), ('47.560061', '-122.336796'), ('47.560061', '-122.336796'), ('47.607710', '-122.326721'), ('47.607710', '-122.326721'), ('47.567946', '-122.326755'), ('47.567946', '-122.326755'), ('47.567946', '-122.326755'), ('47.604911', '-122.333366'), ('47.604911', '-122.333366'), ('47.624588', '-122.330523'), ('47.624588', '-122.330523'), ('47.624588', '-122.330523'), ('47.623299', '-122.326593'), ('47.623299', '-122.326593'), ('47.618488', '-122.325286'), ('47.618488', '-122.325286'), ('47.605147', '-122.302790'), ('47.605147', '-122.302790'), ('47.605147', '-122.302790'), ('47.575200', '-122.335127'), ('47.575200', '-122.335127'), ('47.658308', '-122.312639'), ('47.658308', '-122.312639'), ('47.581176', '-122.383889'), ('47.581176', '-122.383889'), ('47.581176', '-122.383889'), ('47.581176', '-122.383889'), ('47.614076', '-122.320780'), ('47.614076', '-122.320780'), ('47.609783', '-122.342424'), ('47.609783', '-122.342424'), ('47.625452', '-122.355397'), ('47.625452', '-122.355397'), ('47.624259', '-122.314635'), ('47.624259', '-122.314635'), ('47.618740', '-122.320854'), ('47.618740', '-122.320854'), ('47.590313', '-122.336721'), ('47.590313', '-122.336721'), ('47.551827', '-122.346264'), ('47.551827', '-122.346264'), ('47.549170', '-122.317312'), ('47.549170', '-122.317312'), ('47.668586', '-122.311881'), ('47.668586', '-122.311881'), ('47.618489', '-122.325633'), ('47.618489', '-122.325633'), ('47.612987', '-122.323440'), ('47.612987', '-122.323440'), ('47.617100', '-122.350827'), ('47.617100', '-122.350827'), ('47.663663', '-122.374988'), ('47.663663', '-122.374988'), ('47.614809', '-122.346954'), ('47.614809', '-122.346954'), ('47.686942', '-122.344503'), ('47.686942', '-122.344503'), ('47.548171', '-122.373688'), ('47.548171', '-122.373688'), ('47.619908', '-122.320873'), ('47.619908', '-122.320873'), ('47.548171', '-122.373688'), ('47.548171', '-122.373688'), ('47.623129', '-122.320924'), ('47.623129', '-122.320924'), ('47.623129', '-122.320924'), ('47.612297', '-122.323239'), ('47.612297', '-122.323239'), ('47.612987', '-122.322823'), ('47.612987', '-122.322823'), ('47.561106', '-122.386778'), ('47.561106', '-122.386778'), ('47.606801', '-122.333562'), ('47.606801', '-122.333562'), ('47.544683', '-122.376445'), ('47.544683', '-122.376445'), ('47.599191', '-122.321025'), ('47.599191', '-122.321025'), ('47.588060', '-122.385208'), ('47.588060', '-122.385208'), ('47.586334', '-122.305534'), ('47.586334', '-122.305534'), ('47.661339', '-122.324036'), ('47.661339', '-122.324036'), ('47.614066', '-122.322111'), ('47.614066', '-122.322111'), ('47.614064', '-122.337587'), ('47.614064', '-122.337587'), ('47.704426', '-122.355446'), ('47.704426', '-122.355446'), ('47.704426', '-122.355446'), ('47.662042', '-122.304473'), ('47.662042', '-122.304473'), ('47.661269', '-122.313130'), ('47.661269', '-122.313130'), ('47.506583', '-122.270133'), ('47.506583', '-122.270133'), ('47.623520', '-122.331720'), ('47.623520', '-122.331720'), ('47.580507', '-122.313332'), ('47.580507', '-122.313332'), ('47.690648', '-122.401956'), ('47.690648', '-122.401956'), ('47.690648', '-122.401956'), ('47.534132', '-122.328132'), ('47.534132', '-122.328132'), ('47.621012', '-122.356738'), ('47.621012', '-122.356738'), ('47.610146', '-122.342059'), ('47.610146', '-122.342059'), ('47.610146', '-122.342059'), ('47.613301', '-122.337431'), ('47.613301', '-122.337431'), ('47.613301', '-122.337431'), ('47.546292', '-122.376405'), ('47.546292', '-122.376405'), ('47.618497', '-122.327854'), ('47.618497', '-122.327854'), ('47.557848', '-122.284881'), ('47.557848', '-122.284881'), ('47.658964', '-122.313191'), ('47.658964', '-122.313191'), ('47.602372', '-122.320739'), ('47.602372', '-122.320739'), ('47.624588', '-122.358016'), ('47.624588', '-122.358016'), ('47.725703', '-122.312655'), ('47.725703', '-122.312655'), ('47.709964', '-122.328614'), ('47.709964', '-122.328614'), ('47.589883', '-122.325969'), ('47.589883', '-122.325969'), ('47.608923', '-122.283156'), ('47.608923', '-122.283156'), ('47.608923', '-122.283156'), ('47.608923', '-122.283156'), ('47.612136', '-122.335373'), ('47.612136', '-122.335373'), ('47.617554', '-122.323446'), ('47.617554', '-122.323446'), ('47.617554', '-122.323446'), ('47.506583', '-122.270133'), ('47.506583', '-122.270133'), ('47.608854', '-122.339934'), ('47.608854', '-122.339934'), ('47.608854', '-122.339934'), ('47.609115', '-122.340282'), ('47.609115', '-122.340282'), ('47.609115', '-122.340282'), ('47.613167', '-122.342193'), ('47.613167', '-122.342193'), ('47.634743', '-122.358311'), ('47.634743', '-122.358311'), ('47.597517', '-122.327675'), ('47.597517', '-122.327675'), ('47.708663', '-122.333993'), ('47.708663', '-122.333993'), ('47.608845', '-122.339956'), ('47.608845', '-122.339956'), ('47.663125', '-122.318398'), ('47.663125', '-122.318398'), ('47.561106', '-122.386778'), ('47.561106', '-122.386778'), ('47.668677', '-122.383148'), ('47.668677', '-122.383148'), ('47.667954', '-122.376216'), ('47.667954', '-122.376216'), ('47.667954', '-122.376216'), ('47.668665', '-122.373589'), ('47.668665', '-122.373589'), ('47.667891', '-122.376216'), ('47.667891', '-122.376216'), ('47.668678', '-122.384746'), ('47.668678', '-122.384746'), ('47.668678', '-122.384746'), ('47.668766', '-122.313019'), ('47.668766', '-122.313019'), ('47.602051', '-122.307659'), ('47.602051', '-122.307659'), ('47.658964', '-122.313191'), ('47.658964', '-122.313191'), ('47.658651', '-122.347197'), ('47.658651', '-122.347197'), ('47.658651', '-122.347197'), ('47.612987', '-122.322823'), ('47.612987', '-122.322823'), ('47.659837', '-122.316617'), ('47.659837', '-122.316617'), ('47.586103', '-122.333266'), ('47.586103', '-122.333266'), ('47.610133', '-122.342037'), ('47.610133', '-122.342037'), ('47.610133', '-122.342037'), ('47.610133', '-122.342037'), ('47.633255', '-122.378853'), ('47.633255', '-122.378853'), ('47.686732', '-122.317553'), ('47.686732', '-122.317553'), ('47.600030', '-122.325052'), ('47.600030', '-122.325052'), ('47.599197', '-122.328968'), ('47.599197', '-122.328968'), ('47.573699', '-122.329991'), ('47.573699', '-122.329991'), ('47.616642', '-122.325547'), ('47.616642', '-122.325547'), ('47.574377', '-122.329059'), ('47.574377', '-122.329059'), ('47.574377', '-122.329059'), ('47.574377', '-122.329059'), ('47.654302', '-122.355486'), ('47.654302', '-122.355486'), ('47.663167', '-122.316358'), ('47.663167', '-122.316358'), ('47.605435', '-122.327711'), ('47.605435', '-122.327711'), ('47.605435', '-122.327711'), ('47.605435', '-122.327711'), ('47.605435', '-122.327711'), ('47.703140', '-122.323148'), ('47.703140', '-122.323148'), ('47.538637', '-122.320607'), ('47.538637', '-122.320607'), ('47.666585', '-122.313049'), ('47.666585', '-122.313049'), ('47.666585', '-122.313049'), ('47.573187', '-122.291975'), ('47.573187', '-122.291975'), ('47.567840', '-122.324031'), ('47.567840', '-122.324031'), ('47.659960', '-122.342217'), ('47.659960', '-122.342217'), ('47.618020', '-122.347749'), ('47.618020', '-122.347749'), ('47.611479', '-122.327097'), ('47.611479', '-122.327097'), ('47.599208', '-122.314139'), ('47.599208', '-122.314139'), ('47.666436', '-122.313051'), ('47.666436', '-122.313051'), ('47.677855', '-122.326186'), ('47.677855', '-122.326186'), ('47.677855', '-122.326186'), ('47.677855', '-122.326186'), ('47.581885', '-122.321397'), ('47.581885', '-122.321397'), ('47.579809', '-122.323505'), ('47.579809', '-122.323505'), ('47.619700', '-122.337170'), ('47.619700', '-122.337170'), ('47.600871', '-122.326354'), ('47.600871', '-122.326354'), ('47.667890', '-122.373589'), ('47.667890', '-122.373589'), ('47.698678', '-122.335050'), ('47.698678', '-122.335050'), ('47.664901', '-122.313074'), ('47.664901', '-122.313074'), ('47.664901', '-122.313074'), ('47.664901', '-122.313074'), ('47.620242', '-122.320878'), ('47.620242', '-122.320878'), ('47.6631', '-122.314238'), ('47.6631', '-122.314238'), ('47.6631', '-122.314238'), ('47.663288', '-122.314235'), ('47.663288', '-122.314235'), ('47.661444', '-122.313127'), ('47.661444', '-122.313127'), ('47.661277', '-122.314227'), ('47.661277', '-122.314227'), ('47.66147', '-122.314281'), ('47.66147', '-122.314281'), ('47.599191', '-122.325055'), ('47.599191', '-122.325055'), ('47.599191', '-122.325055'), ('47.593375', '-122.334194'), ('47.593375', '-122.334194'), ('47.593375', '-122.334194'), ('47.66973', '-122.364015'), ('47.66973', '-122.364015'), ('47.52331', '-122.272812'), ('47.52331', '-122.272812'), ('47.52331', '-122.272812'), ('47.52331', '-122.272812'), ('47.52331', '-122.272812'), ('47.52331', '-122.272812'), ('47.598352', '-122.325059'), ('47.598352', '-122.325059'), ('47.598352', '-122.325059'), ('47.603871', '-122.333951'), ('47.603871', '-122.333951'), ('47.68911', '-122.367271'), ('47.68911', '-122.367271'), ('47.536724', '-122.330122'), ('47.536724', '-122.330122'), ('47.57922', '-122.298814'), ('47.57922', '-122.298814'), ('47.625715', '-122.357024'), ('47.625715', '-122.357024'), ('47.625715', '-122.357024'), ('47.612253', '-122.323199'), ('47.612253', '-122.323199'), ('47.612253', '-122.323199'), ('47.612253', '-122.323199'), ('47.612253', '-122.323199'), ('47.612253', '-122.323199'), ('47.612253', '-122.323199'), ('47.612253', '-122.323199'), ('47.612253', '-122.323199')]\n"
          ],
          "name": "stdout"
        }
      ]
    },
    {
      "cell_type": "code",
      "metadata": {
        "id": "8TpttEqM56cA",
        "colab_type": "code",
        "outputId": "5674cad7-bec8-4b53-f564-ed89dcb668e0",
        "colab": {
          "base_uri": "https://localhost:8080/",
          "height": 394
        }
      },
      "source": [
        "#size looks good, and passes the visual inspection. Lets give these coords a\n",
        "#column\n",
        "\n",
        "sprees['start_location'] = first_location\n",
        "sprees.head()"
      ],
      "execution_count": 150,
      "outputs": [
        {
          "output_type": "execute_result",
          "data": {
            "text/html": [
              "<div>\n",
              "<style scoped>\n",
              "    .dataframe tbody tr th:only-of-type {\n",
              "        vertical-align: middle;\n",
              "    }\n",
              "\n",
              "    .dataframe tbody tr th {\n",
              "        vertical-align: top;\n",
              "    }\n",
              "\n",
              "    .dataframe thead th {\n",
              "        text-align: right;\n",
              "    }\n",
              "</style>\n",
              "<table border=\"1\" class=\"dataframe\">\n",
              "  <thead>\n",
              "    <tr style=\"text-align: right;\">\n",
              "      <th></th>\n",
              "      <th>address</th>\n",
              "      <th>type</th>\n",
              "      <th>datetime</th>\n",
              "      <th>latitude</th>\n",
              "      <th>longitude</th>\n",
              "      <th>report_location</th>\n",
              "      <th>incident_number</th>\n",
              "      <th>year</th>\n",
              "      <th>month</th>\n",
              "      <th>date_obj</th>\n",
              "      <th>calls_within_24h</th>\n",
              "      <th>start_location</th>\n",
              "    </tr>\n",
              "  </thead>\n",
              "  <tbody>\n",
              "    <tr>\n",
              "      <th>2</th>\n",
              "      <td>6TH AV / PIKE ST</td>\n",
              "      <td>Dumpster Fire</td>\n",
              "      <td>2003-11-18T09:10:42.000</td>\n",
              "      <td>47.611142</td>\n",
              "      <td>-122.334464</td>\n",
              "      <td>(47.611142, -122.334464)</td>\n",
              "      <td>F030085104</td>\n",
              "      <td>2003</td>\n",
              "      <td>11</td>\n",
              "      <td>2003-11-18 09:10:42</td>\n",
              "      <td>2</td>\n",
              "      <td>(47.611142, -122.334464)</td>\n",
              "    </tr>\n",
              "    <tr>\n",
              "      <th>3</th>\n",
              "      <td>6th Av / Pike St</td>\n",
              "      <td>Dumpster Fire</td>\n",
              "      <td>2003-11-18T09:10:57.000</td>\n",
              "      <td>47.611142</td>\n",
              "      <td>-122.334464</td>\n",
              "      <td>(47.611142, -122.334464)</td>\n",
              "      <td>F030085103</td>\n",
              "      <td>2003</td>\n",
              "      <td>11</td>\n",
              "      <td>2003-11-18 09:10:57</td>\n",
              "      <td>2</td>\n",
              "      <td>(47.611142, -122.334464)</td>\n",
              "    </tr>\n",
              "    <tr>\n",
              "      <th>4</th>\n",
              "      <td>Stone Way N / N 45th St</td>\n",
              "      <td>Dumpster Fire</td>\n",
              "      <td>2003-11-18T15:38:25.000</td>\n",
              "      <td>47.661385</td>\n",
              "      <td>-122.342145</td>\n",
              "      <td>(47.661385, -122.342145)</td>\n",
              "      <td>F030085264</td>\n",
              "      <td>2003</td>\n",
              "      <td>11</td>\n",
              "      <td>2003-11-18 15:38:25</td>\n",
              "      <td>2</td>\n",
              "      <td>(47.611142, -122.334464)</td>\n",
              "    </tr>\n",
              "    <tr>\n",
              "      <th>7</th>\n",
              "      <td>401 2nd Av S</td>\n",
              "      <td>Dumpster Fire</td>\n",
              "      <td>2003-12-02T22:09:02.000</td>\n",
              "      <td>47.599192</td>\n",
              "      <td>-122.331578</td>\n",
              "      <td>(47.599192, -122.331578)</td>\n",
              "      <td>F030090264</td>\n",
              "      <td>2003</td>\n",
              "      <td>12</td>\n",
              "      <td>2003-12-02 22:09:02</td>\n",
              "      <td>7</td>\n",
              "      <td>(47.599192, -122.331578)</td>\n",
              "    </tr>\n",
              "    <tr>\n",
              "      <th>8</th>\n",
              "      <td>133 Pontius Av N</td>\n",
              "      <td>Dumpster Fire</td>\n",
              "      <td>2003-12-03T00:31:27.000</td>\n",
              "      <td>47.618887</td>\n",
              "      <td>-122.332245</td>\n",
              "      <td>(47.618887, -122.332245)</td>\n",
              "      <td>F030090301</td>\n",
              "      <td>2003</td>\n",
              "      <td>12</td>\n",
              "      <td>2003-12-03 00:31:27</td>\n",
              "      <td>7</td>\n",
              "      <td>(47.599192, -122.331578)</td>\n",
              "    </tr>\n",
              "  </tbody>\n",
              "</table>\n",
              "</div>"
            ],
            "text/plain": [
              "                   address  ...            start_location\n",
              "2         6TH AV / PIKE ST  ...  (47.611142, -122.334464)\n",
              "3         6th Av / Pike St  ...  (47.611142, -122.334464)\n",
              "4  Stone Way N / N 45th St  ...  (47.611142, -122.334464)\n",
              "7             401 2nd Av S  ...  (47.599192, -122.331578)\n",
              "8         133 Pontius Av N  ...  (47.599192, -122.331578)\n",
              "\n",
              "[5 rows x 12 columns]"
            ]
          },
          "metadata": {
            "tags": []
          },
          "execution_count": 150
        }
      ]
    },
    {
      "cell_type": "code",
      "metadata": {
        "id": "Y9D-uUdk7SPk",
        "colab_type": "code",
        "colab": {}
      },
      "source": [
        "def dist_from_start(row):\n",
        "  return distance(row['start_location'], row['report_location']).miles"
      ],
      "execution_count": 0,
      "outputs": []
    },
    {
      "cell_type": "code",
      "metadata": {
        "id": "BrATu7HZ8Mdj",
        "colab_type": "code",
        "colab": {}
      },
      "source": [
        "sprees['distance'] = sprees.apply(dist_from_start, axis = 1)"
      ],
      "execution_count": 0,
      "outputs": []
    },
    {
      "cell_type": "code",
      "metadata": {
        "id": "96X49Szn8Txm",
        "colab_type": "code",
        "outputId": "09e8fe40-aa2f-405a-8cf3-f35373ec9c32",
        "colab": {
          "base_uri": "https://localhost:8080/",
          "height": 394
        }
      },
      "source": [
        "sprees.head()"
      ],
      "execution_count": 153,
      "outputs": [
        {
          "output_type": "execute_result",
          "data": {
            "text/html": [
              "<div>\n",
              "<style scoped>\n",
              "    .dataframe tbody tr th:only-of-type {\n",
              "        vertical-align: middle;\n",
              "    }\n",
              "\n",
              "    .dataframe tbody tr th {\n",
              "        vertical-align: top;\n",
              "    }\n",
              "\n",
              "    .dataframe thead th {\n",
              "        text-align: right;\n",
              "    }\n",
              "</style>\n",
              "<table border=\"1\" class=\"dataframe\">\n",
              "  <thead>\n",
              "    <tr style=\"text-align: right;\">\n",
              "      <th></th>\n",
              "      <th>address</th>\n",
              "      <th>type</th>\n",
              "      <th>datetime</th>\n",
              "      <th>latitude</th>\n",
              "      <th>longitude</th>\n",
              "      <th>report_location</th>\n",
              "      <th>incident_number</th>\n",
              "      <th>year</th>\n",
              "      <th>month</th>\n",
              "      <th>date_obj</th>\n",
              "      <th>calls_within_24h</th>\n",
              "      <th>start_location</th>\n",
              "      <th>distance</th>\n",
              "    </tr>\n",
              "  </thead>\n",
              "  <tbody>\n",
              "    <tr>\n",
              "      <th>2</th>\n",
              "      <td>6TH AV / PIKE ST</td>\n",
              "      <td>Dumpster Fire</td>\n",
              "      <td>2003-11-18T09:10:42.000</td>\n",
              "      <td>47.611142</td>\n",
              "      <td>-122.334464</td>\n",
              "      <td>(47.611142, -122.334464)</td>\n",
              "      <td>F030085104</td>\n",
              "      <td>2003</td>\n",
              "      <td>11</td>\n",
              "      <td>2003-11-18 09:10:42</td>\n",
              "      <td>2</td>\n",
              "      <td>(47.611142, -122.334464)</td>\n",
              "      <td>0.000000</td>\n",
              "    </tr>\n",
              "    <tr>\n",
              "      <th>3</th>\n",
              "      <td>6th Av / Pike St</td>\n",
              "      <td>Dumpster Fire</td>\n",
              "      <td>2003-11-18T09:10:57.000</td>\n",
              "      <td>47.611142</td>\n",
              "      <td>-122.334464</td>\n",
              "      <td>(47.611142, -122.334464)</td>\n",
              "      <td>F030085103</td>\n",
              "      <td>2003</td>\n",
              "      <td>11</td>\n",
              "      <td>2003-11-18 09:10:57</td>\n",
              "      <td>2</td>\n",
              "      <td>(47.611142, -122.334464)</td>\n",
              "      <td>0.000000</td>\n",
              "    </tr>\n",
              "    <tr>\n",
              "      <th>4</th>\n",
              "      <td>Stone Way N / N 45th St</td>\n",
              "      <td>Dumpster Fire</td>\n",
              "      <td>2003-11-18T15:38:25.000</td>\n",
              "      <td>47.661385</td>\n",
              "      <td>-122.342145</td>\n",
              "      <td>(47.661385, -122.342145)</td>\n",
              "      <td>F030085264</td>\n",
              "      <td>2003</td>\n",
              "      <td>11</td>\n",
              "      <td>2003-11-18 15:38:25</td>\n",
              "      <td>2</td>\n",
              "      <td>(47.611142, -122.334464)</td>\n",
              "      <td>3.489572</td>\n",
              "    </tr>\n",
              "    <tr>\n",
              "      <th>7</th>\n",
              "      <td>401 2nd Av S</td>\n",
              "      <td>Dumpster Fire</td>\n",
              "      <td>2003-12-02T22:09:02.000</td>\n",
              "      <td>47.599192</td>\n",
              "      <td>-122.331578</td>\n",
              "      <td>(47.599192, -122.331578)</td>\n",
              "      <td>F030090264</td>\n",
              "      <td>2003</td>\n",
              "      <td>12</td>\n",
              "      <td>2003-12-02 22:09:02</td>\n",
              "      <td>7</td>\n",
              "      <td>(47.599192, -122.331578)</td>\n",
              "      <td>0.000000</td>\n",
              "    </tr>\n",
              "    <tr>\n",
              "      <th>8</th>\n",
              "      <td>133 Pontius Av N</td>\n",
              "      <td>Dumpster Fire</td>\n",
              "      <td>2003-12-03T00:31:27.000</td>\n",
              "      <td>47.618887</td>\n",
              "      <td>-122.332245</td>\n",
              "      <td>(47.618887, -122.332245)</td>\n",
              "      <td>F030090301</td>\n",
              "      <td>2003</td>\n",
              "      <td>12</td>\n",
              "      <td>2003-12-03 00:31:27</td>\n",
              "      <td>7</td>\n",
              "      <td>(47.599192, -122.331578)</td>\n",
              "      <td>1.361000</td>\n",
              "    </tr>\n",
              "  </tbody>\n",
              "</table>\n",
              "</div>"
            ],
            "text/plain": [
              "                   address           type  ...            start_location  distance\n",
              "2         6TH AV / PIKE ST  Dumpster Fire  ...  (47.611142, -122.334464)  0.000000\n",
              "3         6th Av / Pike St  Dumpster Fire  ...  (47.611142, -122.334464)  0.000000\n",
              "4  Stone Way N / N 45th St  Dumpster Fire  ...  (47.611142, -122.334464)  3.489572\n",
              "7             401 2nd Av S  Dumpster Fire  ...  (47.599192, -122.331578)  0.000000\n",
              "8         133 Pontius Av N  Dumpster Fire  ...  (47.599192, -122.331578)  1.361000\n",
              "\n",
              "[5 rows x 13 columns]"
            ]
          },
          "metadata": {
            "tags": []
          },
          "execution_count": 153
        }
      ]
    },
    {
      "cell_type": "markdown",
      "metadata": {
        "id": "YueNKumZB9WP",
        "colab_type": "text"
      },
      "source": [
        "##Visualization 2"
      ]
    },
    {
      "cell_type": "code",
      "metadata": {
        "id": "UBI3VnQs9K8T",
        "colab_type": "code",
        "colab": {}
      },
      "source": [
        "#now lets filter out only the calls that are less than a mile apart\n",
        "#as per our new definition.\n",
        "\n",
        "less_than_mile = sprees[sprees['distance'] <= 1]"
      ],
      "execution_count": 0,
      "outputs": []
    },
    {
      "cell_type": "code",
      "metadata": {
        "id": "aXpe2JXx9W9J",
        "colab_type": "code",
        "outputId": "d0c0f507-5921-4d89-b262-868e9adbbacb",
        "colab": {
          "base_uri": "https://localhost:8080/",
          "height": 411
        }
      },
      "source": [
        "print(less_than_mile.shape)\n",
        "less_than_mile.head()"
      ],
      "execution_count": 155,
      "outputs": [
        {
          "output_type": "stream",
          "text": [
            "(487, 13)\n"
          ],
          "name": "stdout"
        },
        {
          "output_type": "execute_result",
          "data": {
            "text/html": [
              "<div>\n",
              "<style scoped>\n",
              "    .dataframe tbody tr th:only-of-type {\n",
              "        vertical-align: middle;\n",
              "    }\n",
              "\n",
              "    .dataframe tbody tr th {\n",
              "        vertical-align: top;\n",
              "    }\n",
              "\n",
              "    .dataframe thead th {\n",
              "        text-align: right;\n",
              "    }\n",
              "</style>\n",
              "<table border=\"1\" class=\"dataframe\">\n",
              "  <thead>\n",
              "    <tr style=\"text-align: right;\">\n",
              "      <th></th>\n",
              "      <th>address</th>\n",
              "      <th>type</th>\n",
              "      <th>datetime</th>\n",
              "      <th>latitude</th>\n",
              "      <th>longitude</th>\n",
              "      <th>report_location</th>\n",
              "      <th>incident_number</th>\n",
              "      <th>year</th>\n",
              "      <th>month</th>\n",
              "      <th>date_obj</th>\n",
              "      <th>calls_within_24h</th>\n",
              "      <th>start_location</th>\n",
              "      <th>distance</th>\n",
              "    </tr>\n",
              "  </thead>\n",
              "  <tbody>\n",
              "    <tr>\n",
              "      <th>2</th>\n",
              "      <td>6TH AV / PIKE ST</td>\n",
              "      <td>Dumpster Fire</td>\n",
              "      <td>2003-11-18T09:10:42.000</td>\n",
              "      <td>47.611142</td>\n",
              "      <td>-122.334464</td>\n",
              "      <td>(47.611142, -122.334464)</td>\n",
              "      <td>F030085104</td>\n",
              "      <td>2003</td>\n",
              "      <td>11</td>\n",
              "      <td>2003-11-18 09:10:42</td>\n",
              "      <td>2</td>\n",
              "      <td>(47.611142, -122.334464)</td>\n",
              "      <td>0.0</td>\n",
              "    </tr>\n",
              "    <tr>\n",
              "      <th>3</th>\n",
              "      <td>6th Av / Pike St</td>\n",
              "      <td>Dumpster Fire</td>\n",
              "      <td>2003-11-18T09:10:57.000</td>\n",
              "      <td>47.611142</td>\n",
              "      <td>-122.334464</td>\n",
              "      <td>(47.611142, -122.334464)</td>\n",
              "      <td>F030085103</td>\n",
              "      <td>2003</td>\n",
              "      <td>11</td>\n",
              "      <td>2003-11-18 09:10:57</td>\n",
              "      <td>2</td>\n",
              "      <td>(47.611142, -122.334464)</td>\n",
              "      <td>0.0</td>\n",
              "    </tr>\n",
              "    <tr>\n",
              "      <th>7</th>\n",
              "      <td>401 2nd Av S</td>\n",
              "      <td>Dumpster Fire</td>\n",
              "      <td>2003-12-02T22:09:02.000</td>\n",
              "      <td>47.599192</td>\n",
              "      <td>-122.331578</td>\n",
              "      <td>(47.599192, -122.331578)</td>\n",
              "      <td>F030090264</td>\n",
              "      <td>2003</td>\n",
              "      <td>12</td>\n",
              "      <td>2003-12-02 22:09:02</td>\n",
              "      <td>7</td>\n",
              "      <td>(47.599192, -122.331578)</td>\n",
              "      <td>0.0</td>\n",
              "    </tr>\n",
              "    <tr>\n",
              "      <th>10</th>\n",
              "      <td>23rd Av / E Cherry St</td>\n",
              "      <td>Dumpster Fire</td>\n",
              "      <td>2003-12-08T20:41:15.000</td>\n",
              "      <td>47.608009</td>\n",
              "      <td>-122.302770</td>\n",
              "      <td>(47.608009, -122.302770)</td>\n",
              "      <td>F030092604</td>\n",
              "      <td>2003</td>\n",
              "      <td>12</td>\n",
              "      <td>2003-12-08 20:41:15</td>\n",
              "      <td>10</td>\n",
              "      <td>(47.608009, -122.302770)</td>\n",
              "      <td>0.0</td>\n",
              "    </tr>\n",
              "    <tr>\n",
              "      <th>13</th>\n",
              "      <td>20th Av Nw / Nw 65th St</td>\n",
              "      <td>Dumpster Fire</td>\n",
              "      <td>2003-12-09T23:11:28.000</td>\n",
              "      <td>47.675985</td>\n",
              "      <td>-122.382128</td>\n",
              "      <td>(47.675985, -122.382128)</td>\n",
              "      <td>F030092968</td>\n",
              "      <td>2003</td>\n",
              "      <td>12</td>\n",
              "      <td>2003-12-09 23:11:28</td>\n",
              "      <td>13</td>\n",
              "      <td>(47.675985, -122.382128)</td>\n",
              "      <td>0.0</td>\n",
              "    </tr>\n",
              "  </tbody>\n",
              "</table>\n",
              "</div>"
            ],
            "text/plain": [
              "                    address           type  ...            start_location distance\n",
              "2          6TH AV / PIKE ST  Dumpster Fire  ...  (47.611142, -122.334464)      0.0\n",
              "3          6th Av / Pike St  Dumpster Fire  ...  (47.611142, -122.334464)      0.0\n",
              "7              401 2nd Av S  Dumpster Fire  ...  (47.599192, -122.331578)      0.0\n",
              "10    23rd Av / E Cherry St  Dumpster Fire  ...  (47.608009, -122.302770)      0.0\n",
              "13  20th Av Nw / Nw 65th St  Dumpster Fire  ...  (47.675985, -122.382128)      0.0\n",
              "\n",
              "[5 rows x 13 columns]"
            ]
          },
          "metadata": {
            "tags": []
          },
          "execution_count": 155
        }
      ]
    },
    {
      "cell_type": "code",
      "metadata": {
        "id": "5V7L9ODG-WEL",
        "colab_type": "code",
        "outputId": "b576226d-5e23-40d6-b057-6fa319b772e3",
        "colab": {
          "base_uri": "https://localhost:8080/",
          "height": 136
        }
      },
      "source": [
        "less_than_mile['calls_within_24h'].value_counts().value_counts()"
      ],
      "execution_count": 156,
      "outputs": [
        {
          "output_type": "execute_result",
          "data": {
            "text/plain": [
              "1    249\n",
              "2     87\n",
              "3     14\n",
              "4      2\n",
              "9      1\n",
              "5      1\n",
              "Name: calls_within_24h, dtype: int64"
            ]
          },
          "metadata": {
            "tags": []
          },
          "execution_count": 156
        }
      ]
    },
    {
      "cell_type": "code",
      "metadata": {
        "id": "nZPFy0ou_EtO",
        "colab_type": "code",
        "outputId": "763eea7d-7676-42f8-9038-165bf9aac3c1",
        "colab": {
          "base_uri": "https://localhost:8080/",
          "height": 204
        }
      },
      "source": [
        "#okay I think I'm interpreting this right.  But basically if there is only 1\n",
        "#value, that means its pair was dropped for being greater than a mile off.\n",
        "#which means we can ignore it for determing what sprees happened within a mile\n",
        "#radius.  Wow this is awesome.\n",
        "\n",
        "final_sprees = pd.DataFrame(less_than_mile['calls_within_24h'].value_counts().value_counts())\n",
        "final_sprees.head()"
      ],
      "execution_count": 157,
      "outputs": [
        {
          "output_type": "execute_result",
          "data": {
            "text/html": [
              "<div>\n",
              "<style scoped>\n",
              "    .dataframe tbody tr th:only-of-type {\n",
              "        vertical-align: middle;\n",
              "    }\n",
              "\n",
              "    .dataframe tbody tr th {\n",
              "        vertical-align: top;\n",
              "    }\n",
              "\n",
              "    .dataframe thead th {\n",
              "        text-align: right;\n",
              "    }\n",
              "</style>\n",
              "<table border=\"1\" class=\"dataframe\">\n",
              "  <thead>\n",
              "    <tr style=\"text-align: right;\">\n",
              "      <th></th>\n",
              "      <th>calls_within_24h</th>\n",
              "    </tr>\n",
              "  </thead>\n",
              "  <tbody>\n",
              "    <tr>\n",
              "      <th>1</th>\n",
              "      <td>249</td>\n",
              "    </tr>\n",
              "    <tr>\n",
              "      <th>2</th>\n",
              "      <td>87</td>\n",
              "    </tr>\n",
              "    <tr>\n",
              "      <th>3</th>\n",
              "      <td>14</td>\n",
              "    </tr>\n",
              "    <tr>\n",
              "      <th>4</th>\n",
              "      <td>2</td>\n",
              "    </tr>\n",
              "    <tr>\n",
              "      <th>9</th>\n",
              "      <td>1</td>\n",
              "    </tr>\n",
              "  </tbody>\n",
              "</table>\n",
              "</div>"
            ],
            "text/plain": [
              "   calls_within_24h\n",
              "1               249\n",
              "2                87\n",
              "3                14\n",
              "4                 2\n",
              "9                 1"
            ]
          },
          "metadata": {
            "tags": []
          },
          "execution_count": 157
        }
      ]
    },
    {
      "cell_type": "code",
      "metadata": {
        "id": "_iGZRctyBOGd",
        "colab_type": "code",
        "colab": {}
      },
      "source": [
        "final_sprees.drop(index = 1, axis = 1, inplace = True)"
      ],
      "execution_count": 0,
      "outputs": []
    },
    {
      "cell_type": "code",
      "metadata": {
        "id": "I8FNAu_FBXs3",
        "colab_type": "code",
        "colab": {}
      },
      "source": [
        "final_sprees.reset_index(inplace = True)"
      ],
      "execution_count": 0,
      "outputs": []
    },
    {
      "cell_type": "code",
      "metadata": {
        "id": "pWYhsXwfBp74",
        "colab_type": "code",
        "colab": {}
      },
      "source": [
        "#lets get some nice column names for Plotly\n",
        "final_sprees.rename(columns = {'index': 'Number of calls within 24 hours', 'calls_within_24h': 'Occured within a mile'}, inplace = True)"
      ],
      "execution_count": 0,
      "outputs": []
    },
    {
      "cell_type": "code",
      "metadata": {
        "id": "-6ED0ctR_6b6",
        "colab_type": "code",
        "outputId": "757b1b17-a415-4cab-dd1a-156f8ab9d1e1",
        "colab": {
          "base_uri": "https://localhost:8080/",
          "height": 119
        }
      },
      "source": [
        "#lets knock out a percentage of total for this one as well.\n",
        "final_sprees['raw_percentage'] = final_sprees['Occured within a mile'] * final_sprees['Number of calls within 24 hours']\n",
        "final_sprees['raw_percentage'] = final_sprees['raw_percentage'].apply(lambda x: round((x * 100) / dumpster.shape[0], 2))\n",
        "final_sprees['Percentage'] = final_sprees['raw_percentage'].apply(lambda x: str(x) + '%')\n",
        "final_sprees['Percentage']"
      ],
      "execution_count": 161,
      "outputs": [
        {
          "output_type": "execute_result",
          "data": {
            "text/plain": [
              "0    10.37%\n",
              "1      2.5%\n",
              "2     0.48%\n",
              "3     0.54%\n",
              "4      0.3%\n",
              "Name: Percentage, dtype: object"
            ]
          },
          "metadata": {
            "tags": []
          },
          "execution_count": 161
        }
      ]
    },
    {
      "cell_type": "code",
      "metadata": {
        "id": "kL-BTq8GNOfw",
        "colab_type": "code",
        "outputId": "339b6a95-17e3-4f89-d124-eaad02645deb",
        "colab": {
          "base_uri": "https://localhost:8080/",
          "height": 119
        }
      },
      "source": [
        "final_sprees['raw_percentage']"
      ],
      "execution_count": 162,
      "outputs": [
        {
          "output_type": "execute_result",
          "data": {
            "text/plain": [
              "0    10.37\n",
              "1     2.50\n",
              "2     0.48\n",
              "3     0.54\n",
              "4     0.30\n",
              "Name: raw_percentage, dtype: float64"
            ]
          },
          "metadata": {
            "tags": []
          },
          "execution_count": 162
        }
      ]
    },
    {
      "cell_type": "code",
      "metadata": {
        "id": "HkrevfrEBrmn",
        "colab_type": "code",
        "outputId": "fb9ef36c-3ea7-44ce-d3cb-968a6f3b6f1b",
        "colab": {
          "base_uri": "https://localhost:8080/",
          "height": 542
        }
      },
      "source": [
        "#aaayyyyyy looking good. I think we will call it quits here for this project.\n",
        "fig = px.bar(final_sprees, x = 'Number of calls within 24 hours', \n",
        "             y = 'Occured within a mile', text = 'Percentage',\n",
        "             title = 'Dumpster Fires Reported to 911',\n",
        "             color_discrete_sequence = colors)\n",
        "fig.update_xaxes(tickmode = 'linear')\n",
        "fig.show()"
      ],
      "execution_count": 172,
      "outputs": [
        {
          "output_type": "display_data",
          "data": {
            "text/html": [
              "<html>\n",
              "<head><meta charset=\"utf-8\" /></head>\n",
              "<body>\n",
              "    <div>\n",
              "            <script src=\"https://cdnjs.cloudflare.com/ajax/libs/mathjax/2.7.5/MathJax.js?config=TeX-AMS-MML_SVG\"></script><script type=\"text/javascript\">if (window.MathJax) {MathJax.Hub.Config({SVG: {font: \"STIX-Web\"}});}</script>\n",
              "                <script type=\"text/javascript\">window.PlotlyConfig = {MathJaxConfig: 'local'};</script>\n",
              "        <script src=\"https://cdn.plot.ly/plotly-latest.min.js\"></script>    \n",
              "            <div id=\"87a9fa04-1082-45bd-b7e5-dba4c73fd700\" class=\"plotly-graph-div\" style=\"height:525px; width:100%;\"></div>\n",
              "            <script type=\"text/javascript\">\n",
              "                \n",
              "                    window.PLOTLYENV=window.PLOTLYENV || {};\n",
              "                    \n",
              "                if (document.getElementById(\"87a9fa04-1082-45bd-b7e5-dba4c73fd700\")) {\n",
              "                    Plotly.newPlot(\n",
              "                        '87a9fa04-1082-45bd-b7e5-dba4c73fd700',\n",
              "                        [{\"alignmentgroup\": \"True\", \"hoverlabel\": {\"namelength\": 0}, \"hovertemplate\": \"Number of calls within 24 hours=%{x}<br>Occured within a mile=%{y}<br>Percentage=%{text}\", \"legendgroup\": \"\", \"marker\": {\"color\": \"#7a0000\"}, \"name\": \"\", \"offsetgroup\": \"\", \"orientation\": \"v\", \"showlegend\": false, \"text\": [\"10.37%\", \"2.5%\", \"0.48%\", \"0.54%\", \"0.3%\"], \"textposition\": \"auto\", \"type\": \"bar\", \"x\": [2, 3, 4, 9, 5], \"xaxis\": \"x\", \"y\": [87, 14, 2, 1, 1], \"yaxis\": \"y\"}],\n",
              "                        {\"barmode\": \"relative\", \"legend\": {\"tracegroupgap\": 0}, \"template\": {\"data\": {\"bar\": [{\"error_x\": {\"color\": \"#2a3f5f\"}, \"error_y\": {\"color\": \"#2a3f5f\"}, \"marker\": {\"line\": {\"color\": \"#E5ECF6\", \"width\": 0.5}}, \"type\": \"bar\"}], \"barpolar\": [{\"marker\": {\"line\": {\"color\": \"#E5ECF6\", \"width\": 0.5}}, \"type\": \"barpolar\"}], \"carpet\": [{\"aaxis\": {\"endlinecolor\": \"#2a3f5f\", \"gridcolor\": \"white\", \"linecolor\": \"white\", \"minorgridcolor\": \"white\", \"startlinecolor\": \"#2a3f5f\"}, \"baxis\": {\"endlinecolor\": \"#2a3f5f\", \"gridcolor\": \"white\", \"linecolor\": \"white\", \"minorgridcolor\": \"white\", \"startlinecolor\": \"#2a3f5f\"}, \"type\": \"carpet\"}], \"choropleth\": [{\"colorbar\": {\"outlinewidth\": 0, \"ticks\": \"\"}, \"type\": \"choropleth\"}], \"contour\": [{\"colorbar\": {\"outlinewidth\": 0, \"ticks\": \"\"}, \"colorscale\": [[0.0, \"#0d0887\"], [0.1111111111111111, \"#46039f\"], [0.2222222222222222, \"#7201a8\"], [0.3333333333333333, \"#9c179e\"], [0.4444444444444444, \"#bd3786\"], [0.5555555555555556, \"#d8576b\"], [0.6666666666666666, \"#ed7953\"], [0.7777777777777778, \"#fb9f3a\"], [0.8888888888888888, \"#fdca26\"], [1.0, \"#f0f921\"]], \"type\": \"contour\"}], \"contourcarpet\": [{\"colorbar\": {\"outlinewidth\": 0, \"ticks\": \"\"}, \"type\": \"contourcarpet\"}], \"heatmap\": [{\"colorbar\": {\"outlinewidth\": 0, \"ticks\": \"\"}, \"colorscale\": [[0.0, \"#0d0887\"], [0.1111111111111111, \"#46039f\"], [0.2222222222222222, \"#7201a8\"], [0.3333333333333333, \"#9c179e\"], [0.4444444444444444, \"#bd3786\"], [0.5555555555555556, \"#d8576b\"], [0.6666666666666666, \"#ed7953\"], [0.7777777777777778, \"#fb9f3a\"], [0.8888888888888888, \"#fdca26\"], [1.0, \"#f0f921\"]], \"type\": \"heatmap\"}], \"heatmapgl\": [{\"colorbar\": {\"outlinewidth\": 0, \"ticks\": \"\"}, \"colorscale\": [[0.0, \"#0d0887\"], [0.1111111111111111, \"#46039f\"], [0.2222222222222222, \"#7201a8\"], [0.3333333333333333, \"#9c179e\"], [0.4444444444444444, \"#bd3786\"], [0.5555555555555556, \"#d8576b\"], [0.6666666666666666, \"#ed7953\"], [0.7777777777777778, \"#fb9f3a\"], [0.8888888888888888, \"#fdca26\"], [1.0, \"#f0f921\"]], \"type\": \"heatmapgl\"}], \"histogram\": [{\"marker\": {\"colorbar\": {\"outlinewidth\": 0, \"ticks\": \"\"}}, \"type\": \"histogram\"}], \"histogram2d\": [{\"colorbar\": {\"outlinewidth\": 0, \"ticks\": \"\"}, \"colorscale\": [[0.0, \"#0d0887\"], [0.1111111111111111, \"#46039f\"], [0.2222222222222222, \"#7201a8\"], [0.3333333333333333, \"#9c179e\"], [0.4444444444444444, \"#bd3786\"], [0.5555555555555556, \"#d8576b\"], [0.6666666666666666, \"#ed7953\"], [0.7777777777777778, \"#fb9f3a\"], [0.8888888888888888, \"#fdca26\"], [1.0, \"#f0f921\"]], \"type\": \"histogram2d\"}], \"histogram2dcontour\": [{\"colorbar\": {\"outlinewidth\": 0, \"ticks\": \"\"}, \"colorscale\": [[0.0, \"#0d0887\"], [0.1111111111111111, \"#46039f\"], [0.2222222222222222, \"#7201a8\"], [0.3333333333333333, \"#9c179e\"], [0.4444444444444444, \"#bd3786\"], [0.5555555555555556, \"#d8576b\"], [0.6666666666666666, \"#ed7953\"], [0.7777777777777778, \"#fb9f3a\"], [0.8888888888888888, \"#fdca26\"], [1.0, \"#f0f921\"]], \"type\": \"histogram2dcontour\"}], \"mesh3d\": [{\"colorbar\": {\"outlinewidth\": 0, \"ticks\": \"\"}, \"type\": \"mesh3d\"}], \"parcoords\": [{\"line\": {\"colorbar\": {\"outlinewidth\": 0, \"ticks\": \"\"}}, \"type\": \"parcoords\"}], \"pie\": [{\"automargin\": true, \"type\": \"pie\"}], \"scatter\": [{\"marker\": {\"colorbar\": {\"outlinewidth\": 0, \"ticks\": \"\"}}, \"type\": \"scatter\"}], \"scatter3d\": [{\"line\": {\"colorbar\": {\"outlinewidth\": 0, \"ticks\": \"\"}}, \"marker\": {\"colorbar\": {\"outlinewidth\": 0, \"ticks\": \"\"}}, \"type\": \"scatter3d\"}], \"scattercarpet\": [{\"marker\": {\"colorbar\": {\"outlinewidth\": 0, \"ticks\": \"\"}}, \"type\": \"scattercarpet\"}], \"scattergeo\": [{\"marker\": {\"colorbar\": {\"outlinewidth\": 0, \"ticks\": \"\"}}, \"type\": \"scattergeo\"}], \"scattergl\": [{\"marker\": {\"colorbar\": {\"outlinewidth\": 0, \"ticks\": \"\"}}, \"type\": \"scattergl\"}], \"scattermapbox\": [{\"marker\": {\"colorbar\": {\"outlinewidth\": 0, \"ticks\": \"\"}}, \"type\": \"scattermapbox\"}], \"scatterpolar\": [{\"marker\": {\"colorbar\": {\"outlinewidth\": 0, \"ticks\": \"\"}}, \"type\": \"scatterpolar\"}], \"scatterpolargl\": [{\"marker\": {\"colorbar\": {\"outlinewidth\": 0, \"ticks\": \"\"}}, \"type\": \"scatterpolargl\"}], \"scatterternary\": [{\"marker\": {\"colorbar\": {\"outlinewidth\": 0, \"ticks\": \"\"}}, \"type\": \"scatterternary\"}], \"surface\": [{\"colorbar\": {\"outlinewidth\": 0, \"ticks\": \"\"}, \"colorscale\": [[0.0, \"#0d0887\"], [0.1111111111111111, \"#46039f\"], [0.2222222222222222, \"#7201a8\"], [0.3333333333333333, \"#9c179e\"], [0.4444444444444444, \"#bd3786\"], [0.5555555555555556, \"#d8576b\"], [0.6666666666666666, \"#ed7953\"], [0.7777777777777778, \"#fb9f3a\"], [0.8888888888888888, \"#fdca26\"], [1.0, \"#f0f921\"]], \"type\": \"surface\"}], \"table\": [{\"cells\": {\"fill\": {\"color\": \"#EBF0F8\"}, \"line\": {\"color\": \"white\"}}, \"header\": {\"fill\": {\"color\": \"#C8D4E3\"}, \"line\": {\"color\": \"white\"}}, \"type\": \"table\"}]}, \"layout\": {\"annotationdefaults\": {\"arrowcolor\": \"#2a3f5f\", \"arrowhead\": 0, \"arrowwidth\": 1}, \"coloraxis\": {\"colorbar\": {\"outlinewidth\": 0, \"ticks\": \"\"}}, \"colorscale\": {\"diverging\": [[0, \"#8e0152\"], [0.1, \"#c51b7d\"], [0.2, \"#de77ae\"], [0.3, \"#f1b6da\"], [0.4, \"#fde0ef\"], [0.5, \"#f7f7f7\"], [0.6, \"#e6f5d0\"], [0.7, \"#b8e186\"], [0.8, \"#7fbc41\"], [0.9, \"#4d9221\"], [1, \"#276419\"]], \"sequential\": [[0.0, \"#0d0887\"], [0.1111111111111111, \"#46039f\"], [0.2222222222222222, \"#7201a8\"], [0.3333333333333333, \"#9c179e\"], [0.4444444444444444, \"#bd3786\"], [0.5555555555555556, \"#d8576b\"], [0.6666666666666666, \"#ed7953\"], [0.7777777777777778, \"#fb9f3a\"], [0.8888888888888888, \"#fdca26\"], [1.0, \"#f0f921\"]], \"sequentialminus\": [[0.0, \"#0d0887\"], [0.1111111111111111, \"#46039f\"], [0.2222222222222222, \"#7201a8\"], [0.3333333333333333, \"#9c179e\"], [0.4444444444444444, \"#bd3786\"], [0.5555555555555556, \"#d8576b\"], [0.6666666666666666, \"#ed7953\"], [0.7777777777777778, \"#fb9f3a\"], [0.8888888888888888, \"#fdca26\"], [1.0, \"#f0f921\"]]}, \"colorway\": [\"#636efa\", \"#EF553B\", \"#00cc96\", \"#ab63fa\", \"#FFA15A\", \"#19d3f3\", \"#FF6692\", \"#B6E880\", \"#FF97FF\", \"#FECB52\"], \"font\": {\"color\": \"#2a3f5f\"}, \"geo\": {\"bgcolor\": \"white\", \"lakecolor\": \"white\", \"landcolor\": \"#E5ECF6\", \"showlakes\": true, \"showland\": true, \"subunitcolor\": \"white\"}, \"hoverlabel\": {\"align\": \"left\"}, \"hovermode\": \"closest\", \"mapbox\": {\"style\": \"light\"}, \"paper_bgcolor\": \"white\", \"plot_bgcolor\": \"#E5ECF6\", \"polar\": {\"angularaxis\": {\"gridcolor\": \"white\", \"linecolor\": \"white\", \"ticks\": \"\"}, \"bgcolor\": \"#E5ECF6\", \"radialaxis\": {\"gridcolor\": \"white\", \"linecolor\": \"white\", \"ticks\": \"\"}}, \"scene\": {\"xaxis\": {\"backgroundcolor\": \"#E5ECF6\", \"gridcolor\": \"white\", \"gridwidth\": 2, \"linecolor\": \"white\", \"showbackground\": true, \"ticks\": \"\", \"zerolinecolor\": \"white\"}, \"yaxis\": {\"backgroundcolor\": \"#E5ECF6\", \"gridcolor\": \"white\", \"gridwidth\": 2, \"linecolor\": \"white\", \"showbackground\": true, \"ticks\": \"\", \"zerolinecolor\": \"white\"}, \"zaxis\": {\"backgroundcolor\": \"#E5ECF6\", \"gridcolor\": \"white\", \"gridwidth\": 2, \"linecolor\": \"white\", \"showbackground\": true, \"ticks\": \"\", \"zerolinecolor\": \"white\"}}, \"shapedefaults\": {\"line\": {\"color\": \"#2a3f5f\"}}, \"ternary\": {\"aaxis\": {\"gridcolor\": \"white\", \"linecolor\": \"white\", \"ticks\": \"\"}, \"baxis\": {\"gridcolor\": \"white\", \"linecolor\": \"white\", \"ticks\": \"\"}, \"bgcolor\": \"#E5ECF6\", \"caxis\": {\"gridcolor\": \"white\", \"linecolor\": \"white\", \"ticks\": \"\"}}, \"title\": {\"x\": 0.05}, \"xaxis\": {\"automargin\": true, \"gridcolor\": \"white\", \"linecolor\": \"white\", \"ticks\": \"\", \"title\": {\"standoff\": 15}, \"zerolinecolor\": \"white\", \"zerolinewidth\": 2}, \"yaxis\": {\"automargin\": true, \"gridcolor\": \"white\", \"linecolor\": \"white\", \"ticks\": \"\", \"title\": {\"standoff\": 15}, \"zerolinecolor\": \"white\", \"zerolinewidth\": 2}}}, \"title\": {\"text\": \"Dumpster Fires Reported to 911\"}, \"xaxis\": {\"anchor\": \"y\", \"domain\": [0.0, 1.0], \"tickmode\": \"linear\", \"title\": {\"text\": \"Number of calls within 24 hours\"}}, \"yaxis\": {\"anchor\": \"x\", \"domain\": [0.0, 1.0], \"title\": {\"text\": \"Occured within a mile\"}}},\n",
              "                        {\"responsive\": true}\n",
              "                    ).then(function(){\n",
              "                            \n",
              "var gd = document.getElementById('87a9fa04-1082-45bd-b7e5-dba4c73fd700');\n",
              "var x = new MutationObserver(function (mutations, observer) {{\n",
              "        var display = window.getComputedStyle(gd).display;\n",
              "        if (!display || display === 'none') {{\n",
              "            console.log([gd, 'removed!']);\n",
              "            Plotly.purge(gd);\n",
              "            observer.disconnect();\n",
              "        }}\n",
              "}});\n",
              "\n",
              "// Listen for the removal of the full notebook cells\n",
              "var notebookContainer = gd.closest('#notebook-container');\n",
              "if (notebookContainer) {{\n",
              "    x.observe(notebookContainer, {childList: true});\n",
              "}}\n",
              "\n",
              "// Listen for the clearing of the current output cell\n",
              "var outputEl = gd.closest('.output');\n",
              "if (outputEl) {{\n",
              "    x.observe(outputEl, {childList: true});\n",
              "}}\n",
              "\n",
              "                        })\n",
              "                };\n",
              "                \n",
              "            </script>\n",
              "        </div>\n",
              "</body>\n",
              "</html>"
            ]
          },
          "metadata": {
            "tags": []
          }
        }
      ]
    },
    {
      "cell_type": "markdown",
      "metadata": {
        "id": "EfbwovLICRgz",
        "colab_type": "text"
      },
      "source": [
        "###Further Analysis\n",
        "I planned to score each of these rows as well,\n",
        "and run some ttests to really sink home some of my findings, but ultimately ran out of time.  Keeping these here, incase I decide to come back to this project after turn in."
      ]
    },
    {
      "cell_type": "code",
      "metadata": {
        "id": "gpoIyGCkCZrd",
        "colab_type": "code",
        "outputId": "7141c3de-8687-4438-a7ce-555c6711c1c6",
        "colab": {
          "base_uri": "https://localhost:8080/",
          "height": 221
        }
      },
      "source": [
        "#okay I want to score these \n",
        "dumpster['calls_within_24h'].value_counts()"
      ],
      "execution_count": 164,
      "outputs": [
        {
          "output_type": "execute_result",
          "data": {
            "text/plain": [
              "0       849\n",
              "1666      9\n",
              "579       8\n",
              "188       7\n",
              "1621      6\n",
              "       ... \n",
              "1065      2\n",
              "1067      2\n",
              "1070      2\n",
              "1075      2\n",
              "872       2\n",
              "Name: calls_within_24h, Length: 355, dtype: int64"
            ]
          },
          "metadata": {
            "tags": []
          },
          "execution_count": 164
        }
      ]
    },
    {
      "cell_type": "code",
      "metadata": {
        "id": "OH9y2hKYI6qE",
        "colab_type": "code",
        "colab": {}
      },
      "source": [
        "#pandas replace function can take a dictionary.  So I'm going to just make a\n",
        "#dictionary to turn out valls_within_24h column into a score for me to get a\n",
        "#better illustration of what is typical\n",
        "\n",
        "dictionary = {}\n",
        "\n",
        "for value in dumpster['calls_within_24h'].value_counts().index:\n",
        "  dictionary[value] = dumpster['calls_within_24h'].value_counts().loc[value]\n",
        " "
      ],
      "execution_count": 0,
      "outputs": []
    },
    {
      "cell_type": "code",
      "metadata": {
        "id": "Pd-yG6g2P5wk",
        "colab_type": "code",
        "outputId": "702403f6-13e8-46fe-bf3d-652ff916896b",
        "colab": {
          "base_uri": "https://localhost:8080/",
          "height": 34
        }
      },
      "source": [
        "#okay same length as our value_counts series.  I feel confident this worked\n",
        "len(dictionary)"
      ],
      "execution_count": 166,
      "outputs": [
        {
          "output_type": "execute_result",
          "data": {
            "text/plain": [
              "355"
            ]
          },
          "metadata": {
            "tags": []
          },
          "execution_count": 166
        }
      ]
    },
    {
      "cell_type": "code",
      "metadata": {
        "id": "9bTOtm-NRWkm",
        "colab_type": "code",
        "outputId": "42cb26fb-843b-4b36-9b12-fbed0f3b77d2",
        "colab": {
          "base_uri": "https://localhost:8080/",
          "height": 204
        }
      },
      "source": [
        "#alright sum and value_counts look good.  Other than 849, it looks like I scored\n",
        "#my dataframe correctly.  So I'm going to adjust the 849 value to 1, see the\n",
        "#justifcation above.\n",
        "dumpster['score'] = dumpster['calls_within_24h'].replace(dictionary)\n",
        "print(dumpster['score'].value_counts().sum())\n",
        "dumpster['score'].value_counts()"
      ],
      "execution_count": 167,
      "outputs": [
        {
          "output_type": "stream",
          "text": [
            "1678\n"
          ],
          "name": "stdout"
        },
        {
          "output_type": "execute_result",
          "data": {
            "text/plain": [
              "849    849\n",
              "2      546\n",
              "3      171\n",
              "4       72\n",
              "5       10\n",
              "9        9\n",
              "8        8\n",
              "7        7\n",
              "6        6\n",
              "Name: score, dtype: int64"
            ]
          },
          "metadata": {
            "tags": []
          },
          "execution_count": 167
        }
      ]
    },
    {
      "cell_type": "code",
      "metadata": {
        "id": "6K8anK3iWZI4",
        "colab_type": "code",
        "outputId": "fa8b38e5-a20a-4424-9ccb-e15bfebefb68",
        "colab": {
          "base_uri": "https://localhost:8080/",
          "height": 187
        }
      },
      "source": [
        "dumpster['score'].replace(849, 1, inplace = True)\n",
        "dumpster['score'].value_counts()"
      ],
      "execution_count": 168,
      "outputs": [
        {
          "output_type": "execute_result",
          "data": {
            "text/plain": [
              "1    849\n",
              "2    546\n",
              "3    171\n",
              "4     72\n",
              "5     10\n",
              "9      9\n",
              "8      8\n",
              "7      7\n",
              "6      6\n",
              "Name: score, dtype: int64"
            ]
          },
          "metadata": {
            "tags": []
          },
          "execution_count": 168
        }
      ]
    },
    {
      "cell_type": "code",
      "metadata": {
        "id": "MTIDwOf6ia2y",
        "colab_type": "code",
        "outputId": "1921a0d7-f10d-49dd-a830-65ead53c7cf0",
        "colab": {
          "base_uri": "https://localhost:8080/",
          "height": 170
        }
      },
      "source": [
        "#going to have to stop analysis here for time.\n",
        "dumpster['score'].describe()"
      ],
      "execution_count": 169,
      "outputs": [
        {
          "output_type": "execute_result",
          "data": {
            "text/plain": [
              "count    1678.000000\n",
              "mean        1.800954\n",
              "std         1.179106\n",
              "min         1.000000\n",
              "25%         1.000000\n",
              "50%         1.000000\n",
              "75%         2.000000\n",
              "max         9.000000\n",
              "Name: score, dtype: float64"
            ]
          },
          "metadata": {
            "tags": []
          },
          "execution_count": 169
        }
      ]
    },
    {
      "cell_type": "code",
      "metadata": {
        "id": "j0JcZySfieeM",
        "colab_type": "code",
        "colab": {}
      },
      "source": [
        ""
      ],
      "execution_count": 0,
      "outputs": []
    },
    {
      "cell_type": "markdown",
      "metadata": {
        "id": "nC2OKePKC9ln",
        "colab_type": "text"
      },
      "source": [
        "##Final Insights\n",
        "Just some insights and bits to assist writing my blog post."
      ]
    },
    {
      "cell_type": "code",
      "metadata": {
        "id": "HmyurqoVDKoP",
        "colab_type": "code",
        "colab": {
          "base_uri": "https://localhost:8080/",
          "height": 34
        },
        "outputId": "36412b68-084c-4a33-f301-dc6dbd210b65"
      },
      "source": [
        "#What percent of total calls to the fire department are dumpster fires?\n",
        "df[df['type'] == 'Dumpster Fire'].shape[0] / df.shape[0] * 100"
      ],
      "execution_count": 180,
      "outputs": [
        {
          "output_type": "execute_result",
          "data": {
            "text/plain": [
              "0.11719912905917894"
            ]
          },
          "metadata": {
            "tags": []
          },
          "execution_count": 180
        }
      ]
    },
    {
      "cell_type": "code",
      "metadata": {
        "id": "Sq1lcvIOHjIa",
        "colab_type": "code",
        "colab": {
          "base_uri": "https://localhost:8080/",
          "height": 34
        },
        "outputId": "95dee704-81a6-491a-c809-c6c3833766f7"
      },
      "source": [
        "#what percent of all dumpster fire reports are a part of a spree\n",
        "call_groups['raw_percentage'].sum() - call_groups['raw_percentage'].loc[4]"
      ],
      "execution_count": 175,
      "outputs": [
        {
          "output_type": "execute_result",
          "data": {
            "text/plain": [
              "49.4"
            ]
          },
          "metadata": {
            "tags": []
          },
          "execution_count": 175
        }
      ]
    },
    {
      "cell_type": "code",
      "metadata": {
        "id": "PMpee7cdIB4S",
        "colab_type": "code",
        "colab": {
          "base_uri": "https://localhost:8080/",
          "height": 34
        },
        "outputId": "6bc02637-3680-487f-9c74-0d4dea9121be"
      },
      "source": [
        "#what percent of all dumpster fire reports are a spree within a mile of\n",
        "#each other.\n",
        "final_sprees['raw_percentage'].sum()"
      ],
      "execution_count": 176,
      "outputs": [
        {
          "output_type": "execute_result",
          "data": {
            "text/plain": [
              "14.190000000000001"
            ]
          },
          "metadata": {
            "tags": []
          },
          "execution_count": 176
        }
      ]
    },
    {
      "cell_type": "code",
      "metadata": {
        "id": "j9zzp6j5Ig6T",
        "colab_type": "code",
        "colab": {
          "base_uri": "https://localhost:8080/",
          "height": 34
        },
        "outputId": "54f7fd2d-e274-4db2-e0aa-e5689b2d2226"
      },
      "source": [
        "#what percent of all calls are a part of a dumpster fire spree?\n",
        "a = df[df['type'] == 'Dumpster Fire'].shape[0] / df.shape[0] * 100\n",
        "b = final_sprees['raw_percentage'].sum() \n",
        "\n",
        "#14.19% of .12%\n",
        "(b / 100) * (a / 100) * 100"
      ],
      "execution_count": 186,
      "outputs": [
        {
          "output_type": "execute_result",
          "data": {
            "text/plain": [
              "0.016630556413497494"
            ]
          },
          "metadata": {
            "tags": []
          },
          "execution_count": 186
        }
      ]
    },
    {
      "cell_type": "code",
      "metadata": {
        "id": "zBiNVOaIKGeS",
        "colab_type": "code",
        "colab": {}
      },
      "source": [
        ""
      ],
      "execution_count": 0,
      "outputs": []
    }
  ]
}